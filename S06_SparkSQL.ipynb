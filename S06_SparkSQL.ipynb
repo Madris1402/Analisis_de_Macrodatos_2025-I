{
 "cells": [
  {
   "cell_type": "code",
   "execution_count": 31,
   "id": "d1b59d9c-9652-4319-b31b-44dc52c94a82",
   "metadata": {},
   "outputs": [],
   "source": [
    "nombre = \"Madrigal Urencio Ricardo \\n\""
   ]
  },
  {
   "cell_type": "code",
   "execution_count": 1,
   "id": "69855bcb-20e5-4e64-a6f2-46d0f0eba7c4",
   "metadata": {},
   "outputs": [],
   "source": [
    "dir_hdfs = \"hdfs://namenode:9000/tmp/amd/locatellimpio\""
   ]
  },
  {
   "cell_type": "code",
   "execution_count": 32,
   "id": "514dc6cc-edad-4034-8c25-83fca25dff13",
   "metadata": {},
   "outputs": [
    {
     "name": "stdout",
     "output_type": "stream",
     "text": [
      "Madrigal Urencio Ricardo \n",
      "\n",
      "root\n",
      " |-- fecha_solicitud: date (nullable = true)\n",
      " |-- hora_solicitud: timestamp (nullable = true)\n",
      " |-- tema_solicitud: string (nullable = true)\n",
      " |-- sexo: string (nullable = true)\n",
      " |-- edad: double (nullable = true)\n",
      " |-- estatus: string (nullable = true)\n",
      " |-- alcaldia: string (nullable = true)\n",
      " |-- colonia_datos: string (nullable = true)\n",
      " |-- latitud: double (nullable = true)\n",
      " |-- longitud: double (nullable = true)\n",
      " |-- codigo_postal_solicitud: string (nullable = true)\n",
      " |-- d_codigo: integer (nullable = true)\n",
      " |-- D_mnpio: string (nullable = true)\n",
      "\n"
     ]
    }
   ],
   "source": [
    "df = spark.read.csv(dir_hdfs, header = True, inferSchema = True)\n",
    "\n",
    "print(nombre)\n",
    "df.printSchema()"
   ]
  },
  {
   "cell_type": "code",
   "execution_count": 4,
   "id": "7923ba39-50a7-4f67-b36b-65ad7ba92fd1",
   "metadata": {},
   "outputs": [
    {
     "name": "stdout",
     "output_type": "stream",
     "text": [
      "+---------+---------+-----------+\n",
      "|namespace|tableName|isTemporary|\n",
      "+---------+---------+-----------+\n",
      "+---------+---------+-----------+\n",
      "\n"
     ]
    }
   ],
   "source": [
    "spark.sql(\"show tables\").show()"
   ]
  },
  {
   "cell_type": "code",
   "execution_count": 6,
   "id": "bb98a509-db50-4eef-97b9-c34b16791139",
   "metadata": {},
   "outputs": [
    {
     "name": "stdout",
     "output_type": "stream",
     "text": [
      "+---------+---------+-----------+\n",
      "|namespace|tableName|isTemporary|\n",
      "+---------+---------+-----------+\n",
      "|         |  locatel|       true|\n",
      "+---------+---------+-----------+\n",
      "\n"
     ]
    }
   ],
   "source": [
    "df.createOrReplaceTempView(\"locatel\")\n",
    "spark.sql(\"show tables\").show()"
   ]
  },
  {
   "cell_type": "code",
   "execution_count": 37,
   "id": "1b716adc-a40e-42f7-906b-0264b963a694",
   "metadata": {},
   "outputs": [
    {
     "name": "stdout",
     "output_type": "stream",
     "text": [
      "Madrigal Urencio Ricardo \n",
      "\n",
      "+--------------------+---------+-------+\n",
      "|            col_name|data_type|comment|\n",
      "+--------------------+---------+-------+\n",
      "|     fecha_solicitud|     date|   NULL|\n",
      "|      hora_solicitud|timestamp|   NULL|\n",
      "|      tema_solicitud|   string|   NULL|\n",
      "|                sexo|   string|   NULL|\n",
      "|                edad|   double|   NULL|\n",
      "|             estatus|   string|   NULL|\n",
      "|            alcaldia|   string|   NULL|\n",
      "|       colonia_datos|   string|   NULL|\n",
      "|             latitud|   double|   NULL|\n",
      "|            longitud|   double|   NULL|\n",
      "|codigo_postal_sol...|   string|   NULL|\n",
      "|            d_codigo|      int|   NULL|\n",
      "|             D_mnpio|   string|   NULL|\n",
      "+--------------------+---------+-------+\n",
      "\n"
     ]
    }
   ],
   "source": [
    "print(nombre)\n",
    "spark.sql(\"describe locatel\").show()"
   ]
  },
  {
   "cell_type": "code",
   "execution_count": 8,
   "id": "63bfd698-5c2b-4e4f-8508-6230c502c9b0",
   "metadata": {},
   "outputs": [
    {
     "name": "stdout",
     "output_type": "stream",
     "text": [
      "+---------------+----+--------+\n",
      "|fecha_solicitud|edad|alcaldia|\n",
      "+---------------+----+--------+\n",
      "|2021-01-03     |NULL|NA      |\n",
      "|2021-01-10     |NULL|NA      |\n",
      "|2021-01-16     |NULL|NA      |\n",
      "|2021-01-20     |NULL|NA      |\n",
      "|2021-01-24     |NULL|NA      |\n",
      "|2021-01-28     |NULL|NA      |\n",
      "|2021-02-05     |NULL|NA      |\n",
      "|2021-02-08     |NULL|NA      |\n",
      "|2021-02-08     |NULL|NA      |\n",
      "|2021-02-09     |NULL|NA      |\n",
      "|2021-02-14     |NULL|NA      |\n",
      "|2021-02-15     |NULL|NA      |\n",
      "|2021-02-16     |NULL|NA      |\n",
      "|2021-02-18     |NULL|NA      |\n",
      "|2021-02-19     |NULL|NA      |\n",
      "|2021-02-23     |NULL|NA      |\n",
      "|2021-03-01     |NULL|NA      |\n",
      "|2021-03-10     |NULL|NA      |\n",
      "|2021-03-15     |NULL|NA      |\n",
      "|2021-03-17     |NULL|NA      |\n",
      "+---------------+----+--------+\n",
      "only showing top 20 rows\n",
      "\n"
     ]
    }
   ],
   "source": [
    "spark.sql(\"select fecha_solicitud, edad, alcaldia from locatel\").show(truncate = False)"
   ]
  },
  {
   "cell_type": "code",
   "execution_count": 10,
   "id": "e8ff3863-531f-436d-b9b7-de785652a047",
   "metadata": {},
   "outputs": [
    {
     "name": "stdout",
     "output_type": "stream",
     "text": [
      "+---------------+----+-----------------+\n",
      "|fecha_solicitud|edad|alcaldia         |\n",
      "+---------------+----+-----------------+\n",
      "|2021-02-14     |51.0|NA               |\n",
      "|2021-01-01     |51.0|Tlalpan          |\n",
      "|2021-01-03     |46.0|NA               |\n",
      "|2021-01-04     |38.0|NA               |\n",
      "|2021-01-04     |61.0|Tlalpan          |\n",
      "|2021-01-05     |29.0|NA               |\n",
      "|2021-01-06     |69.0|Cuauhtémoc       |\n",
      "|2021-01-08     |58.0|NA               |\n",
      "|2021-01-08     |57.0|NA               |\n",
      "|2021-01-08     |35.0|NA               |\n",
      "|2021-01-09     |70.0|Gustavo A. Madero|\n",
      "|2021-01-09     |28.0|Monterrey        |\n",
      "|2021-01-10     |80.0|NA               |\n",
      "|2021-01-10     |39.0|Azcapotzalco     |\n",
      "|2021-01-10     |40.0|Coyoacán         |\n",
      "|2021-01-11     |53.0|Cuauhtémoc       |\n",
      "|2021-01-11     |27.0|Azcapotzalco     |\n",
      "|2021-01-11     |32.0|NA               |\n",
      "|2021-01-12     |43.0|Tlalpan          |\n",
      "|2021-01-12     |64.0|Cuauhtémoc       |\n",
      "+---------------+----+-----------------+\n",
      "only showing top 20 rows\n",
      "\n"
     ]
    }
   ],
   "source": [
    "sqlstr = \"\"\"select fecha_solicitud, edad, alcaldia\n",
    "from locatel\n",
    "where edad is not null\n",
    "\"\"\"\n",
    "spark.sql(sqlstr).show(truncate=False)"
   ]
  },
  {
   "cell_type": "code",
   "execution_count": 11,
   "id": "1920623d-15ce-47fb-9d29-ce052a02b1df",
   "metadata": {},
   "outputs": [
    {
     "name": "stdout",
     "output_type": "stream",
     "text": [
      "+-------+\n",
      "|nr     |\n",
      "+-------+\n",
      "|2323089|\n",
      "+-------+\n",
      "\n"
     ]
    }
   ],
   "source": [
    "sqlstr = \"\"\"select count(*) nr from locatel\"\"\"\n",
    "spark.sql(sqlstr).show(truncate=False)"
   ]
  },
  {
   "cell_type": "code",
   "execution_count": 12,
   "id": "893154f6-42f3-469f-837b-23c782d01666",
   "metadata": {},
   "outputs": [
    {
     "name": "stdout",
     "output_type": "stream",
     "text": [
      "+---------------+------+\n",
      "|sexo           |nr    |\n",
      "+---------------+------+\n",
      "|FEMENINO       |829463|\n",
      "|MASCULINO      |572469|\n",
      "|NA             |566833|\n",
      "|NO ESPECIFICADO|354324|\n",
      "+---------------+------+\n",
      "\n"
     ]
    }
   ],
   "source": [
    "#Número de registros por sexo\n",
    "\n",
    "sqlstr = \"\"\"select sexo, count(*) nr \n",
    "from locatel\n",
    "group by sexo\n",
    "order by sexo\n",
    "\"\"\"\n",
    "spark.sql(sqlstr).show(truncate=False)"
   ]
  },
  {
   "cell_type": "code",
   "execution_count": 18,
   "id": "85506a44-5607-4be1-a30f-0c7579055e23",
   "metadata": {},
   "outputs": [
    {
     "name": "stdout",
     "output_type": "stream",
     "text": [
      "+-------+-------+\n",
      "|edad   |nr     |\n",
      "+-------+-------+\n",
      "|16090.0|1      |\n",
      "|100.0  |16     |\n",
      "|99.0   |19     |\n",
      "|98.0   |14     |\n",
      "|97.0   |23     |\n",
      "|96.0   |26     |\n",
      "|95.0   |36     |\n",
      "|94.0   |51     |\n",
      "|93.0   |77     |\n",
      "|92.0   |89     |\n",
      "|91.0   |109    |\n",
      "|90.0   |205    |\n",
      "|89.0   |212    |\n",
      "|88.0   |288    |\n",
      "|87.0   |377    |\n",
      "|86.0   |483    |\n",
      "|85.0   |698    |\n",
      "|84.0   |714    |\n",
      "|83.0   |847    |\n",
      "|82.0   |980    |\n",
      "|81.0   |921    |\n",
      "|80.0   |1886   |\n",
      "|79.0   |1561   |\n",
      "|78.0   |2256   |\n",
      "|77.0   |2149   |\n",
      "|76.0   |2473   |\n",
      "|75.0   |3672   |\n",
      "|74.0   |3508   |\n",
      "|73.0   |4235   |\n",
      "|72.0   |5584   |\n",
      "|71.0   |5040   |\n",
      "|70.0   |8485   |\n",
      "|69.0   |6255   |\n",
      "|68.0   |8204   |\n",
      "|67.0   |7712   |\n",
      "|66.0   |8215   |\n",
      "|65.0   |13747  |\n",
      "|64.0   |10512  |\n",
      "|63.0   |11645  |\n",
      "|62.0   |12744  |\n",
      "|61.0   |11214  |\n",
      "|60.0   |19332  |\n",
      "|59.0   |12849  |\n",
      "|58.0   |14613  |\n",
      "|57.0   |13402  |\n",
      "|56.0   |16732  |\n",
      "|55.0   |18533  |\n",
      "|54.0   |15646  |\n",
      "|53.0   |15386  |\n",
      "|52.0   |18477  |\n",
      "|51.0   |15384  |\n",
      "|50.0   |29459  |\n",
      "|49.0   |18483  |\n",
      "|48.0   |19733  |\n",
      "|47.0   |19100  |\n",
      "|46.0   |17711  |\n",
      "|45.0   |26174  |\n",
      "|44.0   |15446  |\n",
      "|43.0   |17123  |\n",
      "|42.0   |18721  |\n",
      "|41.0   |15119  |\n",
      "|40.0   |25815  |\n",
      "|39.0   |15793  |\n",
      "|38.0   |18789  |\n",
      "|37.0   |15674  |\n",
      "|36.0   |15893  |\n",
      "|35.0   |21080  |\n",
      "|34.0   |14508  |\n",
      "|33.0   |15076  |\n",
      "|32.0   |15070  |\n",
      "|31.0   |12823  |\n",
      "|30.0   |17138  |\n",
      "|29.0   |11490  |\n",
      "|28.0   |10953  |\n",
      "|27.0   |10864  |\n",
      "|26.0   |8837   |\n",
      "|25.0   |9463   |\n",
      "|24.0   |6989   |\n",
      "|23.0   |6345   |\n",
      "|22.0   |5265   |\n",
      "|21.0   |4097   |\n",
      "|20.0   |4317   |\n",
      "|19.0   |2867   |\n",
      "|18.0   |2947   |\n",
      "|17.0   |615    |\n",
      "|16.0   |436    |\n",
      "|15.0   |399    |\n",
      "|14.0   |220    |\n",
      "|13.0   |171    |\n",
      "|12.0   |161    |\n",
      "|11.0   |36     |\n",
      "|10.0   |37     |\n",
      "|9.0    |45     |\n",
      "|8.0    |36     |\n",
      "|7.0    |60     |\n",
      "|6.0    |54     |\n",
      "|5.0    |77     |\n",
      "|4.0    |53     |\n",
      "|3.0    |61     |\n",
      "|2.0    |143    |\n",
      "|1.0    |62923  |\n",
      "|0.0    |87866  |\n",
      "|NULL   |1402897|\n",
      "+-------+-------+\n",
      "\n"
     ]
    }
   ],
   "source": [
    "#Número de registros por edad\n",
    "campo = \"edad\"\n",
    "\n",
    "sqlstr = f\"\"\"select {campo}, count(*) nr \n",
    "from locatel\n",
    "group by {campo}\n",
    "order by {campo} desc\n",
    "\"\"\"\n",
    "print(nombre)\n",
    "spark.sql(sqlstr).show(10, truncate=False)"
   ]
  },
  {
   "cell_type": "code",
   "execution_count": 33,
   "id": "598e0342-c0d9-4d46-b315-ce268788cdb8",
   "metadata": {},
   "outputs": [
    {
     "name": "stdout",
     "output_type": "stream",
     "text": [
      "Madrigal Urencio Ricardo \n",
      "\n",
      "+-------------------+------+\n",
      "|tema_solicitud     |nr    |\n",
      "+-------------------+------+\n",
      "|OTRO               |303078|\n",
      "|ALUMBRADO          |259590|\n",
      "|PODA / RETIRO ARBOL|214579|\n",
      "|FALTA DE AGUA      |205785|\n",
      "|FUGA DE AGUA       |109632|\n",
      "+-------------------+------+\n",
      "\n"
     ]
    }
   ],
   "source": [
    "#Número de registros por tema\n",
    "campo = \"tema_solicitud\"\n",
    "\n",
    "sqlstr = f\"\"\"select {campo}, count(*) nr \n",
    "from locatel\n",
    "group by {campo}\n",
    "order by nr desc \n",
    "limit 5\n",
    "\"\"\"\n",
    "print(nombre)\n",
    "spark.sql(sqlstr).show(10, truncate=False)\n"
   ]
  },
  {
   "cell_type": "code",
   "execution_count": 38,
   "id": "5a77e218-4419-41a3-9152-fe8ed61c8edf",
   "metadata": {},
   "outputs": [
    {
     "name": "stdout",
     "output_type": "stream",
     "text": [
      "Madrigal Urencio Ricardo \n",
      "\n",
      "+------------------------------------+---------+--------+--------+------+\n",
      "|tema_solicitud                      |edad_prom|edad_max|edad_min|nr    |\n",
      "+------------------------------------+---------+--------+--------+------+\n",
      "|AGUA POTABLE Y SERVICIOS HIDRÁULICOS|42.73    |96.0    |0.0     |17573 |\n",
      "|ALARMAS VECINALES                   |44.42    |87.0    |0.0     |1410  |\n",
      "|ALERTA SISMICA                      |40.62    |99.0    |0.0     |44182 |\n",
      "|ALUMBRADO                           |42.76    |100.0   |0.0     |259590|\n",
      "|ANUNCIOS                            |38.95    |90.0    |0.0     |848   |\n",
      "|APOYO SERVICIOS FUNERARIOS          |43.41    |73.0    |0.0     |164   |\n",
      "|ASESORIAS                           |39.17    |97.0    |0.0     |7489  |\n",
      "|ASESORÍA DE TERCEROS ACREDITADOS    |40.55    |62.0    |1.0     |407   |\n",
      "|ASESORÍA JURÍDICA                   |39.8     |95.0    |0.0     |3522  |\n",
      "|ASISTENCIA SOCIAL                   |41.41    |98.0    |0.0     |17254 |\n",
      "+------------------------------------+---------+--------+--------+------+\n",
      "only showing top 10 rows\n",
      "\n"
     ]
    }
   ],
   "source": [
    "#Edad por campo\n",
    "campo = \"tema_solicitud\"\n",
    "\n",
    "sqlstr = f\"\"\"select {campo}, round(avg(edad), 2) edad_prom,\n",
    "max(edad) edad_max, min(edad) edad_min, count(*) nr\n",
    "from locatel\n",
    "group by {campo}\n",
    "order by {campo}\n",
    "\"\"\"\n",
    "print(nombre)\n",
    "spark.sql(sqlstr).show(10, truncate=False)"
   ]
  },
  {
   "cell_type": "code",
   "execution_count": 39,
   "id": "272ae2db-82cc-4a99-9678-39a4da71bd60",
   "metadata": {},
   "outputs": [
    {
     "name": "stdout",
     "output_type": "stream",
     "text": [
      "Madrigal Urencio Ricardo \n",
      "\n",
      "+---------------+---------+--------+--------+------+\n",
      "|sexo           |edad_prom|edad_max|edad_min|nr    |\n",
      "+---------------+---------+--------+--------+------+\n",
      "|FEMENINO       |36.33    |16090.0 |0.0     |829463|\n",
      "|MASCULINO      |43.39    |100.0   |0.0     |572469|\n",
      "|NA             |NULL     |NULL    |NULL    |566833|\n",
      "|NO ESPECIFICADO|46.36    |100.0   |0.0     |354324|\n",
      "+---------------+---------+--------+--------+------+\n",
      "\n"
     ]
    }
   ],
   "source": [
    "#Edad por campo\n",
    "campo = \"sexo\"\n",
    "\n",
    "sqlstr = f\"\"\"select {campo}, round(avg(edad), 2) edad_prom,\n",
    "max(edad) edad_max, min(edad) edad_min, count(*) nr\n",
    "from locatel\n",
    "group by {campo}\n",
    "order by {campo}\n",
    "\"\"\"\n",
    "print(nombre)\n",
    "spark.sql(sqlstr).show(10, truncate=False)"
   ]
  },
  {
   "cell_type": "code",
   "execution_count": 52,
   "id": "3aa4057a-3eed-4a1c-903c-dee36e637a70",
   "metadata": {},
   "outputs": [
    {
     "name": "stdout",
     "output_type": "stream",
     "text": [
      "Madrigal Urencio Ricardo \n",
      "\n",
      "+----+-------+\n",
      "|hora|nr     |\n",
      "+----+-------+\n",
      "|0   |2323089|\n",
      "+----+-------+\n",
      "\n"
     ]
    }
   ],
   "source": [
    "#Numero de registros por hora\n",
    "campo = \"hora\"\n",
    "\n",
    "sqlstr = f\"\"\"select HOUR(hora_solicitud) hora, count(*) nr\n",
    "from locatel\n",
    "group by HOUR(hora_solicitud)\n",
    "order by 1\n",
    "\"\"\"\n",
    "print(nombre)\n",
    "spark.sql(sqlstr).show(24, truncate=False)"
   ]
  },
  {
   "cell_type": "code",
   "execution_count": 61,
   "id": "4f2957f6-fdd0-4d8a-976b-c65e9706fe17",
   "metadata": {},
   "outputs": [
    {
     "name": "stdout",
     "output_type": "stream",
     "text": [
      "Madrigal Urencio Ricardo \n",
      "\n",
      "La grafica no arupa las horas correctamente\n"
     ]
    },
    {
     "data": {
      "text/plain": [
       "Text(0.5, 1.0, 'Numero de registros por hora')"
      ]
     },
     "execution_count": 61,
     "metadata": {},
     "output_type": "execute_result"
    },
    {
     "data": {
      "image/png": "[encoded data removed]",
      "text/plain": [
       "<Figure size 1000x600 with 1 Axes>"
      ]
     },
     "metadata": {},
     "output_type": "display_data"
    }
   ],
   "source": [
    "import matplotlib.pyplot as plt\n",
    "\n",
    "sqlstr = f\"\"\"select HOUR(hora_solicitud) as hora, count(*) nr\n",
    "from locatel\n",
    "group by hora\n",
    "order by 1\n",
    "\"\"\"\n",
    "print(nombre)\n",
    "print(\"La grafica no arupa las horas correctamente\")\n",
    "dfh = spark.sql(sqlstr).toPandas()\n",
    "plt.figure(figsize = (10, 6))\n",
    "#plt.bar(dfh['hora'], dfh['nr'])\n",
    "plt.plot(dfh ['hora'], dfh['nr'], marker = 'o', linestyle = '-', color = 'b')\n",
    "\n",
    "plt.xlabel('Hora del dia')\n",
    "plt.ylabel('Numero de registros')\n",
    "plt.title('Numero de registros por hora')"
   ]
  },
  {
   "cell_type": "code",
   "execution_count": null,
   "id": "82ea7ba4-3c27-42cb-b446-60926b96f83f",
   "metadata": {},
   "outputs": [],
   "source": []
  }
 ],
 "metadata": {
  "kernelspec": {
   "display_name": "Python 3 (ipykernel)",
   "language": "python",
   "name": "python3"
  },
  "language_info": {
   "codemirror_mode": {
    "name": "ipython",
    "version": 3
   },
   "file_extension": ".py",
   "mimetype": "text/x-python",
   "name": "python",
   "nbconvert_exporter": "python",
   "pygments_lexer": "ipython3",
   "version": "3.11.6"
  }
 },
 "nbformat": 4,
 "nbformat_minor": 5
}
