{
 "cells": [
  {
   "cell_type": "code",
   "execution_count": 1,
   "id": "d1b59d9c-9652-4319-b31b-44dc52c94a82",
   "metadata": {},
   "outputs": [],
   "source": [
    "nombre = \"Madrigal Urencio Ricardo \\n\""
   ]
  },
  {
   "cell_type": "code",
   "execution_count": 2,
   "id": "69855bcb-20e5-4e64-a6f2-46d0f0eba7c4",
   "metadata": {},
   "outputs": [],
   "source": [
    "dir_hdfs = \"hdfs://namenode:9000/tmp/amd/locatellimpio\""
   ]
  },
  {
   "cell_type": "code",
   "execution_count": 3,
   "id": "514dc6cc-edad-4034-8c25-83fca25dff13",
   "metadata": {},
   "outputs": [
    {
     "name": "stdout",
     "output_type": "stream",
     "text": [
      "Madrigal Urencio Ricardo \n",
      "\n",
      "root\n",
      " |-- fecha_solicitud: date (nullable = true)\n",
      " |-- hora_solicitud: timestamp (nullable = true)\n",
      " |-- tema_solicitud: string (nullable = true)\n",
      " |-- sexo: string (nullable = true)\n",
      " |-- edad: double (nullable = true)\n",
      " |-- estatus: string (nullable = true)\n",
      " |-- alcaldia: string (nullable = true)\n",
      " |-- colonia_datos: string (nullable = true)\n",
      " |-- latitud: double (nullable = true)\n",
      " |-- longitud: double (nullable = true)\n",
      " |-- codigo_postal_solicitud: string (nullable = true)\n",
      " |-- d_codigo: integer (nullable = true)\n",
      " |-- D_mnpio: string (nullable = true)\n",
      "\n"
     ]
    }
   ],
   "source": [
    "df = spark.read.csv(dir_hdfs, header = True, inferSchema = True)\n",
    "\n",
    "print(nombre)\n",
    "df.printSchema()"
   ]
  },
  {
   "cell_type": "code",
   "execution_count": 4,
   "id": "7923ba39-50a7-4f67-b36b-65ad7ba92fd1",
   "metadata": {},
   "outputs": [
    {
     "name": "stdout",
     "output_type": "stream",
     "text": [
      "+---------+---------+-----------+\n",
      "|namespace|tableName|isTemporary|\n",
      "+---------+---------+-----------+\n",
      "+---------+---------+-----------+\n",
      "\n"
     ]
    }
   ],
   "source": [
    "spark.sql(\"show tables\").show()"
   ]
  },
  {
   "cell_type": "code",
   "execution_count": 5,
   "id": "bb98a509-db50-4eef-97b9-c34b16791139",
   "metadata": {},
   "outputs": [
    {
     "name": "stdout",
     "output_type": "stream",
     "text": [
      "+---------+---------+-----------+\n",
      "|namespace|tableName|isTemporary|\n",
      "+---------+---------+-----------+\n",
      "|         |  locatel|       true|\n",
      "+---------+---------+-----------+\n",
      "\n"
     ]
    }
   ],
   "source": [
    "df.createOrReplaceTempView(\"locatel\")\n",
    "spark.sql(\"show tables\").show()"
   ]
  },
  {
   "cell_type": "code",
   "execution_count": 6,
   "id": "1b716adc-a40e-42f7-906b-0264b963a694",
   "metadata": {},
   "outputs": [
    {
     "name": "stdout",
     "output_type": "stream",
     "text": [
      "Madrigal Urencio Ricardo \n",
      "\n",
      "+--------------------+---------+-------+\n",
      "|            col_name|data_type|comment|\n",
      "+--------------------+---------+-------+\n",
      "|     fecha_solicitud|     date|   NULL|\n",
      "|      hora_solicitud|timestamp|   NULL|\n",
      "|      tema_solicitud|   string|   NULL|\n",
      "|                sexo|   string|   NULL|\n",
      "|                edad|   double|   NULL|\n",
      "|             estatus|   string|   NULL|\n",
      "|            alcaldia|   string|   NULL|\n",
      "|       colonia_datos|   string|   NULL|\n",
      "|             latitud|   double|   NULL|\n",
      "|            longitud|   double|   NULL|\n",
      "|codigo_postal_sol...|   string|   NULL|\n",
      "|            d_codigo|      int|   NULL|\n",
      "|             D_mnpio|   string|   NULL|\n",
      "+--------------------+---------+-------+\n",
      "\n"
     ]
    }
   ],
   "source": [
    "print(nombre)\n",
    "spark.sql(\"describe locatel\").show()"
   ]
  },
  {
   "cell_type": "code",
   "execution_count": 7,
   "id": "63bfd698-5c2b-4e4f-8508-6230c502c9b0",
   "metadata": {},
   "outputs": [
    {
     "name": "stdout",
     "output_type": "stream",
     "text": [
      "+---------------+----+--------+\n",
      "|fecha_solicitud|edad|alcaldia|\n",
      "+---------------+----+--------+\n",
      "|2021-01-03     |NULL|NA      |\n",
      "|2021-01-10     |NULL|NA      |\n",
      "|2021-01-16     |NULL|NA      |\n",
      "|2021-01-20     |NULL|NA      |\n",
      "|2021-01-24     |NULL|NA      |\n",
      "|2021-01-28     |NULL|NA      |\n",
      "|2021-02-05     |NULL|NA      |\n",
      "|2021-02-08     |NULL|NA      |\n",
      "|2021-02-08     |NULL|NA      |\n",
      "|2021-02-09     |NULL|NA      |\n",
      "|2021-02-14     |NULL|NA      |\n",
      "|2021-02-15     |NULL|NA      |\n",
      "|2021-02-16     |NULL|NA      |\n",
      "|2021-02-18     |NULL|NA      |\n",
      "|2021-02-19     |NULL|NA      |\n",
      "|2021-02-23     |NULL|NA      |\n",
      "|2021-03-01     |NULL|NA      |\n",
      "|2021-03-10     |NULL|NA      |\n",
      "|2021-03-15     |NULL|NA      |\n",
      "|2021-03-17     |NULL|NA      |\n",
      "+---------------+----+--------+\n",
      "only showing top 20 rows\n",
      "\n"
     ]
    }
   ],
   "source": [
    "spark.sql(\"select fecha_solicitud, edad, alcaldia from locatel\").show(truncate = False)"
   ]
  },
  {
   "cell_type": "code",
   "execution_count": 8,
   "id": "e8ff3863-531f-436d-b9b7-de785652a047",
   "metadata": {},
   "outputs": [
    {
     "name": "stdout",
     "output_type": "stream",
     "text": [
      "+---------------+----+-----------------+\n",
      "|fecha_solicitud|edad|alcaldia         |\n",
      "+---------------+----+-----------------+\n",
      "|2021-02-14     |51.0|NA               |\n",
      "|2021-01-01     |51.0|Tlalpan          |\n",
      "|2021-01-03     |46.0|NA               |\n",
      "|2021-01-04     |38.0|NA               |\n",
      "|2021-01-04     |61.0|Tlalpan          |\n",
      "|2021-01-05     |29.0|NA               |\n",
      "|2021-01-06     |69.0|Cuauhtémoc       |\n",
      "|2021-01-08     |58.0|NA               |\n",
      "|2021-01-08     |57.0|NA               |\n",
      "|2021-01-08     |35.0|NA               |\n",
      "|2021-01-09     |70.0|Gustavo A. Madero|\n",
      "|2021-01-09     |28.0|Monterrey        |\n",
      "|2021-01-10     |80.0|NA               |\n",
      "|2021-01-10     |39.0|Azcapotzalco     |\n",
      "|2021-01-10     |40.0|Coyoacán         |\n",
      "|2021-01-11     |53.0|Cuauhtémoc       |\n",
      "|2021-01-11     |27.0|Azcapotzalco     |\n",
      "|2021-01-11     |32.0|NA               |\n",
      "|2021-01-12     |43.0|Tlalpan          |\n",
      "|2021-01-12     |64.0|Cuauhtémoc       |\n",
      "+---------------+----+-----------------+\n",
      "only showing top 20 rows\n",
      "\n"
     ]
    }
   ],
   "source": [
    "sqlstr = \"\"\"select fecha_solicitud, edad, alcaldia\n",
    "from locatel\n",
    "where edad is not null\n",
    "\"\"\"\n",
    "spark.sql(sqlstr).show(truncate=False)"
   ]
  },
  {
   "cell_type": "code",
   "execution_count": 9,
   "id": "1920623d-15ce-47fb-9d29-ce052a02b1df",
   "metadata": {},
   "outputs": [
    {
     "name": "stdout",
     "output_type": "stream",
     "text": [
      "+-------+\n",
      "|nr     |\n",
      "+-------+\n",
      "|2323089|\n",
      "+-------+\n",
      "\n"
     ]
    }
   ],
   "source": [
    "sqlstr = \"\"\"select count(*) nr from locatel\"\"\"\n",
    "spark.sql(sqlstr).show(truncate=False)"
   ]
  },
  {
   "cell_type": "code",
   "execution_count": 10,
   "id": "893154f6-42f3-469f-837b-23c782d01666",
   "metadata": {},
   "outputs": [
    {
     "name": "stdout",
     "output_type": "stream",
     "text": [
      "+---------------+------+\n",
      "|sexo           |nr    |\n",
      "+---------------+------+\n",
      "|FEMENINO       |829463|\n",
      "|MASCULINO      |572469|\n",
      "|NA             |566833|\n",
      "|NO ESPECIFICADO|354324|\n",
      "+---------------+------+\n",
      "\n"
     ]
    }
   ],
   "source": [
    "#Número de registros por sexo\n",
    "\n",
    "sqlstr = \"\"\"select sexo, count(*) nr \n",
    "from locatel\n",
    "group by sexo\n",
    "order by sexo\n",
    "\"\"\"\n",
    "spark.sql(sqlstr).show(truncate=False)"
   ]
  },
  {
   "cell_type": "code",
   "execution_count": 11,
   "id": "85506a44-5607-4be1-a30f-0c7579055e23",
   "metadata": {},
   "outputs": [
    {
     "name": "stdout",
     "output_type": "stream",
     "text": [
      "Madrigal Urencio Ricardo \n",
      "\n",
      "+-------+---+\n",
      "|edad   |nr |\n",
      "+-------+---+\n",
      "|16090.0|1  |\n",
      "|100.0  |16 |\n",
      "|99.0   |19 |\n",
      "|98.0   |14 |\n",
      "|97.0   |23 |\n",
      "|96.0   |26 |\n",
      "|95.0   |36 |\n",
      "|94.0   |51 |\n",
      "|93.0   |77 |\n",
      "|92.0   |89 |\n",
      "+-------+---+\n",
      "only showing top 10 rows\n",
      "\n"
     ]
    }
   ],
   "source": [
    "#Número de registros por edad\n",
    "campo = \"edad\"\n",
    "\n",
    "sqlstr = f\"\"\"select {campo}, count(*) nr \n",
    "from locatel\n",
    "group by {campo}\n",
    "order by {campo} desc\n",
    "\"\"\"\n",
    "print(nombre)\n",
    "spark.sql(sqlstr).show(10, truncate=False)"
   ]
  },
  {
   "cell_type": "code",
   "execution_count": 12,
   "id": "598e0342-c0d9-4d46-b315-ce268788cdb8",
   "metadata": {},
   "outputs": [
    {
     "name": "stdout",
     "output_type": "stream",
     "text": [
      "Madrigal Urencio Ricardo \n",
      "\n",
      "+-------------------+------+\n",
      "|tema_solicitud     |nr    |\n",
      "+-------------------+------+\n",
      "|OTRO               |303078|\n",
      "|ALUMBRADO          |259590|\n",
      "|PODA / RETIRO ARBOL|214579|\n",
      "|FALTA DE AGUA      |205785|\n",
      "|FUGA DE AGUA       |109632|\n",
      "+-------------------+------+\n",
      "\n"
     ]
    }
   ],
   "source": [
    "#Número de registros por tema\n",
    "campo = \"tema_solicitud\"\n",
    "\n",
    "sqlstr = f\"\"\"select {campo}, count(*) nr \n",
    "from locatel\n",
    "group by {campo}\n",
    "order by nr desc \n",
    "limit 5\n",
    "\"\"\"\n",
    "print(nombre)\n",
    "spark.sql(sqlstr).show(10, truncate=False)\n"
   ]
  },
  {
   "cell_type": "code",
   "execution_count": 13,
   "id": "5a77e218-4419-41a3-9152-fe8ed61c8edf",
   "metadata": {},
   "outputs": [
    {
     "name": "stdout",
     "output_type": "stream",
     "text": [
      "Madrigal Urencio Ricardo \n",
      "\n",
      "+------------------------------------+---------+--------+--------+------+\n",
      "|tema_solicitud                      |edad_prom|edad_max|edad_min|nr    |\n",
      "+------------------------------------+---------+--------+--------+------+\n",
      "|AGUA POTABLE Y SERVICIOS HIDRÁULICOS|42.73    |96.0    |0.0     |17573 |\n",
      "|ALARMAS VECINALES                   |44.42    |87.0    |0.0     |1410  |\n",
      "|ALERTA SISMICA                      |40.62    |99.0    |0.0     |44182 |\n",
      "|ALUMBRADO                           |42.76    |100.0   |0.0     |259590|\n",
      "|ANUNCIOS                            |38.95    |90.0    |0.0     |848   |\n",
      "|APOYO SERVICIOS FUNERARIOS          |43.41    |73.0    |0.0     |164   |\n",
      "|ASESORIAS                           |39.17    |97.0    |0.0     |7489  |\n",
      "|ASESORÍA DE TERCEROS ACREDITADOS    |40.55    |62.0    |1.0     |407   |\n",
      "|ASESORÍA JURÍDICA                   |39.8     |95.0    |0.0     |3522  |\n",
      "|ASISTENCIA SOCIAL                   |41.41    |98.0    |0.0     |17254 |\n",
      "+------------------------------------+---------+--------+--------+------+\n",
      "only showing top 10 rows\n",
      "\n"
     ]
    }
   ],
   "source": [
    "#Edad por campo\n",
    "campo = \"tema_solicitud\"\n",
    "\n",
    "sqlstr = f\"\"\"select {campo}, round(avg(edad), 2) edad_prom,\n",
    "max(edad) edad_max, min(edad) edad_min, count(*) nr\n",
    "from locatel\n",
    "group by {campo}\n",
    "order by {campo}\n",
    "\"\"\"\n",
    "print(nombre)\n",
    "spark.sql(sqlstr).show(10, truncate=False)"
   ]
  },
  {
   "cell_type": "code",
   "execution_count": 14,
   "id": "272ae2db-82cc-4a99-9678-39a4da71bd60",
   "metadata": {},
   "outputs": [
    {
     "name": "stdout",
     "output_type": "stream",
     "text": [
      "Madrigal Urencio Ricardo \n",
      "\n",
      "+---------------+---------+--------+--------+------+\n",
      "|sexo           |edad_prom|edad_max|edad_min|nr    |\n",
      "+---------------+---------+--------+--------+------+\n",
      "|FEMENINO       |36.33    |16090.0 |0.0     |829463|\n",
      "|MASCULINO      |43.39    |100.0   |0.0     |572469|\n",
      "|NA             |NULL     |NULL    |NULL    |566833|\n",
      "|NO ESPECIFICADO|46.36    |100.0   |0.0     |354324|\n",
      "+---------------+---------+--------+--------+------+\n",
      "\n"
     ]
    }
   ],
   "source": [
    "#Edad por campo\n",
    "campo = \"sexo\"\n",
    "\n",
    "sqlstr = f\"\"\"select {campo}, round(avg(edad), 2) edad_prom,\n",
    "max(edad) edad_max, min(edad) edad_min, count(*) nr\n",
    "from locatel\n",
    "group by {campo}\n",
    "order by {campo}\n",
    "\"\"\"\n",
    "print(nombre)\n",
    "spark.sql(sqlstr).show(10, truncate=False)"
   ]
  },
  {
   "cell_type": "code",
   "execution_count": 15,
   "id": "3aa4057a-3eed-4a1c-903c-dee36e637a70",
   "metadata": {},
   "outputs": [
    {
     "name": "stdout",
     "output_type": "stream",
     "text": [
      "Madrigal Urencio Ricardo \n",
      "\n",
      "+----+------+\n",
      "|hora|nr    |\n",
      "+----+------+\n",
      "|0   |23063 |\n",
      "|1   |12930 |\n",
      "|2   |6272  |\n",
      "|3   |3304  |\n",
      "|4   |2564  |\n",
      "|5   |3839  |\n",
      "|6   |10170 |\n",
      "|7   |26782 |\n",
      "|8   |62029 |\n",
      "|9   |141117|\n",
      "|10  |209542|\n",
      "|11  |255883|\n",
      "|12  |273569|\n",
      "|13  |264280|\n",
      "|14  |196468|\n",
      "|15  |147518|\n",
      "|16  |129561|\n",
      "|17  |120924|\n",
      "|18  |104890|\n",
      "|19  |91447 |\n",
      "|20  |77633 |\n",
      "|21  |68407 |\n",
      "|22  |52996 |\n",
      "|23  |37901 |\n",
      "+----+------+\n",
      "\n"
     ]
    }
   ],
   "source": [
    "#Numero de registros por hora\n",
    "campo = \"hora\"\n",
    "\n",
    "sqlstr = f\"\"\"select HOUR(hora_solicitud) hora, count(*) nr\n",
    "from locatel\n",
    "group by HOUR(hora_solicitud)\n",
    "order by 1\n",
    "\"\"\"\n",
    "print(nombre)\n",
    "spark.sql(sqlstr).show(24, truncate=False)"
   ]
  },
  {
   "cell_type": "code",
   "execution_count": 16,
   "id": "4f2957f6-fdd0-4d8a-976b-c65e9706fe17",
   "metadata": {},
   "outputs": [
    {
     "name": "stdout",
     "output_type": "stream",
     "text": [
      "Madrigal Urencio Ricardo \n",
      "\n"
     ]
    },
    {
     "data": {
      "text/plain": [
       "Text(0.5, 1.0, 'Numero de registros por hora')"
      ]
     },
     "execution_count": 16,
     "metadata": {},
     "output_type": "execute_result"
    },
    {
     "data": {
      "image/png": "[encoded data removed]",
      "text/plain": [
       "<Figure size 1000x600 with 1 Axes>"
      ]
     },
     "metadata": {},
     "output_type": "display_data"
    }
   ],
   "source": [
    "import matplotlib.pyplot as plt\n",
    "#Numero de registros por hora\n",
    "sqlstr = f\"\"\"\n",
    "    SELECT hora_solicitud hora, COUNT(*) nr\n",
    "    FROM locatel\n",
    "    GROUP BY hora_solicitud\n",
    "    ORDER BY 1\n",
    "\"\"\"\n",
    "print(nombre)\n",
    "dfh = spark.sql(sqlstr).toPandas()\n",
    "\n",
    "plt.figure(figsize=(10,6))\n",
    "#plt.bar(dfh['hora'], dfh['nr'])\n",
    "plt.plot(dfh['hora'], dfh['nr'], marker='o', linestyle='-', color='r')\n",
    "\n",
    "plt.xlabel('Hora del dia')\n",
    "plt.ylabel('Numero de registros')\n",
    "plt.title('Numero de registros por hora')"
   ]
  },
  {
   "cell_type": "code",
   "execution_count": 17,
   "id": "82ea7ba4-3c27-42cb-b446-60926b96f83f",
   "metadata": {},
   "outputs": [
    {
     "name": "stdout",
     "output_type": "stream",
     "text": [
      "+-------------------+\n",
      "|hora_solicitud     |\n",
      "+-------------------+\n",
      "|2024-10-19 00:10:00|\n",
      "|2024-10-19 12:10:00|\n",
      "|2024-10-19 19:10:00|\n",
      "|2024-10-19 15:10:00|\n",
      "|2024-10-19 06:10:00|\n",
      "|2024-10-19 16:10:00|\n",
      "|2024-10-19 12:10:00|\n",
      "|2024-10-19 14:10:00|\n",
      "|2024-10-19 17:10:00|\n",
      "|2024-10-19 19:10:00|\n",
      "+-------------------+\n",
      "only showing top 10 rows\n",
      "\n"
     ]
    }
   ],
   "source": [
    "spark.sql(\"SELECT hora_solicitud FROM locatel\").show(10, truncate = False)"
   ]
  },
  {
   "cell_type": "code",
   "execution_count": 18,
   "id": "7b51c10b-0358-4950-8535-b6c9c703c3b1",
   "metadata": {},
   "outputs": [
    {
     "name": "stdout",
     "output_type": "stream",
     "text": [
      "Madrigal Urencio Ricardo \n",
      "\n"
     ]
    },
    {
     "data": {
      "text/plain": [
       "Text(0.5, 1.0, 'NUMERO DE REGISTROS POR HORA')"
      ]
     },
     "execution_count": 18,
     "metadata": {},
     "output_type": "execute_result"
    },
    {
     "data": {
      "image/png": "[encoded data removed]",
      "text/plain": [
       "<Figure size 1000x600 with 1 Axes>"
      ]
     },
     "metadata": {},
     "output_type": "display_data"
    }
   ],
   "source": [
    "import matplotlib.pyplot as plt\n",
    "#Numero de registros por hora\n",
    "sqlstr = f\"\"\"\n",
    "    SELECT hora_solicitud hora, COUNT(*) nr\n",
    "    FROM locatel\n",
    "    GROUP BY hora_solicitud\n",
    "    ORDER BY 1\n",
    "\"\"\"\n",
    "print(nombre)\n",
    "dfh = spark.sql(sqlstr).toPandas()\n",
    "\n",
    "plt.figure(figsize=(10,6))\n",
    "plt.bar(dfh['hora'], dfh['nr'])\n",
    "#plt.plot(dfh['hora'], dfh['nr'], marker='o', linestyle='-', color='r')\n",
    "\n",
    "plt.xlabel('HORA DEL DIA')\n",
    "plt.ylabel('NUMERO DE REGISTROS')\n",
    "plt.title('NUMERO DE REGISTROS POR HORA')"
   ]
  },
  {
   "cell_type": "code",
   "execution_count": 19,
   "id": "c93b399a-0c4e-4269-92ac-0d14ae6a8d7e",
   "metadata": {},
   "outputs": [
    {
     "name": "stdout",
     "output_type": "stream",
     "text": [
      "Madrigal Urencio Ricardo \n",
      "\n",
      "+----+------+\n",
      "|anio|nr    |\n",
      "+----+------+\n",
      "|2019|215262|\n",
      "|2020|363065|\n",
      "|2021|561313|\n",
      "|2022|500940|\n",
      "|2023|569362|\n",
      "|2024|113147|\n",
      "+----+------+\n",
      "\n"
     ]
    }
   ],
   "source": [
    "#Numero de registros por hora\n",
    "sqlstr = f\"\"\"\n",
    "    SELECT YEAR(fecha_solicitud) anio, COUNT(*) nr\n",
    "    FROM locatel\n",
    "    GROUP BY anio\n",
    "    ORDER BY 1\n",
    "\"\"\"\n",
    "print(nombre)\n",
    "dfh = spark.sql(sqlstr).show(30, truncate=False)"
   ]
  },
  {
   "cell_type": "code",
   "execution_count": 20,
   "id": "6f20e568-536c-465e-b723-056c4f63825c",
   "metadata": {},
   "outputs": [
    {
     "name": "stdout",
     "output_type": "stream",
     "text": [
      "Madrigal Urencio Ricardo \n",
      "\n"
     ]
    },
    {
     "data": {
      "text/plain": [
       "Text(0.5, 1.0, 'NUMERO DE REGISTROS POR AÑO')"
      ]
     },
     "execution_count": 20,
     "metadata": {},
     "output_type": "execute_result"
    },
    {
     "data": {
      "image/png": "[encoded data removed]",
      "text/plain": [
       "<Figure size 1000x600 with 1 Axes>"
      ]
     },
     "metadata": {},
     "output_type": "display_data"
    }
   ],
   "source": [
    "#Numero de registros por hora\n",
    "sqlstr = f\"\"\"\n",
    "    SELECT YEAR(fecha_solicitud) anio, COUNT(*) nr\n",
    "    FROM locatel\n",
    "    GROUP BY anio\n",
    "    ORDER BY 1\n",
    "\"\"\"\n",
    "print(nombre)\n",
    "dfh = spark.sql(sqlstr).toPandas()\n",
    "\n",
    "plt.figure(figsize=(10,6))\n",
    "plt.bar(dfh['anio'], dfh['nr'])\n",
    "\n",
    "plt.xlabel('AÑO')\n",
    "plt.ylabel('NUMERO DE REGISTROS')\n",
    "plt.title('NUMERO DE REGISTROS POR AÑO')"
   ]
  },
  {
   "cell_type": "code",
   "execution_count": 21,
   "id": "3fc24d3b-4ca1-4777-8956-804a6c05b153",
   "metadata": {},
   "outputs": [
    {
     "name": "stdout",
     "output_type": "stream",
     "text": [
      "Madrigal Urencio Ricardo \n",
      "\n",
      "+----+---------------+------+\n",
      "|anio|sexo           |nr    |\n",
      "+----+---------------+------+\n",
      "|2019|MASCULINO      |76544 |\n",
      "|2019|NO ESPECIFICADO|29729 |\n",
      "|2019|FEMENINO       |108989|\n",
      "|2020|NO ESPECIFICADO|39148 |\n",
      "|2020|FEMENINO       |199272|\n",
      "|2020|MASCULINO      |124645|\n",
      "|2021|NA             |40412 |\n",
      "|2021|FEMENINO       |278166|\n",
      "|2021|NO ESPECIFICADO|59198 |\n",
      "|2021|MASCULINO      |183537|\n",
      "|2022|FEMENINO       |73750 |\n",
      "|2022|MASCULINO      |57265 |\n",
      "|2022|NA             |304896|\n",
      "|2022|NO ESPECIFICADO|65029 |\n",
      "|2023|MASCULINO      |95546 |\n",
      "|2023|NA             |218480|\n",
      "|2023|NO ESPECIFICADO|137300|\n",
      "|2023|FEMENINO       |118036|\n",
      "|2024|FEMENINO       |51250 |\n",
      "|2024|NA             |3045  |\n",
      "|2024|MASCULINO      |34932 |\n",
      "|2024|NO ESPECIFICADO|23920 |\n",
      "+----+---------------+------+\n",
      "\n"
     ]
    }
   ],
   "source": [
    "#Numero de registros por hora\n",
    "sqlstr = f\"\"\"\n",
    "    SELECT YEAR(fecha_solicitud) anio, sexo, COUNT(*) nr\n",
    "    FROM locatel\n",
    "    GROUP BY anio, sexo\n",
    "    ORDER BY 1\n",
    "\"\"\"\n",
    "print(nombre)\n",
    "dfh = spark.sql(sqlstr).show(100, truncate=False)"
   ]
  },
  {
   "cell_type": "code",
   "execution_count": 22,
   "id": "b6bed39d-3ed6-4df1-8ad4-b3b317967d9f",
   "metadata": {},
   "outputs": [
    {
     "name": "stdout",
     "output_type": "stream",
     "text": [
      "Madrigal Urencio Ricardo \n",
      "\n",
      "+----+--------+---------+---------------+\n",
      "|anio|FEMENINO|MASCULINO|NO_ESPECIFICADO|\n",
      "+----+--------+---------+---------------+\n",
      "|2019|108989  |76544    |29729          |\n",
      "|2020|199272  |124645   |39148          |\n",
      "|2021|278166  |183537   |99610          |\n",
      "|2022|73750   |57265    |369925         |\n",
      "|2023|118036  |95546    |355780         |\n",
      "|2024|51250   |34932    |26965          |\n",
      "+----+--------+---------+---------------+\n",
      "\n"
     ]
    }
   ],
   "source": [
    "#Numero de registros por hora\n",
    "sqlstr = f\"\"\"\n",
    "    SELECT anio,\n",
    "    SUM(CASE WHEN sexo='FEMENINO' THEN nr ELSE 0 END) AS FEMENINO,\n",
    "    SUM(CASE WHEN sexo='MASCULINO' THEN nr ELSE 0 END) AS MASCULINO,\n",
    "    SUM(CASE WHEN sexo IN('NA', 'NO ESPECIFICADO') THEN nr ELSE 0 END) AS NO_ESPECIFICADO\n",
    "    FROM (    \n",
    "        SELECT YEAR(fecha_solicitud) anio, sexo, COUNT(*) nr\n",
    "        FROM locatel\n",
    "        GROUP BY anio, sexo\n",
    "    ) d\n",
    "    GROUP BY anio\n",
    "    ORDER BY 1\n",
    "\"\"\"\n",
    "print(nombre)\n",
    "dfh = spark.sql(sqlstr).show(100, truncate=False)"
   ]
  },
  {
   "cell_type": "code",
   "execution_count": 23,
   "id": "1dd52803-3754-4fca-b48f-18462f20384e",
   "metadata": {},
   "outputs": [
    {
     "name": "stdout",
     "output_type": "stream",
     "text": [
      "Madrigal Urencio Ricardo \n",
      "\n"
     ]
    },
    {
     "data": {
      "image/png": "[encoded data removed]",
      "text/plain": [
       "<Figure size 1000x600 with 1 Axes>"
      ]
     },
     "metadata": {},
     "output_type": "display_data"
    }
   ],
   "source": [
    "#Numero de registros por hora\n",
    "sqlstr = f\"\"\"\n",
    "    SELECT anio,\n",
    "    SUM(CASE WHEN sexo='FEMENINO' THEN nr ELSE 0 END) AS FEMENINO,\n",
    "    SUM(CASE WHEN sexo='MASCULINO' THEN nr ELSE 0 END) AS MASCULINO,\n",
    "    SUM(CASE WHEN sexo IN('NA', 'NO ESPECIFICADO') THEN nr ELSE 0 END) AS NO_ESPECIFICADO\n",
    "    FROM (    \n",
    "        SELECT YEAR(fecha_solicitud) anio, sexo, COUNT(*) nr\n",
    "        FROM locatel\n",
    "        GROUP BY anio, sexo\n",
    "    ) d\n",
    "    GROUP BY anio\n",
    "    ORDER BY 1\n",
    "\"\"\"\n",
    "print(nombre)\n",
    "dfh = spark.sql(sqlstr).toPandas()\\\n",
    "    .set_index('anio')[['FEMENINO', 'MASCULINO', 'NO_ESPECIFICADO']]\\\n",
    "    .plot(kind='bar', stacked=False, figsize=(10,6))\n",
    "\n",
    "plt.xlabel('AÑO')\n",
    "plt.ylabel('NUMERO DE REGISTROS')\n",
    "plt.title('NUMERO DE REGISTROS POR AÑO POR SEXO') \n",
    "plt.xticks(rotation=45)\n",
    "\n",
    "plt.show()"
   ]
  },
  {
   "cell_type": "code",
   "execution_count": 24,
   "id": "be199889-b422-46b8-a0ec-16a0b56f1cfa",
   "metadata": {},
   "outputs": [
    {
     "name": "stdout",
     "output_type": "stream",
     "text": [
      "Madrigal Urencio Ricardo \n",
      "\n"
     ]
    }
   ],
   "source": [
    "#Numero de registros por hora\n",
    "sqlstr = f\"\"\"\n",
    "    SELECT anio,\n",
    "    SUM(CASE WHEN sexo='FEMENINO' THEN nr ELSE 0 END) AS FEMENINO,\n",
    "    SUM(CASE WHEN sexo='MASCULINO' THEN nr ELSE 0 END) AS MASCULINO,\n",
    "    SUM(CASE WHEN sexo IN('NA', 'NO ESPECIFICADO') THEN nr ELSE 0 END) AS NO_ESPECIFICADO\n",
    "    FROM (    \n",
    "        SELECT YEAR(fecha_solicitud) anio, sexo, COUNT(*) nr\n",
    "        FROM locatel\n",
    "        GROUP BY anio, sexo\n",
    "    ) d\n",
    "    GROUP BY anio\n",
    "    ORDER BY 1\n",
    "\"\"\"\n",
    "print(nombre)\n",
    "spark.sql(sqlstr)\\\n",
    "    .write.mode(\"append\")\\\n",
    "    .save(\"hdfs://namenode:9000/tmp/amd/locatelanio\")\n"
   ]
  },
  {
   "cell_type": "code",
   "execution_count": 25,
   "id": "41347f1d-d57a-4941-8e03-691ee33614ac",
   "metadata": {},
   "outputs": [],
   "source": [
    "from pyspark.sql.types import StructType, StructField, StringType, IntegerType\n",
    " \n",
    "schema = StructType([\n",
    "    StructField(\"d_codigo\", StringType(), True),\n",
    "    StructField(\"d_asenta\", StringType(), True),\n",
    "    StructField(\"d_tipo_asenta\", StringType(), True),\n",
    "    StructField(\"D_mnpio\", StringType(), True),\n",
    "    StructField(\"d_estado\", StringType(), True),\n",
    "    StructField(\"d_ciudad\", StringType(), True),\n",
    "    StructField(\"d_CP\", StringType(), True),\n",
    "    StructField(\"c_estado\", StringType(), True),\n",
    "    StructField(\"c_oficina\", StringType(), True),\n",
    "    StructField(\"c_CP\", StringType(), True),\n",
    "    StructField(\"c_tipo_asenta\", StringType(), True),\n",
    "    StructField(\"c_mnpio\", StringType(), True),\n",
    "    StructField(\"id_asenta_cpcons\", StringType(), True),\n",
    "    StructField(\"d_zona\", StringType(), True),\n",
    "    StructField(\"c_cve_ciudad\", StringType(), True)\n",
    "])"
   ]
  },
  {
   "cell_type": "code",
   "execution_count": 26,
   "id": "8a00a3d2-1066-49c7-8eeb-7c01a5ff2bae",
   "metadata": {},
   "outputs": [
    {
     "data": {
      "text/plain": [
       "155922"
      ]
     },
     "execution_count": 26,
     "metadata": {},
     "output_type": "execute_result"
    }
   ],
   "source": [
    "sepomex_df = spark.read\\\n",
    "            .option(\"header\",\"true\")\\\n",
    "            .option(\"delimiter\", \"|\")\\\n",
    "            .option(\"skipRows\", \"1\")\\\n",
    "            .option(\"encoding\", \"UTF-8\")\\\n",
    "            .schema(schema)\\\n",
    "            .csv(\"hdfs://namenode:9000/tmp/amd/sepomex/\")\n",
    "\n",
    "sepomex_df.count()"
   ]
  },
  {
   "cell_type": "code",
   "execution_count": 27,
   "id": "ab2133bf-0019-4631-bc22-5bf738c8874b",
   "metadata": {},
   "outputs": [
    {
     "name": "stdout",
     "output_type": "stream",
     "text": [
      "root\n",
      " |-- d_codigo: string (nullable = true)\n",
      " |-- d_asenta: string (nullable = true)\n",
      " |-- d_tipo_asenta: string (nullable = true)\n",
      " |-- D_mnpio: string (nullable = true)\n",
      " |-- d_estado: string (nullable = true)\n",
      " |-- d_ciudad: string (nullable = true)\n",
      " |-- d_CP: string (nullable = true)\n",
      " |-- c_estado: string (nullable = true)\n",
      " |-- c_oficina: string (nullable = true)\n",
      " |-- c_CP: string (nullable = true)\n",
      " |-- c_tipo_asenta: string (nullable = true)\n",
      " |-- c_mnpio: string (nullable = true)\n",
      " |-- id_asenta_cpcons: string (nullable = true)\n",
      " |-- d_zona: string (nullable = true)\n",
      " |-- c_cve_ciudad: string (nullable = true)\n",
      "\n"
     ]
    }
   ],
   "source": [
    "sepomex_df.printSchema()"
   ]
  },
  {
   "cell_type": "code",
   "execution_count": 28,
   "id": "7e1f0846-90ec-4084-9186-21b3a67ed2d0",
   "metadata": {},
   "outputs": [
    {
     "data": {
      "text/plain": [
       "32199"
      ]
     },
     "execution_count": 28,
     "metadata": {},
     "output_type": "execute_result"
    }
   ],
   "source": [
    "sepomex_df.select(['d_codigo', 'D_mnpio', 'd_estado', 'd_ciudad']).distinct().count()"
   ]
  },
  {
   "cell_type": "code",
   "execution_count": 29,
   "id": "bee92fbe-b4fe-4763-a5ea-46964d74fce5",
   "metadata": {},
   "outputs": [
    {
     "name": "stdout",
     "output_type": "stream",
     "text": [
      "+--------+----------------------+--------------------+-------------------------+\n",
      "|d_codigo|D_mnpio               |d_estado            |d_ciudad                 |\n",
      "+--------+----------------------+--------------------+-------------------------+\n",
      "|04120   |Coyoacán              |Ciudad de México    |Ciudad de México         |\n",
      "|11480   |Miguel Hidalgo        |Ciudad de México    |Ciudad de México         |\n",
      "|20416   |Rincón de Romos       |Aguascalientes      |Rincón de Romos          |\n",
      "|22110   |Tijuana               |Baja California     |Tijuana                  |\n",
      "|22524   |Tijuana               |Baja California     |Tijuana                  |\n",
      "|23095   |La Paz                |Baja California Sur |La Paz                   |\n",
      "|25034   |Saltillo              |Coahuila de Zaragoza|Saltillo                 |\n",
      "|25734   |Monclova              |Coahuila de Zaragoza|Monclova                 |\n",
      "|27217   |Torreón               |Coahuila de Zaragoza|Torreón                  |\n",
      "|31214   |Chihuahua             |Chihuahua           |Chihuahua                |\n",
      "|31220   |Chihuahua             |Chihuahua           |Chihuahua                |\n",
      "|31510   |Cuauhtémoc            |Chihuahua           |Cuauhtémoc               |\n",
      "|32654   |Juárez                |Chihuahua           |Juárez                   |\n",
      "|34284   |Durango               |Durango             |Victoria de Durango      |\n",
      "|35015   |Gómez Palacio         |Durango             |Gómez Palacio            |\n",
      "|36612   |Irapuato              |Guanajuato          |Irapuato                 |\n",
      "|02460   |Azcapotzalco          |Ciudad de México    |Ciudad de México         |\n",
      "|07570   |Gustavo A. Madero     |Ciudad de México    |Ciudad de México         |\n",
      "|09710   |Iztapalapa            |Ciudad de México    |Ciudad de México         |\n",
      "|15200   |Venustiano Carranza   |Ciudad de México    |Ciudad de México         |\n",
      "|22540   |Tijuana               |Baja California     |Tijuana                  |\n",
      "|22840   |Ensenada              |Baja California     |Ensenada                 |\n",
      "|23660   |Comondú               |Baja California Sur |Ciudad Constitución      |\n",
      "|27277   |Torreón               |Coahuila de Zaragoza|Torreón                  |\n",
      "|34000   |Durango               |Durango             |Victoria de Durango      |\n",
      "|36016   |Guanajuato            |Guanajuato          |Guanajuato               |\n",
      "|04630   |Coyoacán              |Ciudad de México    |Ciudad de México         |\n",
      "|04919   |Coyoacán              |Ciudad de México    |Ciudad de México         |\n",
      "|07149   |Gustavo A. Madero     |Ciudad de México    |Ciudad de México         |\n",
      "|09030   |Iztapalapa            |Ciudad de México    |Ciudad de México         |\n",
      "|09940   |Iztapalapa            |Ciudad de México    |Ciudad de México         |\n",
      "|13420   |Tláhuac               |Ciudad de México    |Ciudad de México         |\n",
      "|22706   |Playas de Rosarito    |Baja California     |Playas de Rosarito       |\n",
      "|23468   |Los Cabos             |Baja California Sur |Cabo San Lucas           |\n",
      "|23478   |Los Cabos             |Baja California Sur |Cabo San Lucas           |\n",
      "|24083   |Campeche              |Campeche            |San Francisco de Campeche|\n",
      "|25700   |Monclova              |Coahuila de Zaragoza|Monclova                 |\n",
      "|27140   |Torreón               |Coahuila de Zaragoza|Torreón                  |\n",
      "|28240   |Manzanillo            |Colima              |Manzanillo               |\n",
      "|29066   |Tuxtla Gutiérrez      |Chiapas             |Tuxtla Gutiérrez         |\n",
      "|31719   |Nuevo Casas Grandes   |Chihuahua           |Nuevo Casas Grandes      |\n",
      "|34169   |Durango               |Durango             |Victoria de Durango      |\n",
      "|34280   |Durango               |Durango             |Victoria de Durango      |\n",
      "|36691   |Irapuato              |Guanajuato          |Irapuato                 |\n",
      "|36790   |Salamanca             |Guanajuato          |Salamanca                |\n",
      "|10379   |La Magdalena Contreras|Ciudad de México    |Ciudad de México         |\n",
      "|11000   |Miguel Hidalgo        |Ciudad de México    |Ciudad de México         |\n",
      "|11950   |Miguel Hidalgo        |Ciudad de México    |Ciudad de México         |\n",
      "|24095   |Campeche              |Campeche            |San Francisco de Campeche|\n",
      "|24099   |Campeche              |Campeche            |San Francisco de Campeche|\n",
      "+--------+----------------------+--------------------+-------------------------+\n",
      "only showing top 50 rows\n",
      "\n"
     ]
    }
   ],
   "source": [
    "sepomex_df.select(['d_codigo', 'D_mnpio', 'd_estado', 'd_ciudad']).distinct().show(50, truncate = False)"
   ]
  },
  {
   "cell_type": "code",
   "execution_count": 30,
   "id": "be1c05d0-afb2-455f-9df9-15cf40e12ed3",
   "metadata": {},
   "outputs": [],
   "source": [
    "sepomex_df.select(['d_codigo', 'D_mnpio', 'd_estado', 'd_ciudad']).distinct().createOrReplaceTempView(\"sepomex\")"
   ]
  },
  {
   "cell_type": "code",
   "execution_count": 31,
   "id": "6e09caeb-686b-4f5c-b1c2-ebf4e9254440",
   "metadata": {},
   "outputs": [
    {
     "name": "stdout",
     "output_type": "stream",
     "text": [
      "+---------+---------+-----------+\n",
      "|namespace|tableName|isTemporary|\n",
      "+---------+---------+-----------+\n",
      "|         |  locatel|       true|\n",
      "|         |  sepomex|       true|\n",
      "+---------+---------+-----------+\n",
      "\n"
     ]
    }
   ],
   "source": [
    "spark.sql(\"show tables\").show()"
   ]
  },
  {
   "cell_type": "code",
   "execution_count": 32,
   "id": "d9327675-e533-43ca-bf79-aecc373da838",
   "metadata": {},
   "outputs": [
    {
     "name": "stdout",
     "output_type": "stream",
     "text": [
      "+--------+---------+-------+\n",
      "|col_name|data_type|comment|\n",
      "+--------+---------+-------+\n",
      "|d_codigo|   string|   NULL|\n",
      "| D_mnpio|   string|   NULL|\n",
      "|d_estado|   string|   NULL|\n",
      "|d_ciudad|   string|   NULL|\n",
      "+--------+---------+-------+\n",
      "\n"
     ]
    }
   ],
   "source": [
    "spark.sql(\"describe sepomex\").show()"
   ]
  },
  {
   "cell_type": "code",
   "execution_count": 33,
   "id": "f746b52f-6562-47cf-b7d4-00177e17e6ea",
   "metadata": {},
   "outputs": [
    {
     "name": "stdout",
     "output_type": "stream",
     "text": [
      "+--------+\n",
      "|count(1)|\n",
      "+--------+\n",
      "|   32199|\n",
      "+--------+\n",
      "\n"
     ]
    }
   ],
   "source": [
    "spark.sql(\"select count(*) from sepomex\").show()"
   ]
  },
  {
   "cell_type": "code",
   "execution_count": 34,
   "id": "47ed1698-d433-49a6-bb9e-dfd0f34d2498",
   "metadata": {},
   "outputs": [
    {
     "name": "stdout",
     "output_type": "stream",
     "text": [
      "+--------+-------------------+--------------------+-------------------+\n",
      "|d_codigo|            D_mnpio|            d_estado|           d_ciudad|\n",
      "+--------+-------------------+--------------------+-------------------+\n",
      "|   04120|           Coyoacán|    Ciudad de México|   Ciudad de México|\n",
      "|   11480|     Miguel Hidalgo|    Ciudad de México|   Ciudad de México|\n",
      "|   20416|    Rincón de Romos|      Aguascalientes|    Rincón de Romos|\n",
      "|   22110|            Tijuana|     Baja California|            Tijuana|\n",
      "|   22524|            Tijuana|     Baja California|            Tijuana|\n",
      "|   23095|             La Paz| Baja California Sur|             La Paz|\n",
      "|   25034|           Saltillo|Coahuila de Zaragoza|           Saltillo|\n",
      "|   25734|           Monclova|Coahuila de Zaragoza|           Monclova|\n",
      "|   27217|            Torreón|Coahuila de Zaragoza|            Torreón|\n",
      "|   31214|          Chihuahua|           Chihuahua|          Chihuahua|\n",
      "|   31220|          Chihuahua|           Chihuahua|          Chihuahua|\n",
      "|   31510|         Cuauhtémoc|           Chihuahua|         Cuauhtémoc|\n",
      "|   32654|             Juárez|           Chihuahua|             Juárez|\n",
      "|   34284|            Durango|             Durango|Victoria de Durango|\n",
      "|   35015|      Gómez Palacio|             Durango|      Gómez Palacio|\n",
      "|   36612|           Irapuato|          Guanajuato|           Irapuato|\n",
      "|   02460|       Azcapotzalco|    Ciudad de México|   Ciudad de México|\n",
      "|   07570|  Gustavo A. Madero|    Ciudad de México|   Ciudad de México|\n",
      "|   09710|         Iztapalapa|    Ciudad de México|   Ciudad de México|\n",
      "|   15200|Venustiano Carranza|    Ciudad de México|   Ciudad de México|\n",
      "+--------+-------------------+--------------------+-------------------+\n",
      "only showing top 20 rows\n",
      "\n"
     ]
    }
   ],
   "source": [
    "spark.sql(\"select * from sepomex\").show()"
   ]
  },
  {
   "cell_type": "code",
   "execution_count": 35,
   "id": "e8bb32a5-3b18-4a34-9176-e9a8ebcc66d5",
   "metadata": {},
   "outputs": [
    {
     "name": "stdout",
     "output_type": "stream",
     "text": [
      "+-------------------------------+----+\n",
      "|estado                         |nr  |\n",
      "+-------------------------------+----+\n",
      "|Aguascalientes                 |373 |\n",
      "|Baja California                |490 |\n",
      "|Baja California Sur            |289 |\n",
      "|Campeche                       |266 |\n",
      "|Chiapas                        |1149|\n",
      "|Chihuahua                      |1101|\n",
      "|Ciudad de México               |1110|\n",
      "|Coahuila de Zaragoza           |1063|\n",
      "|Colima                         |235 |\n",
      "|Durango                        |1054|\n",
      "|Guanajuato                     |1381|\n",
      "|Guerrero                       |1355|\n",
      "|Hidalgo                        |1116|\n",
      "|Jalisco                        |1994|\n",
      "|Michoacán de Ocampo            |1964|\n",
      "|Morelos                        |418 |\n",
      "|México                         |2319|\n",
      "|Nayarit                        |444 |\n",
      "|Nuevo León                     |1101|\n",
      "|Oaxaca                         |1851|\n",
      "|Puebla                         |1572|\n",
      "|Querétaro                      |517 |\n",
      "|Quintana Roo                   |301 |\n",
      "|San Luis Potosí                |993 |\n",
      "|Sinaloa                        |1149|\n",
      "|Sonora                         |1003|\n",
      "|Tabasco                        |471 |\n",
      "|Tamaulipas                     |1018|\n",
      "|Tlaxcala                       |370 |\n",
      "|Veracruz de Ignacio de la Llave|2506|\n",
      "|Yucatán                        |477 |\n",
      "|Zacatecas                      |749 |\n",
      "+-------------------------------+----+\n",
      "\n"
     ]
    }
   ],
   "source": [
    "#Ver el numero de registros por estado\n",
    "sqlstr = \"\"\" select d_estado as estado, count(*) nr\n",
    "from sepomex\n",
    "group by d_estado\n",
    "order by 1\n",
    "\n",
    "\"\"\"\n",
    "\n",
    "spark.sql(sqlstr).show(40, truncate = False)"
   ]
  },
  {
   "cell_type": "code",
   "execution_count": 36,
   "id": "5c0d6b23-fba0-4bb5-9106-99b732e9897f",
   "metadata": {},
   "outputs": [
    {
     "name": "stdout",
     "output_type": "stream",
     "text": [
      "+--------+\n",
      "|count(1)|\n",
      "+--------+\n",
      "|2323089 |\n",
      "+--------+\n",
      "\n"
     ]
    }
   ],
   "source": [
    "sqlstr = \"\"\"select count(*) from locatel\"\"\"\n",
    "\n",
    "spark.sql(sqlstr).show(40, truncate = False)"
   ]
  },
  {
   "cell_type": "code",
   "execution_count": 37,
   "id": "a197ebeb-2aee-4223-8063-7fb6d5bc8b4e",
   "metadata": {},
   "outputs": [
    {
     "name": "stdout",
     "output_type": "stream",
     "text": [
      "+---------------+-------------------+---------------------------------------+---------------+----+--------+-------------------+-----------------------------------+---------------+----------------+-----------------------+--------+-------------------+--------+-------------------+----------------+----------------+\n",
      "|fecha_solicitud|hora_solicitud     |tema_solicitud                         |sexo           |edad|estatus |alcaldia           |colonia_datos                      |latitud        |longitud        |codigo_postal_solicitud|d_codigo|D_mnpio            |d_codigo|D_mnpio            |d_estado        |d_ciudad        |\n",
      "+---------------+-------------------+---------------------------------------+---------------+----+--------+-------------------+-----------------------------------+---------------+----------------+-----------------------+--------+-------------------+--------+-------------------+----------------+----------------+\n",
      "|2019-06-02     |2024-10-19 16:10:00|ALUMBRADO                              |FEMENINO       |29.0|ATENDIDO|Cuauhtémoc         |ROMA NORTE III                     |19.4158969     |-99.160965      |06700                  |6700    |Cuauhtémoc         |06700   |Cuauhtémoc         |Ciudad de México|Ciudad de México|\n",
      "|2019-06-02     |2024-10-19 21:10:00|ALUMBRADO                              |MASCULINO      |43.0|ATENDIDO|Benito Juárez      |MARIA DEL CARMEN                   |19.3760349     |-99.1390904     |03540                  |3540    |Benito Juárez      |03540   |Benito Juárez      |Ciudad de México|Ciudad de México|\n",
      "|2019-06-02     |2024-10-19 16:10:00|RETIRO CASCAJO, ESCOMBRO, AZOLVE, RAMAS|MASCULINO      |17.0|ATENDIDO|Coyoacán           |NA                                 |0.0            |0.0             |04318                  |4318    |Coyoacán           |04318   |Coyoacán           |Ciudad de México|Ciudad de México|\n",
      "|2019-06-02     |2024-10-19 16:10:00|DESAZOLVE                              |MASCULINO      |0.0 |ATENDIDO|Gustavo A. Madero  |NA                                 |0.0            |0.0             |07800                  |7800    |Gustavo A. Madero  |07800   |Gustavo A. Madero  |Ciudad de México|Ciudad de México|\n",
      "|2019-06-02     |2024-10-19 17:10:00|VERIFICACIÓN ADMINISTRATIVA            |MASCULINO      |43.0|ATENDIDO|Iztapalapa         |LOMAS ESTRELLA 2A SECC I           |19.318823784783|-99.088362242783|09890                  |9890    |Iztapalapa         |09890   |Iztapalapa         |Ciudad de México|Ciudad de México|\n",
      "|2019-06-02     |2024-10-19 15:10:00|DESAZOLVE                              |FEMENINO       |67.0|ATENDIDO|Coyoacán           |PEDREGAL DE SANTA URSULA IV        |19.3121757     |-99.1575765     |04600                  |4600    |Coyoacán           |04600   |Coyoacán           |Ciudad de México|Ciudad de México|\n",
      "|2019-06-02     |2024-10-19 17:10:00|MANTENIMIENTO VÍA PÚBLICA              |FEMENINO       |71.0|ATENDIDO|Iztapalapa         |MODELO (U)                         |19.3617681     |-99.1238709     |09080                  |9080    |Iztapalapa         |09080   |Iztapalapa         |Ciudad de México|Ciudad de México|\n",
      "|2019-06-02     |2024-10-19 15:10:00|FUGA DE AGUA                           |MASCULINO      |39.0|ATENDIDO|Azcapotzalco       |NA                                 |19.5135146     |-99.2081949     |02100                  |2100    |Azcapotzalco       |02100   |Azcapotzalco       |Ciudad de México|Ciudad de México|\n",
      "|2019-06-02     |2024-10-19 17:10:00|VEHÍCULOS AUTOMOTORES Y TAXIS          |MASCULINO      |34.0|ATENDIDO|Cuauhtémoc         |NA                                 |0.0            |0.0             |06470                  |6470    |Cuauhtémoc         |06470   |Cuauhtémoc         |Ciudad de México|Ciudad de México|\n",
      "|2019-06-02     |2024-10-19 14:10:00|FUGA DE AGUA                           |FEMENINO       |38.0|ATENDIDO|Tlalpan            |FLORESTA-PRADO-VERGEL COAPA        |19.3018818     |-99.1290827     |14350                  |14350   |Tlalpan            |14350   |Tlalpan            |Ciudad de México|Ciudad de México|\n",
      "|2019-06-02     |2024-10-19 17:10:00|QUEJA DE TRANSPORTE PUBLICO            |FEMENINO       |29.0|ATENDIDO|Gustavo A. Madero  |SAN JUAN Y GUADALUPE TICOMAN (BARR)|19.5196164     |-99.1326924     |07310                  |7310    |Gustavo A. Madero  |07310   |Gustavo A. Madero  |Ciudad de México|Ciudad de México|\n",
      "|2019-06-02     |2024-10-19 14:10:00|FUGA DE AGUA                           |MASCULINO      |60.0|ATENDIDO|Coyoacán           |EL MIRADOR                         |19.303039117286|-99.109191746033|04950                  |4950    |Coyoacán           |04950   |Coyoacán           |Ciudad de México|Ciudad de México|\n",
      "|2019-06-02     |2024-10-19 17:10:00|TIERRA, PREDIOS Y USO DE SUELO         |MASCULINO      |46.0|ATENDIDO|Iztacalco          |RAMOS MILLAN BRAMADERO I           |19.393589      |-99.0955341     |08020                  |8020    |Iztacalco          |08020   |Iztacalco          |Ciudad de México|Ciudad de México|\n",
      "|2019-06-02     |2024-10-19 14:10:00|FUGA DE AGUA                           |MASCULINO      |60.0|ATENDIDO|Coyoacán           |EL MIRADOR                         |19.302971117286|-99.109428746033|04950                  |4950    |Coyoacán           |04950   |Coyoacán           |Ciudad de México|Ciudad de México|\n",
      "|2019-06-02     |2024-10-19 18:10:00|DESAZOLVE                              |MASCULINO      |32.0|ATENDIDO|Cuauhtémoc         |BUENAVISTA II                      |19.441275778587|-99.152432989302|06350                  |6350    |Cuauhtémoc         |06350   |Cuauhtémoc         |Ciudad de México|Ciudad de México|\n",
      "|2019-06-02     |2024-10-19 14:10:00|MANTENIMIENTO DRENAJE                  |NO ESPECIFICADO|56.0|ATENDIDO|Coyoacán           |NA                                 |0.0            |0.0             |04369                  |4369    |Coyoacán           |04369   |Coyoacán           |Ciudad de México|Ciudad de México|\n",
      "|2019-06-02     |2024-10-19 18:10:00|QUEJAS Y DEMANDAS VECINALES            |FEMENINO       |39.0|ATENDIDO|Coyoacán           |NA                                 |33.775842      |-84.2956232     |04310                  |4310    |Coyoacán           |04310   |Coyoacán           |Ciudad de México|Ciudad de México|\n",
      "|2019-06-02     |2024-10-19 14:10:00|WIFI GRATIS                            |MASCULINO      |20.0|ATENDIDO|Iztacalco          |EL RODEO                           |19.393745068145|-99.085989613403|08510                  |8510    |Iztacalco          |08510   |Iztacalco          |Ciudad de México|Ciudad de México|\n",
      "|2019-06-02     |2024-10-19 18:10:00|VEHÍCULO ABANDONADO / CHATARRIZACIÓN   |MASCULINO      |57.0|ATENDIDO|Gustavo A. Madero  |AVANTE                             |19.327906      |-99.1341877     |07820                  |7820    |Gustavo A. Madero  |07820   |Gustavo A. Madero  |Ciudad de México|Ciudad de México|\n",
      "|2019-06-02     |2024-10-19 15:10:00|FUGA DE AGUA                           |FEMENINO       |66.0|ATENDIDO|Coyoacán           |NA                                 |20.451942      |-101.5265707    |04300                  |4300    |Coyoacán           |04300   |Coyoacán           |Ciudad de México|Ciudad de México|\n",
      "|2019-06-02     |2024-10-19 18:10:00|ASISTENCIA SOCIAL                      |MASCULINO      |72.0|ATENDIDO|Iztapalapa         |NA                                 |0.0            |0.0             |09089                  |9089    |Iztapalapa         |09089   |Iztapalapa         |Ciudad de México|Ciudad de México|\n",
      "|2019-06-02     |2024-10-19 15:10:00|BALIZAMIENTO                           |NO ESPECIFICADO|0.0 |ATENDIDO|Iztapalapa         |EJERCITO DE AGUA PRIETA            |19.367163753023|-99.036026994582|09578                  |9578    |Iztapalapa         |09578   |Iztapalapa         |Ciudad de México|Ciudad de México|\n",
      "|2019-06-02     |2024-10-19 18:10:00|VENTA DE ALCOHOL / DROGA               |MASCULINO      |0.0 |ATENDIDO|Álvaro Obregón     |NA                                 |0.0            |0.0             |01280                  |1280    |Álvaro Obregón     |01280   |Álvaro Obregón     |Ciudad de México|Ciudad de México|\n",
      "|2019-06-02     |2024-10-19 15:10:00|VEHÍCULO ABANDONADO / CHATARRIZACIÓN   |FEMENINO       |50.0|ATENDIDO|Azcapotzalco       |PRO HOGAR I                        |19.4742167     |-99.1502999     |02600                  |2600    |Azcapotzalco       |02600   |Azcapotzalco       |Ciudad de México|Ciudad de México|\n",
      "|2019-06-02     |2024-10-19 18:10:00|VEHÍCULO ABANDONADO / CHATARRIZACIÓN   |MASCULINO      |40.0|ATENDIDO|Iztacalco          |INPI PICOS                         |19.387986950778|-99.102124531213|08760                  |8760    |Iztacalco          |08760   |Iztacalco          |Ciudad de México|Ciudad de México|\n",
      "|2019-06-02     |2024-10-19 15:10:00|RECOLECCIÓN BASURA                     |FEMENINO       |51.0|ATENDIDO|Álvaro Obregón     |ALFONSO XIII                       |19.3778239     |-99.1940907     |01460                  |1460    |Álvaro Obregón     |01460   |Álvaro Obregón     |Ciudad de México|Ciudad de México|\n",
      "|2019-06-02     |2024-10-19 18:10:00|DESAZOLVE                              |NO ESPECIFICADO|0.0 |ATENDIDO|Cuauhtémoc         |BUENAVISTA II                      |19.441270602899|-99.152716082556|06350                  |6350    |Cuauhtémoc         |06350   |Cuauhtémoc         |Ciudad de México|Ciudad de México|\n",
      "|2019-06-02     |2024-10-19 15:10:00|VEHÍCULO ABANDONADO / CHATARRIZACIÓN   |MASCULINO      |0.0 |ATENDIDO|Gustavo A. Madero  |SAN JOSE DE LA ESCALERA            |19.5269461     |-99.1653491     |07630                  |7630    |Gustavo A. Madero  |07630   |Gustavo A. Madero  |Ciudad de México|Ciudad de México|\n",
      "|2019-06-02     |2024-10-19 18:10:00|DESAZOLVE                              |NO ESPECIFICADO|0.0 |ATENDIDO|Cuauhtémoc         |BUENAVISTA II                      |19.441056602899|-99.152446082556|06350                  |6350    |Cuauhtémoc         |06350   |Cuauhtémoc         |Ciudad de México|Ciudad de México|\n",
      "|2019-06-02     |2024-10-19 15:10:00|VEHÍCULO ABANDONADO / CHATARRIZACIÓN   |FEMENINO       |56.0|ATENDIDO|Gustavo A. Madero  |NA                                 |0.0            |0.0             |07020                  |7020    |Gustavo A. Madero  |07020   |Gustavo A. Madero  |Ciudad de México|Ciudad de México|\n",
      "|2019-06-02     |2024-10-19 18:10:00|DESAZOLVE                              |MASCULINO      |0.0 |ATENDIDO|Cuauhtémoc         |BUENAVISTA II                      |19.441092602899|-99.152220082556|06350                  |6350    |Cuauhtémoc         |06350   |Cuauhtémoc         |Ciudad de México|Ciudad de México|\n",
      "|2019-06-02     |2024-10-19 15:10:00|FUGA DE AGUA                           |FEMENINO       |40.0|ATENDIDO|Tlalpan            |PEDREGAL DE SN NICOLAS 4A SECC II  |19.2815226     |-99.231626      |14100                  |14100   |Tlalpan            |14100   |Tlalpan            |Ciudad de México|Ciudad de México|\n",
      "|2019-06-02     |2024-10-19 18:10:00|BACHEO                                 |MASCULINO      |55.0|ATENDIDO|Miguel Hidalgo     |BOSQUES DE LAS LOMAS               |19.392926150649|-99.25908166657 |11700                  |11700   |Miguel Hidalgo     |11700   |Miguel Hidalgo     |Ciudad de México|Ciudad de México|\n",
      "|2019-06-02     |2024-10-19 15:10:00|VEHÍCULO ABANDONADO / CHATARRIZACIÓN   |MASCULINO      |48.0|ATENDIDO|Gustavo A. Madero  |NA                                 |0.0            |0.0             |07200                  |7200    |Gustavo A. Madero  |07200   |Gustavo A. Madero  |Ciudad de México|Ciudad de México|\n",
      "|2019-06-02     |2024-10-19 18:10:00|PAVIMENTACION                          |MASCULINO      |51.0|TURNADO |Gustavo A. Madero  |LINDAVISTA I                       |19.4952808     |-99.1391253     |07300                  |7300    |Gustavo A. Madero  |07300   |Gustavo A. Madero  |Ciudad de México|Ciudad de México|\n",
      "|2019-06-02     |2024-10-19 15:10:00|VEHÍCULO ABANDONADO / CHATARRIZACIÓN   |FEMENINO       |32.0|ATENDIDO|Álvaro Obregón     |VILLA PROGRESISTA                  |19.356600058112|-99.241485004824|01540                  |1540    |Álvaro Obregón     |01540   |Álvaro Obregón     |Ciudad de México|Ciudad de México|\n",
      "|2019-06-02     |2024-10-19 19:10:00|VEHÍCULO ABANDONADO / CHATARRIZACIÓN   |MASCULINO      |28.0|ATENDIDO|Venustiano Carranza|MORELOS II                         |19.439173      |-99.119618      |15270                  |15270   |Venustiano Carranza|15270   |Venustiano Carranza|Ciudad de México|Ciudad de México|\n",
      "|2019-06-02     |2024-10-19 16:10:00|RECOLECCIÓN BASURA                     |FEMENINO       |42.0|ATENDIDO|Coyoacán           |SAN FRANCISCO CULHUACAN (PBLO)     |19.3378878     |-99.1164726     |04260                  |4260    |Coyoacán           |04260   |Coyoacán           |Ciudad de México|Ciudad de México|\n",
      "|2019-06-02     |2024-10-19 19:10:00|QUEJAS Y DEMANDAS VECINALES            |MASCULINO      |35.0|TURNADO |Cuauhtémoc         |NA                                 |0.0            |0.0             |06600                  |6600    |Cuauhtémoc         |06600   |Cuauhtémoc         |Ciudad de México|Ciudad de México|\n",
      "|2019-06-02     |2024-10-19 16:10:00|FUGA DE AGUA                           |MASCULINO      |41.0|ATENDIDO|Miguel Hidalgo     |POPOTLA I                          |19.4562652     |-99.1790677     |11400                  |11400   |Miguel Hidalgo     |11400   |Miguel Hidalgo     |Ciudad de México|Ciudad de México|\n",
      "+---------------+-------------------+---------------------------------------+---------------+----+--------+-------------------+-----------------------------------+---------------+----------------+-----------------------+--------+-------------------+--------+-------------------+----------------+----------------+\n",
      "only showing top 40 rows\n",
      "\n"
     ]
    }
   ],
   "source": [
    "\n",
    "sqlstr = \"\"\" select * \n",
    "from locatel l \n",
    "join sepomex s\n",
    "on(l.d_codigo = s.d_codigo)\n",
    "order by 1\n",
    "\n",
    "\"\"\"\n",
    "\n",
    "spark.sql(sqlstr).show(40, truncate = False)"
   ]
  },
  {
   "cell_type": "code",
   "execution_count": 38,
   "id": "617f3c3e",
   "metadata": {},
   "outputs": [
    {
     "name": "stdout",
     "output_type": "stream",
     "text": [
      "+---------------+-------------------+---------------------------------------+---------------+----+--------+-------------------+-----------------------------------+---------------+----------------+-----------------------+--------+-------------------+--------+-------------------+----------------+----------------+\n",
      "|fecha_solicitud|hora_solicitud     |tema_solicitud                         |sexo           |edad|estatus |alcaldia           |colonia_datos                      |latitud        |longitud        |codigo_postal_solicitud|d_codigo|D_mnpio            |d_codigo|D_mnpio            |d_estado        |d_ciudad        |\n",
      "+---------------+-------------------+---------------------------------------+---------------+----+--------+-------------------+-----------------------------------+---------------+----------------+-----------------------+--------+-------------------+--------+-------------------+----------------+----------------+\n",
      "|2019-06-02     |2024-10-19 16:10:00|ALUMBRADO                              |FEMENINO       |29.0|ATENDIDO|Cuauhtémoc         |ROMA NORTE III                     |19.4158969     |-99.160965      |06700                  |6700    |Cuauhtémoc         |06700   |Cuauhtémoc         |Ciudad de México|Ciudad de México|\n",
      "|2019-06-02     |2024-10-19 21:10:00|ALUMBRADO                              |MASCULINO      |43.0|ATENDIDO|Benito Juárez      |MARIA DEL CARMEN                   |19.3760349     |-99.1390904     |03540                  |3540    |Benito Juárez      |03540   |Benito Juárez      |Ciudad de México|Ciudad de México|\n",
      "|2019-06-02     |2024-10-19 16:10:00|RETIRO CASCAJO, ESCOMBRO, AZOLVE, RAMAS|MASCULINO      |17.0|ATENDIDO|Coyoacán           |NA                                 |0.0            |0.0             |04318                  |4318    |Coyoacán           |04318   |Coyoacán           |Ciudad de México|Ciudad de México|\n",
      "|2019-06-02     |2024-10-19 16:10:00|DESAZOLVE                              |MASCULINO      |0.0 |ATENDIDO|Gustavo A. Madero  |NA                                 |0.0            |0.0             |07800                  |7800    |Gustavo A. Madero  |07800   |Gustavo A. Madero  |Ciudad de México|Ciudad de México|\n",
      "|2019-06-02     |2024-10-19 17:10:00|VERIFICACIÓN ADMINISTRATIVA            |MASCULINO      |43.0|ATENDIDO|Iztapalapa         |LOMAS ESTRELLA 2A SECC I           |19.318823784783|-99.088362242783|09890                  |9890    |Iztapalapa         |09890   |Iztapalapa         |Ciudad de México|Ciudad de México|\n",
      "|2019-06-02     |2024-10-19 15:10:00|DESAZOLVE                              |FEMENINO       |67.0|ATENDIDO|Coyoacán           |PEDREGAL DE SANTA URSULA IV        |19.3121757     |-99.1575765     |04600                  |4600    |Coyoacán           |04600   |Coyoacán           |Ciudad de México|Ciudad de México|\n",
      "|2019-06-02     |2024-10-19 17:10:00|MANTENIMIENTO VÍA PÚBLICA              |FEMENINO       |71.0|ATENDIDO|Iztapalapa         |MODELO (U)                         |19.3617681     |-99.1238709     |09080                  |9080    |Iztapalapa         |09080   |Iztapalapa         |Ciudad de México|Ciudad de México|\n",
      "|2019-06-02     |2024-10-19 15:10:00|FUGA DE AGUA                           |MASCULINO      |39.0|ATENDIDO|Azcapotzalco       |NA                                 |19.5135146     |-99.2081949     |02100                  |2100    |Azcapotzalco       |02100   |Azcapotzalco       |Ciudad de México|Ciudad de México|\n",
      "|2019-06-02     |2024-10-19 17:10:00|VEHÍCULOS AUTOMOTORES Y TAXIS          |MASCULINO      |34.0|ATENDIDO|Cuauhtémoc         |NA                                 |0.0            |0.0             |06470                  |6470    |Cuauhtémoc         |06470   |Cuauhtémoc         |Ciudad de México|Ciudad de México|\n",
      "|2019-06-02     |2024-10-19 14:10:00|FUGA DE AGUA                           |FEMENINO       |38.0|ATENDIDO|Tlalpan            |FLORESTA-PRADO-VERGEL COAPA        |19.3018818     |-99.1290827     |14350                  |14350   |Tlalpan            |14350   |Tlalpan            |Ciudad de México|Ciudad de México|\n",
      "|2019-06-02     |2024-10-19 17:10:00|QUEJA DE TRANSPORTE PUBLICO            |FEMENINO       |29.0|ATENDIDO|Gustavo A. Madero  |SAN JUAN Y GUADALUPE TICOMAN (BARR)|19.5196164     |-99.1326924     |07310                  |7310    |Gustavo A. Madero  |07310   |Gustavo A. Madero  |Ciudad de México|Ciudad de México|\n",
      "|2019-06-02     |2024-10-19 14:10:00|FUGA DE AGUA                           |MASCULINO      |60.0|ATENDIDO|Coyoacán           |EL MIRADOR                         |19.303039117286|-99.109191746033|04950                  |4950    |Coyoacán           |04950   |Coyoacán           |Ciudad de México|Ciudad de México|\n",
      "|2019-06-02     |2024-10-19 17:10:00|TIERRA, PREDIOS Y USO DE SUELO         |MASCULINO      |46.0|ATENDIDO|Iztacalco          |RAMOS MILLAN BRAMADERO I           |19.393589      |-99.0955341     |08020                  |8020    |Iztacalco          |08020   |Iztacalco          |Ciudad de México|Ciudad de México|\n",
      "|2019-06-02     |2024-10-19 14:10:00|FUGA DE AGUA                           |MASCULINO      |60.0|ATENDIDO|Coyoacán           |EL MIRADOR                         |19.302971117286|-99.109428746033|04950                  |4950    |Coyoacán           |04950   |Coyoacán           |Ciudad de México|Ciudad de México|\n",
      "|2019-06-02     |2024-10-19 18:10:00|DESAZOLVE                              |MASCULINO      |32.0|ATENDIDO|Cuauhtémoc         |BUENAVISTA II                      |19.441275778587|-99.152432989302|06350                  |6350    |Cuauhtémoc         |06350   |Cuauhtémoc         |Ciudad de México|Ciudad de México|\n",
      "|2019-06-02     |2024-10-19 14:10:00|MANTENIMIENTO DRENAJE                  |NO ESPECIFICADO|56.0|ATENDIDO|Coyoacán           |NA                                 |0.0            |0.0             |04369                  |4369    |Coyoacán           |04369   |Coyoacán           |Ciudad de México|Ciudad de México|\n",
      "|2019-06-02     |2024-10-19 18:10:00|QUEJAS Y DEMANDAS VECINALES            |FEMENINO       |39.0|ATENDIDO|Coyoacán           |NA                                 |33.775842      |-84.2956232     |04310                  |4310    |Coyoacán           |04310   |Coyoacán           |Ciudad de México|Ciudad de México|\n",
      "|2019-06-02     |2024-10-19 14:10:00|WIFI GRATIS                            |MASCULINO      |20.0|ATENDIDO|Iztacalco          |EL RODEO                           |19.393745068145|-99.085989613403|08510                  |8510    |Iztacalco          |08510   |Iztacalco          |Ciudad de México|Ciudad de México|\n",
      "|2019-06-02     |2024-10-19 18:10:00|VEHÍCULO ABANDONADO / CHATARRIZACIÓN   |MASCULINO      |57.0|ATENDIDO|Gustavo A. Madero  |AVANTE                             |19.327906      |-99.1341877     |07820                  |7820    |Gustavo A. Madero  |07820   |Gustavo A. Madero  |Ciudad de México|Ciudad de México|\n",
      "|2019-06-02     |2024-10-19 15:10:00|FUGA DE AGUA                           |FEMENINO       |66.0|ATENDIDO|Coyoacán           |NA                                 |20.451942      |-101.5265707    |04300                  |4300    |Coyoacán           |04300   |Coyoacán           |Ciudad de México|Ciudad de México|\n",
      "|2019-06-02     |2024-10-19 18:10:00|ASISTENCIA SOCIAL                      |MASCULINO      |72.0|ATENDIDO|Iztapalapa         |NA                                 |0.0            |0.0             |09089                  |9089    |Iztapalapa         |09089   |Iztapalapa         |Ciudad de México|Ciudad de México|\n",
      "|2019-06-02     |2024-10-19 15:10:00|BALIZAMIENTO                           |NO ESPECIFICADO|0.0 |ATENDIDO|Iztapalapa         |EJERCITO DE AGUA PRIETA            |19.367163753023|-99.036026994582|09578                  |9578    |Iztapalapa         |09578   |Iztapalapa         |Ciudad de México|Ciudad de México|\n",
      "|2019-06-02     |2024-10-19 18:10:00|VENTA DE ALCOHOL / DROGA               |MASCULINO      |0.0 |ATENDIDO|Álvaro Obregón     |NA                                 |0.0            |0.0             |01280                  |1280    |Álvaro Obregón     |01280   |Álvaro Obregón     |Ciudad de México|Ciudad de México|\n",
      "|2019-06-02     |2024-10-19 15:10:00|VEHÍCULO ABANDONADO / CHATARRIZACIÓN   |FEMENINO       |50.0|ATENDIDO|Azcapotzalco       |PRO HOGAR I                        |19.4742167     |-99.1502999     |02600                  |2600    |Azcapotzalco       |02600   |Azcapotzalco       |Ciudad de México|Ciudad de México|\n",
      "|2019-06-02     |2024-10-19 18:10:00|VEHÍCULO ABANDONADO / CHATARRIZACIÓN   |MASCULINO      |40.0|ATENDIDO|Iztacalco          |INPI PICOS                         |19.387986950778|-99.102124531213|08760                  |8760    |Iztacalco          |08760   |Iztacalco          |Ciudad de México|Ciudad de México|\n",
      "|2019-06-02     |2024-10-19 15:10:00|RECOLECCIÓN BASURA                     |FEMENINO       |51.0|ATENDIDO|Álvaro Obregón     |ALFONSO XIII                       |19.3778239     |-99.1940907     |01460                  |1460    |Álvaro Obregón     |01460   |Álvaro Obregón     |Ciudad de México|Ciudad de México|\n",
      "|2019-06-02     |2024-10-19 18:10:00|DESAZOLVE                              |NO ESPECIFICADO|0.0 |ATENDIDO|Cuauhtémoc         |BUENAVISTA II                      |19.441270602899|-99.152716082556|06350                  |6350    |Cuauhtémoc         |06350   |Cuauhtémoc         |Ciudad de México|Ciudad de México|\n",
      "|2019-06-02     |2024-10-19 15:10:00|VEHÍCULO ABANDONADO / CHATARRIZACIÓN   |MASCULINO      |0.0 |ATENDIDO|Gustavo A. Madero  |SAN JOSE DE LA ESCALERA            |19.5269461     |-99.1653491     |07630                  |7630    |Gustavo A. Madero  |07630   |Gustavo A. Madero  |Ciudad de México|Ciudad de México|\n",
      "|2019-06-02     |2024-10-19 18:10:00|DESAZOLVE                              |NO ESPECIFICADO|0.0 |ATENDIDO|Cuauhtémoc         |BUENAVISTA II                      |19.441056602899|-99.152446082556|06350                  |6350    |Cuauhtémoc         |06350   |Cuauhtémoc         |Ciudad de México|Ciudad de México|\n",
      "|2019-06-02     |2024-10-19 15:10:00|VEHÍCULO ABANDONADO / CHATARRIZACIÓN   |FEMENINO       |56.0|ATENDIDO|Gustavo A. Madero  |NA                                 |0.0            |0.0             |07020                  |7020    |Gustavo A. Madero  |07020   |Gustavo A. Madero  |Ciudad de México|Ciudad de México|\n",
      "|2019-06-02     |2024-10-19 18:10:00|DESAZOLVE                              |MASCULINO      |0.0 |ATENDIDO|Cuauhtémoc         |BUENAVISTA II                      |19.441092602899|-99.152220082556|06350                  |6350    |Cuauhtémoc         |06350   |Cuauhtémoc         |Ciudad de México|Ciudad de México|\n",
      "|2019-06-02     |2024-10-19 15:10:00|FUGA DE AGUA                           |FEMENINO       |40.0|ATENDIDO|Tlalpan            |PEDREGAL DE SN NICOLAS 4A SECC II  |19.2815226     |-99.231626      |14100                  |14100   |Tlalpan            |14100   |Tlalpan            |Ciudad de México|Ciudad de México|\n",
      "|2019-06-02     |2024-10-19 18:10:00|BACHEO                                 |MASCULINO      |55.0|ATENDIDO|Miguel Hidalgo     |BOSQUES DE LAS LOMAS               |19.392926150649|-99.25908166657 |11700                  |11700   |Miguel Hidalgo     |11700   |Miguel Hidalgo     |Ciudad de México|Ciudad de México|\n",
      "|2019-06-02     |2024-10-19 15:10:00|VEHÍCULO ABANDONADO / CHATARRIZACIÓN   |MASCULINO      |48.0|ATENDIDO|Gustavo A. Madero  |NA                                 |0.0            |0.0             |07200                  |7200    |Gustavo A. Madero  |07200   |Gustavo A. Madero  |Ciudad de México|Ciudad de México|\n",
      "|2019-06-02     |2024-10-19 18:10:00|PAVIMENTACION                          |MASCULINO      |51.0|TURNADO |Gustavo A. Madero  |LINDAVISTA I                       |19.4952808     |-99.1391253     |07300                  |7300    |Gustavo A. Madero  |07300   |Gustavo A. Madero  |Ciudad de México|Ciudad de México|\n",
      "|2019-06-02     |2024-10-19 15:10:00|VEHÍCULO ABANDONADO / CHATARRIZACIÓN   |FEMENINO       |32.0|ATENDIDO|Álvaro Obregón     |VILLA PROGRESISTA                  |19.356600058112|-99.241485004824|01540                  |1540    |Álvaro Obregón     |01540   |Álvaro Obregón     |Ciudad de México|Ciudad de México|\n",
      "|2019-06-02     |2024-10-19 19:10:00|VEHÍCULO ABANDONADO / CHATARRIZACIÓN   |MASCULINO      |28.0|ATENDIDO|Venustiano Carranza|MORELOS II                         |19.439173      |-99.119618      |15270                  |15270   |Venustiano Carranza|15270   |Venustiano Carranza|Ciudad de México|Ciudad de México|\n",
      "|2019-06-02     |2024-10-19 16:10:00|RECOLECCIÓN BASURA                     |FEMENINO       |42.0|ATENDIDO|Coyoacán           |SAN FRANCISCO CULHUACAN (PBLO)     |19.3378878     |-99.1164726     |04260                  |4260    |Coyoacán           |04260   |Coyoacán           |Ciudad de México|Ciudad de México|\n",
      "|2019-06-02     |2024-10-19 19:10:00|QUEJAS Y DEMANDAS VECINALES            |MASCULINO      |35.0|TURNADO |Cuauhtémoc         |NA                                 |0.0            |0.0             |06600                  |6600    |Cuauhtémoc         |06600   |Cuauhtémoc         |Ciudad de México|Ciudad de México|\n",
      "|2019-06-02     |2024-10-19 16:10:00|FUGA DE AGUA                           |MASCULINO      |41.0|ATENDIDO|Miguel Hidalgo     |POPOTLA I                          |19.4562652     |-99.1790677     |11400                  |11400   |Miguel Hidalgo     |11400   |Miguel Hidalgo     |Ciudad de México|Ciudad de México|\n",
      "+---------------+-------------------+---------------------------------------+---------------+----+--------+-------------------+-----------------------------------+---------------+----------------+-----------------------+--------+-------------------+--------+-------------------+----------------+----------------+\n",
      "only showing top 40 rows\n",
      "\n"
     ]
    }
   ],
   "source": [
    "sqlstr = \"\"\"select * \n",
    "from locatel l \n",
    "join sepomex s\n",
    "on(l.d_codigo = s.d_codigo)\n",
    "order by 1\n",
    "\"\"\"\n",
    "\n",
    "spark.sql(sqlstr).show(40, truncate = False)"
   ]
  },
  {
   "cell_type": "code",
   "execution_count": 39,
   "id": "649e0b74",
   "metadata": {},
   "outputs": [
    {
     "name": "stdout",
     "output_type": "stream",
     "text": [
      "+--------+\n",
      "|count(1)|\n",
      "+--------+\n",
      "|2025990 |\n",
      "+--------+\n",
      "\n"
     ]
    }
   ],
   "source": [
    "sqlstr = \"\"\"select count(*) \n",
    "from locatel l \n",
    "join sepomex s\n",
    "on(l.d_codigo = s.d_codigo)\n",
    "order by 1\n",
    "\"\"\"\n",
    "\n",
    "spark.sql(sqlstr).show(40, truncate = False)"
   ]
  },
  {
   "cell_type": "code",
   "execution_count": 40,
   "id": "bee41dd2",
   "metadata": {},
   "outputs": [
    {
     "name": "stdout",
     "output_type": "stream",
     "text": [
      "+--------+\n",
      "|count(1)|\n",
      "+--------+\n",
      "|2323192 |\n",
      "+--------+\n",
      "\n"
     ]
    }
   ],
   "source": [
    "sqlstr = \"\"\"select count(*) \n",
    "from locatel l \n",
    "left join sepomex s\n",
    "on(l.d_codigo = s.d_codigo)\n",
    "order by 1\n",
    "\"\"\"\n",
    "\n",
    "spark.sql(sqlstr).show(40, truncate = False)"
   ]
  },
  {
   "cell_type": "code",
   "execution_count": 41,
   "id": "791e920b",
   "metadata": {},
   "outputs": [
    {
     "name": "stdout",
     "output_type": "stream",
     "text": [
      "+--------+\n",
      "|count(1)|\n",
      "+--------+\n",
      "|297202  |\n",
      "+--------+\n",
      "\n"
     ]
    }
   ],
   "source": [
    "sqlstr = \"\"\"select count(*) \n",
    "from locatel l \n",
    "left join sepomex s\n",
    "on(l.d_codigo = s.d_codigo)\n",
    "where s.d_codigo is null\n",
    "order by 1\n",
    "\"\"\"\n",
    "\n",
    "spark.sql(sqlstr).show(40, truncate = False)"
   ]
  },
  {
   "cell_type": "code",
   "execution_count": 42,
   "id": "9ac1befa",
   "metadata": {},
   "outputs": [
    {
     "name": "stdout",
     "output_type": "stream",
     "text": [
      "+---------------+----------------------------------------+--------+--------+--------+\n",
      "|fecha_solicitud|tema_solicitud                          |d_codigo|d_codigo|d_ciudad|\n",
      "+---------------+----------------------------------------+--------+--------+--------+\n",
      "|2019-06-01     |PODA / RETIRO ARBOL                     |NULL    |NULL    |NULL    |\n",
      "|2019-06-02     |MANTENIMIENTO DE COLADERA / ALCANTARILLA|NULL    |NULL    |NULL    |\n",
      "|2019-06-02     |WIFI GRATIS                             |NULL    |NULL    |NULL    |\n",
      "|2019-06-02     |MEDIO AMBIENTE                          |NULL    |NULL    |NULL    |\n",
      "|2019-06-02     |MEDIO AMBIENTE                          |NULL    |NULL    |NULL    |\n",
      "|2019-06-02     |INFORMACIÓN SOBRE TRÁMITES              |NULL    |NULL    |NULL    |\n",
      "|2019-06-02     |MANTENIMIENTO VÍA PÚBLICA               |NULL    |NULL    |NULL    |\n",
      "|2019-06-02     |DEPORTE                                 |NULL    |NULL    |NULL    |\n",
      "|2019-06-02     |MANTENIMIENTO DE COLADERA / ALCANTARILLA|NULL    |NULL    |NULL    |\n",
      "|2019-06-02     |PODA / RETIRO ARBOL                     |NULL    |NULL    |NULL    |\n",
      "+---------------+----------------------------------------+--------+--------+--------+\n",
      "only showing top 10 rows\n",
      "\n"
     ]
    }
   ],
   "source": [
    "sqlstr = \"\"\"select fecha_solicitud, tema_solicitud, l.d_codigo, s.d_codigo, s.d_ciudad\n",
    "from locatel l \n",
    "left join sepomex s\n",
    "on(l.d_codigo = s.d_codigo)\n",
    "where s.d_codigo is null\n",
    "order by 1\n",
    "\"\"\"\n",
    "\n",
    "spark.sql(sqlstr).show(10, truncate = False)"
   ]
  },
  {
   "cell_type": "code",
   "execution_count": 43,
   "id": "a35e9ef2",
   "metadata": {},
   "outputs": [
    {
     "name": "stdout",
     "output_type": "stream",
     "text": [
      "+---------------+------------------------------------+--------+--------+----------------+\n",
      "|fecha_solicitud|tema_solicitud                      |d_codigo|d_codigo|d_ciudad        |\n",
      "+---------------+------------------------------------+--------+--------+----------------+\n",
      "|2019-06-02     |BACHEO                              |7300    |07300   |Ciudad de México|\n",
      "|2019-06-02     |MANTENIMIENTO DRENAJE               |4369    |04369   |Ciudad de México|\n",
      "|2019-06-02     |MEDIO AMBIENTE                      |3810    |03810   |Ciudad de México|\n",
      "|2019-06-02     |VEHÍCULO ABANDONADO / CHATARRIZACIÓN|6220    |06220   |Ciudad de México|\n",
      "|2019-06-02     |FUGA DE AGUA                        |14350   |14350   |Ciudad de México|\n",
      "|2019-06-02     |FUGA DE AGUA                        |4950    |04950   |Ciudad de México|\n",
      "|2019-06-02     |FUGA DE AGUA                        |4950    |04950   |Ciudad de México|\n",
      "|2019-06-02     |FUGA DE AGUA                        |4950    |04950   |Ciudad de México|\n",
      "|2019-06-02     |FUGA DE AGUA                        |4950    |04950   |Ciudad de México|\n",
      "|2019-06-02     |FUGA DE AGUA                        |4950    |04950   |Ciudad de México|\n",
      "+---------------+------------------------------------+--------+--------+----------------+\n",
      "only showing top 10 rows\n",
      "\n"
     ]
    }
   ],
   "source": [
    "sqlstr = \"\"\"select fecha_solicitud, tema_solicitud, l.d_codigo, s.d_codigo, s.d_ciudad\n",
    "from locatel l \n",
    "join sepomex s\n",
    "on(l.d_codigo = s.d_codigo)\n",
    "order by 1\n",
    "\"\"\"\n",
    "\n",
    "spark.sql(sqlstr).show(10, truncate = False)"
   ]
  },
  {
   "cell_type": "code",
   "execution_count": 44,
   "id": "45516646",
   "metadata": {},
   "outputs": [
    {
     "name": "stdout",
     "output_type": "stream",
     "text": [
      "+---------------+--------------+--------+--------+--------------+\n",
      "|fecha_solicitud|tema_solicitud|d_codigo|d_codigo|d_ciudad      |\n",
      "+---------------+--------------+--------+--------+--------------+\n",
      "|NULL           |NULL          |NULL    |20040   |Aguascalientes|\n",
      "|NULL           |NULL          |NULL    |20149   |Aguascalientes|\n",
      "|NULL           |NULL          |NULL    |20049   |Aguascalientes|\n",
      "|NULL           |NULL          |NULL    |20369   |NULL          |\n",
      "|NULL           |NULL          |NULL    |20018   |Aguascalientes|\n",
      "|NULL           |NULL          |NULL    |20172   |Aguascalientes|\n",
      "|NULL           |NULL          |NULL    |20283   |Aguascalientes|\n",
      "|NULL           |NULL          |NULL    |20115   |Aguascalientes|\n",
      "|NULL           |NULL          |NULL    |20030   |Aguascalientes|\n",
      "|NULL           |NULL          |NULL    |20179   |Aguascalientes|\n",
      "+---------------+--------------+--------+--------+--------------+\n",
      "only showing top 10 rows\n",
      "\n"
     ]
    }
   ],
   "source": [
    "sqlstr = \"\"\"select fecha_solicitud, tema_solicitud, l.d_codigo, s.d_codigo, s.d_ciudad\n",
    "from locatel l \n",
    "right join sepomex s on(l.d_codigo = s.d_codigo)\n",
    "order by 1\n",
    "\"\"\"\n",
    "\n",
    "spark.sql(sqlstr).show(10, truncate = False)"
   ]
  },
  {
   "cell_type": "code",
   "execution_count": 45,
   "id": "78555c88",
   "metadata": {},
   "outputs": [
    {
     "name": "stdout",
     "output_type": "stream",
     "text": [
      "+--------+\n",
      "|count(1)|\n",
      "+--------+\n",
      "|28709   |\n",
      "+--------+\n",
      "\n"
     ]
    }
   ],
   "source": [
    "sqlstr = \"\"\"select count(*)\n",
    "from locatel l \n",
    "right join sepomex s\n",
    "on(l.d_codigo = s.d_codigo)\n",
    "where l.d_codigo is null\n",
    "order by 1\n",
    "\"\"\"\n",
    "\n",
    "spark.sql(sqlstr).show(10, truncate = False)"
   ]
  },
  {
   "cell_type": "code",
   "execution_count": 46,
   "id": "76ab1e9a",
   "metadata": {},
   "outputs": [
    {
     "name": "stdout",
     "output_type": "stream",
     "text": [
      "+--------+\n",
      "|count(1)|\n",
      "+--------+\n",
      "|28709   |\n",
      "+--------+\n",
      "\n"
     ]
    }
   ],
   "source": [
    "sqlstr = \"\"\"select count(*)\n",
    "from locatel l \n",
    "right join sepomex s\n",
    "on(l.d_codigo = s.d_codigo)\n",
    "where l.d_codigo is null\n",
    "order by 1\n",
    "\"\"\"\n",
    "\n",
    "spark.sql(sqlstr).show(10, truncate = False)"
   ]
  },
  {
   "cell_type": "code",
   "execution_count": 47,
   "id": "543154cf",
   "metadata": {},
   "outputs": [
    {
     "name": "stdout",
     "output_type": "stream",
     "text": [
      "+--------+\n",
      "|count(1)|\n",
      "+--------+\n",
      "|2351901 |\n",
      "+--------+\n",
      "\n"
     ]
    }
   ],
   "source": [
    "strsql = \"\"\" SELECT COUNT(*)\n",
    "FROM locatel l\n",
    "FULL OUTER JOIN sepomex s ON(l.d_codigo = s.d_codigo)\n",
    "ORDER BY 1\n",
    "\"\"\"\n",
    "spark.sql(strsql).show(10, truncate=False)"
   ]
  },
  {
   "cell_type": "code",
   "execution_count": 48,
   "id": "5e0cc18f",
   "metadata": {},
   "outputs": [
    {
     "name": "stdout",
     "output_type": "stream",
     "text": [
      "+-----------+\n",
      "|count(1)   |\n",
      "+-----------+\n",
      "|74801142711|\n",
      "+-----------+\n",
      "\n"
     ]
    }
   ],
   "source": [
    "strsql = \"\"\" SELECT COUNT(*)\n",
    "FROM locatel l\n",
    "JOIN sepomex s\n",
    "ORDER BY 1\n",
    "\"\"\"\n",
    "spark.sql(strsql).show(10, truncate=False)"
   ]
  }
 ],
 "metadata": {
  "kernelspec": {
   "display_name": "Python 3 (ipykernel)",
   "language": "python",
   "name": "python3"
  },
  "language_info": {
   "codemirror_mode": {
    "name": "ipython",
    "version": 3
   },
   "file_extension": ".py",
   "mimetype": "text/x-python",
   "name": "python",
   "nbconvert_exporter": "python",
   "pygments_lexer": "ipython3",
   "version": "3.11.6"
  }
 },
 "nbformat": 4,
 "nbformat_minor": 5
}
