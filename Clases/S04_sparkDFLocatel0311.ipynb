{
 "cells": [
  {
   "cell_type": "code",
   "execution_count": 1,
   "id": "d38c5c8d-726a-4ab5-a68f-14a5114bd78f",
   "metadata": {},
   "outputs": [],
   "source": [
    "#imports\n",
    "from pyspark.sql.functions import col, sum, to_date, to_timestamp, regexp_replace, date_format\n",
    "from pyspark.sql.types import IntegerType, DoubleType, FloatType"
   ]
  },
  {
   "cell_type": "code",
   "execution_count": 2,
   "id": "3cb46b3d-7649-4ae4-96cc-202777d45100",
   "metadata": {},
   "outputs": [],
   "source": [
    "dir_hdfs = \"hdfs://namenode:9000/tmp/amd/locatel0311\""
   ]
  },
  {
   "cell_type": "code",
   "execution_count": 3,
   "id": "4b19e940-bc66-4357-806e-ff10712cd835",
   "metadata": {},
   "outputs": [],
   "source": [
    "df = spark.read.csv(dir_hdfs, header=True, inferSchema=True)"
   ]
  },
  {
   "cell_type": "code",
   "execution_count": 4,
   "id": "f50bb1fe-32ec-431a-a64c-07bdf5e9170c",
   "metadata": {},
   "outputs": [
    {
     "name": "stdout",
     "output_type": "stream",
     "text": [
      "root\n",
      " |-- id_folio: string (nullable = true)\n",
      " |-- fecha_solicitud: string (nullable = true)\n",
      " |-- hora_solicitud: string (nullable = true)\n",
      " |-- tipo_de_entrada: string (nullable = true)\n",
      " |-- tema_solicitud: string (nullable = true)\n",
      " |-- sexo: string (nullable = true)\n",
      " |-- edad: string (nullable = true)\n",
      " |-- estatus: string (nullable = true)\n",
      " |-- fecha_concluido: string (nullable = true)\n",
      " |-- alcaldia: string (nullable = true)\n",
      " |-- colonia_datos: string (nullable = true)\n",
      " |-- 0311_colonia_registro: string (nullable = true)\n",
      " |-- codigo_postal_solicitud: string (nullable = true)\n",
      " |-- latitud: string (nullable = true)\n",
      " |-- longitud: string (nullable = true)\n",
      "\n"
     ]
    }
   ],
   "source": [
    "df.printSchema()"
   ]
  },
  {
   "cell_type": "code",
   "execution_count": 5,
   "id": "48f4cd81-1570-4516-b069-17a5b1def25f",
   "metadata": {},
   "outputs": [
    {
     "name": "stdout",
     "output_type": "stream",
     "text": [
      "Numero de renglones 2323089\n",
      "Numero de columnas 15\n",
      "Columnas ['id_folio', 'fecha_solicitud', 'hora_solicitud', 'tipo_de_entrada', 'tema_solicitud', 'sexo', 'edad', 'estatus', 'fecha_concluido', 'alcaldia', 'colonia_datos', '0311_colonia_registro', 'codigo_postal_solicitud', 'latitud', 'longitud']\n"
     ]
    }
   ],
   "source": [
    "print(f\"Numero de renglones {df.count()}\")\n",
    "print(f\"Numero de columnas {len(df.columns)}\")\n",
    "print(f\"Columnas {df.columns}\")"
   ]
  },
  {
   "cell_type": "code",
   "execution_count": 6,
   "id": "004e6685-9e7e-4d47-a369-3d7d28ca82e6",
   "metadata": {},
   "outputs": [
    {
     "name": "stdout",
     "output_type": "stream",
     "text": [
      "+--------+---------------+--------------+---------------------+---------------------------------------+---------------+----+--------+---------------+--------+-------------+---------------------+-----------------------+-------+--------+\n",
      "|id_folio|fecha_solicitud|hora_solicitud|tipo_de_entrada      |tema_solicitud                         |sexo           |edad|estatus |fecha_concluido|alcaldia|colonia_datos|0311_colonia_registro|codigo_postal_solicitud|latitud|longitud|\n",
      "+--------+---------------+--------------+---------------------+---------------------------------------+---------------+----+--------+---------------+--------+-------------+---------------------+-----------------------+-------+--------+\n",
      "|- 244841|2020-01-11     |08:17:58      |VICTORIA             |FUGA DE AGUA                           |NO ESPECIFICADO|NA  |ATENDIDO|2020-07-03     |NA      |NA           |NA                   |NA                     |0      |0       |\n",
      "|- 265596|2020-01-28     |12:10:42      |VICTORIA             |VENTA DE ALCOHOL / DROGA               |NO ESPECIFICADO|NA  |ATENDIDO|2020-12-11     |NA      |NA           |NA                   |NA                     |0      |0       |\n",
      "|- 244037|2020-01-10     |12:39:20      |VICTORIA             |TRAMITES / INFO VEHICULAR              |NO ESPECIFICADO|NA  |ATENDIDO|2020-02-21     |NA      |NA           |NA                   |NA                     |0      |0       |\n",
      "|- 261435|2020-01-24     |10:17:36      |VICTORIA             |MANTENIMIENTO DRENAJE                  |NO ESPECIFICADO|NA  |ATENDIDO|2022-06-08     |NA      |NA           |NA                   |NA                     |0      |0       |\n",
      "|- 238133|2020-01-04     |18:09:01      |VICTORIA             |SOLICITUD DE VIGILANCIA                |NO ESPECIFICADO|NA  |ATENDIDO|2020-02-15     |NA      |NA           |NA                   |NA                     |0      |0       |\n",
      "|- 254238|2020-01-20     |11:19:17      |VICTORIA             |ALERTA SISMICA                         |NO ESPECIFICADO|NA  |ATENDIDO|2020-01-31     |NA      |NA           |NA                   |NA                     |0      |0       |\n",
      "|- 256338|2020-01-21     |06:15:23      |VICTORIA             |VENTA DE ALCOHOL / DROGA               |NO ESPECIFICADO|NA  |ATENDIDO|2022-06-10     |NA      |NA           |NA                   |NA                     |0      |0       |\n",
      "|- 246368|2020-01-13     |13:21:42      |PORTAL CIUDADANO SUAC|RETIRO CASCAJO, ESCOMBRO, AZOLVE, RAMAS|FEMENINO       |NA  |ATENDIDO|2020-01-27     |NA      |NA           |NA                   |NA                     |0      |0       |\n",
      "|- 342555|2020-03-26     |04:25:27      |VICTORIA             |SOLICITUD/SEGURO DE DESEMPLEO          |NO ESPECIFICADO|NA  |ATENDIDO|2020-04-07     |NA      |NA           |NA                   |NA                     |0      |0       |\n",
      "|- 273239|2020-02-04     |17:07:56      |VICTORIA             |FALTA DE AGUA                          |NO ESPECIFICADO|NA  |ATENDIDO|2020-02-18     |NA      |NA           |NA                   |NA                     |0      |0       |\n",
      "|- 292190|2020-02-19     |08:57:01      |VICTORIA             |TRAMITES / INFO VEHICULAR              |NO ESPECIFICADO|NA  |ATENDIDO|2020-07-16     |NA      |NA           |NA                   |NA                     |0      |0       |\n",
      "|- 304805|2020-02-26     |16:46:32      |VICTORIA             |SOLICITUD DE VIGILANCIA                |NO ESPECIFICADO|NA  |ATENDIDO|2020-02-26     |NA      |NA           |NA                   |NA                     |0      |0       |\n",
      "|- 329431|2020-03-16     |10:25:07      |VICTORIA             |COVID                                  |NO ESPECIFICADO|NA  |ATENDIDO|2020-11-18     |NA      |NA           |NA                   |NA                     |0      |0       |\n",
      "|- 278809|2020-02-09     |19:30:37      |VICTORIA             |ALUMBRADO                              |NO ESPECIFICADO|NA  |ATENDIDO|2020-04-01     |NA      |NA           |NA                   |NA                     |0      |0       |\n",
      "|- 309706|2020-03-01     |10:11:06      |VICTORIA             |RETIRO CASCAJO, ESCOMBRO, AZOLVE, RAMAS|NO ESPECIFICADO|NA  |ATENDIDO|2021-11-16     |NA      |NA           |NA                   |NA                     |0      |0       |\n",
      "|- 320184|2020-03-09     |12:35:18      |VICTORIA             |MANTENIMIENTO VÍA PÚBLICA              |NO ESPECIFICADO|NA  |TURNADO |NA             |NA      |NA           |NA                   |NA                     |0      |0       |\n",
      "|- 254113|2020-01-20     |11:13:31      |PORTAL CIUDADANO SUAC|ALERTA SISMICA                         |FEMENINO       |NA  |ATENDIDO|2020-01-21     |NA      |NA           |NA                   |NA                     |0      |0       |\n",
      "|- 277832|2020-02-07     |17:34:09      |VICTORIA             |VEHÍCULO ABANDONADO / CHATARRIZACIÓN   |NO ESPECIFICADO|NA  |ATENDIDO|2020-03-21     |NA      |NA           |NA                   |NA                     |0      |0       |\n",
      "|- 328500|2020-03-13     |18:11:00      |VICTORIA             |FUGA DE AGUA                           |NO ESPECIFICADO|NA  |ATENDIDO|2020-06-01     |NA      |NA           |NA                   |NA                     |0      |0       |\n",
      "|- 341480|2020-03-25     |11:04:18      |VICTORIA             |COVID                                  |NO ESPECIFICADO|NA  |ATENDIDO|2020-03-27     |NA      |NA           |NA                   |NA                     |0      |0       |\n",
      "+--------+---------------+--------------+---------------------+---------------------------------------+---------------+----+--------+---------------+--------+-------------+---------------------+-----------------------+-------+--------+\n",
      "only showing top 20 rows\n",
      "\n"
     ]
    }
   ],
   "source": [
    "df.show(truncate=False)"
   ]
  },
  {
   "cell_type": "code",
   "execution_count": 7,
   "id": "f66e05d5-f030-4b9e-9b41-b5413e07cf06",
   "metadata": {},
   "outputs": [
    {
     "name": "stdout",
     "output_type": "stream",
     "text": [
      "+---------------+--------------+--------------------+---------------+----+--------+--------+-------------+-----------------------+-------+--------+\n",
      "|fecha_solicitud|hora_solicitud|      tema_solicitud|           sexo|edad| estatus|alcaldia|colonia_datos|codigo_postal_solicitud|latitud|longitud|\n",
      "+---------------+--------------+--------------------+---------------+----+--------+--------+-------------+-----------------------+-------+--------+\n",
      "|     2020-01-11|      08:17:58|        FUGA DE AGUA|NO ESPECIFICADO|  NA|ATENDIDO|      NA|           NA|                     NA|      0|       0|\n",
      "|     2020-01-28|      12:10:42|VENTA DE ALCOHOL ...|NO ESPECIFICADO|  NA|ATENDIDO|      NA|           NA|                     NA|      0|       0|\n",
      "|     2020-01-10|      12:39:20|TRAMITES / INFO V...|NO ESPECIFICADO|  NA|ATENDIDO|      NA|           NA|                     NA|      0|       0|\n",
      "|     2020-01-24|      10:17:36|MANTENIMIENTO DRE...|NO ESPECIFICADO|  NA|ATENDIDO|      NA|           NA|                     NA|      0|       0|\n",
      "|     2020-01-04|      18:09:01|SOLICITUD DE VIGI...|NO ESPECIFICADO|  NA|ATENDIDO|      NA|           NA|                     NA|      0|       0|\n",
      "|     2020-01-20|      11:19:17|      ALERTA SISMICA|NO ESPECIFICADO|  NA|ATENDIDO|      NA|           NA|                     NA|      0|       0|\n",
      "|     2020-01-21|      06:15:23|VENTA DE ALCOHOL ...|NO ESPECIFICADO|  NA|ATENDIDO|      NA|           NA|                     NA|      0|       0|\n",
      "|     2020-01-13|      13:21:42|RETIRO CASCAJO, E...|       FEMENINO|  NA|ATENDIDO|      NA|           NA|                     NA|      0|       0|\n",
      "|     2020-03-26|      04:25:27|SOLICITUD/SEGURO ...|NO ESPECIFICADO|  NA|ATENDIDO|      NA|           NA|                     NA|      0|       0|\n",
      "|     2020-02-04|      17:07:56|       FALTA DE AGUA|NO ESPECIFICADO|  NA|ATENDIDO|      NA|           NA|                     NA|      0|       0|\n",
      "|     2020-02-19|      08:57:01|TRAMITES / INFO V...|NO ESPECIFICADO|  NA|ATENDIDO|      NA|           NA|                     NA|      0|       0|\n",
      "|     2020-02-26|      16:46:32|SOLICITUD DE VIGI...|NO ESPECIFICADO|  NA|ATENDIDO|      NA|           NA|                     NA|      0|       0|\n",
      "|     2020-03-16|      10:25:07|               COVID|NO ESPECIFICADO|  NA|ATENDIDO|      NA|           NA|                     NA|      0|       0|\n",
      "|     2020-02-09|      19:30:37|           ALUMBRADO|NO ESPECIFICADO|  NA|ATENDIDO|      NA|           NA|                     NA|      0|       0|\n",
      "|     2020-03-01|      10:11:06|RETIRO CASCAJO, E...|NO ESPECIFICADO|  NA|ATENDIDO|      NA|           NA|                     NA|      0|       0|\n",
      "|     2020-03-09|      12:35:18|MANTENIMIENTO VÍA...|NO ESPECIFICADO|  NA| TURNADO|      NA|           NA|                     NA|      0|       0|\n",
      "|     2020-01-20|      11:13:31|      ALERTA SISMICA|       FEMENINO|  NA|ATENDIDO|      NA|           NA|                     NA|      0|       0|\n",
      "|     2020-02-07|      17:34:09|VEHÍCULO ABANDONA...|NO ESPECIFICADO|  NA|ATENDIDO|      NA|           NA|                     NA|      0|       0|\n",
      "|     2020-03-13|      18:11:00|        FUGA DE AGUA|NO ESPECIFICADO|  NA|ATENDIDO|      NA|           NA|                     NA|      0|       0|\n",
      "|     2020-03-25|      11:04:18|               COVID|NO ESPECIFICADO|  NA|ATENDIDO|      NA|           NA|                     NA|      0|       0|\n",
      "+---------------+--------------+--------------------+---------------+----+--------+--------+-------------+-----------------------+-------+--------+\n",
      "only showing top 20 rows\n",
      "\n"
     ]
    }
   ],
   "source": [
    "df.select(['fecha_solicitud','hora_solicitud','tema_solicitud','sexo','edad','estatus','alcaldia','colonia_datos','codigo_postal_solicitud','latitud','longitud']).show()"
   ]
  },
  {
   "cell_type": "code",
   "execution_count": 8,
   "id": "879ece9b-f619-4061-91d9-2cfefbc53bb8",
   "metadata": {},
   "outputs": [],
   "source": [
    "datos = df.select(['fecha_solicitud','hora_solicitud','tema_solicitud','sexo','edad','estatus','alcaldia','colonia_datos','latitud','longitud'])"
   ]
  },
  {
   "cell_type": "code",
   "execution_count": 9,
   "id": "df21c36c-31cc-4ad8-bb7e-6c53dafaf00a",
   "metadata": {},
   "outputs": [
    {
     "name": "stdout",
     "output_type": "stream",
     "text": [
      "root\n",
      " |-- fecha_solicitud: string (nullable = true)\n",
      " |-- hora_solicitud: string (nullable = true)\n",
      " |-- tema_solicitud: string (nullable = true)\n",
      " |-- sexo: string (nullable = true)\n",
      " |-- edad: string (nullable = true)\n",
      " |-- estatus: string (nullable = true)\n",
      " |-- alcaldia: string (nullable = true)\n",
      " |-- colonia_datos: string (nullable = true)\n",
      " |-- latitud: string (nullable = true)\n",
      " |-- longitud: string (nullable = true)\n",
      "\n"
     ]
    }
   ],
   "source": [
    "datos.printSchema()"
   ]
  },
  {
   "cell_type": "code",
   "execution_count": 10,
   "id": "cad254fd-84b4-4e0a-bcd8-e95caf2de2e7",
   "metadata": {},
   "outputs": [
    {
     "data": {
      "text/plain": [
       "2323089"
      ]
     },
     "execution_count": 10,
     "metadata": {},
     "output_type": "execute_result"
    }
   ],
   "source": [
    "datos.count()"
   ]
  },
  {
   "cell_type": "code",
   "execution_count": 11,
   "id": "2e86be98-c5fc-4183-8c0c-be276a0584f4",
   "metadata": {},
   "outputs": [
    {
     "data": {
      "text/plain": [
       "829463"
      ]
     },
     "execution_count": 11,
     "metadata": {},
     "output_type": "execute_result"
    }
   ],
   "source": [
    "datos.filter('sexo = \"FEMENINO\"').count()"
   ]
  },
  {
   "cell_type": "code",
   "execution_count": 12,
   "id": "5c6f8d41-c46c-4c4c-880b-6aae96de7566",
   "metadata": {},
   "outputs": [
    {
     "name": "stdout",
     "output_type": "stream",
     "text": [
      "+---------------+--------------+--------------------+----+--------+-----------------+--------------------+\n",
      "|fecha_solicitud|hora_solicitud|      tema_solicitud|edad| estatus|         alcaldia|       colonia_datos|\n",
      "+---------------+--------------+--------------------+----+--------+-----------------+--------------------+\n",
      "|     2019-06-02|      16:50:47|           ALUMBRADO|  29|ATENDIDO|       CUAUHTEMOC|      ROMA NORTE III|\n",
      "|     2019-06-02|      23:30:08|       FALTA DE AGUA|  50|ATENDIDO|               NA|                  NA|\n",
      "|     2019-06-02|      17:28:06|      MEDIO AMBIENTE|  19|ATENDIDO|               NA|                  NA|\n",
      "|     2019-06-02|      14:40:34|        FUGA DE AGUA|  38|ATENDIDO|          TLALPAN|FLORESTA-PRADO-VE...|\n",
      "|     2019-06-02|      17:33:25|MANTENIMIENTO VÍA...|  71|ATENDIDO|       IZTAPALAPA|          MODELO (U)|\n",
      "|     2019-06-02|      15:17:44|              BACHEO|  66|ATENDIDO|         COYOACAN|  AJUSCO HUAYAMILPAS|\n",
      "|     2019-06-02|      17:40:36|         WIFI GRATIS|  19|ATENDIDO|               NA|                  NA|\n",
      "|     2019-06-02|      15:25:26|           DESAZOLVE|  67|ATENDIDO|         COYOACAN|PEDREGAL DE SANTA...|\n",
      "|     2019-06-02|      17:45:06|      MEDIO AMBIENTE|   0|ATENDIDO|               NA|                  NA|\n",
      "|     2019-06-02|      15:36:18|           ASESORIAS|  70|ATENDIDO|               NA|                  NA|\n",
      "|     2019-06-02|      17:50:28|QUEJA DE TRANSPOR...|  29|ATENDIDO|GUSTAVO A. MADERO|SAN JUAN Y GUADAL...|\n",
      "|     2019-06-02|      15:49:21|VEHÍCULO ABANDONA...|  56|ATENDIDO|               NA|                  NA|\n",
      "|     2019-06-02|      18:04:28|QUEJAS Y DEMANDAS...|  39|ATENDIDO|               NA|                  NA|\n",
      "|     2019-06-02|      15:58:50|VEHÍCULO ABANDONA...|  32|ATENDIDO|   ALVARO OBREGON|   VILLA PROGRESISTA|\n",
      "|     2019-06-02|      19:50:17|       FALTA DE AGUA|  54|ATENDIDO|               NA|                  NA|\n",
      "|     2019-06-02|      16:06:32|SEGURIDAD PÚBLICA...|  64|ATENDIDO|               NA|                  NA|\n",
      "|     2019-06-02|      19:59:01|MANTENIMIENTO DE ...|  54| TURNADO|               NA|                  NA|\n",
      "|     2019-06-02|      16:26:48|       FALTA DE AGUA|  38|ATENDIDO|          TLALPAN|AMPLIACION MIGUEL...|\n",
      "|     2019-06-02|      20:14:07|QUEJA DE TRANSPOR...|  28|ATENDIDO|               NA|                  NA|\n",
      "|     2019-06-02|      20:27:10|         INFORMACIÓN|  23|ATENDIDO|               NA|                  NA|\n",
      "+---------------+--------------+--------------------+----+--------+-----------------+--------------------+\n",
      "only showing top 20 rows\n",
      "\n"
     ]
    }
   ],
   "source": [
    "datos \\\n",
    "    .select(['fecha_solicitud','hora_solicitud','tema_solicitud','edad','estatus','alcaldia','colonia_datos']) \\\n",
    "    .filter('sexo = \"FEMENINO\"') \\\n",
    "    .orderBy('fecha_solicitud') \\\n",
    "    .show()"
   ]
  },
  {
   "cell_type": "code",
   "execution_count": 13,
   "id": "3a723387-2d9d-469c-b3af-bdf9c34dbbdf",
   "metadata": {},
   "outputs": [
    {
     "name": "stdout",
     "output_type": "stream",
     "text": [
      "root\n",
      " |-- fecha_solicitud: date (nullable = true)\n",
      " |-- hora_solicitud: string (nullable = true)\n",
      " |-- tema_solicitud: string (nullable = true)\n",
      " |-- sexo: string (nullable = true)\n",
      " |-- edad: float (nullable = true)\n",
      " |-- estatus: string (nullable = true)\n",
      " |-- alcaldia: string (nullable = true)\n",
      " |-- colonia_datos: string (nullable = true)\n",
      " |-- latitud: double (nullable = true)\n",
      " |-- longitud: double (nullable = true)\n",
      "\n",
      "+---------------+--------------+--------------------+---------------+----+--------+--------+-------------+-------+--------+\n",
      "|fecha_solicitud|hora_solicitud|      tema_solicitud|           sexo|edad| estatus|alcaldia|colonia_datos|latitud|longitud|\n",
      "+---------------+--------------+--------------------+---------------+----+--------+--------+-------------+-------+--------+\n",
      "|     2020-01-11|      00:01:00|        FUGA DE AGUA|NO ESPECIFICADO|NULL|ATENDIDO|      NA|           NA|    0.0|     0.0|\n",
      "|     2020-01-28|      00:01:00|VENTA DE ALCOHOL ...|NO ESPECIFICADO|NULL|ATENDIDO|      NA|           NA|    0.0|     0.0|\n",
      "|     2020-01-10|      00:01:00|TRAMITES / INFO V...|NO ESPECIFICADO|NULL|ATENDIDO|      NA|           NA|    0.0|     0.0|\n",
      "|     2020-01-24|      00:01:00|MANTENIMIENTO DRE...|NO ESPECIFICADO|NULL|ATENDIDO|      NA|           NA|    0.0|     0.0|\n",
      "|     2020-01-04|      00:01:00|SOLICITUD DE VIGI...|NO ESPECIFICADO|NULL|ATENDIDO|      NA|           NA|    0.0|     0.0|\n",
      "|     2020-01-20|      00:01:00|      ALERTA SISMICA|NO ESPECIFICADO|NULL|ATENDIDO|      NA|           NA|    0.0|     0.0|\n",
      "|     2020-01-21|      00:01:00|VENTA DE ALCOHOL ...|NO ESPECIFICADO|NULL|ATENDIDO|      NA|           NA|    0.0|     0.0|\n",
      "|     2020-01-13|      00:01:00|RETIRO CASCAJO, E...|       FEMENINO|NULL|ATENDIDO|      NA|           NA|    0.0|     0.0|\n",
      "|     2020-03-26|      00:03:00|SOLICITUD/SEGURO ...|NO ESPECIFICADO|NULL|ATENDIDO|      NA|           NA|    0.0|     0.0|\n",
      "|     2020-02-04|      00:02:00|       FALTA DE AGUA|NO ESPECIFICADO|NULL|ATENDIDO|      NA|           NA|    0.0|     0.0|\n",
      "|     2020-02-19|      00:02:00|TRAMITES / INFO V...|NO ESPECIFICADO|NULL|ATENDIDO|      NA|           NA|    0.0|     0.0|\n",
      "|     2020-02-26|      00:02:00|SOLICITUD DE VIGI...|NO ESPECIFICADO|NULL|ATENDIDO|      NA|           NA|    0.0|     0.0|\n",
      "|     2020-03-16|      00:03:00|               COVID|NO ESPECIFICADO|NULL|ATENDIDO|      NA|           NA|    0.0|     0.0|\n",
      "|     2020-02-09|      00:02:00|           ALUMBRADO|NO ESPECIFICADO|NULL|ATENDIDO|      NA|           NA|    0.0|     0.0|\n",
      "|     2020-03-01|      00:03:00|RETIRO CASCAJO, E...|NO ESPECIFICADO|NULL|ATENDIDO|      NA|           NA|    0.0|     0.0|\n",
      "|     2020-03-09|      00:03:00|MANTENIMIENTO VÍA...|NO ESPECIFICADO|NULL| TURNADO|      NA|           NA|    0.0|     0.0|\n",
      "|     2020-01-20|      00:01:00|      ALERTA SISMICA|       FEMENINO|NULL|ATENDIDO|      NA|           NA|    0.0|     0.0|\n",
      "|     2020-02-07|      00:02:00|VEHÍCULO ABANDONA...|NO ESPECIFICADO|NULL|ATENDIDO|      NA|           NA|    0.0|     0.0|\n",
      "|     2020-03-13|      00:03:00|        FUGA DE AGUA|NO ESPECIFICADO|NULL|ATENDIDO|      NA|           NA|    0.0|     0.0|\n",
      "|     2020-03-25|      00:03:00|               COVID|NO ESPECIFICADO|NULL|ATENDIDO|      NA|           NA|    0.0|     0.0|\n",
      "+---------------+--------------+--------------------+---------------+----+--------+--------+-------------+-------+--------+\n",
      "only showing top 20 rows\n",
      "\n"
     ]
    }
   ],
   "source": [
    "#Transformar columnas (cast)\n",
    "datos = datos.withColumn(\"fecha_solicitud\", to_date(col(\"fecha_solicitud\"), \"yyyy-MM-dd\")) \\\n",
    "        .withColumn(\"hora_solicitud\", date_format(col(\"fecha_solicitud\"), \"HH:MM:SS\")) \\\n",
    "        .withColumn(\"edad\", col(\"edad\").cast(FloatType())) \\\n",
    "        .withColumn(\"latitud\", col(\"latitud\").cast(DoubleType())) \\\n",
    "        .withColumn(\"longitud\", col(\"longitud\").cast(DoubleType())) \n",
    "\n",
    "datos.printSchema()\n",
    "datos.show()"
   ]
  },
  {
   "cell_type": "code",
   "execution_count": 14,
   "id": "0e737f96-c802-46b0-9fbb-c542d7a021d5",
   "metadata": {},
   "outputs": [
    {
     "name": "stdout",
     "output_type": "stream",
     "text": [
      "+---------------+--------------+--------------+----+-------+-------+--------+-------------+-------+--------+\n",
      "|fecha_solicitud|hora_solicitud|tema_solicitud|sexo|   edad|estatus|alcaldia|colonia_datos|latitud|longitud|\n",
      "+---------------+--------------+--------------+----+-------+-------+--------+-------------+-------+--------+\n",
      "|              0|             0|             0|   0|1402897|      0|       0|            0| 682509|  431500|\n",
      "+---------------+--------------+--------------+----+-------+-------+--------+-------------+-------+--------+\n",
      "\n"
     ]
    }
   ],
   "source": [
    "#Contar nulos por columna\n",
    "datos.select([sum(col(c).isNull().cast(\"int\")).alias(c) for c in datos.columns]).show()"
   ]
  },
  {
   "cell_type": "code",
   "execution_count": 15,
   "id": "3189b259-a19b-4221-aa55-93100abf5146",
   "metadata": {},
   "outputs": [
    {
     "name": "stdout",
     "output_type": "stream",
     "text": [
      "root\n",
      " |-- edad: float (nullable = true)\n",
      " |-- estatus: string (nullable = true)\n",
      " |-- tema_solicitud: string (nullable = true)\n",
      " |-- anio: integer (nullable = true)\n",
      " |-- mes: integer (nullable = true)\n",
      " |-- dia: integer (nullable = true)\n",
      " |-- semana: integer (nullable = true)\n",
      " |-- nombre_mes: string (nullable = true)\n",
      " |-- nombre_dia: string (nullable = true)\n",
      " |-- hora: integer (nullable = true)\n",
      " |-- minuto: integer (nullable = true)\n",
      " |-- segundo: integer (nullable = true)\n",
      "\n"
     ]
    }
   ],
   "source": [
    "from pyspark.sql.functions import hour, minute, second, year, month, dayofmonth, weekofyear\n",
    "colfs = \"fecha_solicitud\"\n",
    "colhs = \"hora_solicitud\"\n",
    "\n",
    "datos_tiempo = datos.select(\n",
    "    col(\"edad\"), col(\"estatus\"), col(\"tema_solicitud\"),\n",
    "    year(col(colfs)).alias(\"anio\"), \n",
    "    month(col(colfs)).alias(\"mes\"),\n",
    "    dayofmonth(col(colfs)).alias(\"dia\"),\n",
    "    weekofyear(col(colfs)).alias(\"semana\"),\n",
    "    date_format(col(colfs), \"MMMM\").alias(\"nombre_mes\"),\n",
    "    date_format(col(colfs), \"EEEE\").alias(\"nombre_dia\"),\n",
    "    hour(col(colhs)).alias(\"hora\"),\n",
    "    minute(col(colhs)).alias(\"minuto\"),    \n",
    "    second(col(colhs)).alias(\"segundo\")\n",
    ")\n",
    "\n",
    "datos_tiempo.printSchema()"
   ]
  },
  {
   "cell_type": "code",
   "execution_count": 16,
   "id": "d6dfa704-187e-4e50-b593-752afb23ec36",
   "metadata": {},
   "outputs": [
    {
     "name": "stdout",
     "output_type": "stream",
     "text": [
      "+----+--------+---------------------------------------+----+---+---+------+----------+----------+----+------+-------+\n",
      "|edad|estatus |tema_solicitud                         |anio|mes|dia|semana|nombre_mes|nombre_dia|hora|minuto|segundo|\n",
      "+----+--------+---------------------------------------+----+---+---+------+----------+----------+----+------+-------+\n",
      "|NULL|ATENDIDO|FUGA DE AGUA                           |2020|1  |11 |2     |January   |Saturday  |0   |1     |0      |\n",
      "|NULL|ATENDIDO|VENTA DE ALCOHOL / DROGA               |2020|1  |28 |5     |January   |Tuesday   |0   |1     |0      |\n",
      "|NULL|ATENDIDO|TRAMITES / INFO VEHICULAR              |2020|1  |10 |2     |January   |Friday    |0   |1     |0      |\n",
      "|NULL|ATENDIDO|MANTENIMIENTO DRENAJE                  |2020|1  |24 |4     |January   |Friday    |0   |1     |0      |\n",
      "|NULL|ATENDIDO|SOLICITUD DE VIGILANCIA                |2020|1  |4  |1     |January   |Saturday  |0   |1     |0      |\n",
      "|NULL|ATENDIDO|ALERTA SISMICA                         |2020|1  |20 |4     |January   |Monday    |0   |1     |0      |\n",
      "|NULL|ATENDIDO|VENTA DE ALCOHOL / DROGA               |2020|1  |21 |4     |January   |Tuesday   |0   |1     |0      |\n",
      "|NULL|ATENDIDO|RETIRO CASCAJO, ESCOMBRO, AZOLVE, RAMAS|2020|1  |13 |3     |January   |Monday    |0   |1     |0      |\n",
      "|NULL|ATENDIDO|SOLICITUD/SEGURO DE DESEMPLEO          |2020|3  |26 |13    |March     |Thursday  |0   |3     |0      |\n",
      "|NULL|ATENDIDO|FALTA DE AGUA                          |2020|2  |4  |6     |February  |Tuesday   |0   |2     |0      |\n",
      "|NULL|ATENDIDO|TRAMITES / INFO VEHICULAR              |2020|2  |19 |8     |February  |Wednesday |0   |2     |0      |\n",
      "|NULL|ATENDIDO|SOLICITUD DE VIGILANCIA                |2020|2  |26 |9     |February  |Wednesday |0   |2     |0      |\n",
      "|NULL|ATENDIDO|COVID                                  |2020|3  |16 |12    |March     |Monday    |0   |3     |0      |\n",
      "|NULL|ATENDIDO|ALUMBRADO                              |2020|2  |9  |6     |February  |Sunday    |0   |2     |0      |\n",
      "|NULL|ATENDIDO|RETIRO CASCAJO, ESCOMBRO, AZOLVE, RAMAS|2020|3  |1  |9     |March     |Sunday    |0   |3     |0      |\n",
      "|NULL|TURNADO |MANTENIMIENTO VÍA PÚBLICA              |2020|3  |9  |11    |March     |Monday    |0   |3     |0      |\n",
      "|NULL|ATENDIDO|ALERTA SISMICA                         |2020|1  |20 |4     |January   |Monday    |0   |1     |0      |\n",
      "|NULL|ATENDIDO|VEHÍCULO ABANDONADO / CHATARRIZACIÓN   |2020|2  |7  |6     |February  |Friday    |0   |2     |0      |\n",
      "|NULL|ATENDIDO|FUGA DE AGUA                           |2020|3  |13 |11    |March     |Friday    |0   |3     |0      |\n",
      "|NULL|ATENDIDO|COVID                                  |2020|3  |25 |13    |March     |Wednesday |0   |3     |0      |\n",
      "+----+--------+---------------------------------------+----+---+---+------+----------+----------+----+------+-------+\n",
      "only showing top 20 rows\n",
      "\n"
     ]
    }
   ],
   "source": [
    "datos_tiempo.show(truncate=False)"
   ]
  },
  {
   "cell_type": "code",
   "execution_count": 17,
   "id": "1d55b227-e065-49b0-a0d9-8a95e9008d6d",
   "metadata": {},
   "outputs": [
    {
     "data": {
      "text/plain": [
       "2323089"
      ]
     },
     "execution_count": 17,
     "metadata": {},
     "output_type": "execute_result"
    }
   ],
   "source": [
    "datos_tiempo.count()"
   ]
  },
  {
   "cell_type": "code",
   "execution_count": 18,
   "id": "4f76fb51-860d-414c-9bc5-399a262413a4",
   "metadata": {},
   "outputs": [
    {
     "name": "stdout",
     "output_type": "stream",
     "text": [
      "+-------+------------------+--------------------+--------------------+------------------+------------------+-----------------+-----------------+----------+----------+-------+------------------+-------+\n",
      "|summary|              edad|             estatus|      tema_solicitud|              anio|               mes|              dia|           semana|nombre_mes|nombre_dia|   hora|            minuto|segundo|\n",
      "+-------+------------------+--------------------+--------------------+------------------+------------------+-----------------+-----------------+----------+----------+-------+------------------+-------+\n",
      "|  count|            920192|             2323089|             2323089|           2323089|           2323089|          2323089|          2323089|   2323089|   2323089|2323089|           2323089|2323089|\n",
      "|   mean| 39.27146399881764|                18.0|                NULL|2021.5103188039718|6.4875654785503265|15.85532538787795|26.43079107171529|      NULL|      NULL|    0.0|6.4875654785503265|    0.0|\n",
      "| stddev|27.238747481977125|                 0.0|                NULL|  1.37871177376573|3.4064677225068465| 8.65088685805828|14.82067661213932|      NULL|      NULL|    0.0|3.4064677225068465|    0.0|\n",
      "|    min|               0.0|           1 DE MAYO|AGUA POTABLE Y SE...|              2019|                 1|                1|                1|     April|    Friday|      0|                 1|      0|\n",
      "|    max|           16090.0|ZU STA MARTHA ACA...|         WIFI GRATIS|              2024|                12|               31|               53| September| Wednesday|      0|                12|      0|\n",
      "+-------+------------------+--------------------+--------------------+------------------+------------------+-----------------+-----------------+----------+----------+-------+------------------+-------+\n",
      "\n"
     ]
    }
   ],
   "source": [
    "#estadisticos descriptivos del DF\n",
    "datos_tiempo.describe().show()"
   ]
  },
  {
   "cell_type": "code",
   "execution_count": 19,
   "id": "1a9bde4e-4040-4331-9f24-60ba1159883d",
   "metadata": {},
   "outputs": [
    {
     "name": "stdout",
     "output_type": "stream",
     "text": [
      "+-------+------------------+------------------+------------------+-----------------+-------+------------------+-------+-----------------+\n",
      "|summary|              edad|              anio|               mes|              dia|   hora|            minuto|segundo|           semana|\n",
      "+-------+------------------+------------------+------------------+-----------------+-------+------------------+-------+-----------------+\n",
      "|  count|            920192|           2323089|           2323089|          2323089|2323089|           2323089|2323089|          2323089|\n",
      "|   mean| 39.27146399881764|2021.5103188039718|6.4875654785503265|15.85532538787795|    0.0|6.4875654785503265|    0.0|26.43079107171529|\n",
      "| stddev|27.238747481977125|  1.37871177376573|3.4064677225068465| 8.65088685805828|    0.0|3.4064677225068465|    0.0|14.82067661213932|\n",
      "|    min|               0.0|              2019|                 1|                1|      0|                 1|      0|                1|\n",
      "|    max|           16090.0|              2024|                12|               31|      0|                12|      0|               53|\n",
      "+-------+------------------+------------------+------------------+-----------------+-------+------------------+-------+-----------------+\n",
      "\n"
     ]
    }
   ],
   "source": [
    "#Estadisticos descriptivos de algunas columnas del DataFrame\n",
    "columnas = ['edad', 'anio', 'mes', 'dia', 'hora', 'minuto', 'segundo', 'semana']\n",
    "datos_tiempo.select(columnas).describe().show()"
   ]
  },
  {
   "cell_type": "code",
   "execution_count": 20,
   "id": "e4d49487-adad-44a1-a1d6-6c4085a6688d",
   "metadata": {},
   "outputs": [
    {
     "data": {
      "text/html": [
       "<div>\n",
       "<style scoped>\n",
       "    .dataframe tbody tr th:only-of-type {\n",
       "        vertical-align: middle;\n",
       "    }\n",
       "\n",
       "    .dataframe tbody tr th {\n",
       "        vertical-align: top;\n",
       "    }\n",
       "\n",
       "    .dataframe thead th {\n",
       "        text-align: right;\n",
       "    }\n",
       "</style>\n",
       "<table border=\"1\" class=\"dataframe\">\n",
       "  <thead>\n",
       "    <tr style=\"text-align: right;\">\n",
       "      <th></th>\n",
       "      <th>0</th>\n",
       "      <th>1</th>\n",
       "      <th>2</th>\n",
       "      <th>3</th>\n",
       "      <th>4</th>\n",
       "    </tr>\n",
       "  </thead>\n",
       "  <tbody>\n",
       "    <tr>\n",
       "      <th>summary</th>\n",
       "      <td>count</td>\n",
       "      <td>mean</td>\n",
       "      <td>stddev</td>\n",
       "      <td>min</td>\n",
       "      <td>max</td>\n",
       "    </tr>\n",
       "    <tr>\n",
       "      <th>edad</th>\n",
       "      <td>920192</td>\n",
       "      <td>39.27146399881764</td>\n",
       "      <td>27.238747481977125</td>\n",
       "      <td>0.0</td>\n",
       "      <td>16090.0</td>\n",
       "    </tr>\n",
       "    <tr>\n",
       "      <th>anio</th>\n",
       "      <td>2323089</td>\n",
       "      <td>2021.5103188039718</td>\n",
       "      <td>1.37871177376573</td>\n",
       "      <td>2019</td>\n",
       "      <td>2024</td>\n",
       "    </tr>\n",
       "    <tr>\n",
       "      <th>mes</th>\n",
       "      <td>2323089</td>\n",
       "      <td>6.4875654785503265</td>\n",
       "      <td>3.4064677225068465</td>\n",
       "      <td>1</td>\n",
       "      <td>12</td>\n",
       "    </tr>\n",
       "    <tr>\n",
       "      <th>dia</th>\n",
       "      <td>2323089</td>\n",
       "      <td>15.85532538787795</td>\n",
       "      <td>8.65088685805828</td>\n",
       "      <td>1</td>\n",
       "      <td>31</td>\n",
       "    </tr>\n",
       "    <tr>\n",
       "      <th>hora</th>\n",
       "      <td>2323089</td>\n",
       "      <td>0.0</td>\n",
       "      <td>0.0</td>\n",
       "      <td>0</td>\n",
       "      <td>0</td>\n",
       "    </tr>\n",
       "    <tr>\n",
       "      <th>minuto</th>\n",
       "      <td>2323089</td>\n",
       "      <td>6.4875654785503265</td>\n",
       "      <td>3.4064677225068465</td>\n",
       "      <td>1</td>\n",
       "      <td>12</td>\n",
       "    </tr>\n",
       "    <tr>\n",
       "      <th>segundo</th>\n",
       "      <td>2323089</td>\n",
       "      <td>0.0</td>\n",
       "      <td>0.0</td>\n",
       "      <td>0</td>\n",
       "      <td>0</td>\n",
       "    </tr>\n",
       "    <tr>\n",
       "      <th>semana</th>\n",
       "      <td>2323089</td>\n",
       "      <td>26.43079107171529</td>\n",
       "      <td>14.82067661213932</td>\n",
       "      <td>1</td>\n",
       "      <td>53</td>\n",
       "    </tr>\n",
       "  </tbody>\n",
       "</table>\n",
       "</div>"
      ],
      "text/plain": [
       "               0                   1                   2     3        4\n",
       "summary    count                mean              stddev   min      max\n",
       "edad      920192   39.27146399881764  27.238747481977125   0.0  16090.0\n",
       "anio     2323089  2021.5103188039718    1.37871177376573  2019     2024\n",
       "mes      2323089  6.4875654785503265  3.4064677225068465     1       12\n",
       "dia      2323089   15.85532538787795    8.65088685805828     1       31\n",
       "hora     2323089                 0.0                 0.0     0        0\n",
       "minuto   2323089  6.4875654785503265  3.4064677225068465     1       12\n",
       "segundo  2323089                 0.0                 0.0     0        0\n",
       "semana   2323089   26.43079107171529   14.82067661213932     1       53"
      ]
     },
     "execution_count": 20,
     "metadata": {},
     "output_type": "execute_result"
    }
   ],
   "source": [
    "datos_tiempo.select(columnas).describe().toPandas().T"
   ]
  },
  {
   "cell_type": "code",
   "execution_count": 21,
   "id": "bbec2fae-207e-42e2-9085-93b1f5c16e17",
   "metadata": {},
   "outputs": [
    {
     "name": "stdout",
     "output_type": "stream",
     "text": [
      "+--------------------------------+\n",
      "|tema_solicitud                  |\n",
      "+--------------------------------+\n",
      "|VERIFICACIÓN ADMINISTRATIVA     |\n",
      "|BACHEO                          |\n",
      "|REPARACION DE EMPEDRADO         |\n",
      "|BECAS                           |\n",
      "|FALTA DE AGUA                   |\n",
      "|MERCADOS PÚBLICOS, TIANGUIS     |\n",
      "|REINSCRIPCION AL CENDI          |\n",
      "|LLAVE CDMX                      |\n",
      "|ASESORÍA DE TERCEROS ACREDITADOS|\n",
      "|QUEJAS Y DENUNCIAS              |\n",
      "|WIFI GRATIS                     |\n",
      "|REGISTRO CIVIL                  |\n",
      "|CONSTRUCCIONES Y OBRAS          |\n",
      "|ALARMAS VECINALES               |\n",
      "|SOLICITUD/SEGURO DE DESEMPLEO   |\n",
      "|AVISO PREVIO DE MANIFESTACIONES |\n",
      "|SOLICITUD DE VIGILANCIA         |\n",
      "|FOMENTO ECONÓMICO Y EMPLEO      |\n",
      "|PODA / RETIRO ARBOL             |\n",
      "|INFORMACIÓN SOBRE TRÁMITES      |\n",
      "+--------------------------------+\n",
      "only showing top 20 rows\n",
      "\n"
     ]
    }
   ],
   "source": [
    "#Ver valores únicos\n",
    "datos_tiempo.select(\"tema_solicitud\").distinct().count()\n",
    "datos_tiempo.select(\"tema_solicitud\").distinct().show(truncate=False)"
   ]
  },
  {
   "cell_type": "code",
   "execution_count": 22,
   "id": "b45ae698-9f40-4540-bad8-e7882153c76a",
   "metadata": {},
   "outputs": [
    {
     "name": "stdout",
     "output_type": "stream",
     "text": [
      "+----------------------------------------+\n",
      "|tema_solicitud                          |\n",
      "+----------------------------------------+\n",
      "|AGUA POTABLE Y SERVICIOS HIDRÁULICOS    |\n",
      "|ALARMAS VECINALES                       |\n",
      "|ALERTA SISMICA                          |\n",
      "|ALUMBRADO                               |\n",
      "|ANUNCIOS                                |\n",
      "|APOYO SERVICIOS FUNERARIOS              |\n",
      "|ASESORIAS                               |\n",
      "|ASESORÍA DE TERCEROS ACREDITADOS        |\n",
      "|ASESORÍA JURÍDICA                       |\n",
      "|ASISTENCIA SOCIAL                       |\n",
      "|ASISTENCIA VETERINARIA                  |\n",
      "|AVISO PREVIO DE MANIFESTACIONES         |\n",
      "|BACHEO                                  |\n",
      "|BALIZAMIENTO                            |\n",
      "|BARBECHO / CHAPONEO                     |\n",
      "|BECAS                                   |\n",
      "|CHATARRIZACIÓN                          |\n",
      "|CONSTRUCCIONES Y OBRAS                  |\n",
      "|COVID                                   |\n",
      "|CRÉDITO DE VIVIENDA                     |\n",
      "|CULTURA Y RECREACIÓN                    |\n",
      "|DEPORTE                                 |\n",
      "|DESAZOLVE                               |\n",
      "|ESPECTÁCULOS PÚBLICOS                   |\n",
      "|FALLA DE ALTAVOZ, ALERTA SÍSMICA        |\n",
      "|FALTA DE AGUA                           |\n",
      "|FOMENTO ECONÓMICO Y EMPLEO              |\n",
      "|FUGA DE AGUA                            |\n",
      "|INDUSTRIA                               |\n",
      "|INFORMACIÓN                             |\n",
      "|INFORMACIÓN SOBRE TRÁMITES              |\n",
      "|LIMPIEZA VIA PUBLICA                    |\n",
      "|LLAVE CDMX                              |\n",
      "|MALTRATO INFANTIL                       |\n",
      "|MANTENIMIENTO DE COLADERA / ALCANTARILLA|\n",
      "|MANTENIMIENTO DRENAJE                   |\n",
      "|MANTENIMIENTO PARQUE / AREA VERDE       |\n",
      "|MANTENIMIENTO SEMÁFOROS                 |\n",
      "|MANTENIMIENTO VÍA PÚBLICA               |\n",
      "|MEDIO AMBIENTE                          |\n",
      "|MERCADOS PÚBLICOS, TIANGUIS             |\n",
      "|OTRO                                    |\n",
      "|PAVIMENTACION                           |\n",
      "|PODA / RETIRO ARBOL                     |\n",
      "|POSTES C5                               |\n",
      "|PROGRAMA APOYO A CUIDADORES             |\n",
      "|PROTECCION CIVIL                        |\n",
      "|PRUEBA BARRIO ADENTRO                   |\n",
      "|QUEJA DE TRANSPORTE PUBLICO             |\n",
      "|QUEJA FUNCIONARIO                       |\n",
      "|QUEJAS Y DEMANDAS VECINALES             |\n",
      "|QUEJAS Y DENUNCIAS                      |\n",
      "|RECOLECCIÓN BASURA                      |\n",
      "|RECONSTRUCCIÓN                          |\n",
      "|REGISTRO CIVIL                          |\n",
      "|REGISTRO FERIAS INDIGENAS               |\n",
      "|REGISTRO PÚBLICO DE LA PROPIEDAD        |\n",
      "|REINSCRIPCION AL CENDI                  |\n",
      "|REPARACION DE EMPEDRADO                 |\n",
      "|RETIRO AMBULANTE                        |\n",
      "|RETIRO CASCAJO, ESCOMBRO, AZOLVE, RAMAS |\n",
      "|SEGURIDAD PÚBLICA Y VIALIDAD            |\n",
      "|SERVICIOS LEGALES Y NOTARÍAS            |\n",
      "|SERVICIOS URBANOS, LIMPIA               |\n",
      "|SOLICITUD DE AUDIENCIA                  |\n",
      "|SOLICITUD DE CONCERTACIÓN VECINAL       |\n",
      "|SOLICITUD DE VIGILANCIA                 |\n",
      "|SOLICITUD DE VOLANTEO                   |\n",
      "|SOLICITUD ESTUDIO SOCIOECONOMICO        |\n",
      "|SOLICITUD EVALUACIÓN DE RIESGO          |\n",
      "|SOLICITUD/SEGURO DE DESEMPLEO           |\n",
      "|TIERRA, PREDIOS Y USO DE SUELO          |\n",
      "|TRAMITES / INFO VEHICULAR               |\n",
      "|USO DE SUELO                            |\n",
      "|VEHÍCULO ABANDONADO / CHATARRIZACIÓN    |\n",
      "|VEHÍCULOS AUTOMOTORES Y TAXIS           |\n",
      "|VENTA DE ALCOHOL / DROGA                |\n",
      "|VERIFICACIONES                          |\n",
      "|VERIFICACIÓN ADMINISTRATIVA             |\n",
      "|WIFI GRATIS                             |\n",
      "+----------------------------------------+\n",
      "\n"
     ]
    }
   ],
   "source": [
    "datos_tiempo.select(\"tema_solicitud\").distinct().orderBy(\"tema_solicitud\").show(100, truncate = False)"
   ]
  },
  {
   "cell_type": "code",
   "execution_count": 23,
   "id": "d1ff6c35-34da-4bbe-8fba-1cdde2a0ec84",
   "metadata": {},
   "outputs": [
    {
     "name": "stdout",
     "output_type": "stream",
     "text": [
      "+----------------------------------------+------+\n",
      "|tema_solicitud                          |count |\n",
      "+----------------------------------------+------+\n",
      "|AGUA POTABLE Y SERVICIOS HIDRÁULICOS    |17573 |\n",
      "|ALARMAS VECINALES                       |1410  |\n",
      "|ALERTA SISMICA                          |44182 |\n",
      "|ALUMBRADO                               |259590|\n",
      "|ANUNCIOS                                |848   |\n",
      "|APOYO SERVICIOS FUNERARIOS              |164   |\n",
      "|ASESORIAS                               |7489  |\n",
      "|ASESORÍA DE TERCEROS ACREDITADOS        |407   |\n",
      "|ASESORÍA JURÍDICA                       |3522  |\n",
      "|ASISTENCIA SOCIAL                       |17254 |\n",
      "|ASISTENCIA VETERINARIA                  |1747  |\n",
      "|AVISO PREVIO DE MANIFESTACIONES         |149   |\n",
      "|BACHEO                                  |96571 |\n",
      "|BALIZAMIENTO                            |11881 |\n",
      "|BARBECHO / CHAPONEO                     |22350 |\n",
      "|BECAS                                   |3195  |\n",
      "|CHATARRIZACIÓN                          |2843  |\n",
      "|CONSTRUCCIONES Y OBRAS                  |14131 |\n",
      "|COVID                                   |37983 |\n",
      "|CRÉDITO DE VIVIENDA                     |3647  |\n",
      "|CULTURA Y RECREACIÓN                    |3515  |\n",
      "|DEPORTE                                 |2713  |\n",
      "|DESAZOLVE                               |93337 |\n",
      "|ESPECTÁCULOS PÚBLICOS                   |711   |\n",
      "|FALLA DE ALTAVOZ, ALERTA SÍSMICA        |1568  |\n",
      "|FALTA DE AGUA                           |205785|\n",
      "|FOMENTO ECONÓMICO Y EMPLEO              |2349  |\n",
      "|FUGA DE AGUA                            |109632|\n",
      "|INDUSTRIA                               |91    |\n",
      "|INFORMACIÓN                             |7650  |\n",
      "|INFORMACIÓN SOBRE TRÁMITES              |16533 |\n",
      "|LIMPIEZA VIA PUBLICA                    |16706 |\n",
      "|LLAVE CDMX                              |5473  |\n",
      "|MALTRATO INFANTIL                       |722   |\n",
      "|MANTENIMIENTO DE COLADERA / ALCANTARILLA|54717 |\n",
      "|MANTENIMIENTO DRENAJE                   |25352 |\n",
      "|MANTENIMIENTO PARQUE / AREA VERDE       |21192 |\n",
      "|MANTENIMIENTO SEMÁFOROS                 |8618  |\n",
      "|MANTENIMIENTO VÍA PÚBLICA               |95159 |\n",
      "|MEDIO AMBIENTE                          |6921  |\n",
      "|MERCADOS PÚBLICOS, TIANGUIS             |4813  |\n",
      "|OTRO                                    |303078|\n",
      "|PAVIMENTACION                           |23025 |\n",
      "|PODA / RETIRO ARBOL                     |214579|\n",
      "|POSTES C5                               |2707  |\n",
      "|PROGRAMA APOYO A CUIDADORES             |138   |\n",
      "|PROTECCION CIVIL                        |19733 |\n",
      "|PRUEBA BARRIO ADENTRO                   |5000  |\n",
      "|QUEJA DE TRANSPORTE PUBLICO             |42056 |\n",
      "|QUEJA FUNCIONARIO                       |8162  |\n",
      "|QUEJAS Y DEMANDAS VECINALES             |31342 |\n",
      "|QUEJAS Y DENUNCIAS                      |23063 |\n",
      "|RECOLECCIÓN BASURA                      |37071 |\n",
      "|RECONSTRUCCIÓN                          |1064  |\n",
      "|REGISTRO CIVIL                          |5654  |\n",
      "|REGISTRO FERIAS INDIGENAS               |2117  |\n",
      "|REGISTRO PÚBLICO DE LA PROPIEDAD        |2510  |\n",
      "|REINSCRIPCION AL CENDI                  |4273  |\n",
      "|REPARACION DE EMPEDRADO                 |873   |\n",
      "|RETIRO AMBULANTE                        |9503  |\n",
      "|RETIRO CASCAJO, ESCOMBRO, AZOLVE, RAMAS |75400 |\n",
      "|SEGURIDAD PÚBLICA Y VIALIDAD            |15055 |\n",
      "|SERVICIOS LEGALES Y NOTARÍAS            |1820  |\n",
      "|SERVICIOS URBANOS, LIMPIA               |26670 |\n",
      "|SOLICITUD DE AUDIENCIA                  |1623  |\n",
      "|SOLICITUD DE CONCERTACIÓN VECINAL       |1460  |\n",
      "|SOLICITUD DE VIGILANCIA                 |31986 |\n",
      "|SOLICITUD DE VOLANTEO                   |2391  |\n",
      "|SOLICITUD ESTUDIO SOCIOECONOMICO        |1693  |\n",
      "|SOLICITUD EVALUACIÓN DE RIESGO          |5838  |\n",
      "|SOLICITUD/SEGURO DE DESEMPLEO           |23179 |\n",
      "|TIERRA, PREDIOS Y USO DE SUELO          |4077  |\n",
      "|TRAMITES / INFO VEHICULAR               |46176 |\n",
      "|USO DE SUELO                            |9168  |\n",
      "|VEHÍCULO ABANDONADO / CHATARRIZACIÓN    |36450 |\n",
      "|VEHÍCULOS AUTOMOTORES Y TAXIS           |16172 |\n",
      "|VENTA DE ALCOHOL / DROGA                |12068 |\n",
      "|VERIFICACIONES                          |3660  |\n",
      "|VERIFICACIÓN ADMINISTRATIVA             |40880 |\n",
      "|WIFI GRATIS                             |882   |\n",
      "+----------------------------------------+------+\n",
      "\n"
     ]
    }
   ],
   "source": [
    "datos_tiempo.groupBy([\"tema_solicitud\"])\\\n",
    "    .count()\\\n",
    "    .orderBy(\"tema_solicitud\")\\\n",
    "    .show(100, truncate=False)"
   ]
  },
  {
   "cell_type": "code",
   "execution_count": 24,
   "id": "bb9a91cf-6bd2-4d77-bc11-975b6927f457",
   "metadata": {},
   "outputs": [
    {
     "name": "stdout",
     "output_type": "stream",
     "text": [
      "+----------------------------------------+------+\n",
      "|tema_solicitud                          |count |\n",
      "+----------------------------------------+------+\n",
      "|OTRO                                    |303078|\n",
      "|ALUMBRADO                               |259590|\n",
      "|PODA / RETIRO ARBOL                     |214579|\n",
      "|FALTA DE AGUA                           |205785|\n",
      "|FUGA DE AGUA                            |109632|\n",
      "|BACHEO                                  |96571 |\n",
      "|MANTENIMIENTO VÍA PÚBLICA               |95159 |\n",
      "|DESAZOLVE                               |93337 |\n",
      "|RETIRO CASCAJO, ESCOMBRO, AZOLVE, RAMAS |75400 |\n",
      "|MANTENIMIENTO DE COLADERA / ALCANTARILLA|54717 |\n",
      "|TRAMITES / INFO VEHICULAR               |46176 |\n",
      "|ALERTA SISMICA                          |44182 |\n",
      "|QUEJA DE TRANSPORTE PUBLICO             |42056 |\n",
      "|VERIFICACIÓN ADMINISTRATIVA             |40880 |\n",
      "|COVID                                   |37983 |\n",
      "|RECOLECCIÓN BASURA                      |37071 |\n",
      "|VEHÍCULO ABANDONADO / CHATARRIZACIÓN    |36450 |\n",
      "|SOLICITUD DE VIGILANCIA                 |31986 |\n",
      "|QUEJAS Y DEMANDAS VECINALES             |31342 |\n",
      "|SERVICIOS URBANOS, LIMPIA               |26670 |\n",
      "|MANTENIMIENTO DRENAJE                   |25352 |\n",
      "|SOLICITUD/SEGURO DE DESEMPLEO           |23179 |\n",
      "|QUEJAS Y DENUNCIAS                      |23063 |\n",
      "|PAVIMENTACION                           |23025 |\n",
      "|BARBECHO / CHAPONEO                     |22350 |\n",
      "|MANTENIMIENTO PARQUE / AREA VERDE       |21192 |\n",
      "|PROTECCION CIVIL                        |19733 |\n",
      "|AGUA POTABLE Y SERVICIOS HIDRÁULICOS    |17573 |\n",
      "|ASISTENCIA SOCIAL                       |17254 |\n",
      "|LIMPIEZA VIA PUBLICA                    |16706 |\n",
      "|INFORMACIÓN SOBRE TRÁMITES              |16533 |\n",
      "|VEHÍCULOS AUTOMOTORES Y TAXIS           |16172 |\n",
      "|SEGURIDAD PÚBLICA Y VIALIDAD            |15055 |\n",
      "|CONSTRUCCIONES Y OBRAS                  |14131 |\n",
      "|VENTA DE ALCOHOL / DROGA                |12068 |\n",
      "|BALIZAMIENTO                            |11881 |\n",
      "|RETIRO AMBULANTE                        |9503  |\n",
      "|USO DE SUELO                            |9168  |\n",
      "|MANTENIMIENTO SEMÁFOROS                 |8618  |\n",
      "|QUEJA FUNCIONARIO                       |8162  |\n",
      "|INFORMACIÓN                             |7650  |\n",
      "|ASESORIAS                               |7489  |\n",
      "|MEDIO AMBIENTE                          |6921  |\n",
      "|SOLICITUD EVALUACIÓN DE RIESGO          |5838  |\n",
      "|REGISTRO CIVIL                          |5654  |\n",
      "|LLAVE CDMX                              |5473  |\n",
      "|PRUEBA BARRIO ADENTRO                   |5000  |\n",
      "|MERCADOS PÚBLICOS, TIANGUIS             |4813  |\n",
      "|REINSCRIPCION AL CENDI                  |4273  |\n",
      "|TIERRA, PREDIOS Y USO DE SUELO          |4077  |\n",
      "|VERIFICACIONES                          |3660  |\n",
      "|CRÉDITO DE VIVIENDA                     |3647  |\n",
      "|ASESORÍA JURÍDICA                       |3522  |\n",
      "|CULTURA Y RECREACIÓN                    |3515  |\n",
      "|BECAS                                   |3195  |\n",
      "|CHATARRIZACIÓN                          |2843  |\n",
      "|DEPORTE                                 |2713  |\n",
      "|POSTES C5                               |2707  |\n",
      "|REGISTRO PÚBLICO DE LA PROPIEDAD        |2510  |\n",
      "|SOLICITUD DE VOLANTEO                   |2391  |\n",
      "|FOMENTO ECONÓMICO Y EMPLEO              |2349  |\n",
      "|REGISTRO FERIAS INDIGENAS               |2117  |\n",
      "|SERVICIOS LEGALES Y NOTARÍAS            |1820  |\n",
      "|ASISTENCIA VETERINARIA                  |1747  |\n",
      "|SOLICITUD ESTUDIO SOCIOECONOMICO        |1693  |\n",
      "|SOLICITUD DE AUDIENCIA                  |1623  |\n",
      "|FALLA DE ALTAVOZ, ALERTA SÍSMICA        |1568  |\n",
      "|SOLICITUD DE CONCERTACIÓN VECINAL       |1460  |\n",
      "|ALARMAS VECINALES                       |1410  |\n",
      "|RECONSTRUCCIÓN                          |1064  |\n",
      "|WIFI GRATIS                             |882   |\n",
      "|REPARACION DE EMPEDRADO                 |873   |\n",
      "|ANUNCIOS                                |848   |\n",
      "|MALTRATO INFANTIL                       |722   |\n",
      "|ESPECTÁCULOS PÚBLICOS                   |711   |\n",
      "|ASESORÍA DE TERCEROS ACREDITADOS        |407   |\n",
      "|APOYO SERVICIOS FUNERARIOS              |164   |\n",
      "|AVISO PREVIO DE MANIFESTACIONES         |149   |\n",
      "|PROGRAMA APOYO A CUIDADORES             |138   |\n",
      "|INDUSTRIA                               |91    |\n",
      "+----------------------------------------+------+\n",
      "\n"
     ]
    }
   ],
   "source": [
    "datos_tiempo.groupBy([\"tema_solicitud\"])\\\n",
    "    .count()\\\n",
    "    .orderBy(\"count\",ascending=False)\\\n",
    "    .show(100, truncate=False)"
   ]
  },
  {
   "cell_type": "code",
   "execution_count": 25,
   "id": "a8c0af1a-a85b-4178-91dd-18ba6e6f9890",
   "metadata": {},
   "outputs": [
    {
     "name": "stdout",
     "output_type": "stream",
     "text": [
      "+----+------------------------------------+-----+\n",
      "|anio|tema_solicitud                      |count|\n",
      "+----+------------------------------------+-----+\n",
      "|2019|AGUA POTABLE Y SERVICIOS HIDRÁULICOS|1972 |\n",
      "|2020|AGUA POTABLE Y SERVICIOS HIDRÁULICOS|4487 |\n",
      "|2021|AGUA POTABLE Y SERVICIOS HIDRÁULICOS|11114|\n",
      "|2019|ALARMAS VECINALES                   |233  |\n",
      "|2020|ALARMAS VECINALES                   |205  |\n",
      "|2021|ALARMAS VECINALES                   |110  |\n",
      "|2022|ALARMAS VECINALES                   |549  |\n",
      "|2023|ALARMAS VECINALES                   |301  |\n",
      "|2024|ALARMAS VECINALES                   |12   |\n",
      "|2019|ALERTA SISMICA                      |1900 |\n",
      "|2020|ALERTA SISMICA                      |5379 |\n",
      "|2021|ALERTA SISMICA                      |25801|\n",
      "|2022|ALERTA SISMICA                      |7849 |\n",
      "|2023|ALERTA SISMICA                      |3008 |\n",
      "|2024|ALERTA SISMICA                      |245  |\n",
      "|2019|ALUMBRADO                           |37009|\n",
      "|2020|ALUMBRADO                           |42359|\n",
      "|2021|ALUMBRADO                           |56755|\n",
      "|2022|ALUMBRADO                           |60743|\n",
      "|2023|ALUMBRADO                           |55623|\n",
      "|2024|ALUMBRADO                           |7101 |\n",
      "|2019|ANUNCIOS                            |217  |\n",
      "|2020|ANUNCIOS                            |229  |\n",
      "|2021|ANUNCIOS                            |398  |\n",
      "|2022|ANUNCIOS                            |4    |\n",
      "|2019|APOYO SERVICIOS FUNERARIOS          |30   |\n",
      "|2020|APOYO SERVICIOS FUNERARIOS          |53   |\n",
      "|2021|APOYO SERVICIOS FUNERARIOS          |55   |\n",
      "|2022|APOYO SERVICIOS FUNERARIOS          |18   |\n",
      "|2023|APOYO SERVICIOS FUNERARIOS          |8    |\n",
      "|2019|ASESORIAS                           |640  |\n",
      "|2020|ASESORIAS                           |2226 |\n",
      "|2021|ASESORIAS                           |4623 |\n",
      "|2019|ASESORÍA DE TERCEROS ACREDITADOS    |292  |\n",
      "|2020|ASESORÍA DE TERCEROS ACREDITADOS    |108  |\n",
      "|2021|ASESORÍA DE TERCEROS ACREDITADOS    |4    |\n",
      "|2022|ASESORÍA DE TERCEROS ACREDITADOS    |1    |\n",
      "|2023|ASESORÍA DE TERCEROS ACREDITADOS    |2    |\n",
      "|2019|ASESORÍA JURÍDICA                   |450  |\n",
      "|2020|ASESORÍA JURÍDICA                   |321  |\n",
      "|2021|ASESORÍA JURÍDICA                   |375  |\n",
      "|2022|ASESORÍA JURÍDICA                   |1198 |\n",
      "|2023|ASESORÍA JURÍDICA                   |921  |\n",
      "|2024|ASESORÍA JURÍDICA                   |257  |\n",
      "|2019|ASISTENCIA SOCIAL                   |2380 |\n",
      "|2020|ASISTENCIA SOCIAL                   |3192 |\n",
      "|2021|ASISTENCIA SOCIAL                   |4047 |\n",
      "|2022|ASISTENCIA SOCIAL                   |3379 |\n",
      "|2023|ASISTENCIA SOCIAL                   |3431 |\n",
      "|2024|ASISTENCIA SOCIAL                   |825  |\n",
      "|2019|ASISTENCIA VETERINARIA              |281  |\n",
      "|2020|ASISTENCIA VETERINARIA              |208  |\n",
      "|2021|ASISTENCIA VETERINARIA              |167  |\n",
      "|2022|ASISTENCIA VETERINARIA              |450  |\n",
      "|2023|ASISTENCIA VETERINARIA              |568  |\n",
      "|2024|ASISTENCIA VETERINARIA              |73   |\n",
      "|2019|AVISO PREVIO DE MANIFESTACIONES     |6    |\n",
      "|2020|AVISO PREVIO DE MANIFESTACIONES     |67   |\n",
      "|2021|AVISO PREVIO DE MANIFESTACIONES     |76   |\n",
      "|2019|BACHEO                              |11097|\n",
      "|2020|BACHEO                              |10164|\n",
      "|2021|BACHEO                              |19324|\n",
      "|2022|BACHEO                              |26800|\n",
      "|2023|BACHEO                              |26120|\n",
      "|2024|BACHEO                              |3066 |\n",
      "|2019|BALIZAMIENTO                        |1090 |\n",
      "|2020|BALIZAMIENTO                        |1663 |\n",
      "|2021|BALIZAMIENTO                        |1652 |\n",
      "|2022|BALIZAMIENTO                        |3608 |\n",
      "|2023|BALIZAMIENTO                        |3447 |\n",
      "|2024|BALIZAMIENTO                        |421  |\n",
      "|2019|BARBECHO / CHAPONEO                 |944  |\n",
      "|2020|BARBECHO / CHAPONEO                 |2909 |\n",
      "|2021|BARBECHO / CHAPONEO                 |2881 |\n",
      "|2022|BARBECHO / CHAPONEO                 |5599 |\n",
      "|2023|BARBECHO / CHAPONEO                 |7365 |\n",
      "|2024|BARBECHO / CHAPONEO                 |2652 |\n",
      "|2019|BECAS                               |559  |\n",
      "|2020|BECAS                               |926  |\n",
      "|2021|BECAS                               |928  |\n",
      "|2022|BECAS                               |389  |\n",
      "|2023|BECAS                               |367  |\n",
      "|2024|BECAS                               |26   |\n",
      "|2019|CHATARRIZACIÓN                      |820  |\n",
      "|2020|CHATARRIZACIÓN                      |925  |\n",
      "|2021|CHATARRIZACIÓN                      |1098 |\n",
      "|2019|CONSTRUCCIONES Y OBRAS              |2588 |\n",
      "|2020|CONSTRUCCIONES Y OBRAS              |4673 |\n",
      "|2021|CONSTRUCCIONES Y OBRAS              |6870 |\n",
      "|2019|COVID                               |151  |\n",
      "|2020|COVID                               |27064|\n",
      "|2021|COVID                               |9279 |\n",
      "|2022|COVID                               |1172 |\n",
      "|2023|COVID                               |249  |\n",
      "|2024|COVID                               |68   |\n",
      "|2019|CRÉDITO DE VIVIENDA                 |2178 |\n",
      "|2020|CRÉDITO DE VIVIENDA                 |1207 |\n",
      "|2021|CRÉDITO DE VIVIENDA                 |31   |\n",
      "|2022|CRÉDITO DE VIVIENDA                 |124  |\n",
      "|2023|CRÉDITO DE VIVIENDA                 |105  |\n",
      "+----+------------------------------------+-----+\n",
      "only showing top 100 rows\n",
      "\n"
     ]
    }
   ],
   "source": [
    "datos_tiempo.groupBy([\"anio\", \"tema_solicitud\"])\\\n",
    "    .count()\\\n",
    "    .orderBy([\"tema_solicitud\", \"anio\"],ascending=True)\\\n",
    "    .show(100, truncate=False)"
   ]
  },
  {
   "cell_type": "code",
   "execution_count": 26,
   "id": "b5f55f85-3acc-423e-9cda-469dc20396d1",
   "metadata": {},
   "outputs": [
    {
     "name": "stdout",
     "output_type": "stream",
     "text": [
      "+----+------------------------------------+-----+\n",
      "|anio|tema_solicitud                      |count|\n",
      "+----+------------------------------------+-----+\n",
      "|2021|AGUA POTABLE Y SERVICIOS HIDRÁULICOS|11114|\n",
      "|2020|AGUA POTABLE Y SERVICIOS HIDRÁULICOS|4487 |\n",
      "|2019|AGUA POTABLE Y SERVICIOS HIDRÁULICOS|1972 |\n",
      "|2024|ALARMAS VECINALES                   |12   |\n",
      "|2023|ALARMAS VECINALES                   |301  |\n",
      "|2022|ALARMAS VECINALES                   |549  |\n",
      "|2021|ALARMAS VECINALES                   |110  |\n",
      "|2020|ALARMAS VECINALES                   |205  |\n",
      "|2019|ALARMAS VECINALES                   |233  |\n",
      "|2024|ALERTA SISMICA                      |245  |\n",
      "|2023|ALERTA SISMICA                      |3008 |\n",
      "|2022|ALERTA SISMICA                      |7849 |\n",
      "|2021|ALERTA SISMICA                      |25801|\n",
      "|2020|ALERTA SISMICA                      |5379 |\n",
      "|2019|ALERTA SISMICA                      |1900 |\n",
      "|2024|ALUMBRADO                           |7101 |\n",
      "|2023|ALUMBRADO                           |55623|\n",
      "|2022|ALUMBRADO                           |60743|\n",
      "|2021|ALUMBRADO                           |56755|\n",
      "|2020|ALUMBRADO                           |42359|\n",
      "|2019|ALUMBRADO                           |37009|\n",
      "|2022|ANUNCIOS                            |4    |\n",
      "|2021|ANUNCIOS                            |398  |\n",
      "|2020|ANUNCIOS                            |229  |\n",
      "|2019|ANUNCIOS                            |217  |\n",
      "|2023|APOYO SERVICIOS FUNERARIOS          |8    |\n",
      "|2022|APOYO SERVICIOS FUNERARIOS          |18   |\n",
      "|2021|APOYO SERVICIOS FUNERARIOS          |55   |\n",
      "|2020|APOYO SERVICIOS FUNERARIOS          |53   |\n",
      "|2019|APOYO SERVICIOS FUNERARIOS          |30   |\n",
      "|2021|ASESORIAS                           |4623 |\n",
      "|2020|ASESORIAS                           |2226 |\n",
      "|2019|ASESORIAS                           |640  |\n",
      "|2023|ASESORÍA DE TERCEROS ACREDITADOS    |2    |\n",
      "|2022|ASESORÍA DE TERCEROS ACREDITADOS    |1    |\n",
      "|2021|ASESORÍA DE TERCEROS ACREDITADOS    |4    |\n",
      "|2020|ASESORÍA DE TERCEROS ACREDITADOS    |108  |\n",
      "|2019|ASESORÍA DE TERCEROS ACREDITADOS    |292  |\n",
      "|2024|ASESORÍA JURÍDICA                   |257  |\n",
      "|2023|ASESORÍA JURÍDICA                   |921  |\n",
      "|2022|ASESORÍA JURÍDICA                   |1198 |\n",
      "|2021|ASESORÍA JURÍDICA                   |375  |\n",
      "|2020|ASESORÍA JURÍDICA                   |321  |\n",
      "|2019|ASESORÍA JURÍDICA                   |450  |\n",
      "|2024|ASISTENCIA SOCIAL                   |825  |\n",
      "|2023|ASISTENCIA SOCIAL                   |3431 |\n",
      "|2022|ASISTENCIA SOCIAL                   |3379 |\n",
      "|2021|ASISTENCIA SOCIAL                   |4047 |\n",
      "|2020|ASISTENCIA SOCIAL                   |3192 |\n",
      "|2019|ASISTENCIA SOCIAL                   |2380 |\n",
      "|2024|ASISTENCIA VETERINARIA              |73   |\n",
      "|2023|ASISTENCIA VETERINARIA              |568  |\n",
      "|2022|ASISTENCIA VETERINARIA              |450  |\n",
      "|2021|ASISTENCIA VETERINARIA              |167  |\n",
      "|2020|ASISTENCIA VETERINARIA              |208  |\n",
      "|2019|ASISTENCIA VETERINARIA              |281  |\n",
      "|2021|AVISO PREVIO DE MANIFESTACIONES     |76   |\n",
      "|2020|AVISO PREVIO DE MANIFESTACIONES     |67   |\n",
      "|2019|AVISO PREVIO DE MANIFESTACIONES     |6    |\n",
      "|2024|BACHEO                              |3066 |\n",
      "|2023|BACHEO                              |26120|\n",
      "|2022|BACHEO                              |26800|\n",
      "|2021|BACHEO                              |19324|\n",
      "|2020|BACHEO                              |10164|\n",
      "|2019|BACHEO                              |11097|\n",
      "|2024|BALIZAMIENTO                        |421  |\n",
      "|2023|BALIZAMIENTO                        |3447 |\n",
      "|2022|BALIZAMIENTO                        |3608 |\n",
      "|2021|BALIZAMIENTO                        |1652 |\n",
      "|2020|BALIZAMIENTO                        |1663 |\n",
      "|2019|BALIZAMIENTO                        |1090 |\n",
      "|2024|BARBECHO / CHAPONEO                 |2652 |\n",
      "|2023|BARBECHO / CHAPONEO                 |7365 |\n",
      "|2022|BARBECHO / CHAPONEO                 |5599 |\n",
      "|2021|BARBECHO / CHAPONEO                 |2881 |\n",
      "|2020|BARBECHO / CHAPONEO                 |2909 |\n",
      "|2019|BARBECHO / CHAPONEO                 |944  |\n",
      "|2024|BECAS                               |26   |\n",
      "|2023|BECAS                               |367  |\n",
      "|2022|BECAS                               |389  |\n",
      "|2021|BECAS                               |928  |\n",
      "|2020|BECAS                               |926  |\n",
      "|2019|BECAS                               |559  |\n",
      "|2021|CHATARRIZACIÓN                      |1098 |\n",
      "|2020|CHATARRIZACIÓN                      |925  |\n",
      "|2019|CHATARRIZACIÓN                      |820  |\n",
      "|2021|CONSTRUCCIONES Y OBRAS              |6870 |\n",
      "|2020|CONSTRUCCIONES Y OBRAS              |4673 |\n",
      "|2019|CONSTRUCCIONES Y OBRAS              |2588 |\n",
      "|2024|COVID                               |68   |\n",
      "|2023|COVID                               |249  |\n",
      "|2022|COVID                               |1172 |\n",
      "|2021|COVID                               |9279 |\n",
      "|2020|COVID                               |27064|\n",
      "|2019|COVID                               |151  |\n",
      "|2024|CRÉDITO DE VIVIENDA                 |2    |\n",
      "|2023|CRÉDITO DE VIVIENDA                 |105  |\n",
      "|2022|CRÉDITO DE VIVIENDA                 |124  |\n",
      "|2021|CRÉDITO DE VIVIENDA                 |31   |\n",
      "|2020|CRÉDITO DE VIVIENDA                 |1207 |\n",
      "+----+------------------------------------+-----+\n",
      "only showing top 100 rows\n",
      "\n"
     ]
    }
   ],
   "source": [
    "datos_tiempo.groupBy([\"anio\", \"tema_solicitud\"])\\\n",
    "    .count()\\\n",
    "    .orderBy([\"tema_solicitud\", \"anio\"],ascending=[True, False])\\\n",
    "    .show(100, truncate=False)"
   ]
  },
  {
   "cell_type": "code",
   "execution_count": 27,
   "id": "f2002dc5-b414-4e13-8b02-219b7b06c8b4",
   "metadata": {},
   "outputs": [
    {
     "data": {
      "text/plain": [
       "167403"
      ]
     },
     "execution_count": 27,
     "metadata": {},
     "output_type": "execute_result"
    }
   ],
   "source": [
    "datos_tiempo.filter((datos_tiempo.anio == 2020) & (datos_tiempo.mes <= 6)).count()"
   ]
  },
  {
   "cell_type": "code",
   "execution_count": 28,
   "id": "fd143d63-af11-4002-ae79-62123e73f3b6",
   "metadata": {},
   "outputs": [
    {
     "data": {
      "text/plain": [
       "9103"
      ]
     },
     "execution_count": 28,
     "metadata": {},
     "output_type": "execute_result"
    }
   ],
   "source": [
    "datos_tiempo\\\n",
    "    .filter((datos_tiempo.anio == 2020) & (datos_tiempo.mes <= 6))\\\n",
    "    .filter(datos_tiempo.nombre_dia == 'Sunday')\\\n",
    "    .count()"
   ]
  },
  {
   "cell_type": "code",
   "execution_count": 29,
   "id": "109051d5-8d6c-4cdc-96b2-fecbee29a3a9",
   "metadata": {},
   "outputs": [
    {
     "name": "stdout",
     "output_type": "stream",
     "text": [
      "+----+----+--------+\n",
      "|edad|hora| estatus|\n",
      "+----+----+--------+\n",
      "|43.0|   0|ATENDIDO|\n",
      "|50.0|   0|ATENDIDO|\n",
      "|62.0|   0|ATENDIDO|\n",
      "|39.0|   0|ATENDIDO|\n",
      "|65.0|   0|ATENDIDO|\n",
      "|28.0|   0| TURNADO|\n",
      "|24.0|   0|ATENDIDO|\n",
      "|60.0|   0|ATENDIDO|\n",
      "|47.0|   0|ATENDIDO|\n",
      "|55.0|   0|ATENDIDO|\n",
      "|44.0|   0|ATENDIDO|\n",
      "|40.0|   0|ATENDIDO|\n",
      "|25.0|   0|ATENDIDO|\n",
      "|47.0|   0|ATENDIDO|\n",
      "|45.0|   0|ATENDIDO|\n",
      "|56.0|   0|ATENDIDO|\n",
      "|72.0|   0|ATENDIDO|\n",
      "|44.0|   0|ATENDIDO|\n",
      "|32.0|   0|ATENDIDO|\n",
      "| 1.0|   0|ATENDIDO|\n",
      "+----+----+--------+\n",
      "only showing top 20 rows\n",
      "\n"
     ]
    }
   ],
   "source": [
    "datos_tiempo\\\n",
    "    .select(['edad', 'anio', 'nombre_dia', 'hora', 'estatus'])\\\n",
    "    .filter((datos_tiempo.anio == 2020) & (datos_tiempo.mes <= 6))\\\n",
    "    .filter(datos_tiempo.nombre_dia == 'Sunday')\\\n",
    "    .select(['edad', 'hora', 'estatus'])\\\n",
    "    .filter(datos_tiempo.edad > 0)\\\n",
    "    .show()"
   ]
  },
  {
   "cell_type": "code",
   "execution_count": 30,
   "id": "8112d4a0-b734-45be-adb8-63ec9e0aebe1",
   "metadata": {},
   "outputs": [
    {
     "name": "stdout",
     "output_type": "stream",
     "text": [
      "+----------------------+------+\n",
      "|alcaldia              |count |\n",
      "+----------------------+------+\n",
      "|XOCHIMILCO            |50073 |\n",
      "|LA MAGDALENA CONTRERAS|8593  |\n",
      "|AZCAPOTZALCO          |95189 |\n",
      "|COYOACAN              |86803 |\n",
      "|TLALPAN               |54937 |\n",
      "|NA                    |856239|\n",
      "|TLAHUAC               |17358 |\n",
      "|CUAJIMALPA DE MORELOS |7496  |\n",
      "|BENITO JUAREZ         |35919 |\n",
      "|MILPA ALTA            |2879  |\n",
      "|GUSTAVO A. MADERO     |84008 |\n",
      "|IZTAPALAPA            |39777 |\n",
      "|IZTACALCO             |48242 |\n",
      "|IZTACALCO             |3573  |\n",
      "|CUAUHTEMOC            |113121|\n",
      "|VENUSTIANO CARRANZA   |16713 |\n",
      "|MIGUEL HIDALGO        |97139 |\n",
      "|ALVARO OBREGON        |74117 |\n",
      "|13610                 |322   |\n",
      "|02090                 |606   |\n",
      "+----------------------+------+\n",
      "only showing top 20 rows\n",
      "\n"
     ]
    }
   ],
   "source": [
    "datos.groupBy(\"alcaldia\").count().show(truncate=False)"
   ]
  },
  {
   "cell_type": "code",
   "execution_count": 31,
   "id": "88fe82b5-6d88-48c9-85d4-5ff08aac8f99",
   "metadata": {},
   "outputs": [
    {
     "name": "stdout",
     "output_type": "stream",
     "text": [
      "+----------------------+------------------+\n",
      "|alcaldia              |avg(edad)         |\n",
      "+----------------------+------------------+\n",
      "|XOCHIMILCO            |44.02038006058937 |\n",
      "|LA MAGDALENA CONTRERAS|34.029847908745246|\n",
      "|AZCAPOTZALCO          |41.67182940516274 |\n",
      "|COYOACAN              |39.68447158756239 |\n",
      "|TLALPAN               |39.53971856559237 |\n",
      "|NA                    |46.65257871998707 |\n",
      "|TLAHUAC               |27.59472115793955 |\n",
      "|CUAJIMALPA DE MORELOS |34.80641025641026 |\n",
      "|BENITO JUAREZ         |39.11358659430639 |\n",
      "|MILPA ALTA            |33.32932330827067 |\n",
      "|GUSTAVO A. MADERO     |38.2184632034632  |\n",
      "|IZTAPALAPA            |34.50265691797515 |\n",
      "|IZTACALCO             |41.88917355371901 |\n",
      "|IZTACALCO             |41.80426861009891 |\n",
      "|CUAUHTEMOC            |36.632074396182475|\n",
      "|VENUSTIANO CARRANZA   |34.12961033548656 |\n",
      "|MIGUEL HIDALGO        |4.992536800110057 |\n",
      "|ALVARO OBREGON        |38.06759460386418 |\n",
      "|13610                 |59.971014492753625|\n",
      "|02090                 |56.43181818181818 |\n",
      "|02070                 |56.93684210526316 |\n",
      "|16320                 |50.21568627450981 |\n",
      "|07200                 |42.5              |\n",
      "|07820                 |57.03125          |\n",
      "|04319                 |47.0              |\n",
      "|09560                 |45.2              |\n",
      "|08619                 |NULL              |\n",
      "|57180                 |NULL              |\n",
      "|10309                 |NULL              |\n",
      "|14000                 |53.964516129032255|\n",
      "|13460                 |46.36363636363637 |\n",
      "|07810                 |51.64             |\n",
      "|12003                 |NULL              |\n",
      "|15420                 |NULL              |\n",
      "|08030                 |51.6875           |\n",
      "|14439                 |57.53225806451613 |\n",
      "|05100                 |48.61904761904762 |\n",
      "|03910                 |46.354166666666664|\n",
      "|09620                 |46.666666666666664|\n",
      "|14340                 |53.65909090909091 |\n",
      "|12710                 |NULL              |\n",
      "|14649                 |NULL              |\n",
      "|04300                 |48.7125           |\n",
      "|14654                 |NULL              |\n",
      "|13700                 |52.26190476190476 |\n",
      "|14639                 |NULL              |\n",
      "|13180                 |56.1              |\n",
      "|16654                 |NULL              |\n",
      "|07720                 |47.25             |\n",
      "|09300                 |49.81818181818182 |\n",
      "|11510                 |7.015625          |\n",
      "|09450                 |55.46153846153846 |\n",
      "|07899                 |55.5              |\n",
      "|14267                 |40.0              |\n",
      "|04770                 |46.0              |\n",
      "|04330                 |50.08620689655172 |\n",
      "|13030                 |51.578947368421055|\n",
      "|11600                 |10.5              |\n",
      "|01620                 |56.0              |\n",
      "|40090                 |45.0              |\n",
      "|09140                 |45.25             |\n",
      "|06350                 |52.16410256410256 |\n",
      "|07910                 |36.93333333333333 |\n",
      "|14659                 |57.904761904761905|\n",
      "|15100                 |47.333333333333336|\n",
      "|13520                 |56.333333333333336|\n",
      "|-1                    |NULL              |\n",
      "|09367                 |NULL              |\n",
      "|02730                 |63.38235294117647 |\n",
      "|15210                 |50.92857142857143 |\n",
      "|14460                 |49.81818181818182 |\n",
      "|09330                 |63.833333333333336|\n",
      "|11280                 |5.597222222222222 |\n",
      "|08620                 |50.53846153846154 |\n",
      "|02500                 |52.63636363636363 |\n",
      "|14387                 |54.22222222222222 |\n",
      "|04950                 |57.0              |\n",
      "|07549                 |64.0              |\n",
      "|10710                 |55.8              |\n",
      "|6300                  |NULL              |\n",
      "|04840                 |37.666666666666664|\n",
      "|09160                 |23.0              |\n",
      "|07707                 |53.833333333333336|\n",
      "|14478                 |NULL              |\n",
      "|02440                 |57.76923076923077 |\n",
      "|08720                 |40.88235294117647 |\n",
      "|13640                 |48.629629629629626|\n",
      "|02125                 |64.83333333333333 |\n",
      "|07180                 |43.666666666666664|\n",
      "|01645                 |35.0              |\n",
      "|14904                 |NULL              |\n",
      "|04630                 |56.18518518518518 |\n",
      "|01509                 |65.0              |\n",
      "|15350                 |52.0              |\n",
      "|10630                 |37.0              |\n",
      "|01520                 |42.0              |\n",
      "|11000                 |15.75925925925926 |\n",
      "|01600                 |44.76923076923077 |\n",
      "|08420                 |45.5              |\n",
      "|13120                 |53.333333333333336|\n",
      "+----------------------+------------------+\n",
      "only showing top 100 rows\n",
      "\n"
     ]
    }
   ],
   "source": [
    "datos.groupBy(\"alcaldia\").agg({\"edad\":\"avg\"}).show(100, truncate=False)"
   ]
  },
  {
   "cell_type": "code",
   "execution_count": 32,
   "id": "705d052e-394b-44e8-970c-d5223fe2fe97",
   "metadata": {},
   "outputs": [],
   "source": [
    "dft = datos_tiempo\\\n",
    "    .select(['edad', 'anio', 'nombre_dia', 'hora', 'estatus'])\\\n",
    "    .filter((datos_tiempo.anio == 2020) & (datos_tiempo.mes <= 6))\\\n",
    "    .filter(datos_tiempo.nombre_dia == 'Sunday')\\\n",
    "    .select(['edad', 'hora', 'estatus'])\\\n",
    "    .filter(datos_tiempo.edad > 0)"
   ]
  },
  {
   "cell_type": "code",
   "execution_count": 34,
   "id": "89ec5a26-a698-4081-a3e1-166f7c2ac111",
   "metadata": {},
   "outputs": [
    {
     "ename": "AnalysisException",
     "evalue": "[PATH_ALREADY_EXISTS] Path hdfs://namenode:9000/tmp/amd/locateltiempo already exists. Set mode as \"overwrite\" to overwrite the existing path.",
     "output_type": "error",
     "traceback": [
      "\u001b[0;31m---------------------------------------------------------------------------\u001b[0m",
      "\u001b[0;31mAnalysisException\u001b[0m                         Traceback (most recent call last)",
      "Cell \u001b[0;32mIn[34], line 1\u001b[0m\n\u001b[0;32m----> 1\u001b[0m \u001b[43mdft\u001b[49m\u001b[38;5;241;43m.\u001b[39;49m\u001b[43mwrite\u001b[49m\u001b[38;5;241;43m.\u001b[39;49m\u001b[43mcsv\u001b[49m\u001b[43m(\u001b[49m\u001b[38;5;124;43m\"\u001b[39;49m\u001b[38;5;124;43mhdfs://namenode:9000/tmp/amd/locateltiempo\u001b[39;49m\u001b[38;5;124;43m\"\u001b[39;49m\u001b[43m)\u001b[49m\n",
      "File \u001b[0;32m/usr/local/spark/python/pyspark/sql/readwriter.py:1864\u001b[0m, in \u001b[0;36mDataFrameWriter.csv\u001b[0;34m(self, path, mode, compression, sep, quote, escape, header, nullValue, escapeQuotes, quoteAll, dateFormat, timestampFormat, ignoreLeadingWhiteSpace, ignoreTrailingWhiteSpace, charToEscapeQuoteEscaping, encoding, emptyValue, lineSep)\u001b[0m\n\u001b[1;32m   1845\u001b[0m \u001b[38;5;28mself\u001b[39m\u001b[38;5;241m.\u001b[39mmode(mode)\n\u001b[1;32m   1846\u001b[0m \u001b[38;5;28mself\u001b[39m\u001b[38;5;241m.\u001b[39m_set_opts(\n\u001b[1;32m   1847\u001b[0m     compression\u001b[38;5;241m=\u001b[39mcompression,\n\u001b[1;32m   1848\u001b[0m     sep\u001b[38;5;241m=\u001b[39msep,\n\u001b[0;32m   (...)\u001b[0m\n\u001b[1;32m   1862\u001b[0m     lineSep\u001b[38;5;241m=\u001b[39mlineSep,\n\u001b[1;32m   1863\u001b[0m )\n\u001b[0;32m-> 1864\u001b[0m \u001b[38;5;28;43mself\u001b[39;49m\u001b[38;5;241;43m.\u001b[39;49m\u001b[43m_jwrite\u001b[49m\u001b[38;5;241;43m.\u001b[39;49m\u001b[43mcsv\u001b[49m\u001b[43m(\u001b[49m\u001b[43mpath\u001b[49m\u001b[43m)\u001b[49m\n",
      "File \u001b[0;32m/usr/local/spark/python/lib/py4j-0.10.9.7-src.zip/py4j/java_gateway.py:1322\u001b[0m, in \u001b[0;36mJavaMember.__call__\u001b[0;34m(self, *args)\u001b[0m\n\u001b[1;32m   1316\u001b[0m command \u001b[38;5;241m=\u001b[39m proto\u001b[38;5;241m.\u001b[39mCALL_COMMAND_NAME \u001b[38;5;241m+\u001b[39m\\\n\u001b[1;32m   1317\u001b[0m     \u001b[38;5;28mself\u001b[39m\u001b[38;5;241m.\u001b[39mcommand_header \u001b[38;5;241m+\u001b[39m\\\n\u001b[1;32m   1318\u001b[0m     args_command \u001b[38;5;241m+\u001b[39m\\\n\u001b[1;32m   1319\u001b[0m     proto\u001b[38;5;241m.\u001b[39mEND_COMMAND_PART\n\u001b[1;32m   1321\u001b[0m answer \u001b[38;5;241m=\u001b[39m \u001b[38;5;28mself\u001b[39m\u001b[38;5;241m.\u001b[39mgateway_client\u001b[38;5;241m.\u001b[39msend_command(command)\n\u001b[0;32m-> 1322\u001b[0m return_value \u001b[38;5;241m=\u001b[39m \u001b[43mget_return_value\u001b[49m\u001b[43m(\u001b[49m\n\u001b[1;32m   1323\u001b[0m \u001b[43m    \u001b[49m\u001b[43manswer\u001b[49m\u001b[43m,\u001b[49m\u001b[43m \u001b[49m\u001b[38;5;28;43mself\u001b[39;49m\u001b[38;5;241;43m.\u001b[39;49m\u001b[43mgateway_client\u001b[49m\u001b[43m,\u001b[49m\u001b[43m \u001b[49m\u001b[38;5;28;43mself\u001b[39;49m\u001b[38;5;241;43m.\u001b[39;49m\u001b[43mtarget_id\u001b[49m\u001b[43m,\u001b[49m\u001b[43m \u001b[49m\u001b[38;5;28;43mself\u001b[39;49m\u001b[38;5;241;43m.\u001b[39;49m\u001b[43mname\u001b[49m\u001b[43m)\u001b[49m\n\u001b[1;32m   1325\u001b[0m \u001b[38;5;28;01mfor\u001b[39;00m temp_arg \u001b[38;5;129;01min\u001b[39;00m temp_args:\n\u001b[1;32m   1326\u001b[0m     \u001b[38;5;28;01mif\u001b[39;00m \u001b[38;5;28mhasattr\u001b[39m(temp_arg, \u001b[38;5;124m\"\u001b[39m\u001b[38;5;124m_detach\u001b[39m\u001b[38;5;124m\"\u001b[39m):\n",
      "File \u001b[0;32m/usr/local/spark/python/pyspark/errors/exceptions/captured.py:185\u001b[0m, in \u001b[0;36mcapture_sql_exception.<locals>.deco\u001b[0;34m(*a, **kw)\u001b[0m\n\u001b[1;32m    181\u001b[0m converted \u001b[38;5;241m=\u001b[39m convert_exception(e\u001b[38;5;241m.\u001b[39mjava_exception)\n\u001b[1;32m    182\u001b[0m \u001b[38;5;28;01mif\u001b[39;00m \u001b[38;5;129;01mnot\u001b[39;00m \u001b[38;5;28misinstance\u001b[39m(converted, UnknownException):\n\u001b[1;32m    183\u001b[0m     \u001b[38;5;66;03m# Hide where the exception came from that shows a non-Pythonic\u001b[39;00m\n\u001b[1;32m    184\u001b[0m     \u001b[38;5;66;03m# JVM exception message.\u001b[39;00m\n\u001b[0;32m--> 185\u001b[0m     \u001b[38;5;28;01mraise\u001b[39;00m converted \u001b[38;5;28;01mfrom\u001b[39;00m \u001b[38;5;28;01mNone\u001b[39;00m\n\u001b[1;32m    186\u001b[0m \u001b[38;5;28;01melse\u001b[39;00m:\n\u001b[1;32m    187\u001b[0m     \u001b[38;5;28;01mraise\u001b[39;00m\n",
      "\u001b[0;31mAnalysisException\u001b[0m: [PATH_ALREADY_EXISTS] Path hdfs://namenode:9000/tmp/amd/locateltiempo already exists. Set mode as \"overwrite\" to overwrite the existing path."
     ]
    }
   ],
   "source": [
    "dft.write.csv(\"hdfs://namenode:9000/tmp/amd/locateltiempo\")"
   ]
  },
  {
   "cell_type": "code",
   "execution_count": 35,
   "id": "a0efec2f-9b17-4961-abda-3d667af2e8be",
   "metadata": {},
   "outputs": [
    {
     "name": "stdout",
     "output_type": "stream",
     "text": [
      "root\n",
      " |-- edad: float (nullable = true)\n",
      " |-- hora: integer (nullable = true)\n",
      " |-- estatus: string (nullable = true)\n",
      "\n"
     ]
    }
   ],
   "source": [
    "dft.printSchema()"
   ]
  },
  {
   "cell_type": "code",
   "execution_count": 37,
   "id": "282d41db-2b1e-4e1f-b13e-383bf55dadfc",
   "metadata": {},
   "outputs": [],
   "source": [
    "#overwrite, append, ignore\n",
    "\n",
    "dft.write.mode(\"ignore\").csv(\"hdfs://namenode:9000/tmp/amd/locateltiempo\")"
   ]
  },
  {
   "cell_type": "code",
   "execution_count": 38,
   "id": "6ffff002-aa26-440b-9def-07d678d1688d",
   "metadata": {},
   "outputs": [
    {
     "data": {
      "text/plain": [
       "pyspark.sql.dataframe.DataFrame"
      ]
     },
     "execution_count": 38,
     "metadata": {},
     "output_type": "execute_result"
    }
   ],
   "source": [
    "type(dft)"
   ]
  },
  {
   "cell_type": "code",
   "execution_count": 41,
   "id": "d0ba1f9a-0c51-47ed-b152-e3bfd8d4db42",
   "metadata": {},
   "outputs": [
    {
     "name": "stdout",
     "output_type": "stream",
     "text": [
      "+----+----+--------+----------+\n",
      "|edad|hora|estatus |edad_meses|\n",
      "+----+----+--------+----------+\n",
      "|43.0|0   |ATENDIDO|516.0     |\n",
      "|50.0|0   |ATENDIDO|600.0     |\n",
      "|62.0|0   |ATENDIDO|744.0     |\n",
      "|39.0|0   |ATENDIDO|468.0     |\n",
      "|65.0|0   |ATENDIDO|780.0     |\n",
      "|28.0|0   |TURNADO |336.0     |\n",
      "|24.0|0   |ATENDIDO|288.0     |\n",
      "|60.0|0   |ATENDIDO|720.0     |\n",
      "|47.0|0   |ATENDIDO|564.0     |\n",
      "|55.0|0   |ATENDIDO|660.0     |\n",
      "|44.0|0   |ATENDIDO|528.0     |\n",
      "|40.0|0   |ATENDIDO|480.0     |\n",
      "|25.0|0   |ATENDIDO|300.0     |\n",
      "|47.0|0   |ATENDIDO|564.0     |\n",
      "|45.0|0   |ATENDIDO|540.0     |\n",
      "|56.0|0   |ATENDIDO|672.0     |\n",
      "|72.0|0   |ATENDIDO|864.0     |\n",
      "|44.0|0   |ATENDIDO|528.0     |\n",
      "|32.0|0   |ATENDIDO|384.0     |\n",
      "|1.0 |0   |ATENDIDO|12.0      |\n",
      "|25.0|0   |TURNADO |300.0     |\n",
      "|41.0|0   |ATENDIDO|492.0     |\n",
      "|47.0|0   |ATENDIDO|564.0     |\n",
      "|1.0 |0   |ATENDIDO|12.0      |\n",
      "|1.0 |0   |ATENDIDO|12.0      |\n",
      "|67.0|0   |ATENDIDO|804.0     |\n",
      "|25.0|0   |ATENDIDO|300.0     |\n",
      "|55.0|0   |ATENDIDO|660.0     |\n",
      "|30.0|0   |ATENDIDO|360.0     |\n",
      "|59.0|0   |ATENDIDO|708.0     |\n",
      "|58.0|0   |ATENDIDO|696.0     |\n",
      "|25.0|0   |ATENDIDO|300.0     |\n",
      "|23.0|0   |ATENDIDO|276.0     |\n",
      "|59.0|0   |ATENDIDO|708.0     |\n",
      "|72.0|0   |ATENDIDO|864.0     |\n",
      "|43.0|0   |ATENDIDO|516.0     |\n",
      "|75.0|0   |ATENDIDO|900.0     |\n",
      "|51.0|0   |ATENDIDO|612.0     |\n",
      "|38.0|0   |ATENDIDO|456.0     |\n",
      "|57.0|0   |ATENDIDO|684.0     |\n",
      "|28.0|0   |ATENDIDO|336.0     |\n",
      "|49.0|0   |ATENDIDO|588.0     |\n",
      "|75.0|0   |ATENDIDO|900.0     |\n",
      "|40.0|0   |ATENDIDO|480.0     |\n",
      "|54.0|0   |ATENDIDO|648.0     |\n",
      "|59.0|0   |ATENDIDO|708.0     |\n",
      "|62.0|0   |ATENDIDO|744.0     |\n",
      "|44.0|0   |ATENDIDO|528.0     |\n",
      "|51.0|0   |ATENDIDO|612.0     |\n",
      "|34.0|0   |ATENDIDO|408.0     |\n",
      "|47.0|0   |TURNADO |564.0     |\n",
      "|40.0|0   |ATENDIDO|480.0     |\n",
      "|51.0|0   |ATENDIDO|612.0     |\n",
      "|40.0|0   |ATENDIDO|480.0     |\n",
      "|29.0|0   |ATENDIDO|348.0     |\n",
      "|1.0 |0   |ATENDIDO|12.0      |\n",
      "|39.0|0   |ATENDIDO|468.0     |\n",
      "|48.0|0   |ATENDIDO|576.0     |\n",
      "|1.0 |0   |ATENDIDO|12.0      |\n",
      "|42.0|0   |ATENDIDO|504.0     |\n",
      "|79.0|0   |ATENDIDO|948.0     |\n",
      "|1.0 |0   |ATENDIDO|12.0      |\n",
      "|47.0|0   |ATENDIDO|564.0     |\n",
      "|47.0|0   |ATENDIDO|564.0     |\n",
      "|65.0|0   |TURNADO |780.0     |\n",
      "|31.0|0   |ATENDIDO|372.0     |\n",
      "|1.0 |0   |ATENDIDO|12.0      |\n",
      "|27.0|0   |ATENDIDO|324.0     |\n",
      "|55.0|0   |ATENDIDO|660.0     |\n",
      "|47.0|0   |ATENDIDO|564.0     |\n",
      "|41.0|0   |ATENDIDO|492.0     |\n",
      "|1.0 |0   |ATENDIDO|12.0      |\n",
      "|44.0|0   |ATENDIDO|528.0     |\n",
      "|52.0|0   |ATENDIDO|624.0     |\n",
      "|52.0|0   |ATENDIDO|624.0     |\n",
      "|72.0|0   |ATENDIDO|864.0     |\n",
      "|1.0 |0   |ATENDIDO|12.0      |\n",
      "|55.0|0   |ATENDIDO|660.0     |\n",
      "|35.0|0   |ATENDIDO|420.0     |\n",
      "|67.0|0   |ATENDIDO|804.0     |\n",
      "|51.0|0   |ATENDIDO|612.0     |\n",
      "|1.0 |0   |ATENDIDO|12.0      |\n",
      "|67.0|0   |ATENDIDO|804.0     |\n",
      "|40.0|0   |ATENDIDO|480.0     |\n",
      "|46.0|0   |ATENDIDO|552.0     |\n",
      "|56.0|0   |ATENDIDO|672.0     |\n",
      "|73.0|0   |ATENDIDO|876.0     |\n",
      "|49.0|0   |ATENDIDO|588.0     |\n",
      "|1.0 |0   |ATENDIDO|12.0      |\n",
      "|32.0|0   |TURNADO |384.0     |\n",
      "|31.0|0   |ATENDIDO|372.0     |\n",
      "|33.0|0   |ATENDIDO|396.0     |\n",
      "|46.0|0   |ATENDIDO|552.0     |\n",
      "|69.0|0   |ATENDIDO|828.0     |\n",
      "|31.0|0   |ATENDIDO|372.0     |\n",
      "|30.0|0   |ATENDIDO|360.0     |\n",
      "|1.0 |0   |ATENDIDO|12.0      |\n",
      "|50.0|0   |ATENDIDO|600.0     |\n",
      "|43.0|0   |ATENDIDO|516.0     |\n",
      "|43.0|0   |ATENDIDO|516.0     |\n",
      "+----+----+--------+----------+\n",
      "only showing top 100 rows\n",
      "\n"
     ]
    }
   ],
   "source": [
    "dft.select(\"*\", (dft.edad * 12).alias(\"edad_meses\")).show(100, truncate = False)"
   ]
  },
  {
   "cell_type": "code",
   "execution_count": 45,
   "id": "eab5966c-30a9-47d0-81f8-89584b8af57b",
   "metadata": {},
   "outputs": [],
   "source": [
    "dft.select(\"*\", (dft.edad * 12).alias(\"edad_meses\")).write.mode(\"append\").csv(\"hdfs://namenode:9000/tmp/amd/locateltiempo\", header=True)"
   ]
  },
  {
   "cell_type": "code",
   "execution_count": 48,
   "id": "d434f43e-0e4b-4dab-9f98-496262127865",
   "metadata": {},
   "outputs": [
    {
     "name": "stdout",
     "output_type": "stream",
     "text": [
      "+----+--------+---------------------------------------+----+---+\n",
      "|edad|estatus |tema_solicitud                         |anio|mes|\n",
      "+----+--------+---------------------------------------+----+---+\n",
      "|NULL|ATENDIDO|FUGA DE AGUA                           |2020|1  |\n",
      "|NULL|ATENDIDO|VENTA DE ALCOHOL / DROGA               |2020|1  |\n",
      "|NULL|ATENDIDO|TRAMITES / INFO VEHICULAR              |2020|1  |\n",
      "|NULL|ATENDIDO|MANTENIMIENTO DRENAJE                  |2020|1  |\n",
      "|NULL|ATENDIDO|SOLICITUD DE VIGILANCIA                |2020|1  |\n",
      "|NULL|ATENDIDO|ALERTA SISMICA                         |2020|1  |\n",
      "|NULL|ATENDIDO|VENTA DE ALCOHOL / DROGA               |2020|1  |\n",
      "|NULL|ATENDIDO|RETIRO CASCAJO, ESCOMBRO, AZOLVE, RAMAS|2020|1  |\n",
      "|NULL|ATENDIDO|SOLICITUD/SEGURO DE DESEMPLEO          |2020|3  |\n",
      "|NULL|ATENDIDO|FALTA DE AGUA                          |2020|2  |\n",
      "|NULL|ATENDIDO|TRAMITES / INFO VEHICULAR              |2020|2  |\n",
      "|NULL|ATENDIDO|SOLICITUD DE VIGILANCIA                |2020|2  |\n",
      "|NULL|ATENDIDO|COVID                                  |2020|3  |\n",
      "|NULL|ATENDIDO|ALUMBRADO                              |2020|2  |\n",
      "|NULL|ATENDIDO|RETIRO CASCAJO, ESCOMBRO, AZOLVE, RAMAS|2020|3  |\n",
      "|NULL|TURNADO |MANTENIMIENTO VÍA PÚBLICA              |2020|3  |\n",
      "|NULL|ATENDIDO|ALERTA SISMICA                         |2020|1  |\n",
      "|NULL|ATENDIDO|VEHÍCULO ABANDONADO / CHATARRIZACIÓN   |2020|2  |\n",
      "|NULL|ATENDIDO|FUGA DE AGUA                           |2020|3  |\n",
      "|NULL|ATENDIDO|COVID                                  |2020|3  |\n",
      "+----+--------+---------------------------------------+----+---+\n",
      "only showing top 20 rows\n",
      "\n"
     ]
    }
   ],
   "source": [
    "datos_tiempo.select([\"edad\", \"estatus\", \"tema_solicitud\", \"anio\", \"mes\"]).show(truncate=False)"
   ]
  },
  {
   "cell_type": "code",
   "execution_count": 50,
   "id": "ce0cebd4-e7e3-4cee-8749-47ee39dbfb87",
   "metadata": {},
   "outputs": [
    {
     "name": "stdout",
     "output_type": "stream",
     "text": [
      "+----+------+\n",
      "|anio|nr    |\n",
      "+----+------+\n",
      "|2020|363065|\n",
      "|2021|561313|\n",
      "|2022|500940|\n",
      "|2023|569362|\n",
      "|2019|215262|\n",
      "|2024|113147|\n",
      "+----+------+\n",
      "\n"
     ]
    }
   ],
   "source": [
    "from pyspark.sql.functions import count\n",
    "\n",
    "datos_tiempo.groupBy(\"anio\").agg(count(\"*\").alias(\"nr\")).show(100, truncate=False)"
   ]
  },
  {
   "cell_type": "code",
   "execution_count": 51,
   "id": "01aac84d-6b29-443b-8c16-df22377b691b",
   "metadata": {},
   "outputs": [],
   "source": [
    "datos_tiempo.groupBy(\"anio\").agg(count(\"*\").alias(\"nr\"))\\\n",
    ".write.mode(\"append\")\\\n",
    ".partitionBy(\"anio\")\\\n",
    ".csv(\"hdfs://namenode:9000/tmp/amd/locateltiempobyanio\",header=True)"
   ]
  },
  {
   "cell_type": "code",
   "execution_count": 53,
   "id": "888c081f-dff3-40e1-8fbd-51cba153f3c9",
   "metadata": {},
   "outputs": [],
   "source": [
    "datos_tiempo.select([\"edad\", \"estatus\", \"tema_solicitud\", \"anio\", \"mes\"])\\\n",
    ".write.mode(\"append\")\\\n",
    ".partitionBy(\"anio\",\"mes\")\\\n",
    ".csv(\"hdfs://namenode:9000/tmp/amd/locateltiempobyaniomes\",header=True)"
   ]
  },
  {
   "cell_type": "code",
   "execution_count": 54,
   "id": "e7ee3ecb-d6fd-45bc-b479-21f0031e2697",
   "metadata": {},
   "outputs": [],
   "source": [
    "dfp = spark.read.option(\"header\", True).csv(\"hdfs://namenode:9000/tmp/amd/locateltiempobyaniomes\")"
   ]
  },
  {
   "cell_type": "code",
   "execution_count": 55,
   "id": "2dc7089c-8a27-48f3-9f26-9c5625b6f211",
   "metadata": {},
   "outputs": [
    {
     "name": "stdout",
     "output_type": "stream",
     "text": [
      "root\n",
      " |-- edad: string (nullable = true)\n",
      " |-- estatus: string (nullable = true)\n",
      " |-- tema_solicitud: string (nullable = true)\n",
      " |-- anio: integer (nullable = true)\n",
      " |-- mes: integer (nullable = true)\n",
      "\n"
     ]
    }
   ],
   "source": [
    "dfp.printSchema()"
   ]
  },
  {
   "cell_type": "code",
   "execution_count": 56,
   "id": "74d6daa0-520a-4e26-bff4-bd368174f747",
   "metadata": {},
   "outputs": [
    {
     "name": "stdout",
     "output_type": "stream",
     "text": [
      "+----+--------+--------------------+----+---+\n",
      "|edad| estatus|      tema_solicitud|anio|mes|\n",
      "+----+--------+--------------------+----+---+\n",
      "|NULL|ATENDIDO|VEHÍCULOS AUTOMOT...|2021|  9|\n",
      "|NULL|ATENDIDO| PODA / RETIRO ARBOL|2021|  9|\n",
      "|NULL|ATENDIDO|        FUGA DE AGUA|2021|  9|\n",
      "|NULL|ATENDIDO| PODA / RETIRO ARBOL|2021|  9|\n",
      "|NULL|ATENDIDO|MANTENIMIENTO DE ...|2021|  9|\n",
      "|NULL|ATENDIDO|      ALERTA SISMICA|2021|  9|\n",
      "|NULL|ATENDIDO|CONSTRUCCIONES Y ...|2021|  9|\n",
      "|NULL|ATENDIDO|AGUA POTABLE Y SE...|2021|  9|\n",
      "|NULL|ATENDIDO|        FUGA DE AGUA|2021|  9|\n",
      "|NULL|ATENDIDO|       FALTA DE AGUA|2021|  9|\n",
      "|NULL|ATENDIDO|MANTENIMIENTO DRE...|2021|  9|\n",
      "|NULL|ATENDIDO|RETIRO CASCAJO, E...|2021|  9|\n",
      "|NULL|ATENDIDO|MANTENIMIENTO SEM...|2021|  9|\n",
      "|NULL|ATENDIDO|       FALTA DE AGUA|2021|  9|\n",
      "|NULL|ATENDIDO|  RECOLECCIÓN BASURA|2021|  9|\n",
      "|NULL|ATENDIDO|        FUGA DE AGUA|2021|  9|\n",
      "|29.0|ATENDIDO|               COVID|2021|  9|\n",
      "|NULL|ATENDIDO|           ALUMBRADO|2021|  9|\n",
      "|46.0|ATENDIDO|           ASESORIAS|2021|  9|\n",
      "|45.0|ATENDIDO|MANTENIMIENTO DE ...|2021|  9|\n",
      "+----+--------+--------------------+----+---+\n",
      "only showing top 20 rows\n",
      "\n"
     ]
    }
   ],
   "source": [
    "dfp.show()"
   ]
  },
  {
   "cell_type": "code",
   "execution_count": 57,
   "id": "764c1013-9a4b-416f-a712-75a5e61e0fc4",
   "metadata": {},
   "outputs": [
    {
     "name": "stdout",
     "output_type": "stream",
     "text": [
      "+----+-------+--------------------+----+---+\n",
      "|edad|estatus|      tema_solicitud|anio|mes|\n",
      "+----+-------+--------------------+----+---+\n",
      "|NULL|CERRADO|RETIRO CASCAJO, E...|2022|  9|\n",
      "|NULL|TURNADO|       FALTA DE AGUA|2022|  9|\n",
      "|41.0|CERRADO|QUEJA DE TRANSPOR...|2022|  9|\n",
      "|NULL|CERRADO|              BACHEO|2022|  9|\n",
      "|NULL|CERRADO|       PAVIMENTACION|2022|  9|\n",
      "|48.0|TURNADO|           ALUMBRADO|2022|  9|\n",
      "|NULL|CERRADO|   QUEJA FUNCIONARIO|2022|  9|\n",
      "|NULL|CERRADO| PODA / RETIRO ARBOL|2022|  9|\n",
      "|NULL|CERRADO|           ALUMBRADO|2022|  9|\n",
      "|NULL|CERRADO|           ALUMBRADO|2022|  9|\n",
      "|NULL|CERRADO|MANTENIMIENTO VÍA...|2022|  9|\n",
      "|NULL|TURNADO|              BACHEO|2022|  9|\n",
      "|NULL|TURNADO|           ALUMBRADO|2022|  9|\n",
      "|NULL|TURNADO|MANTENIMIENTO VÍA...|2022|  9|\n",
      "|NULL|CERRADO|           ALUMBRADO|2022|  9|\n",
      "|NULL|TURNADO|SOLICITUD DE VIGI...|2022|  9|\n",
      "|NULL|CERRADO|QUEJA DE TRANSPOR...|2022|  9|\n",
      "|NULL|CERRADO|           ALUMBRADO|2022|  9|\n",
      "|50.0|CERRADO|MANTENIMIENTO SEM...|2022|  9|\n",
      "|NULL|CERRADO|           ALUMBRADO|2022|  9|\n",
      "+----+-------+--------------------+----+---+\n",
      "only showing top 20 rows\n",
      "\n"
     ]
    }
   ],
   "source": [
    "dfp.filter(\"anio = 2022\").show()"
   ]
  },
  {
   "cell_type": "code",
   "execution_count": 58,
   "id": "cf39c6d3-99f3-47c5-8115-8c55353d3499",
   "metadata": {},
   "outputs": [
    {
     "name": "stdout",
     "output_type": "stream",
     "text": [
      "+----+-------+--------------------+----+---+\n",
      "|edad|estatus|      tema_solicitud|anio|mes|\n",
      "+----+-------+--------------------+----+---+\n",
      "|NULL|CERRADO|      REGISTRO CIVIL|2022|  7|\n",
      "|NULL|CERRADO|TRAMITES / INFO V...|2022|  7|\n",
      "|NULL|CERRADO|SOLICITUD EVALUAC...|2022|  7|\n",
      "|NULL|CERRADO|TRAMITES / INFO V...|2022|  7|\n",
      "|NULL|CERRADO|      REGISTRO CIVIL|2022|  7|\n",
      "|NULL|CERRADO|SOLICITUD/SEGURO ...|2022|  7|\n",
      "|NULL|CERRADO|      REGISTRO CIVIL|2022|  7|\n",
      "|NULL|CERRADO|      REGISTRO CIVIL|2022|  7|\n",
      "|NULL|CERRADO|      REGISTRO CIVIL|2022|  7|\n",
      "|NULL|CERRADO|      REGISTRO CIVIL|2022|  7|\n",
      "|NULL|CERRADO|      REGISTRO CIVIL|2022|  7|\n",
      "|NULL|CERRADO|TRAMITES / INFO V...|2022|  7|\n",
      "|NULL|CERRADO|TRAMITES / INFO V...|2022|  7|\n",
      "|NULL|CERRADO|MANTENIMIENTO PAR...|2022|  7|\n",
      "|NULL|CERRADO|      REGISTRO CIVIL|2022|  7|\n",
      "|NULL|CERRADO|      REGISTRO CIVIL|2022|  7|\n",
      "|NULL|CERRADO|      REGISTRO CIVIL|2022|  7|\n",
      "|NULL|CERRADO|TRAMITES / INFO V...|2022|  7|\n",
      "|NULL|CERRADO|INFORMACIÓN SOBRE...|2022|  7|\n",
      "|NULL|CERRADO|      REGISTRO CIVIL|2022|  7|\n",
      "+----+-------+--------------------+----+---+\n",
      "only showing top 20 rows\n",
      "\n"
     ]
    }
   ],
   "source": [
    "dfp.filter(\"anio = 2022 AND mes = 7\").show()"
   ]
  },
  {
   "cell_type": "code",
   "execution_count": 59,
   "id": "710ec7fb-c266-4e14-b5bb-2dc9b4ece646",
   "metadata": {},
   "outputs": [
    {
     "name": "stdout",
     "output_type": "stream",
     "text": [
      "+----+-------+--------------------+----+---+\n",
      "|edad|estatus|      tema_solicitud|anio|mes|\n",
      "+----+-------+--------------------+----+---+\n",
      "|NULL|CERRADO|      REGISTRO CIVIL|2022|  7|\n",
      "|NULL|CERRADO|TRAMITES / INFO V...|2022|  7|\n",
      "|NULL|CERRADO|SOLICITUD EVALUAC...|2022|  7|\n",
      "|NULL|CERRADO|TRAMITES / INFO V...|2022|  7|\n",
      "|NULL|CERRADO|      REGISTRO CIVIL|2022|  7|\n",
      "|NULL|CERRADO|SOLICITUD/SEGURO ...|2022|  7|\n",
      "|NULL|CERRADO|      REGISTRO CIVIL|2022|  7|\n",
      "|NULL|CERRADO|      REGISTRO CIVIL|2022|  7|\n",
      "|NULL|CERRADO|      REGISTRO CIVIL|2022|  7|\n",
      "|NULL|CERRADO|      REGISTRO CIVIL|2022|  7|\n",
      "|NULL|CERRADO|      REGISTRO CIVIL|2022|  7|\n",
      "|NULL|CERRADO|TRAMITES / INFO V...|2022|  7|\n",
      "|NULL|CERRADO|TRAMITES / INFO V...|2022|  7|\n",
      "|NULL|CERRADO|MANTENIMIENTO PAR...|2022|  7|\n",
      "|NULL|CERRADO|      REGISTRO CIVIL|2022|  7|\n",
      "|NULL|CERRADO|      REGISTRO CIVIL|2022|  7|\n",
      "|NULL|CERRADO|      REGISTRO CIVIL|2022|  7|\n",
      "|NULL|CERRADO|TRAMITES / INFO V...|2022|  7|\n",
      "|NULL|CERRADO|INFORMACIÓN SOBRE...|2022|  7|\n",
      "|NULL|CERRADO|      REGISTRO CIVIL|2022|  7|\n",
      "+----+-------+--------------------+----+---+\n",
      "only showing top 20 rows\n",
      "\n"
     ]
    }
   ],
   "source": [
    "dfp.filter(\"mes = 7 AND anio = 2022\").show()"
   ]
  }
 ],
 "metadata": {
  "kernelspec": {
   "display_name": "Python 3 (ipykernel)",
   "language": "python",
   "name": "python3"
  },
  "language_info": {
   "codemirror_mode": {
    "name": "ipython",
    "version": 3
   },
   "file_extension": ".py",
   "mimetype": "text/x-python",
   "name": "python",
   "nbconvert_exporter": "python",
   "pygments_lexer": "ipython3",
   "version": "3.11.6"
  }
 },
 "nbformat": 4,
 "nbformat_minor": 5
}
