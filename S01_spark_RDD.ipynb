{
 "cells": [
  {
   "cell_type": "code",
   "execution_count": 1,
   "id": "77fd24ba-5655-43d9-97cb-87354769b443",
   "metadata": {},
   "outputs": [
    {
     "data": {
      "text/html": [
       "\n",
       "            <div>\n",
       "                <p><b>SparkSession - hive</b></p>\n",
       "                \n",
       "        <div>\n",
       "            <p><b>SparkContext</b></p>\n",
       "\n",
       "            <p><a href=\"http://67b3bc1eceec:4040\">Spark UI</a></p>\n",
       "\n",
       "            <dl>\n",
       "              <dt>Version</dt>\n",
       "                <dd><code>v3.5.0</code></dd>\n",
       "              <dt>Master</dt>\n",
       "                <dd><code>local[*]</code></dd>\n",
       "              <dt>AppName</dt>\n",
       "                <dd><code>PySparkShell</code></dd>\n",
       "            </dl>\n",
       "        </div>\n",
       "        \n",
       "            </div>\n",
       "        "
      ],
      "text/plain": [
       "<pyspark.sql.session.SparkSession at 0x7f59ebe778d0>"
      ]
     },
     "execution_count": 1,
     "metadata": {},
     "output_type": "execute_result"
    }
   ],
   "source": [
    "spark"
   ]
  },
  {
   "cell_type": "code",
   "execution_count": 2,
   "id": "c94e0ed8-88e2-4e78-8af9-14d5162edb42",
   "metadata": {},
   "outputs": [
    {
     "data": {
      "text/plain": [
       "'3.5.0'"
      ]
     },
     "execution_count": 2,
     "metadata": {},
     "output_type": "execute_result"
    }
   ],
   "source": [
    "spark.version"
   ]
  },
  {
   "cell_type": "code",
   "execution_count": 3,
   "id": "e9df8642-009b-4d93-887b-e9d66e5a5758",
   "metadata": {},
   "outputs": [
    {
     "data": {
      "text/html": [
       "\n",
       "        <div>\n",
       "            <p><b>SparkContext</b></p>\n",
       "\n",
       "            <p><a href=\"http://67b3bc1eceec:4040\">Spark UI</a></p>\n",
       "\n",
       "            <dl>\n",
       "              <dt>Version</dt>\n",
       "                <dd><code>v3.5.0</code></dd>\n",
       "              <dt>Master</dt>\n",
       "                <dd><code>local[*]</code></dd>\n",
       "              <dt>AppName</dt>\n",
       "                <dd><code>PySparkShell</code></dd>\n",
       "            </dl>\n",
       "        </div>\n",
       "        "
      ],
      "text/plain": [
       "<SparkContext master=local[*] appName=PySparkShell>"
      ]
     },
     "execution_count": 3,
     "metadata": {},
     "output_type": "execute_result"
    }
   ],
   "source": [
    "sc"
   ]
  },
  {
   "cell_type": "code",
   "execution_count": 6,
   "id": "615b90c6-fe93-4f7f-8ce2-1de891e97e26",
   "metadata": {},
   "outputs": [],
   "source": [
    "df = spark.read.text(\"hdfs://namenode:9000/tmp/amd/\")"
   ]
  },
  {
   "cell_type": "code",
   "execution_count": 7,
   "id": "dee5426b-487b-4627-89b2-1d9fbb957465",
   "metadata": {},
   "outputs": [
    {
     "name": "stdout",
     "output_type": "stream",
     "text": [
      "+-----+\n",
      "|value|\n",
      "+-----+\n",
      "+-----+\n",
      "\n"
     ]
    }
   ],
   "source": [
    "df.show()"
   ]
  },
  {
   "cell_type": "code",
   "execution_count": 10,
   "id": "bc74d535-baeb-4d8e-9f08-900d67a5f2a1",
   "metadata": {},
   "outputs": [
    {
     "name": "stdout",
     "output_type": "stream",
     "text": [
      "+---------------------+\n",
      "|                value|\n",
      "+---------------------+\n",
      "| 6�\\a��\\a5BX�0��ko...|\n",
      "| a$\u001d",
      "�L�\\�t2-)����\u001d",
      "...|\n",
      "| �D(\u0017˓W'���\u0001��?:��...|\n",
      "|   '�\u0005w�\\b6��\u001e",
      "�12���:|\n",
      "| T�\u0018�t^\u000e\"a1f�6��q...|\n",
      "| \u00051\u001d",
      "�����\u0016|\u00137qҮhM[...|\n",
      "| ns)V���ጔ\u0013��\u0014*LP�...|\n",
      "|           ��mb��g���|\n",
      "| ՙ�9�\\f�-\u00046ܧ��u�\u0015�...|\n",
      "| |\u0016NF�����#�#�3xj}...|\n",
      "| \u0002�Qf�\u0000���-�{\u0019��\u0017�...|\n",
      "| i��dt��c�$h�\u0012�5��...|\n",
      "| D\u00158LM$�i\u001b��\u0015�\\a<�...|\n",
      "| ��\u001b���2��\u0004�7��k`\u0015...|\n",
      "|                   ��|\n",
      "| ;b\\bzb���BRk�J�)...|\n",
      "| ��\u0005%���,��k��\u000f\u0017�Ӈ...|\n",
      "|\u0006]S�&N\u0006�ũ�xo^�⽢�...|\n",
      "| \u001aX����ܒ\\a��Jmt�7�...|\n",
      "| ����\\a\"�/�k>���\u001aX...|\n",
      "+---------------------+\n",
      "only showing top 20 rows\n",
      "\n"
     ]
    }
   ],
   "source": [
    "spark.read.text(\"hdfs://namenode:9000/tmp/amd/ejbloque\").show()"
   ]
  },
  {
   "cell_type": "code",
   "execution_count": 11,
   "id": "480ba7e4-a1b2-47b1-8a81-fc5d8d85f594",
   "metadata": {},
   "outputs": [
    {
     "data": {
      "text/plain": [
       "pyspark.sql.dataframe.DataFrame"
      ]
     },
     "execution_count": 11,
     "metadata": {},
     "output_type": "execute_result"
    }
   ],
   "source": [
    "type(df)"
   ]
  },
  {
   "cell_type": "code",
   "execution_count": 12,
   "id": "08ccfe0e-8c84-4e0d-ab71-88657196988a",
   "metadata": {},
   "outputs": [],
   "source": [
    "rdd = spark.sparkContext.textFile(\"hdfs://namenode:9000/tmp/amd/contarpalabras/entrada/\")"
   ]
  },
  {
   "cell_type": "code",
   "execution_count": 13,
   "id": "f0dcc458-53ee-40a1-bc7d-c37b5bc0a0ac",
   "metadata": {},
   "outputs": [
    {
     "data": {
      "text/plain": [
       "pyspark.rdd.RDD"
      ]
     },
     "execution_count": 13,
     "metadata": {},
     "output_type": "execute_result"
    }
   ],
   "source": [
    "type(rdd)"
   ]
  },
  {
   "cell_type": "code",
   "execution_count": 14,
   "id": "7f1b8f21-4736-4ee5-80ac-77c6eb622827",
   "metadata": {},
   "outputs": [
    {
     "data": {
      "text/plain": [
       "['EVANGELIO SEGUN MARCOS',\n",
       " 'Jorge Luis Borges',\n",
       " '',\n",
       " 'El hecho sucedió en la estancia Los Álamos, en el partido de Junín, hacia el sur, en los últimos días del mes de marzo de 1928. Su protagonista fue un estudiante de medicina, Baltasar Espinosa. Podemos definirlo por ahora como uno de tantos muchachos porteños, sin otros rasgos dignos de nota que esa facultad oratoria que le había hecho merecer más de un premio en el colegio inglés de Ramos Mejía y que una casi ilimitada bondad. No le gustaba discutir; prefería que el interlocutor tuviera razón y no él. Aunque los azares del juego le interesaban, era un mal jugador, porque le desagradaba ganar. Su abierta inteligencia era perezosa; a los treinta y tres años le faltaba rendir una materia para graduarse, la que más lo atraía. Su padre, que era librepensador, como todos los señores de su época, lo había instruido en la doctrina de Herbert Spencer, pero su madre, antes de un viaje a Montevideo, le pidió que todas las noches rezara el Padrenuestro e hiciera la señal de la cruz. A lo largo de los años no había quebrado nunca esa promesa. No carecía de coraje; una mañana había cambiado, con más indiferencia que ira, dos o tres puñetazos con un grupo de compañeros que querían forzarlo a participar en una huelga universitaria. Abundaba, por espíritu de aquiescencia, en opiniones o hábitos discutibles: el país le importaba menos que el riesgo de que en otras partes creyeran que usamos plumas; veneraba a Francia pero menospreciaba a los franceses; tenía en poco a los americanos, pero aprobaba el hecho de que hubiera rascacielos en Buenos Aires; creía que los gauchos de la llanura son mejores jinetes que los de las cuchillas o los cerros. Cuando Daniel, su primo, le propuso veranear en Los Álamos, dijo inmediatamente que sí, no porque le gustara el campo sino por natural complacencia y porque no buscó razones válidas para decir que no.',\n",
       " '',\n",
       " 'El casco de la estancia era grande y un poco abandonado; las dependencias del capataz, que se llamaba Gutre, estaban muy cerca. Los Gutres eran tres: el padre, el hijo, que era singularmente tosco, y una muchacha de incierta paternidad. Eran altos, fuertes, huesudos, de pelo que tiraba a rojizo y de caras aindiadas. Casi no hablaban. La mujer del capataz había muerto hace años.',\n",
       " '',\n",
       " 'Espinosa, en el campo, fue aprendiendo cosas que no sabía y que no sospechaba. Por ejemplo, que no hay que galopar cuando uno se está acercando a las casas y que nadie sale a andar a caballo sino para cumplir con una tarea. Con el tiempo llegaría a distinguir los pájaros por el grito.',\n",
       " '',\n",
       " 'A los pocos días, Daniel tuvo que ausentarse a la capital para cerrar una operación de animales. A lo sumo, el negocio le tomaría una semana. Espinosa, que ya estaba un poco harto de las bonnes fortunes de su primo y de su infatigable interés por las variaciones de la sastrería, prefirió quedarse en la estancia, con sus libros de texto. El calor apretaba y ni siquiera la noche traía un alivio. En el alba, los truenos lo despertaron. El viento zamarreaba las casuarinas. Espinosa oyó las primeras gotas y dio gracias a Dios. El aire frío vino de golpe. Esa tarde, el Salado se desbordó.',\n",
       " '',\n",
       " 'Al otro día, Baltasar Espinosa, mirando desde la galería los campos anegados, pensó que la metáfora que equipara la pampa con el mar no era, por lo menos esa mañana, del todo falsa, aunque Hudson había dejado escrito que el mar nos parece más grande, porque lo vemos desde la cubierta del barco y no desde el caballo o desde nuestra altura. La lluvia no cejaba; los Gutres, ayudados o incomodados por el pueblero, salvaron buena parte de la hacienda, aunque hubo muchos animales ahogados. Los caminos para llegar a la estancia eran cuatro: a todos los cubrieron las aguas. Al tercer día, una gotera amenazó la casa del capataz; Espinosa les dio una habitación que quedaba en el fondo, al lado del galpón de las herramientas. La mudanza los fue acercando; comían juntos en el gran comedor. El diálogo resultaba difícil; los Gutres, que sabían tantas cosas en materia de campo, no sabían explicarlas. Una noche, Espinosa les preguntó si la gente guardaba algún recuerdo de los malones, cuando la comandancia estaba en Junín. Le dijeron que sí, pero lo mismo hubieran contestado a una pregunta sobre la ejecución de Carlos Primero. Espinosa recordó que su padre solía decir que casi todos los casos de longevidad que se dan en el campo son casos de mala memoria o de un concepto vago de las fechas. Los gauchos suelen ignorar por igual el año en que nacieron y el nombre de quien los engendró.',\n",
       " '',\n",
       " 'En toda la casa no había otros libros que una serie de la revista La Chacra, un manual de veterinaria, un ejemplar de lujo del Tabaré, una Historia del Shorthorn en la Argentina, unos cuantos relatos eróticos o policiales y una novela reciente: Don Segundo Sombra. Espinosa, para distraer de algún modo la sobremesa inevitable, leyó un par de capítulos a los Gutres, que eran analfabetos. Desgraciadamente, el capataz había sido tropero y no le podían importar las andanzas de otro. Dijo que ese trabajo era liviano, que llevaban siempre un carguero con todo lo que se precisa y que, de no haber sido tropero, no habría llegado nunca hasta la Laguna de Gómez, hasta el Bragado y hasta los campos de los Núñez, en Chacabuco. En la cocina había una guitarra; los peones, antes de los hechos que narro, se sentaban en rueda; alguien la templaba y no llegaba nunca a tocar. Esto se llamaba una guitarreada.',\n",
       " '',\n",
       " 'Espinosa, que se había dejado crecer la barba, solía demorarse ante el espejo para mirar su cara cambiada y sonreía al pensar que en Buenos Aires aburriría a los muchachos con el relato de la inundación del Salado. Curiosamente, extrañaba lugares a los que no iba nunca y no iría: una esquina de la calle Cabrera en la que hay un buzón, unos leones de mampostería en un portón de la calle Jujuy, a unas cuadras del Once, un almacén con piso de baldosa que no sabía muy bien dónde estaba. En cuanto a sus hermanos y a su padre, ya sabrían por Daniel que estaba aislado -la palabra, etimológicamente, era justa- por la creciente.',\n",
       " '',\n",
       " 'Explorando la casa, siempre cercada por las aguas, dio con una Biblia en inglés. En las páginas finales los Guthrie -tal era su nombre genuino- habían dejado escrita su historia. Eran oriundos de Inverness, habían arribado a este continente, sin duda como peones, a principios del siglo diecinueve, y se habían cruzado con indios. La crónica cesaba hacia mil ochocientos setenta y tantos; ya no sabían escribir. Al cabo de unas pocas generaciones habían olvidado el inglés; el castellano, cuando Espinosa los conoció, les daba trabajo. Carecían de fe, pero en su sangre perduraban, como rastros oscuros, el duro fanatismo del calvinista y las supersticiones del pampa. Espinosa les habló de su hallazgo y casi no escucharon.',\n",
       " '',\n",
       " 'Hojeó el volumen y sus dedos lo abrieron en el comienzo del Evangelio según Marcos. Para ejercitarse en la traducción y acaso para ver si entendían algo, decidió leerles ese texto después de la comida. Le sorprendió que lo escucharan con atención y luego con callado interés. Acaso la presencia de las letras de oro en la tapa le diera más autoridad. Lo llevan en la sangre, pensó. También se le ocurrió que los hombres, a lo largo del tiempo, han repetido siempre dos historias: la de un bajel perdido que busca por los mares mediterráneos una isla querida, y la de un dios que se hace crucificar en el Gólgota. Recordó las clases de elocución en Ramos Mejía y se ponía de pie para predicar las parábolas.',\n",
       " '',\n",
       " 'Los Gutres despachaban la carne asada y las sardinas para no demorar el Evangelio.',\n",
       " '',\n",
       " 'Una corderita que la muchacha mimaba y adornaba con una cintita celeste se lastimó con un alambrado de púa. Para parar la sangre, querían ponerle una telaraña; Espinosa la curó con unas pastillas. La gratitud que esa curación despertó no dejó de asombrarlo. Al principio, había desconfiado de los Gutres y había escondido en uno de sus libros los doscientos cuarenta pesos que llevaba consigo; ahora, ausente el patrón, él había tomado su lugar y daba órdenes tímidas, que eran inmediatamente acatadas. Los Gutres lo seguían por las piezas y por el corredor, como si anduvieran perdidos. Mientras leía, notó que le retiraban las migas que él había dejado sobre la mesa. Una tarde los sorprendió hablando de él con respeto y pocas palabras. Concluido el Evangelio según Marcos, quiso leer otro de los tres que faltaban; el padre le pidió que repitiera el que ya había leído, para entenderlo bien. Espinosa sintió que eran como niños, a quienes la repetición les agrada más que la variación o la novedad. Una noche soñó con el Diluvio, lo cual no es de extrañar; los martillazos de la fabricación del arca lo despertaron y pensó que acaso eran truenos. En efecto, la lluvia, que había amainado, volvió a recrudecer. El frío era intenso. Le dijeron que el temporal había roto el techo del galpón de las herramientas y que iban a mostrárselo cuando estuvieran arregladas las vigas. Ya no era un forastero y todos lo trataban con atención y casi lo mimaban. A ninguno le gustaba el café, pero había siempre un tacita para él, que colmaban de azúcar.',\n",
       " '',\n",
       " 'El temporal ocurrió un martes. El jueves a la noche lo recordó un golpecito suave en la puerta que, por las dudas, él siempre cerraba con llave. Se levantó y abrió: era la muchacha. En la oscuridad no la vio, pero por los pasos notó que estaba descalza y después, en el lecho, que había venido desde el fondo, desnuda. No lo abrazó, no dijo una sola palabra; se tendió junto a él y estaba temblando. Era la primera vez que conocía a un hombre. Cuando se fue, no le dio un beso; Espinosa pensó que ni siquiera sabía cómo se llamaba. Urgido por una íntima razón que no trató de averiguar, juró que en Buenos Aires no le contaría a nadie esa historia.',\n",
       " '',\n",
       " 'El día siguiente comenzó como los anteriores, salvo que el padre habló con Espinosa y le preguntó si Cristo se dejó matar para salvar a todos los hombres. Espinosa, que era librepensador pero que se vio obligado a justificar lo que les había leído, le contestó:',\n",
       " '',\n",
       " '-Sí. Para salvar a todos del infierno.',\n",
       " '',\n",
       " 'Gutre le dijo entonces:',\n",
       " '',\n",
       " '-¿Qué es el infierno?',\n",
       " '',\n",
       " '-Un lugar bajo tierra donde las ánimas arderán y arderán.',\n",
       " '',\n",
       " '-¿Y también se salvaron los que le clavaron los clavos?',\n",
       " '',\n",
       " '-Sí -replicó Espinosa, cuya teología era incierta.',\n",
       " '',\n",
       " 'Había temido que el capataz le exigiera cuentas de lo ocurrido anoche con su hija. Después del almuerzo, le pidieron que releyera los últimos capítulos. Espinosa durmió una siesta larga, un leve sueño interrumpido por persistentes martillos y por vagas premoniciones. Hacia el atardecer se levantó y salió al corredor. Dijo como si pensara en voz alta:',\n",
       " '',\n",
       " '-Las aguas están bajas. Ya falta poco.',\n",
       " '',\n",
       " '-Ya falta poco -repitió Gutrel, como un eco.',\n",
       " '',\n",
       " 'Los tres lo habían seguido. Hincados en el piso de piedra le pidieron la bendición. Después lo maldijeron, lo escupieron y lo empujaron hasta el fondo. La muchacha lloraba. Espinosa entendió lo que le esperaba del otro lado de la puerta. Cuando la abrieron, vio el firmamento. Un pájaro gritó; pensó: es un jilguero. El galpón estaba sin techo; habían arrancado las vigas para construir la Cruz.',\n",
       " '',\n",
       " 'FIN',\n",
       " 'EVANGELIO SEGUN MARCOS',\n",
       " 'Jorge Luis Borges',\n",
       " '',\n",
       " 'El hecho sucedió en la estancia Los Álamos, en el partido de Junín, hacia el sur, en los últimos días del mes de marzo de 1928. Su protagonista fue un estudiante de medicina, Baltasar Espinosa. Podemos definirlo por ahora como uno de tantos muchachos porteños, sin otros rasgos dignos de nota que esa facultad oratoria que le había hecho merecer más de un premio en el colegio inglés de Ramos Mejía y que una casi ilimitada bondad. No le gustaba discutir; prefería que el interlocutor tuviera razón y no él. Aunque los azares del juego le interesaban, era un mal jugador, porque le desagradaba ganar. Su abierta inteligencia era perezosa; a los treinta y tres años le faltaba rendir una materia para graduarse, la que más lo atraía. Su padre, que era librepensador, como todos los señores de su época, lo había instruido en la doctrina de Herbert Spencer, pero su madre, antes de un viaje a Montevideo, le pidió que todas las noches rezara el Padrenuestro e hiciera la señal de la cruz. A lo largo de los años no había quebrado nunca esa promesa. No carecía de coraje; una mañana había cambiado, con más indiferencia que ira, dos o tres puñetazos con un grupo de compañeros que querían forzarlo a participar en una huelga universitaria. Abundaba, por espíritu de aquiescencia, en opiniones o hábitos discutibles: el país le importaba menos que el riesgo de que en otras partes creyeran que usamos plumas; veneraba a Francia pero menospreciaba a los franceses; tenía en poco a los americanos, pero aprobaba el hecho de que hubiera rascacielos en Buenos Aires; creía que los gauchos de la llanura son mejores jinetes que los de las cuchillas o los cerros. Cuando Daniel, su primo, le propuso veranear en Los Álamos, dijo inmediatamente que sí, no porque le gustara el campo sino por natural complacencia y porque no buscó razones válidas para decir que no.',\n",
       " '',\n",
       " 'El casco de la estancia era grande y un poco abandonado; las dependencias del capataz, que se llamaba Gutre, estaban muy cerca. Los Gutres eran tres: el padre, el hijo, que era singularmente tosco, y una muchacha de incierta paternidad. Eran altos, fuertes, huesudos, de pelo que tiraba a rojizo y de caras aindiadas. Casi no hablaban. La mujer del capataz había muerto hace años.',\n",
       " '',\n",
       " 'Espinosa, en el campo, fue aprendiendo cosas que no sabía y que no sospechaba. Por ejemplo, que no hay que galopar cuando uno se está acercando a las casas y que nadie sale a andar a caballo sino para cumplir con una tarea. Con el tiempo llegaría a distinguir los pájaros por el grito.',\n",
       " '',\n",
       " 'A los pocos días, Daniel tuvo que ausentarse a la capital para cerrar una operación de animales. A lo sumo, el negocio le tomaría una semana. Espinosa, que ya estaba un poco harto de las bonnes fortunes de su primo y de su infatigable interés por las variaciones de la sastrería, prefirió quedarse en la estancia, con sus libros de texto. El calor apretaba y ni siquiera la noche traía un alivio. En el alba, los truenos lo despertaron. El viento zamarreaba las casuarinas. Espinosa oyó las primeras gotas y dio gracias a Dios. El aire frío vino de golpe. Esa tarde, el Salado se desbordó.',\n",
       " '',\n",
       " 'Al otro día, Baltasar Espinosa, mirando desde la galería los campos anegados, pensó que la metáfora que equipara la pampa con el mar no era, por lo menos esa mañana, del todo falsa, aunque Hudson había dejado escrito que el mar nos parece más grande, porque lo vemos desde la cubierta del barco y no desde el caballo o desde nuestra altura. La lluvia no cejaba; los Gutres, ayudados o incomodados por el pueblero, salvaron buena parte de la hacienda, aunque hubo muchos animales ahogados. Los caminos para llegar a la estancia eran cuatro: a todos los cubrieron las aguas. Al tercer día, una gotera amenazó la casa del capataz; Espinosa les dio una habitación que quedaba en el fondo, al lado del galpón de las herramientas. La mudanza los fue acercando; comían juntos en el gran comedor. El diálogo resultaba difícil; los Gutres, que sabían tantas cosas en materia de campo, no sabían explicarlas. Una noche, Espinosa les preguntó si la gente guardaba algún recuerdo de los malones, cuando la comandancia estaba en Junín. Le dijeron que sí, pero lo mismo hubieran contestado a una pregunta sobre la ejecución de Carlos Primero. Espinosa recordó que su padre solía decir que casi todos los casos de longevidad que se dan en el campo son casos de mala memoria o de un concepto vago de las fechas. Los gauchos suelen ignorar por igual el año en que nacieron y el nombre de quien los engendró.',\n",
       " '',\n",
       " 'En toda la casa no había otros libros que una serie de la revista La Chacra, un manual de veterinaria, un ejemplar de lujo del Tabaré, una Historia del Shorthorn en la Argentina, unos cuantos relatos eróticos o policiales y una novela reciente: Don Segundo Sombra. Espinosa, para distraer de algún modo la sobremesa inevitable, leyó un par de capítulos a los Gutres, que eran analfabetos. Desgraciadamente, el capataz había sido tropero y no le podían importar las andanzas de otro. Dijo que ese trabajo era liviano, que llevaban siempre un carguero con todo lo que se precisa y que, de no haber sido tropero, no habría llegado nunca hasta la Laguna de Gómez, hasta el Bragado y hasta los campos de los Núñez, en Chacabuco. En la cocina había una guitarra; los peones, antes de los hechos que narro, se sentaban en rueda; alguien la templaba y no llegaba nunca a tocar. Esto se llamaba una guitarreada.',\n",
       " '',\n",
       " 'Espinosa, que se había dejado crecer la barba, solía demorarse ante el espejo para mirar su cara cambiada y sonreía al pensar que en Buenos Aires aburriría a los muchachos con el relato de la inundación del Salado. Curiosamente, extrañaba lugares a los que no iba nunca y no iría: una esquina de la calle Cabrera en la que hay un buzón, unos leones de mampostería en un portón de la calle Jujuy, a unas cuadras del Once, un almacén con piso de baldosa que no sabía muy bien dónde estaba. En cuanto a sus hermanos y a su padre, ya sabrían por Daniel que estaba aislado -la palabra, etimológicamente, era justa- por la creciente.',\n",
       " '',\n",
       " 'Explorando la casa, siempre cercada por las aguas, dio con una Biblia en inglés. En las páginas finales los Guthrie -tal era su nombre genuino- habían dejado escrita su historia. Eran oriundos de Inverness, habían arribado a este continente, sin duda como peones, a principios del siglo diecinueve, y se habían cruzado con indios. La crónica cesaba hacia mil ochocientos setenta y tantos; ya no sabían escribir. Al cabo de unas pocas generaciones habían olvidado el inglés; el castellano, cuando Espinosa los conoció, les daba trabajo. Carecían de fe, pero en su sangre perduraban, como rastros oscuros, el duro fanatismo del calvinista y las supersticiones del pampa. Espinosa les habló de su hallazgo y casi no escucharon.',\n",
       " '',\n",
       " 'Hojeó el volumen y sus dedos lo abrieron en el comienzo del Evangelio según Marcos. Para ejercitarse en la traducción y acaso para ver si entendían algo, decidió leerles ese texto después de la comida. Le sorprendió que lo escucharan con atención y luego con callado interés. Acaso la presencia de las letras de oro en la tapa le diera más autoridad. Lo llevan en la sangre, pensó. También se le ocurrió que los hombres, a lo largo del tiempo, han repetido siempre dos historias: la de un bajel perdido que busca por los mares mediterráneos una isla querida, y la de un dios que se hace crucificar en el Gólgota. Recordó las clases de elocución en Ramos Mejía y se ponía de pie para predicar las parábolas.',\n",
       " '',\n",
       " 'Los Gutres despachaban la carne asada y las sardinas para no demorar el Evangelio.',\n",
       " '',\n",
       " 'Una corderita que la muchacha mimaba y adornaba con una cintita celeste se lastimó con un alambrado de púa. Para parar la sangre, querían ponerle una telaraña; Espinosa la curó con unas pastillas. La gratitud que esa curación despertó no dejó de asombrarlo. Al principio, había desconfiado de los Gutres y había escondido en uno de sus libros los doscientos cuarenta pesos que llevaba consigo; ahora, ausente el patrón, él había tomado su lugar y daba órdenes tímidas, que eran inmediatamente acatadas. Los Gutres lo seguían por las piezas y por el corredor, como si anduvieran perdidos. Mientras leía, notó que le retiraban las migas que él había dejado sobre la mesa. Una tarde los sorprendió hablando de él con respeto y pocas palabras. Concluido el Evangelio según Marcos, quiso leer otro de los tres que faltaban; el padre le pidió que repitiera el que ya había leído, para entenderlo bien. Espinosa sintió que eran como niños, a quienes la repetición les agrada más que la variación o la novedad. Una noche soñó con el Diluvio, lo cual no es de extrañar; los martillazos de la fabricación del arca lo despertaron y pensó que acaso eran truenos. En efecto, la lluvia, que había amainado, volvió a recrudecer. El frío era intenso. Le dijeron que el temporal había roto el techo del galpón de las herramientas y que iban a mostrárselo cuando estuvieran arregladas las vigas. Ya no era un forastero y todos lo trataban con atención y casi lo mimaban. A ninguno le gustaba el café, pero había siempre un tacita para él, que colmaban de azúcar.',\n",
       " '',\n",
       " 'El temporal ocurrió un martes. El jueves a la noche lo recordó un golpecito suave en la puerta que, por las dudas, él siempre cerraba con llave. Se levantó y abrió: era la muchacha. En la oscuridad no la vio, pero por los pasos notó que estaba descalza y después, en el lecho, que había venido desde el fondo, desnuda. No lo abrazó, no dijo una sola palabra; se tendió junto a él y estaba temblando. Era la primera vez que conocía a un hombre. Cuando se fue, no le dio un beso; Espinosa pensó que ni siquiera sabía cómo se llamaba. Urgido por una íntima razón que no trató de averiguar, juró que en Buenos Aires no le contaría a nadie esa historia.',\n",
       " '',\n",
       " 'El día siguiente comenzó como los anteriores, salvo que el padre habló con Espinosa y le preguntó si Cristo se dejó matar para salvar a todos los hombres. Espinosa, que era librepensador pero que se vio obligado a justificar lo que les había leído, le contestó:',\n",
       " '',\n",
       " '-Sí. Para salvar a todos del infierno.',\n",
       " '',\n",
       " 'Gutre le dijo entonces:',\n",
       " '',\n",
       " '-¿Qué es el infierno?',\n",
       " '',\n",
       " '-Un lugar bajo tierra donde las ánimas arderán y arderán.',\n",
       " '',\n",
       " '-¿Y también se salvaron los que le clavaron los clavos?',\n",
       " '',\n",
       " '-Sí -replicó Espinosa, cuya teología era incierta.',\n",
       " '',\n",
       " 'Había temido que el capataz le exigiera cuentas de lo ocurrido anoche con su hija. Después del almuerzo, le pidieron que releyera los últimos capítulos. Espinosa durmió una siesta larga, un leve sueño interrumpido por persistentes martillos y por vagas premoniciones. Hacia el atardecer se levantó y salió al corredor. Dijo como si pensara en voz alta:',\n",
       " '',\n",
       " '-Las aguas están bajas. Ya falta poco.',\n",
       " '',\n",
       " '-Ya falta poco -repitió Gutrel, como un eco.',\n",
       " '',\n",
       " 'Los tres lo habían seguido. Hincados en el piso de piedra le pidieron la bendición. Después lo maldijeron, lo escupieron y lo empujaron hasta el fondo. La muchacha lloraba. Espinosa entendió lo que le esperaba del otro lado de la puerta. Cuando la abrieron, vio el firmamento. Un pájaro gritó; pensó: es un jilguero. El galpón estaba sin techo; habían arrancado las vigas para construir la Cruz.',\n",
       " '',\n",
       " 'FIN',\n",
       " 'FUNES EL MEMORIOSO',\n",
       " 'Jorge Luis Borges',\n",
       " '',\n",
       " 'Lo recuerdo (yo no tengo derecho a pronunciar ese verbo sagrado, sólo un hombre en la tierra tuvo derecho y ese hombre ha muerto) con una oscura pasionaria en la mano, viéndola como nadie la ha visto, aunque la mirara desde el crepúsculo del día hasta el de la noche, toda una vida entera. Lo recuerdo, la cara taciturna y aindiada y singularmente remota, detrás del cigarrillo. Recuerdo (creo) sus manos afiladas de trenzador. Recuerdo cerca de esas manos un mate, con las armas de la Banda Oriental; recuerdo en la ventana de la casa una estera amarilla, con un vago paisaje lacustre. Recuerdo claramente su voz; la voz pausada, resentida y nasal del orillero antiguo, sin los silbidos italianos de ahora. Más de tres veces no lo vi; la última, en 1887... Me parece muy feliz el proyecto de que todos aquellos que lo trataron escriban sobre él; mi testimonio será acaso el más breve y sin duda el más pobre, pero no el menos imparcial del volumen que editarán ustedes. Mi deplorable condición de argentino me impedirá incurrir en el ditirambo —género obligatorio en el Uruguay, cuando el tema es un uruguayo. Literato, cajetilla, porteño: Funes no dijo esas injuriosas palabras, pero de un modo suficiente me consta que yo representaba para él esas desventuras. Pedro Leandro Ipuche ha escrito que Funes era un precursor de los superhombres; “Un Zarathustra cimarrón y vernáculo”; no lo discuto, pero no hay que olvidar que era también un compadrito de Fray Bentos, con ciertas incurables limitaciones.',\n",
       " '         Mi primer recuerdo de Funes es muy perspicuo. Lo veo en un atardecer de marzo o febrero del año ochenta y cuatro. Mi padre, ese año, me había llevado a veranear a Fray Bentos. Yo volvía con mi primo Bernardo Haedo de la estancia de San Francisco. Volvíamos cantando, a caballo, y ésa no era la única circunstancia de mi felicidad. Después de un día bochornoso, una enorme tormenta color pizarra había escondido el cielo. La alentaba el viento del Sur, ya se enloquecían los árboles; yo tenía el temor (la esperanza) de que nos sorprendiera en un descampado el agua elemental. Corrimos una especie de carrera con la tormenta. Entramos en un callejón que se ahondaba entre dos veredas altísimas de ladrillo. Había oscurecido de golpe; oí rápidos y casi secretos pasos en lo alto; alcé los ojos y .vi un muchacho que corría por la estrecha y rota vereda como por una estrecha y rota pared. Recuerdo la bombacha, las alpargatas, recuerdo el cigarrillo en el duro rostro, contra el nubarrón ya sin límites. Bernardo le gritó imprevisiblemente: ¿Qué horas son, Ireneo? Sin consultar el cielo, sin detenerse, el otro respondió: Faltan cuatro mínutos para las ocho, joven Bernardo Juan Francisco. La voz era aguda, burlona.',\n",
       " '         Yo soy tan distraído que el diálogo que acabo de referir no me hubiera llamado la atención si no lo hubiera recalcado mi primo, a quien estimulaban (creo) cierto orgullo local, y el deseo de mostrarse indiferente a la réplica tripartita del otro.',\n",
       " \"         Me dijo que el muchacho del callejón era un tal Ireneo Funes, mentado por algunas rarezas como la de no darse con nadie y la de saber siempre la hora, como un reloj. Agregó que era hijo de una planchadora del pueblo, María Clementina Funes, y que algunos decían que su padre era un médico del saladero, un inglés O'Connor, y otros un domador o rastreador del departamento del Salto. Vivía con su madre, a la vuelta de la quinta de los Laureles.\",\n",
       " '         Los años ochenta y cinco y ochenta y seis veraneamos en la ciudad de Montevideo. El ochenta y siete volví a Fray Bentos. Pregunté, como es natural, por todos los conocidos y, finalmente, por el “cronométrico Funes”. Me contestaron que lo había volteado un redomón en la estancia de San Francisco, y que había quedado tullido, sin esperanza. Recuerdo la impresión de incómoda magia que la noticia me produjo: la única vez que yo lo vi, veníamos a caballo de San Francisco y él andaba en un lugar alto; el hecho, en boca de mi primo Bernardo, tenía mucho de sueño elaborado con elementos anteriores. Me dijeron que no se movía del catre, puestos los ojos en.la higuera del fondo o en una telaraña. En los atardeceres, permitía que lo sacaran a la ventana. Llevaba la soberbia hasta el punto de simular que era benéfico el golpe que lo había fulminado... Dos veces lo vi atrás de la reja, que burdamente recalcaba su condición de eterno prisionero: una, inmóvil, con los ojos cerrados; otra, inmóvil también, absorto en la contemplación de un oloroso gajo de santonina.',\n",
       " '         No sin alguna vanagloria yo había iniciado en aquel tiempo el estudio metódico del latin. Mi valija incluía el De viris illustribus de Lhomond, el Thesaurus de Quicherat, los comentarios de Julio César y un volumen impar de la Naturalis historia de Plinio, que excedía (y sigue excediendo) mis módicas virtudes de latinista. Todo se propala en un pueblo chico; Ireneo, en su rancho de las orillas, no tardó en enterarse del arribo de esos libros anómalos. Me dirigió una carta florida y ceremoniosa, en la que recordaba nuestro encuentro, desdichadamente fugaz, “del día siete de febrero del año ochenta y cuatro”, ponderaba los gloriosos servicios que don Gregorio Haedo, mi tío, finado ese mismo año, “había prestado a las dos patrias en la valerosa jornada de Ituzaingó”, y me solicitaba el préstamo de cualquiera de los volúmenes, acompañado de un diccionario “para la buena inteligencia del texto original, porque todavía ignoro el latín”. Prometía devolverlos en buen estado, casi inmediatamente. La letra era perfecta, muy perfilada; la ortografía, del tipo que Andrés Bello preconizó: i por y, j por g. Al principio, temí naturalmente una broma. Mis primos me aseguraron que no, que eran cosas de Ireneo. No supe si atribuir a descaro, a ignorancia o a estupidez la idea de que el arduo latín no requería más instrumento que un diccionario; para desengañarlo con plenitud le mandé el Gradus ad Parnassum de Quicherat. y la obra de Plinio:',\n",
       " '         El catorce de febrero me telegrafiaron de Buenos Aires que volviera inmediatamente, porque mi padre no estaba “nada bien”. Dios me perdone; el prestigio de ser el destinatario de un telegrama urgente, el deseo de comunicar a todo Fray Bentos la contradicción entre la forma negativa de la noticia y el perentorio adverbio, la tentación de dramatizar mi dolor, fingiendo un viril estoicismo, tal vez me distrajeron de toda posibilidad de dolor. Al hacer la valija, noté que me faltaban el Gradus y el primer tomo de la Naturalis historia. El “Saturno” zarpaba al día siguiente, por la mañana; esa noche, después de cenar, me encaminé a casa de Funes. Me asombró que la noche fuera no menos pesada que el día.',\n",
       " '         En el decente rancho, la madre de Funes me recibió. Me dijo que Ireneo estaba en la pieza del fondo y que no me extrañara encontrarla a oscuras, porque Ireneo sabía pasarse las horas muertas sin encender la vela. Atravesé el patio de baldosa, el corredorcito; llegué al segundo patio. Había una parra; la oscuridad pudo parecerme total. Oí de pronto la alta y burlona voz de Ireneo. Esa voz hablaba en latín; esa voz (que venía de la tiniebla) articulaba con moroso deleite un discurso o plegaria o incantación. Resonaron las sílabas romanas en el patio de tierra; mi temor las creía indescifrables, interminables; después, en el enorme diálogo de esa noche, supe que formaban el primer párrafo del vigésimocuarto capítulo del libro séptimo de la Naturalis historia. La materia de ese capítulo es la memoria; las palabras últimas fueron ut nihil non usdem verbis redderetur auditum.',\n",
       " '         Sin el menor cambio de voz, Ireneo me dijo que pasara. Estaba en el catre, fumando. Me parece que no le vi la cara hasta el alba; creo rememorar el ascua momentánea del cigarrillo. La pieza olía vagamente a humedad. Me senté; repetí la historia del telegrama y de la enfermedad de mi padre. Arribo, ahora, al más dificil punto de mi relato. Este (bueno es que ya lo sepa el lector) no tiene otro argumento que ese diálogo de hace ya medio siglo. No trataré de reproducir sus palabras, irrecuperables ahora. Prefiero resumir con veracidad las muchas cosas que me dijo Ireneo. El estilo indirecto es remoto y débil; yo sé que sacrifico la eficacia de mi relato; que mis lectores se imaginen los entrecortados períodos que me abrumaron esa noche.',\n",
       " '         Ireneo empezó por enumerar, en latín y español, los casos de memoria prodigiosa registrados por la Naturalis historia: Ciro, rey de los persas, que sabía llamar por su nombre a todos los soldados de sus ejércitos; Mitrídates Eupator, que administraba la justicia en los 22 idiomas de su imperio; Simónides, inventor de la mnemotecnia; Metrodoro, que profesaba el arte de repetir con fidelidad lo escuchado una sola vez. Con evidente buena fe se maravilló de que tales casos maravillaran. Me dijo que antes de esa tarde lluviosa en que lo volteó el azulejo, él había sido lo que son todos los cristianos: un ciego, un sordo, un abombado, un desmemoriado. (Traté de recordarle su percepción exacta del tiempo, su memoria de nombres propios; no me hizo caso.) Diecinueve años había vivido como quien sueña: miraba sin ver, oía sin oír, se olvidaba de todo, de casi todo. Al caer, perdió el conocimiento; cuando lo recobró, el presente era casi intolerable de tan rico y tan nítido, y también las memorias más antiguas y más triviales. Poco después averiguó que estaba tullido. El hecho apenas le interesó. Razonó (sintió) que la inmovilidad era un precio mínimo. Ahora su percepción y su memoria eran infalibles.',\n",
       " '         Nosotros, de un vistazo, percibimos tres copas en una mesa; Funes, todos los vástagos y racimos y frutos que comprende una parra. Sabía las formas de las nubes australes del amanecer del treinta de abril de mil ochocientos ochenta y dos y podía compararlas en el recuerdo con las vetas de un libro en pasta española que sólo había mirado una vez y con las líneas de la espuma que un remo levantó en el Río Negro la víspera de la acción del Quebracho. Esos recuerdos no eran simples; cada imagen visual estaba ligada a sensaciones musculares, térmicas, etc. Podía reconstruir todos los sueños, todos los entresueños. Dos o tres veces había reconstruido un día entero; no había dudado nunca, pero cada reconstrucción había requerido un día entero. Me dijo: Más recuerdos tengo yo solo que los que habrán tenido todos los hombres desde que el mundo es mundo. Y también: Mis sueños son como 1a vigilia de ustedes. Y también, hacia el alba: Mi memoría, señor, es como vacíadero de basuras. Una circunferencia en un pizarrón, un triángulo rectángulo, un rombo, son formas que podemos intuir plenamente; lo mismo le pasaba a Ireneo con las aborrascadas crines de un potro, con una punta de ganado en una cuchilla, con el fuego cambiante y con la innumerable ceniza, con las muchas caras de un muerto en un largo velorio. No sé cuántas estrellas veía en el cielo.',\n",
       " '         Esas cosas me dijo; ni entonces ni después las he puesto en duda. En aquel tiempo no había cinematógrafos ni fonógrafos; es, sin embargo, inverosímil y hasta increíble que nadie hiciera un experimento con Funes. Lo cierto es que vivimos postergando todo lo postergable; tal vez todos sabemos profundamente que somos in—mortales y que tarde o temprano, todo hombre hará todas las cosas y sabrá todo.',\n",
       " '         La voz de Funes, desde la oscuridad, seguía hablando..',\n",
       " '         Me dijo que hacia 1886 había discurrido un sistema original de numeración y que en muy pocos días había rebasado el veinticuatro mil. No lo había escrito, porque lo pensado una sola vez ya no podía borrársele. Su primer estímulo, creo, fue el desagrado de que los treinta y tres orientales requirieran dos signos y tres palabras, en lugar de una sola palabra y un solo signo. Aplicó luego ese disparatado principio a los otros números. En lugar de siete mil trece, decía (por ejemplo) Máximo Pérez; en lugar de siete mil catorce, El Ferrocarril; otros números eran Luis Melián Lafinur, Olimar, azufre, los bastos, la ballena, gas, 1a caldera, Napoleón, Agustín vedia. En lugar de quinientos, decía nueve. Cada palabra tenía un signo particular, una especie marca; las últimas muy complicadas... Yo traté explicarle que esa rapsodia de voces inconexas era precisamente lo contrario sistema numeración. Le dije decir 365 tres centenas, seis decenas, cinco unidades; análisis no existe en los “números” El Negro Timoteo o manta de carne. Funes no me entendió o no quiso entenderme.',\n",
       " '         Locke, siglo XVII, postuló (y reprobó) idioma imposible en el que cada cosa individual, cada piedra, cada pájaro y cada rama tuviera nombre propio; Funes proyectó alguna vez un idioma análogo, pero lo desechó por parecerle demasiado general, demasiado ambiguo. En efecto, Funes no sólo recordaba cada hoja de cada árbol de cada monte, sino cada una de las veces que la había percibido o imaginado. Resolvió reducir cada una de sus jornadas pretéritas a unos setenta mil recuerdos, que definiría luego por cifras. Lo disuadieron dos consideraciones: la conciencia de que la tarea era interminable, la conciencia de que era inútil. Pensó que en la hora de la muerte no habría acabado aún de clasificar todos los recuerdos de la niñez.',\n",
       " '         Los dos proyectos que he indicado (un vocabulario infinito para serie natural de los números, un inútil catálogo mental de todas las imágenes del recuerdo) son insensatos, pero revelan cierta balbuciente grandeza. Nos dejan vislumbrar o inferir el vertiginoso mundo de Funes. Éste, no lo olvidemos, era casi incapaz de ideas generales, platónicas. No sólo le costaba comprender que el símbolo genérico perro abarcara tantos individuos dispares de diversos tamaños y diversa forma; le molestaba que el perro de las tres y catorce (visto de perfil) tuviera el mismo nombre que el perro de las tres y cuarto (visto de frente). Su propia cara en el espejo, sus propias manos, lo sorprendían cada vez. Refiere Swift que el emperador de Lilliput discernía el movimiento del minutero; Funes discernía continuamente los tranquilos avances de la corrupción, de las caries, de la fatiga. Notaba los progresos de la muerte, de la humedad. Era el solitario y lúcido espectador de un mundo multiforme, instantáneo y casi intolerablemente preciso. Babilonia, Londres y Nueva York han abrumado con feroz esplendor la imaginación de los hombres; nadie, en sus torres populosas o en sus avenidas urgentes, ha sentido el calor y la presión de una realidad tan infatigable como la que día y noche convergía sobre el infeliz Ireneo, en su pobre arrabal sudamericano. Le era muy difícil dormir. Dormir es distraerse del mundo; Funes, de espaldas en el catre, en la sombra, se figuraba cada grieta y cada moldura de las casas precisas que lo rodeaban. (Repito que el menos importante de sus recuerdos era más minucios y más vivo que nuestra percepción de un goce físico o de un tormento físico.) Hacia el Este, en un trecho no amanzanado, había casas nuevas, desconocidas. Funes las imaginaba negras, compactas, hechas de tiniebla homogénea; en esa dirección volvía la cara para dormir. También solía imaginarse en el fondo del río, mecido y anulado por la corriente.',\n",
       " '         Había aprendido sin esfuerzo el inglés, el francés, el portugués, el latín. Sospecho, sin embargo, que no era muy capaz de pensar. Pensar es olvidar diferencias, es generalizar, abstraer. En el abarrotado mundo de Funes no había sino detalles, casi inmediatos.',\n",
       " '         La recelosa claridad de la madrugada entró por el patio de tierra.',\n",
       " '         Entonces vi la cara de la voz que toda la noche había hablado. Ireneo tenía diecinueve años; había nacido en 1868; me pareció monumental como el bronce, más antiguo que Egipto, anterior a las profecías y a las pirámides. Pensé que cada una de mis palabras (que cada uno de mis gestos) perduraría en su implacable memoria; me entorpeció el temor de multiplicar ademanes inútiles.',\n",
       " '         Ireneo Funes murió en 1889, de una congestión pulmonar.',\n",
       " 'FUNES EL MEMORIOSO',\n",
       " 'Jorge Luis Borges',\n",
       " '',\n",
       " 'Lo recuerdo (yo no tengo derecho a pronunciar ese verbo sagrado, sólo un hombre en la tierra tuvo derecho y ese hombre ha muerto) con una oscura pasionaria en la mano, viéndola como nadie la ha visto, aunque la mirara desde el crepúsculo del día hasta el de la noche, toda una vida entera. Lo recuerdo, la cara taciturna y aindiada y singularmente remota, detrás del cigarrillo. Recuerdo (creo) sus manos afiladas de trenzador. Recuerdo cerca de esas manos un mate, con las armas de la Banda Oriental; recuerdo en la ventana de la casa una estera amarilla, con un vago paisaje lacustre. Recuerdo claramente su voz; la voz pausada, resentida y nasal del orillero antiguo, sin los silbidos italianos de ahora. Más de tres veces no lo vi; la última, en 1887... Me parece muy feliz el proyecto de que todos aquellos que lo trataron escriban sobre él; mi testimonio será acaso el más breve y sin duda el más pobre, pero no el menos imparcial del volumen que editarán ustedes. Mi deplorable condición de argentino me impedirá incurrir en el ditirambo —género obligatorio en el Uruguay, cuando el tema es un uruguayo. Literato, cajetilla, porteño: Funes no dijo esas injuriosas palabras, pero de un modo suficiente me consta que yo representaba para él esas desventuras. Pedro Leandro Ipuche ha escrito que Funes era un precursor de los superhombres; “Un Zarathustra cimarrón y vernáculo”; no lo discuto, pero no hay que olvidar que era también un compadrito de Fray Bentos, con ciertas incurables limitaciones.',\n",
       " '         Mi primer recuerdo de Funes es muy perspicuo. Lo veo en un atardecer de marzo o febrero del año ochenta y cuatro. Mi padre, ese año, me había llevado a veranear a Fray Bentos. Yo volvía con mi primo Bernardo Haedo de la estancia de San Francisco. Volvíamos cantando, a caballo, y ésa no era la única circunstancia de mi felicidad. Después de un día bochornoso, una enorme tormenta color pizarra había escondido el cielo. La alentaba el viento del Sur, ya se enloquecían los árboles; yo tenía el temor (la esperanza) de que nos sorprendiera en un descampado el agua elemental. Corrimos una especie de carrera con la tormenta. Entramos en un callejón que se ahondaba entre dos veredas altísimas de ladrillo. Había oscurecido de golpe; oí rápidos y casi secretos pasos en lo alto; alcé los ojos y .vi un muchacho que corría por la estrecha y rota vereda como por una estrecha y rota pared. Recuerdo la bombacha, las alpargatas, recuerdo el cigarrillo en el duro rostro, contra el nubarrón ya sin límites. Bernardo le gritó imprevisiblemente: ¿Qué horas son, Ireneo? Sin consultar el cielo, sin detenerse, el otro respondió: Faltan cuatro mínutos para las ocho, joven Bernardo Juan Francisco. La voz era aguda, burlona.',\n",
       " '         Yo soy tan distraído que el diálogo que acabo de referir no me hubiera llamado la atención si no lo hubiera recalcado mi primo, a quien estimulaban (creo) cierto orgullo local, y el deseo de mostrarse indiferente a la réplica tripartita del otro.',\n",
       " \"         Me dijo que el muchacho del callejón era un tal Ireneo Funes, mentado por algunas rarezas como la de no darse con nadie y la de saber siempre la hora, como un reloj. Agregó que era hijo de una planchadora del pueblo, María Clementina Funes, y que algunos decían que su padre era un médico del saladero, un inglés O'Connor, y otros un domador o rastreador del departamento del Salto. Vivía con su madre, a la vuelta de la quinta de los Laureles.\",\n",
       " '         Los años ochenta y cinco y ochenta y seis veraneamos en la ciudad de Montevideo. El ochenta y siete volví a Fray Bentos. Pregunté, como es natural, por todos los conocidos y, finalmente, por el “cronométrico Funes”. Me contestaron que lo había volteado un redomón en la estancia de San Francisco, y que había quedado tullido, sin esperanza. Recuerdo la impresión de incómoda magia que la noticia me produjo: la única vez que yo lo vi, veníamos a caballo de San Francisco y él andaba en un lugar alto; el hecho, en boca de mi primo Bernardo, tenía mucho de sueño elaborado con elementos anteriores. Me dijeron que no se movía del catre, puestos los ojos en.la higuera del fondo o en una telaraña. En los atardeceres, permitía que lo sacaran a la ventana. Llevaba la soberbia hasta el punto de simular que era benéfico el golpe que lo había fulminado... Dos veces lo vi atrás de la reja, que burdamente recalcaba su condición de eterno prisionero: una, inmóvil, con los ojos cerrados; otra, inmóvil también, absorto en la contemplación de un oloroso gajo de santonina.',\n",
       " '         No sin alguna vanagloria yo había iniciado en aquel tiempo el estudio metódico del latin. Mi valija incluía el De viris illustribus de Lhomond, el Thesaurus de Quicherat, los comentarios de Julio César y un volumen impar de la Naturalis historia de Plinio, que excedía (y sigue excediendo) mis módicas virtudes de latinista. Todo se propala en un pueblo chico; Ireneo, en su rancho de las orillas, no tardó en enterarse del arribo de esos libros anómalos. Me dirigió una carta florida y ceremoniosa, en la que recordaba nuestro encuentro, desdichadamente fugaz, “del día siete de febrero del año ochenta y cuatro”, ponderaba los gloriosos servicios que don Gregorio Haedo, mi tío, finado ese mismo año, “había prestado a las dos patrias en la valerosa jornada de Ituzaingó”, y me solicitaba el préstamo de cualquiera de los volúmenes, acompañado de un diccionario “para la buena inteligencia del texto original, porque todavía ignoro el latín”. Prometía devolverlos en buen estado, casi inmediatamente. La letra era perfecta, muy perfilada; la ortografía, del tipo que Andrés Bello preconizó: i por y, j por g. Al principio, temí naturalmente una broma. Mis primos me aseguraron que no, que eran cosas de Ireneo. No supe si atribuir a descaro, a ignorancia o a estupidez la idea de que el arduo latín no requería más instrumento que un diccionario; para desengañarlo con plenitud le mandé el Gradus ad Parnassum de Quicherat. y la obra de Plinio:',\n",
       " '         El catorce de febrero me telegrafiaron de Buenos Aires que volviera inmediatamente, porque mi padre no estaba “nada bien”. Dios me perdone; el prestigio de ser el destinatario de un telegrama urgente, el deseo de comunicar a todo Fray Bentos la contradicción entre la forma negativa de la noticia y el perentorio adverbio, la tentación de dramatizar mi dolor, fingiendo un viril estoicismo, tal vez me distrajeron de toda posibilidad de dolor. Al hacer la valija, noté que me faltaban el Gradus y el primer tomo de la Naturalis historia. El “Saturno” zarpaba al día siguiente, por la mañana; esa noche, después de cenar, me encaminé a casa de Funes. Me asombró que la noche fuera no menos pesada que el día.',\n",
       " '         En el decente rancho, la madre de Funes me recibió. Me dijo que Ireneo estaba en la pieza del fondo y que no me extrañara encontrarla a oscuras, porque Ireneo sabía pasarse las horas muertas sin encender la vela. Atravesé el patio de baldosa, el corredorcito; llegué al segundo patio. Había una parra; la oscuridad pudo parecerme total. Oí de pronto la alta y burlona voz de Ireneo. Esa voz hablaba en latín; esa voz (que venía de la tiniebla) articulaba con moroso deleite un discurso o plegaria o incantación. Resonaron las sílabas romanas en el patio de tierra; mi temor las creía indescifrables, interminables; después, en el enorme diálogo de esa noche, supe que formaban el primer párrafo del vigésimocuarto capítulo del libro séptimo de la Naturalis historia. La materia de ese capítulo es la memoria; las palabras últimas fueron ut nihil non usdem verbis redderetur auditum.',\n",
       " '         Sin el menor cambio de voz, Ireneo me dijo que pasara. Estaba en el catre, fumando. Me parece que no le vi la cara hasta el alba; creo rememorar el ascua momentánea del cigarrillo. La pieza olía vagamente a humedad. Me senté; repetí la historia del telegrama y de la enfermedad de mi padre. Arribo, ahora, al más dificil punto de mi relato. Este (bueno es que ya lo sepa el lector) no tiene otro argumento que ese diálogo de hace ya medio siglo. No trataré de reproducir sus palabras, irrecuperables ahora. Prefiero resumir con veracidad las muchas cosas que me dijo Ireneo. El estilo indirecto es remoto y débil; yo sé que sacrifico la eficacia de mi relato; que mis lectores se imaginen los entrecortados períodos que me abrumaron esa noche.',\n",
       " '         Ireneo empezó por enumerar, en latín y español, los casos de memoria prodigiosa registrados por la Naturalis historia: Ciro, rey de los persas, que sabía llamar por su nombre a todos los soldados de sus ejércitos; Mitrídates Eupator, que administraba la justicia en los 22 idiomas de su imperio; Simónides, inventor de la mnemotecnia; Metrodoro, que profesaba el arte de repetir con fidelidad lo escuchado una sola vez. Con evidente buena fe se maravilló de que tales casos maravillaran. Me dijo que antes de esa tarde lluviosa en que lo volteó el azulejo, él había sido lo que son todos los cristianos: un ciego, un sordo, un abombado, un desmemoriado. (Traté de recordarle su percepción exacta del tiempo, su memoria de nombres propios; no me hizo caso.) Diecinueve años había vivido como quien sueña: miraba sin ver, oía sin oír, se olvidaba de todo, de casi todo. Al caer, perdió el conocimiento; cuando lo recobró, el presente era casi intolerable de tan rico y tan nítido, y también las memorias más antiguas y más triviales. Poco después averiguó que estaba tullido. El hecho apenas le interesó. Razonó (sintió) que la inmovilidad era un precio mínimo. Ahora su percepción y su memoria eran infalibles.',\n",
       " '         Nosotros, de un vistazo, percibimos tres copas en una mesa; Funes, todos los vástagos y racimos y frutos que comprende una parra. Sabía las formas de las nubes australes del amanecer del treinta de abril de mil ochocientos ochenta y dos y podía compararlas en el recuerdo con las vetas de un libro en pasta española que sólo había mirado una vez y con las líneas de la espuma que un remo levantó en el Río Negro la víspera de la acción del Quebracho. Esos recuerdos no eran simples; cada imagen visual estaba ligada a sensaciones musculares, térmicas, etc. Podía reconstruir todos los sueños, todos los entresueños. Dos o tres veces había reconstruido un día entero; no había dudado nunca, pero cada reconstrucción había requerido un día entero. Me dijo: Más recuerdos tengo yo solo que los que habrán tenido todos los hombres desde que el mundo es mundo. Y también: Mis sueños son como 1a vigilia de ustedes. Y también, hacia el alba: Mi memoría, señor, es como vacíadero de basuras. Una circunferencia en un pizarrón, un triángulo rectángulo, un rombo, son formas que podemos intuir plenamente; lo mismo le pasaba a Ireneo con las aborrascadas crines de un potro, con una punta de ganado en una cuchilla, con el fuego cambiante y con la innumerable ceniza, con las muchas caras de un muerto en un largo velorio. No sé cuántas estrellas veía en el cielo.',\n",
       " '         Esas cosas me dijo; ni entonces ni después las he puesto en duda. En aquel tiempo no había cinematógrafos ni fonógrafos; es, sin embargo, inverosímil y hasta increíble que nadie hiciera un experimento con Funes. Lo cierto es que vivimos postergando todo lo postergable; tal vez todos sabemos profundamente que somos in—mortales y que tarde o temprano, todo hombre hará todas las cosas y sabrá todo.',\n",
       " '         La voz de Funes, desde la oscuridad, seguía hablando..',\n",
       " '         Me dijo que hacia 1886 había discurrido un sistema original de numeración y que en muy pocos días había rebasado el veinticuatro mil. No lo había escrito, porque lo pensado una sola vez ya no podía borrársele. Su primer estímulo, creo, fue el desagrado de que los treinta y tres orientales requirieran dos signos y tres palabras, en lugar de una sola palabra y un solo signo. Aplicó luego ese disparatado principio a los otros números. En lugar de siete mil trece, decía (por ejemplo) Máximo Pérez; en lugar de siete mil catorce, El Ferrocarril; otros números eran Luis Melián Lafinur, Olimar, azufre, los bastos, la ballena, gas, 1a caldera, Napoleón, Agustín vedia. En lugar de quinientos, decía nueve. Cada palabra tenía un signo particular, una especie marca; las últimas muy complicadas... Yo traté explicarle que esa rapsodia de voces inconexas era precisamente lo contrario sistema numeración. Le dije decir 365 tres centenas, seis decenas, cinco unidades; análisis no existe en los “números” El Negro Timoteo o manta de carne. Funes no me entendió o no quiso entenderme.',\n",
       " '         Locke, siglo XVII, postuló (y reprobó) idioma imposible en el que cada cosa individual, cada piedra, cada pájaro y cada rama tuviera nombre propio; Funes proyectó alguna vez un idioma análogo, pero lo desechó por parecerle demasiado general, demasiado ambiguo. En efecto, Funes no sólo recordaba cada hoja de cada árbol de cada monte, sino cada una de las veces que la había percibido o imaginado. Resolvió reducir cada una de sus jornadas pretéritas a unos setenta mil recuerdos, que definiría luego por cifras. Lo disuadieron dos consideraciones: la conciencia de que la tarea era interminable, la conciencia de que era inútil. Pensó que en la hora de la muerte no habría acabado aún de clasificar todos los recuerdos de la niñez.',\n",
       " '         Los dos proyectos que he indicado (un vocabulario infinito para serie natural de los números, un inútil catálogo mental de todas las imágenes del recuerdo) son insensatos, pero revelan cierta balbuciente grandeza. Nos dejan vislumbrar o inferir el vertiginoso mundo de Funes. Éste, no lo olvidemos, era casi incapaz de ideas generales, platónicas. No sólo le costaba comprender que el símbolo genérico perro abarcara tantos individuos dispares de diversos tamaños y diversa forma; le molestaba que el perro de las tres y catorce (visto de perfil) tuviera el mismo nombre que el perro de las tres y cuarto (visto de frente). Su propia cara en el espejo, sus propias manos, lo sorprendían cada vez. Refiere Swift que el emperador de Lilliput discernía el movimiento del minutero; Funes discernía continuamente los tranquilos avances de la corrupción, de las caries, de la fatiga. Notaba los progresos de la muerte, de la humedad. Era el solitario y lúcido espectador de un mundo multiforme, instantáneo y casi intolerablemente preciso. Babilonia, Londres y Nueva York han abrumado con feroz esplendor la imaginación de los hombres; nadie, en sus torres populosas o en sus avenidas urgentes, ha sentido el calor y la presión de una realidad tan infatigable como la que día y noche convergía sobre el infeliz Ireneo, en su pobre arrabal sudamericano. Le era muy difícil dormir. Dormir es distraerse del mundo; Funes, de espaldas en el catre, en la sombra, se figuraba cada grieta y cada moldura de las casas precisas que lo rodeaban. (Repito que el menos importante de sus recuerdos era más minucios y más vivo que nuestra percepción de un goce físico o de un tormento físico.) Hacia el Este, en un trecho no amanzanado, había casas nuevas, desconocidas. Funes las imaginaba negras, compactas, hechas de tiniebla homogénea; en esa dirección volvía la cara para dormir. También solía imaginarse en el fondo del río, mecido y anulado por la corriente.',\n",
       " '         Había aprendido sin esfuerzo el inglés, el francés, el portugués, el latín. Sospecho, sin embargo, que no era muy capaz de pensar. Pensar es olvidar diferencias, es generalizar, abstraer. En el abarrotado mundo de Funes no había sino detalles, casi inmediatos.',\n",
       " '         La recelosa claridad de la madrugada entró por el patio de tierra.',\n",
       " '         Entonces vi la cara de la voz que toda la noche había hablado. Ireneo tenía diecinueve años; había nacido en 1868; me pareció monumental como el bronce, más antiguo que Egipto, anterior a las profecías y a las pirámides. Pensé que cada una de mis palabras (que cada uno de mis gestos) perduraría en su implacable memoria; me entorpeció el temor de multiplicar ademanes inútiles.',\n",
       " '         Ireneo Funes murió en 1889, de una congestión pulmonar.',\n",
       " 'LA BIBLIOTECA DE BABEL',\n",
       " 'Jorge Luis Borges',\n",
       " 'El universo (que otros llaman la Biblioteca) se compone de un número indefinido, y',\n",
       " 'tal vez infinito, de galerías hexagonales, con vastos pozos de ventilación en el medio,',\n",
       " 'cercados por barandas bajísimas. Desde cualquier hexágono se ven los pisos inferiores y',\n",
       " 'superiores: interminablemente. La distribución de las galerías es invariable. Veinte',\n",
       " 'anaqueles, a cinco largos anaqueles por lado, cubren todos los lados menos dos; su altura,',\n",
       " 'que es la de los pisos, excede apenas la de un bibliotecario normal. Una de las caras libres',\n",
       " 'da a un angosto zaguán, que desemboca en otra galería, idéntica a la primera y a todas. A',\n",
       " 'izquierda y a derecha del zaguán hay dos gabinetes minúsculos. Uno permite dormir de',\n",
       " 'pie; otro, satisfacer las necesidades finales. Por ahí pasa la escalera espiral, que se abisma',\n",
       " 'y se eleva hacia lo remoto. En el zaguán hay un espejo, que fielmente duplica las',\n",
       " 'apariencias. Los hombres suelen inferir de ese espejo que la Biblioteca no es infinita (si',\n",
       " 'lo fuera realmente ¿a qué esa duplicación ilusoria?); yo prefiero soñar que las superficies',\n",
       " 'bruñidas figuran y prometen el infinito... La luz procede de unas frutas esféricas que',\n",
       " 'llevan el nombre de lámparas. Hay dos en cada hexágono: transversales. La luz que',\n",
       " 'emiten es insuficiente, incesante.',\n",
       " 'Como todos los hombres de la Biblioteca, he viajado en mi juventud; he peregrinado',\n",
       " 'en busca de un libro, acaso del catálogo de catálogos; ahora que mis ojos casi no pueden',\n",
       " 'descifrar lo que escribo, me preparo a morir a unas pocas leguas del hexágono en que',\n",
       " 'nací. Muerto, no faltarán manos piadosas que me tiren por la baranda; mi sepultura será',\n",
       " 'el aire insondable; mi cuerpo se hundirá largamente y se corromperá y disolverá en el',\n",
       " 'viento engendrado por la caída, que es infinita. Yo afirmo que la Biblioteca es',\n",
       " 'interminable. Los idealistas arguyen que las salas hexagonales son una forma necesaria',\n",
       " 'del espacio absoluto o, por lo menos, de nuestra intuición del espacio. Razonan que es',\n",
       " 'inconcebible una sala triangular o pentagonal. (Los místicos pretenden que el éxtasis les',\n",
       " 'revela una cámara circular con un gran libro circular de lomo continuo, que da toda la',\n",
       " 'vuelta de las paredes; pero su testimonio es sospechoso; sus palabras, oscuras. Ese libro',\n",
       " 'cíclico es Dios.) Básteme, por ahora, repetir el dictamen clásico: La Biblioteca es una',\n",
       " 'esfera cuyo centro cabal es cualquier hexágono, cuya circunferencia es inaccesible.',\n",
       " 'A cada uno de los muros de cada hexágono corresponden cinco anaqueles; cada',\n",
       " 'anaquel encierra treinta y dos libros de formato uniforme; cada libro es de cuatrocientas',\n",
       " 'diez páginas; cada página, de cuarenta renglones; cada renglón, de unas ochenta letras de',\n",
       " 'color negro. También hay letras en el dorso de cada libro; esas letras no indican o',\n",
       " 'prefiguran lo que dirán las páginas. Sé que esa inconexión, alguna vez, pareció',\n",
       " 'misteriosa. Antes de resumir la solución (cuyo descubrimiento, a pesar de sus trágicas',\n",
       " 'proyecciones, es quizá el hecho capital de la historia) quiero rememorar algunos axiomas.',\n",
       " 'El primero: La Biblioteca existe ab aeterno. De esa verdad cuyo colorario inmediato es',\n",
       " 'la eternidad futura del mundo, ninguna mente razonable puede dudar. El hombre, el',\n",
       " 'imperfecto bibliotecario, puede ser obra del azar o de los demiurgos malévolos; el',\n",
       " 'universo, con su elegante dotación de anaqueles, de tomos enigmáticos, de infatigables',\n",
       " 'escaleras para el viajero y de letrinas para el bibliotecario sentado, sólo puede ser obra de',\n",
       " 'un dios. Para percibir la distancia que hay entre lo divino y lo humano, basta comparar ',\n",
       " 'estos rudos símbolos trémulos que mi falible mano garabatea en la tapa de un libro, con',\n",
       " 'las letras orgánicas del interior: puntuales, delicadas, negrísimas, inimitablemente',\n",
       " 'simétricas.',\n",
       " 'El segundo: El número de símbolos ortográficos es veinticinco. Esa comprobación',\n",
       " 'permitió, hace trescientos años, formular una teoría general de la Biblioteca y resolver',\n",
       " 'satisfactoriamente el problema que ninguna conjetura había descifrado: la naturaleza',\n",
       " 'informe y caótica de casi todos los libros. Uno, que mi padre vio en un hexágono del',\n",
       " 'circuito quince noventa y cuatro, constaba de las letras MCV perversamente repetidas',\n",
       " 'desde el renglón primero hasta el último. Otro (muy consultado en esta zona) es un mero',\n",
       " 'laberinto de letras, pero la página penúltima dice «Oh tiempo tus pirámides». Ya se sabe:',\n",
       " 'por una línea razonable o una recta noticia hay leguas de insensatas cacofonías, de',\n",
       " 'fárragos verbales y de incoherencias. (Yo sé de una región cerril cuyos bibliotecarios',\n",
       " 'repudian la supersticiosa y vana costumbre de buscar sentido en los libros y la equiparan',\n",
       " 'a la de buscarlo en los sueños o en las líneas caóticas de la mano... Admiten que los',\n",
       " 'inventores de la escritura imitaron los veinticinco símbolos naturales, pero sostienen que',\n",
       " 'esa aplicación es casual y que los libros nada significan en sí. Ese dictamen, ya veremos',\n",
       " 'no es del todo falaz.)',\n",
       " 'Durante mucho tiempo se creyó que esos libros impenetrables correspondían a lenguas',\n",
       " 'pretéritas o remotas. Es verdad que los hombres más antiguos, los primeros',\n",
       " 'bibliotecarios, usaban un lenguaje asaz diferente del que hablamos ahora; es verdad que',\n",
       " 'unas millas a la derecha la lengua es dialectal y que noventa pisos más arriba, es',\n",
       " 'incomprensible. Todo eso, lo repito, es verdad, pero cuatrocientas diez páginas de',\n",
       " 'inalterables MCV no pueden corresponder a ningún idioma, por dialectal o rudimentario',\n",
       " 'que sea. Algunos insinuaron que cada letra podía influir en la subsiguiente y que el valor',\n",
       " 'de MCV en la tercera línea de la página 71 no era el que puede tener la misma serie en',\n",
       " 'otra posición de otra página, pero esa vaga tesis no prosperó. Otros pensaron en',\n",
       " 'criptografías; universalmente esa conjetura ha sido aceptada, aunque no en el sentido en',\n",
       " 'que la formularon sus inventores.',\n",
       " 'Hace quinientos años, el jefe de un hexágono superior dio con un libro tan confuso',\n",
       " 'como los otros, pero que tenía casi dos hojas de líneas homogéneas. Mostró su hallazgo a',\n",
       " 'un descifrador ambulante, que le dijo que estaban redactadas en portugués; otros le',\n",
       " 'dijeron que en yiddish. Antes de un siglo pudo establecerse el idioma: un dialecto',\n",
       " 'samoyedo-lituano del guaraní, con inflexiones de árabe clásico. También se descifró el',\n",
       " 'contenido: nociones de análisis combinatorio, ilustradas por ejemplos de variaciones con',\n",
       " 'repetición ilimitada. Esos ejemplos permitieron que un bibliotecario de genio descubriera',\n",
       " 'la ley fundamental de la Biblioteca. Este pensador observó que todos los libros, por',\n",
       " 'diversos que sean, constan de elementos iguales: el espacio, el punto, la coma, las',\n",
       " 'veintidós letras del alfabeto. También alegó un hecho que todos los viajeros han',\n",
       " 'confirmado: No hay en la vasta Biblioteca, dos libros idénticos. De esas premisas',\n",
       " 'incontrovertibles dedujo que la Biblioteca es total y que sus anaqueles registran todas las',\n",
       " 'posibles combinaciones de los veintitantos símbolos ortográficos (número, aunque',\n",
       " 'vastísimo, no infinito) o sea todo lo que es dable expresar: en todos los idiomas. Todo: la',\n",
       " 'historia minuciosa del porvenir, las autobiografías de los arcángeles, el catálogo fiel de la',\n",
       " 'Biblioteca, miles y miles de catálogos falsos, la demostración de la falacia de esos',\n",
       " 'catálogos, la demostración de la falacia del catálogo verdadero, el evangelio gnóstico de',\n",
       " 'Basilides, el comentario de ese evangelio, el comentario del comentario de ese evangelio, ',\n",
       " 'la relación verídica de tu muerte, la versión de cada libro a todas las lenguas, las',\n",
       " 'interpolaciones de cada libro en todos los libros, el tratado que Beda pudo escribir (y no',\n",
       " 'escribió) sobre la mitología de los sajones, los libros perdidos de Tácito.',\n",
       " 'Cuando se proclamó que la Biblioteca abarcaba todos los libros, la primera impresión',\n",
       " 'fue de extravagante felicidad. Todos los hombres se sintieron señores de un tesoro intacto',\n",
       " 'y secreto. No había problema personal o mundial cuya elocuente solución no existiera: en',\n",
       " 'algún hexágono. El universo estaba justificado, el universo bruscamente usurpó las',\n",
       " 'dimensiones ilimitadas de la esperanza. En aquel tiempo se habló mucho de las',\n",
       " 'Vindicaciones: libros de apología y de profecía, que para siempre vindicaban los actos de',\n",
       " 'cada hombre del universo y guardaban arcanos prodigiosos para su porvenir. Miles de',\n",
       " 'codiciosos abandonaron el dulce hexágono natal y se lanzaron escaleras arriba, urgidos',\n",
       " 'por el vano propósito de encontrar su Vindicación. Esos peregrinos disputaban en los',\n",
       " 'corredores estrechos, proferían oscuras maldiciones, se estrangulaban en las escaleras',\n",
       " 'divinas, arrojaban los libros engañosos al fondo de los túneles, morían despeñados por los',\n",
       " 'hombres de regiones remotas. Otros se enloquecieron... Las Vindicaciones existen (yo he',\n",
       " 'visto dos que se refieren a personas del porvenir, a personas acaso no imaginarias) pero',\n",
       " 'los buscadores no recordaban que la posibilidad de que un hombre encuentre la suya, o',\n",
       " 'alguna pérfida variación de la suya, es computable en cero.',\n",
       " 'También se esperó entonces la aclaración de los misterios básicos de la humanidad: el',\n",
       " 'origen de la Biblioteca y del tiempo. Es verosímil que esos graves misterios puedan',\n",
       " 'explicarse en palabras: si no basta el lenguaje de los filósofos, la multiforme Biblioteca',\n",
       " 'habrá producido el idioma inaudito que se requiere y los vocabularios y gramáticas de ese',\n",
       " 'idioma. Hace ya cuatro siglos que los hombres fatigan los hexágonos... Hay buscadores',\n",
       " 'oficiales, inquisidores. Yo los he visto en el desempeño de su función: llegan siempre',\n",
       " 'rendidos; hablan de una escalera sin peldaños que casi los mató; hablan de galerías y de',\n",
       " 'escaleras con el bibliotecario; alguna vez, toman el libro más cercano y lo hojean, en',\n",
       " 'busca de palabras infames. Visiblemente, nadie espera descubrir nada.',\n",
       " 'A la desaforada esperanza, sucedió, como es natural, una depresión excesiva. La',\n",
       " 'certidumbre de que algún anaquel en algún hexágono encerraba libros preciosos y de que',\n",
       " 'esos libros preciosos eran inaccesibles, pareció casi intolerable. Una secta blasfema',\n",
       " 'sugirió que cesaran las buscas y que todos los hombres barajaran letras y símbolos, hasta',\n",
       " 'construir, mediante un improbable don del azar, esos libros canónicos. Las autoridades se',\n",
       " 'vieron obligadas a promulgar órdenes severas. La secta desapareció, pero en mi niñez he',\n",
       " 'visto hombres viejos que largamente se ocultaban en las letrinas, con unos discos de',\n",
       " 'metal en un cubilete prohibido, y débilmente remedaban el divino desorden.',\n",
       " 'Otros, inversamente, creyeron que lo primordial era eliminar las obras inútiles.',\n",
       " 'Invadían los hexágonos, exhibían credenciales no siempre falsas, hojeaban con fastidio',\n",
       " 'un volumen y condenaban anaqueles enteros: a su furor higiénico, ascético, se debe la',\n",
       " 'insensata perdición de millones de libros. Su nombre es execrado, pero quienes deploran',\n",
       " 'los «tesoros» que su frenesí destruyó, negligen dos hechos notorios. Uno: la Biblioteca es',\n",
       " 'tan enorme que toda reducción de origen humano resulta infinitesimal. Otro: cada',\n",
       " 'ejemplar es único, irreemplazable, pero (como la Biblioteca es total) hay siempre varios',\n",
       " 'centenares de miles de facsímiles imperfectos: de obras que no difieren sino por una letra',\n",
       " 'o por una coma. Contra la opinión general, me atrevo a suponer que las consecuencias de',\n",
       " 'las depredaciones cometidas por los Purificadores, han sido exageradas por el horror que ',\n",
       " 'esos fanáticos provocaron. Los urgía el delirio de conquistar los libros del Hexágono',\n",
       " 'Carmesí: libros de formato menor que los naturales; omnipotentes, ilustrados y mágicos.',\n",
       " 'También sabemos de otra superstición de aquel tiempo: la del Hombre del Libro. En',\n",
       " 'algún anaquel de algún hexágono (razonaron los hombres) debe existir un libro que sea la',\n",
       " 'cifra y el compendio perfecto de todos los demás: algún bibliotecario lo ha recorrido y es',\n",
       " 'análogo a un dios. En el lenguaje de esta zona persisten aún vestigios del culto de ese',\n",
       " 'funcionario remoto. Muchos peregrinaron en busca de Él. Durante un siglo fatigaron en',\n",
       " 'vano los más diversos rumbos. ¿Cómo localizar el venerado hexágono secreto que lo',\n",
       " 'hospedaba? Alguien propuso un método regresivo: Para localizar el libro A, consultar',\n",
       " 'previamente un libro B que indique el sitio de A; para localizar el libro B, consultar',\n",
       " 'previamente un libro C, y así hasta lo infinito... En aventuras de ésas, he prodigado y',\n",
       " 'consumido mis años. No me parece inverosímil que en algún anaquel del universo haya',\n",
       " 'un libro total; ruego a los dioses ignorados que un hombre - ¡uno solo, aunque sea, hace',\n",
       " 'miles de años! - lo haya examinado y leído. Si el honor y la sabiduría y la felicidad no',\n",
       " 'son para mí, que sean para otros. Que el cielo exista, aunque mi lugar sea el infierno. Que',\n",
       " 'yo sea ultrajado y aniquilado, pero que en un instante, en un ser, Tu enorme Biblioteca se',\n",
       " 'justifique.',\n",
       " 'Afirman los impíos que el disparate es normal en la Biblioteca y que lo razonable (y',\n",
       " 'aun la humilde y pura coherencia) es una casi milagrosa excepción. Hablan (lo sé) de «la',\n",
       " 'Biblioteca febril, cuyos azarosos volúmenes corren el incesante albur de cambiarse en',\n",
       " 'otros y que todo lo afirman, lo niegan y lo confunden como una divinidad que delira».',\n",
       " 'Esas palabras que no sólo denuncian el desorden sino que lo ejemplifican también,',\n",
       " 'notoriamente prueban su gusto pésimo y su desesperada ignorancia. En efecto, la',\n",
       " 'Biblioteca incluye todas las estructuras verbales, todas las variaciones que permiten los',\n",
       " 'veinticinco símbolos ortográficos, pero no un solo disparate absoluto. Inútil observar que',\n",
       " 'el mejor volumen de los muchos hexágonos que administro se titula «Trueno peinado», y',\n",
       " 'otro «El calambre de yeso» y otro «Axaxaxas mlo». Esas proposiciones, a primera vista',\n",
       " 'incoherentes, sin duda son capaces de una justificación criptográfica o alegórica; esa',\n",
       " 'justificación es verbal y, ex hypothesi, ya figura en la Biblioteca. No puedo combinar',\n",
       " 'unos caracteres dhcmrlchtdj que la divina Biblioteca no haya previsto y que en alguna de',\n",
       " 'sus lenguas secretas no encierren un terrible sentido. Nadie puede articular una sílaba que',\n",
       " 'no esté llena de ternuras y de temores; que no sea en alguno de esos lenguajes el nombre',\n",
       " 'poderoso de un dios. Hablar es incurrir en tautologías. Esta epístola inútil y palabrera ya',\n",
       " 'existe en uno de los treinta volúmenes de los cinco anaqueles de uno de los incontables',\n",
       " 'hexágonos, y también su refutación. (Un número n de lenguajes posibles usa el mismo',\n",
       " 'vocabulario; en algunos, el símbolo biblioteca admite la correcta definición ubicuo y',\n",
       " 'perdurable sistema de galerías hexagonales, pero biblioteca es pan o pirámide o cualquier',\n",
       " 'otra cosa, y las siete palabras que la definen tienen otro valor. Tú, que me lees, ¿estás',\n",
       " 'seguro de entender mi lenguaje?).',\n",
       " 'La escritura metódica me distrae de la presente condición de los hombres. La',\n",
       " 'certidumbre de que todo está escrito nos anula o nos afantasma. Yo conozco distritos en',\n",
       " 'que los jóvenes se prosternan ante los libros y besan con barbarie las páginas, pero no',\n",
       " 'saben descifrar una sola letra. Las epidemias, las discordias heréticas, las peregrinaciones',\n",
       " 'que inevitablemente degeneran en bandolerismo, han diezmado la población. Creo haber',\n",
       " 'mencionado los suicidios, cada año más frecuentes. Quizá me engañen la vejez y el',\n",
       " 'temor, pero sospecho que la especie humana - la única - está por extinguirse y que la ',\n",
       " 'Biblioteca perdurará: iluminada, solitaria, infinita, perfectamente inmóvil, armada de',\n",
       " 'volúmenes preciosos, inútil, incorruptible, secreta.',\n",
       " 'Acabo de escribir infinita. No he interpolado ese adjetivo por una costumbre retórica;',\n",
       " 'digo que no es ilógico pensar que el mundo es infinito. Quienes lo juzgan limitado,',\n",
       " 'postulan que en lugares remotos los corredores y escaleras y hexágonos pueden',\n",
       " 'inconcebiblemente cesar, lo cual es absurdo. Quienes la imaginan sin límites, olvidan que',\n",
       " 'los tiene el número posible de libros. Yo me atrevo a insinuar esta solución del antiguo',\n",
       " 'problema: La biblioteca es ilimitada y periódica. Si un eterno viajero la atravesara en',\n",
       " 'cualquier dirección, comprobaría al cabo de los siglos que los mismos volúmenes se',\n",
       " 'repiten en el mismo desorden (que, repetido, sería un orden: el Orden). Mi soledad se',\n",
       " 'alegra con esa elegante esperanza.',\n",
       " 'FIN',\n",
       " 'LA BIBLIOTECA DE BABEL',\n",
       " 'Jorge Luis Borges',\n",
       " 'El universo (que otros llaman la Biblioteca) se compone de un número indefinido, y',\n",
       " 'tal vez infinito, de galerías hexagonales, con vastos pozos de ventilación en el medio,',\n",
       " 'cercados por barandas bajísimas. Desde cualquier hexágono se ven los pisos inferiores y',\n",
       " 'superiores: interminablemente. La distribución de las galerías es invariable. Veinte',\n",
       " 'anaqueles, a cinco largos anaqueles por lado, cubren todos los lados menos dos; su altura,',\n",
       " 'que es la de los pisos, excede apenas la de un bibliotecario normal. Una de las caras libres',\n",
       " 'da a un angosto zaguán, que desemboca en otra galería, idéntica a la primera y a todas. A',\n",
       " 'izquierda y a derecha del zaguán hay dos gabinetes minúsculos. Uno permite dormir de',\n",
       " 'pie; otro, satisfacer las necesidades finales. Por ahí pasa la escalera espiral, que se abisma',\n",
       " 'y se eleva hacia lo remoto. En el zaguán hay un espejo, que fielmente duplica las',\n",
       " 'apariencias. Los hombres suelen inferir de ese espejo que la Biblioteca no es infinita (si',\n",
       " 'lo fuera realmente ¿a qué esa duplicación ilusoria?); yo prefiero soñar que las superficies',\n",
       " 'bruñidas figuran y prometen el infinito... La luz procede de unas frutas esféricas que',\n",
       " 'llevan el nombre de lámparas. Hay dos en cada hexágono: transversales. La luz que',\n",
       " 'emiten es insuficiente, incesante.',\n",
       " 'Como todos los hombres de la Biblioteca, he viajado en mi juventud; he peregrinado',\n",
       " 'en busca de un libro, acaso del catálogo de catálogos; ahora que mis ojos casi no pueden',\n",
       " 'descifrar lo que escribo, me preparo a morir a unas pocas leguas del hexágono en que',\n",
       " 'nací. Muerto, no faltarán manos piadosas que me tiren por la baranda; mi sepultura será',\n",
       " 'el aire insondable; mi cuerpo se hundirá largamente y se corromperá y disolverá en el',\n",
       " 'viento engendrado por la caída, que es infinita. Yo afirmo que la Biblioteca es',\n",
       " 'interminable. Los idealistas arguyen que las salas hexagonales son una forma necesaria',\n",
       " 'del espacio absoluto o, por lo menos, de nuestra intuición del espacio. Razonan que es',\n",
       " 'inconcebible una sala triangular o pentagonal. (Los místicos pretenden que el éxtasis les',\n",
       " 'revela una cámara circular con un gran libro circular de lomo continuo, que da toda la',\n",
       " 'vuelta de las paredes; pero su testimonio es sospechoso; sus palabras, oscuras. Ese libro',\n",
       " 'cíclico es Dios.) Básteme, por ahora, repetir el dictamen clásico: La Biblioteca es una',\n",
       " 'esfera cuyo centro cabal es cualquier hexágono, cuya circunferencia es inaccesible.',\n",
       " 'A cada uno de los muros de cada hexágono corresponden cinco anaqueles; cada',\n",
       " 'anaquel encierra treinta y dos libros de formato uniforme; cada libro es de cuatrocientas',\n",
       " 'diez páginas; cada página, de cuarenta renglones; cada renglón, de unas ochenta letras de',\n",
       " 'color negro. También hay letras en el dorso de cada libro; esas letras no indican o',\n",
       " 'prefiguran lo que dirán las páginas. Sé que esa inconexión, alguna vez, pareció',\n",
       " 'misteriosa. Antes de resumir la solución (cuyo descubrimiento, a pesar de sus trágicas',\n",
       " 'proyecciones, es quizá el hecho capital de la historia) quiero rememorar algunos axiomas.',\n",
       " 'El primero: La Biblioteca existe ab aeterno. De esa verdad cuyo colorario inmediato es',\n",
       " 'la eternidad futura del mundo, ninguna mente razonable puede dudar. El hombre, el',\n",
       " 'imperfecto bibliotecario, puede ser obra del azar o de los demiurgos malévolos; el',\n",
       " 'universo, con su elegante dotación de anaqueles, de tomos enigmáticos, de infatigables',\n",
       " 'escaleras para el viajero y de letrinas para el bibliotecario sentado, sólo puede ser obra de',\n",
       " 'un dios. Para percibir la distancia que hay entre lo divino y lo humano, basta comparar ',\n",
       " 'estos rudos símbolos trémulos que mi falible mano garabatea en la tapa de un libro, con',\n",
       " 'las letras orgánicas del interior: puntuales, delicadas, negrísimas, inimitablemente',\n",
       " 'simétricas.',\n",
       " 'El segundo: El número de símbolos ortográficos es veinticinco. Esa comprobación',\n",
       " 'permitió, hace trescientos años, formular una teoría general de la Biblioteca y resolver',\n",
       " 'satisfactoriamente el problema que ninguna conjetura había descifrado: la naturaleza',\n",
       " 'informe y caótica de casi todos los libros. Uno, que mi padre vio en un hexágono del',\n",
       " 'circuito quince noventa y cuatro, constaba de las letras MCV perversamente repetidas',\n",
       " 'desde el renglón primero hasta el último. Otro (muy consultado en esta zona) es un mero',\n",
       " 'laberinto de letras, pero la página penúltima dice «Oh tiempo tus pirámides». Ya se sabe:',\n",
       " 'por una línea razonable o una recta noticia hay leguas de insensatas cacofonías, de',\n",
       " 'fárragos verbales y de incoherencias. (Yo sé de una región cerril cuyos bibliotecarios',\n",
       " 'repudian la supersticiosa y vana costumbre de buscar sentido en los libros y la equiparan',\n",
       " 'a la de buscarlo en los sueños o en las líneas caóticas de la mano... Admiten que los',\n",
       " 'inventores de la escritura imitaron los veinticinco símbolos naturales, pero sostienen que',\n",
       " 'esa aplicación es casual y que los libros nada significan en sí. Ese dictamen, ya veremos',\n",
       " 'no es del todo falaz.)',\n",
       " 'Durante mucho tiempo se creyó que esos libros impenetrables correspondían a lenguas',\n",
       " 'pretéritas o remotas. Es verdad que los hombres más antiguos, los primeros',\n",
       " 'bibliotecarios, usaban un lenguaje asaz diferente del que hablamos ahora; es verdad que',\n",
       " 'unas millas a la derecha la lengua es dialectal y que noventa pisos más arriba, es',\n",
       " 'incomprensible. Todo eso, lo repito, es verdad, pero cuatrocientas diez páginas de',\n",
       " 'inalterables MCV no pueden corresponder a ningún idioma, por dialectal o rudimentario',\n",
       " 'que sea. Algunos insinuaron que cada letra podía influir en la subsiguiente y que el valor',\n",
       " 'de MCV en la tercera línea de la página 71 no era el que puede tener la misma serie en',\n",
       " 'otra posición de otra página, pero esa vaga tesis no prosperó. Otros pensaron en',\n",
       " 'criptografías; universalmente esa conjetura ha sido aceptada, aunque no en el sentido en',\n",
       " 'que la formularon sus inventores.',\n",
       " 'Hace quinientos años, el jefe de un hexágono superior dio con un libro tan confuso',\n",
       " 'como los otros, pero que tenía casi dos hojas de líneas homogéneas. Mostró su hallazgo a',\n",
       " 'un descifrador ambulante, que le dijo que estaban redactadas en portugués; otros le',\n",
       " 'dijeron que en yiddish. Antes de un siglo pudo establecerse el idioma: un dialecto',\n",
       " 'samoyedo-lituano del guaraní, con inflexiones de árabe clásico. También se descifró el',\n",
       " 'contenido: nociones de análisis combinatorio, ilustradas por ejemplos de variaciones con',\n",
       " 'repetición ilimitada. Esos ejemplos permitieron que un bibliotecario de genio descubriera',\n",
       " 'la ley fundamental de la Biblioteca. Este pensador observó que todos los libros, por',\n",
       " 'diversos que sean, constan de elementos iguales: el espacio, el punto, la coma, las',\n",
       " 'veintidós letras del alfabeto. También alegó un hecho que todos los viajeros han',\n",
       " 'confirmado: No hay en la vasta Biblioteca, dos libros idénticos. De esas premisas',\n",
       " 'incontrovertibles dedujo que la Biblioteca es total y que sus anaqueles registran todas las',\n",
       " 'posibles combinaciones de los veintitantos símbolos ortográficos (número, aunque',\n",
       " 'vastísimo, no infinito) o sea todo lo que es dable expresar: en todos los idiomas. Todo: la',\n",
       " 'historia minuciosa del porvenir, las autobiografías de los arcángeles, el catálogo fiel de la',\n",
       " 'Biblioteca, miles y miles de catálogos falsos, la demostración de la falacia de esos',\n",
       " 'catálogos, la demostración de la falacia del catálogo verdadero, el evangelio gnóstico de',\n",
       " 'Basilides, el comentario de ese evangelio, el comentario del comentario de ese evangelio, ',\n",
       " 'la relación verídica de tu muerte, la versión de cada libro a todas las lenguas, las',\n",
       " 'interpolaciones de cada libro en todos los libros, el tratado que Beda pudo escribir (y no',\n",
       " 'escribió) sobre la mitología de los sajones, los libros perdidos de Tácito.',\n",
       " 'Cuando se proclamó que la Biblioteca abarcaba todos los libros, la primera impresión',\n",
       " 'fue de extravagante felicidad. Todos los hombres se sintieron señores de un tesoro intacto',\n",
       " 'y secreto. No había problema personal o mundial cuya elocuente solución no existiera: en',\n",
       " 'algún hexágono. El universo estaba justificado, el universo bruscamente usurpó las',\n",
       " 'dimensiones ilimitadas de la esperanza. En aquel tiempo se habló mucho de las',\n",
       " 'Vindicaciones: libros de apología y de profecía, que para siempre vindicaban los actos de',\n",
       " 'cada hombre del universo y guardaban arcanos prodigiosos para su porvenir. Miles de',\n",
       " 'codiciosos abandonaron el dulce hexágono natal y se lanzaron escaleras arriba, urgidos',\n",
       " 'por el vano propósito de encontrar su Vindicación. Esos peregrinos disputaban en los',\n",
       " 'corredores estrechos, proferían oscuras maldiciones, se estrangulaban en las escaleras',\n",
       " 'divinas, arrojaban los libros engañosos al fondo de los túneles, morían despeñados por los',\n",
       " 'hombres de regiones remotas. Otros se enloquecieron... Las Vindicaciones existen (yo he',\n",
       " 'visto dos que se refieren a personas del porvenir, a personas acaso no imaginarias) pero',\n",
       " 'los buscadores no recordaban que la posibilidad de que un hombre encuentre la suya, o',\n",
       " 'alguna pérfida variación de la suya, es computable en cero.',\n",
       " 'También se esperó entonces la aclaración de los misterios básicos de la humanidad: el',\n",
       " 'origen de la Biblioteca y del tiempo. Es verosímil que esos graves misterios puedan',\n",
       " 'explicarse en palabras: si no basta el lenguaje de los filósofos, la multiforme Biblioteca',\n",
       " 'habrá producido el idioma inaudito que se requiere y los vocabularios y gramáticas de ese',\n",
       " 'idioma. Hace ya cuatro siglos que los hombres fatigan los hexágonos... Hay buscadores',\n",
       " 'oficiales, inquisidores. Yo los he visto en el desempeño de su función: llegan siempre',\n",
       " 'rendidos; hablan de una escalera sin peldaños que casi los mató; hablan de galerías y de',\n",
       " 'escaleras con el bibliotecario; alguna vez, toman el libro más cercano y lo hojean, en',\n",
       " 'busca de palabras infames. Visiblemente, nadie espera descubrir nada.',\n",
       " 'A la desaforada esperanza, sucedió, como es natural, una depresión excesiva. La',\n",
       " 'certidumbre de que algún anaquel en algún hexágono encerraba libros preciosos y de que',\n",
       " 'esos libros preciosos eran inaccesibles, pareció casi intolerable. Una secta blasfema',\n",
       " 'sugirió que cesaran las buscas y que todos los hombres barajaran letras y símbolos, hasta',\n",
       " 'construir, mediante un improbable don del azar, esos libros canónicos. Las autoridades se',\n",
       " 'vieron obligadas a promulgar órdenes severas. La secta desapareció, pero en mi niñez he',\n",
       " 'visto hombres viejos que largamente se ocultaban en las letrinas, con unos discos de',\n",
       " 'metal en un cubilete prohibido, y débilmente remedaban el divino desorden.',\n",
       " 'Otros, inversamente, creyeron que lo primordial era eliminar las obras inútiles.',\n",
       " 'Invadían los hexágonos, exhibían credenciales no siempre falsas, hojeaban con fastidio',\n",
       " 'un volumen y condenaban anaqueles enteros: a su furor higiénico, ascético, se debe la',\n",
       " 'insensata perdición de millones de libros. Su nombre es execrado, pero quienes deploran',\n",
       " 'los «tesoros» que su frenesí destruyó, negligen dos hechos notorios. Uno: la Biblioteca es',\n",
       " 'tan enorme que toda reducción de origen humano resulta infinitesimal. Otro: cada',\n",
       " 'ejemplar es único, irreemplazable, pero (como la Biblioteca es total) hay siempre varios',\n",
       " 'centenares de miles de facsímiles imperfectos: de obras que no difieren sino por una letra',\n",
       " 'o por una coma. Contra la opinión general, me atrevo a suponer que las consecuencias de',\n",
       " 'las depredaciones cometidas por los Purificadores, han sido exageradas por el horror que ',\n",
       " 'esos fanáticos provocaron. Los urgía el delirio de conquistar los libros del Hexágono',\n",
       " 'Carmesí: libros de formato menor que los naturales; omnipotentes, ilustrados y mágicos.',\n",
       " 'También sabemos de otra superstición de aquel tiempo: la del Hombre del Libro. En',\n",
       " 'algún anaquel de algún hexágono (razonaron los hombres) debe existir un libro que sea la',\n",
       " 'cifra y el compendio perfecto de todos los demás: algún bibliotecario lo ha recorrido y es',\n",
       " 'análogo a un dios. En el lenguaje de esta zona persisten aún vestigios del culto de ese',\n",
       " 'funcionario remoto. Muchos peregrinaron en busca de Él. Durante un siglo fatigaron en',\n",
       " 'vano los más diversos rumbos. ¿Cómo localizar el venerado hexágono secreto que lo',\n",
       " 'hospedaba? Alguien propuso un método regresivo: Para localizar el libro A, consultar',\n",
       " 'previamente un libro B que indique el sitio de A; para localizar el libro B, consultar',\n",
       " 'previamente un libro C, y así hasta lo infinito... En aventuras de ésas, he prodigado y',\n",
       " 'consumido mis años. No me parece inverosímil que en algún anaquel del universo haya',\n",
       " 'un libro total; ruego a los dioses ignorados que un hombre - ¡uno solo, aunque sea, hace',\n",
       " 'miles de años! - lo haya examinado y leído. Si el honor y la sabiduría y la felicidad no',\n",
       " 'son para mí, que sean para otros. Que el cielo exista, aunque mi lugar sea el infierno. Que',\n",
       " 'yo sea ultrajado y aniquilado, pero que en un instante, en un ser, Tu enorme Biblioteca se',\n",
       " 'justifique.',\n",
       " 'Afirman los impíos que el disparate es normal en la Biblioteca y que lo razonable (y',\n",
       " 'aun la humilde y pura coherencia) es una casi milagrosa excepción. Hablan (lo sé) de «la',\n",
       " 'Biblioteca febril, cuyos azarosos volúmenes corren el incesante albur de cambiarse en',\n",
       " 'otros y que todo lo afirman, lo niegan y lo confunden como una divinidad que delira».',\n",
       " 'Esas palabras que no sólo denuncian el desorden sino que lo ejemplifican también,',\n",
       " 'notoriamente prueban su gusto pésimo y su desesperada ignorancia. En efecto, la',\n",
       " 'Biblioteca incluye todas las estructuras verbales, todas las variaciones que permiten los',\n",
       " 'veinticinco símbolos ortográficos, pero no un solo disparate absoluto. Inútil observar que',\n",
       " 'el mejor volumen de los muchos hexágonos que administro se titula «Trueno peinado», y',\n",
       " 'otro «El calambre de yeso» y otro «Axaxaxas mlo». Esas proposiciones, a primera vista',\n",
       " 'incoherentes, sin duda son capaces de una justificación criptográfica o alegórica; esa',\n",
       " 'justificación es verbal y, ex hypothesi, ya figura en la Biblioteca. No puedo combinar',\n",
       " 'unos caracteres dhcmrlchtdj que la divina Biblioteca no haya previsto y que en alguna de',\n",
       " 'sus lenguas secretas no encierren un terrible sentido. Nadie puede articular una sílaba que',\n",
       " 'no esté llena de ternuras y de temores; que no sea en alguno de esos lenguajes el nombre',\n",
       " 'poderoso de un dios. Hablar es incurrir en tautologías. Esta epístola inútil y palabrera ya',\n",
       " 'existe en uno de los treinta volúmenes de los cinco anaqueles de uno de los incontables',\n",
       " 'hexágonos, y también su refutación. (Un número n de lenguajes posibles usa el mismo',\n",
       " 'vocabulario; en algunos, el símbolo biblioteca admite la correcta definición ubicuo y',\n",
       " 'perdurable sistema de galerías hexagonales, pero biblioteca es pan o pirámide o cualquier',\n",
       " 'otra cosa, y las siete palabras que la definen tienen otro valor. Tú, que me lees, ¿estás',\n",
       " 'seguro de entender mi lenguaje?).',\n",
       " 'La escritura metódica me distrae de la presente condición de los hombres. La',\n",
       " 'certidumbre de que todo está escrito nos anula o nos afantasma. Yo conozco distritos en',\n",
       " 'que los jóvenes se prosternan ante los libros y besan con barbarie las páginas, pero no',\n",
       " 'saben descifrar una sola letra. Las epidemias, las discordias heréticas, las peregrinaciones',\n",
       " 'que inevitablemente degeneran en bandolerismo, han diezmado la población. Creo haber',\n",
       " 'mencionado los suicidios, cada año más frecuentes. Quizá me engañen la vejez y el',\n",
       " 'temor, pero sospecho que la especie humana - la única - está por extinguirse y que la ',\n",
       " 'Biblioteca perdurará: iluminada, solitaria, infinita, perfectamente inmóvil, armada de',\n",
       " 'volúmenes preciosos, inútil, incorruptible, secreta.',\n",
       " 'Acabo de escribir infinita. No he interpolado ese adjetivo por una costumbre retórica;',\n",
       " 'digo que no es ilógico pensar que el mundo es infinito. Quienes lo juzgan limitado,',\n",
       " 'postulan que en lugares remotos los corredores y escaleras y hexágonos pueden',\n",
       " 'inconcebiblemente cesar, lo cual es absurdo. Quienes la imaginan sin límites, olvidan que',\n",
       " 'los tiene el número posible de libros. Yo me atrevo a insinuar esta solución del antiguo',\n",
       " 'problema: La biblioteca es ilimitada y periódica. Si un eterno viajero la atravesara en',\n",
       " 'cualquier dirección, comprobaría al cabo de los siglos que los mismos volúmenes se',\n",
       " 'repiten en el mismo desorden (que, repetido, sería un orden: el Orden). Mi soledad se',\n",
       " 'alegra con esa elegante esperanza.',\n",
       " 'FIN']"
      ]
     },
     "execution_count": 14,
     "metadata": {},
     "output_type": "execute_result"
    }
   ],
   "source": [
    "rdd.collect()"
   ]
  },
  {
   "cell_type": "code",
   "execution_count": 15,
   "id": "4e74dc2c-08cf-4d45-84aa-7344cd71d62b",
   "metadata": {},
   "outputs": [
    {
     "data": {
      "text/plain": [
       "530"
      ]
     },
     "execution_count": 15,
     "metadata": {},
     "output_type": "execute_result"
    }
   ],
   "source": [
    "rdd.count()"
   ]
  },
  {
   "cell_type": "code",
   "execution_count": 18,
   "id": "a1b40817-10fa-4ec4-b028-044b4e53eec3",
   "metadata": {},
   "outputs": [
    {
     "data": {
      "text/plain": [
       "6"
      ]
     },
     "execution_count": 18,
     "metadata": {},
     "output_type": "execute_result"
    }
   ],
   "source": [
    "rdd.getNumPartitions()"
   ]
  },
  {
   "cell_type": "code",
   "execution_count": 20,
   "id": "77f2a149-9bdb-44a9-9b36-7c874a3f64cc",
   "metadata": {},
   "outputs": [
    {
     "data": {
      "text/plain": [
       "['EVANGELIO SEGUN MARCOS',\n",
       " 'Jorge Luis Borges',\n",
       " '',\n",
       " 'El hecho sucedió en la estancia Los Álamos, en el partido de Junín, hacia el sur, en los últimos días del mes de marzo de 1928. Su protagonista fue un estudiante de medicina, Baltasar Espinosa. Podemos definirlo por ahora como uno de tantos muchachos porteños, sin otros rasgos dignos de nota que esa facultad oratoria que le había hecho merecer más de un premio en el colegio inglés de Ramos Mejía y que una casi ilimitada bondad. No le gustaba discutir; prefería que el interlocutor tuviera razón y no él. Aunque los azares del juego le interesaban, era un mal jugador, porque le desagradaba ganar. Su abierta inteligencia era perezosa; a los treinta y tres años le faltaba rendir una materia para graduarse, la que más lo atraía. Su padre, que era librepensador, como todos los señores de su época, lo había instruido en la doctrina de Herbert Spencer, pero su madre, antes de un viaje a Montevideo, le pidió que todas las noches rezara el Padrenuestro e hiciera la señal de la cruz. A lo largo de los años no había quebrado nunca esa promesa. No carecía de coraje; una mañana había cambiado, con más indiferencia que ira, dos o tres puñetazos con un grupo de compañeros que querían forzarlo a participar en una huelga universitaria. Abundaba, por espíritu de aquiescencia, en opiniones o hábitos discutibles: el país le importaba menos que el riesgo de que en otras partes creyeran que usamos plumas; veneraba a Francia pero menospreciaba a los franceses; tenía en poco a los americanos, pero aprobaba el hecho de que hubiera rascacielos en Buenos Aires; creía que los gauchos de la llanura son mejores jinetes que los de las cuchillas o los cerros. Cuando Daniel, su primo, le propuso veranear en Los Álamos, dijo inmediatamente que sí, no porque le gustara el campo sino por natural complacencia y porque no buscó razones válidas para decir que no.',\n",
       " '']"
      ]
     },
     "execution_count": 20,
     "metadata": {},
     "output_type": "execute_result"
    }
   ],
   "source": [
    "rdd.take(5)"
   ]
  },
  {
   "cell_type": "code",
   "execution_count": 21,
   "id": "93af3f2d-d252-4c0e-b4eb-ea78c460102e",
   "metadata": {},
   "outputs": [
    {
     "data": {
      "text/plain": [
       "list"
      ]
     },
     "execution_count": 21,
     "metadata": {},
     "output_type": "execute_result"
    }
   ],
   "source": [
    "lista = [11,2,5,8,90,-9,7,6,100]\n",
    "type(lista)"
   ]
  },
  {
   "cell_type": "code",
   "execution_count": 22,
   "id": "7d2147ea-2c02-4dae-856b-617e671a1232",
   "metadata": {},
   "outputs": [
    {
     "data": {
      "text/plain": [
       "pyspark.rdd.RDD"
      ]
     },
     "execution_count": 22,
     "metadata": {},
     "output_type": "execute_result"
    }
   ],
   "source": [
    "rddl = spark.sparkContext.parallelize(lista)\n",
    "type(rddl)"
   ]
  },
  {
   "cell_type": "code",
   "execution_count": 23,
   "id": "af8c4f11-edd4-43a5-be6e-8c7fcef513e6",
   "metadata": {},
   "outputs": [
    {
     "data": {
      "text/plain": [
       "[11, 2, 5, 8, 90, -9, 7, 6, 100]"
      ]
     },
     "execution_count": 23,
     "metadata": {},
     "output_type": "execute_result"
    }
   ],
   "source": [
    "rddl.collect()"
   ]
  },
  {
   "cell_type": "code",
   "execution_count": 24,
   "id": "e7de8561-899a-4199-a1d4-86266f1ee4fd",
   "metadata": {},
   "outputs": [
    {
     "data": {
      "text/plain": [
       "8"
      ]
     },
     "execution_count": 24,
     "metadata": {},
     "output_type": "execute_result"
    }
   ],
   "source": [
    "rddl.getNumPartitions()"
   ]
  },
  {
   "cell_type": "code",
   "execution_count": 26,
   "id": "0a661046-551d-439c-9b32-8c704ead8d7c",
   "metadata": {},
   "outputs": [
    {
     "data": {
      "text/plain": [
       "[[11], [2], [5], [8], [90], [-9], [7], [6, 100]]"
      ]
     },
     "execution_count": 26,
     "metadata": {},
     "output_type": "execute_result"
    }
   ],
   "source": [
    "rddl.glom().collect()"
   ]
  },
  {
   "cell_type": "code",
   "execution_count": null,
   "id": "d717337c-6476-4334-879c-5647a8bf6f08",
   "metadata": {},
   "outputs": [],
   "source": []
  }
 ],
 "metadata": {
  "kernelspec": {
   "display_name": "Python 3 (ipykernel)",
   "language": "python",
   "name": "python3"
  },
  "language_info": {
   "codemirror_mode": {
    "name": "ipython",
    "version": 3
   },
   "file_extension": ".py",
   "mimetype": "text/x-python",
   "name": "python",
   "nbconvert_exporter": "python",
   "pygments_lexer": "ipython3",
   "version": "3.11.6"
  }
 },
 "nbformat": 4,
 "nbformat_minor": 5
}
