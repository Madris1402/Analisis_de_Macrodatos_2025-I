{
 "cells": [
  {
   "cell_type": "code",
   "execution_count": 1,
   "id": "728e30db-0f8c-4d39-98a6-cdf7f2a596e7",
   "metadata": {},
   "outputs": [],
   "source": [
    "rdd = spark.sparkContext.textFile(\"hdfs://namenode:9000/tmp/amd/contarpalabras/entrada\")"
   ]
  },
  {
   "cell_type": "code",
   "execution_count": 2,
   "id": "dcaad514-a475-4acd-bc66-06f1f67325e9",
   "metadata": {},
   "outputs": [
    {
     "data": {
      "text/plain": [
       "pyspark.rdd.RDD"
      ]
     },
     "execution_count": 2,
     "metadata": {},
     "output_type": "execute_result"
    }
   ],
   "source": [
    "type(rdd)"
   ]
  },
  {
   "cell_type": "code",
   "execution_count": 3,
   "id": "6c98574a-88cc-4e97-9551-ec95d1ca091a",
   "metadata": {},
   "outputs": [
    {
     "data": {
      "text/plain": [
       "530"
      ]
     },
     "execution_count": 3,
     "metadata": {},
     "output_type": "execute_result"
    }
   ],
   "source": [
    "rdd.count()"
   ]
  },
  {
   "cell_type": "code",
   "execution_count": 4,
   "id": "4f708b3c-3836-4d50-9b81-283706c94968",
   "metadata": {},
   "outputs": [
    {
     "data": {
      "text/plain": [
       "6"
      ]
     },
     "execution_count": 4,
     "metadata": {},
     "output_type": "execute_result"
    }
   ],
   "source": [
    "rdd.getNumPartitions()"
   ]
  },
  {
   "cell_type": "code",
   "execution_count": 5,
   "id": "9fdaa830-39f4-45e7-a065-f7fc10f80323",
   "metadata": {},
   "outputs": [
    {
     "data": {
      "text/plain": [
       "['EVANGELIO SEGUN MARCOS',\n",
       " 'Jorge Luis Borges',\n",
       " '',\n",
       " 'El hecho sucedió en la estancia Los Álamos, en el partido de Junín, hacia el sur, en los últimos días del mes de marzo de 1928. Su protagonista fue un estudiante de medicina, Baltasar Espinosa. Podemos definirlo por ahora como uno de tantos muchachos porteños, sin otros rasgos dignos de nota que esa facultad oratoria que le había hecho merecer más de un premio en el colegio inglés de Ramos Mejía y que una casi ilimitada bondad. No le gustaba discutir; prefería que el interlocutor tuviera razón y no él. Aunque los azares del juego le interesaban, era un mal jugador, porque le desagradaba ganar. Su abierta inteligencia era perezosa; a los treinta y tres años le faltaba rendir una materia para graduarse, la que más lo atraía. Su padre, que era librepensador, como todos los señores de su época, lo había instruido en la doctrina de Herbert Spencer, pero su madre, antes de un viaje a Montevideo, le pidió que todas las noches rezara el Padrenuestro e hiciera la señal de la cruz. A lo largo de los años no había quebrado nunca esa promesa. No carecía de coraje; una mañana había cambiado, con más indiferencia que ira, dos o tres puñetazos con un grupo de compañeros que querían forzarlo a participar en una huelga universitaria. Abundaba, por espíritu de aquiescencia, en opiniones o hábitos discutibles: el país le importaba menos que el riesgo de que en otras partes creyeran que usamos plumas; veneraba a Francia pero menospreciaba a los franceses; tenía en poco a los americanos, pero aprobaba el hecho de que hubiera rascacielos en Buenos Aires; creía que los gauchos de la llanura son mejores jinetes que los de las cuchillas o los cerros. Cuando Daniel, su primo, le propuso veranear en Los Álamos, dijo inmediatamente que sí, no porque le gustara el campo sino por natural complacencia y porque no buscó razones válidas para decir que no.',\n",
       " '']"
      ]
     },
     "execution_count": 5,
     "metadata": {},
     "output_type": "execute_result"
    }
   ],
   "source": [
    "rdd.take(5)"
   ]
  },
  {
   "cell_type": "code",
   "execution_count": 10,
   "id": "abae5ed5-8f4e-4327-bbef-bfadf6052adc",
   "metadata": {},
   "outputs": [
    {
     "name": "stdout",
     "output_type": "stream",
     "text": [
      "Collecting unidecode\n",
      "  Downloading Unidecode-1.3.8-py3-none-any.whl.metadata (13 kB)\n",
      "Downloading Unidecode-1.3.8-py3-none-any.whl (235 kB)\n",
      "\u001b[2K   \u001b[90m━━━━━━━━━━━━━━━━━━━━━━━━━━━━━━━━━━━━━━━━\u001b[0m \u001b[32m235.5/235.5 kB\u001b[0m \u001b[31m2.3 MB/s\u001b[0m eta \u001b[36m0:00:00\u001b[0ma \u001b[36m0:00:01\u001b[0m\n",
      "\u001b[?25hInstalling collected packages: unidecode\n",
      "Successfully installed unidecode-1.3.8\n"
     ]
    }
   ],
   "source": [
    "! pip install unidecode"
   ]
  },
  {
   "cell_type": "code",
   "execution_count": 11,
   "id": "b6a24a2d-d234-4873-a011-3ee3918a68ae",
   "metadata": {},
   "outputs": [],
   "source": [
    "import re \n",
    "from unidecode import unidecode\n",
    "\n",
    "\n",
    "# Función para limpiar cada palabra\n",
    "def limpiar_palabra(palabra):\n",
    "    # Convertir a minúsculas\n",
    "    palabra = palabra.lower()\n",
    "    # Remover acentos\n",
    "    palabra = unidecode(palabra)\n",
    "    # Remover signos de puntuación y caracteres especiales\n",
    "    palabra = re.sub(r'[^\\w\\s]', '', palabra)\n",
    "    # Retornar la palabra limpia\n",
    "    return palabra\n",
    " \n",
    "# Definir un conjunto de palabras vacías (puedes añadir más)\n",
    "palabras_vacias = {\"\", \"y\", \"de\", \"la\", \"que\", \"el\", \"en\", \"los\", \"las\", \"un\", \"una\", \"a\", \"le\", \"lo\"}"
   ]
  },
  {
   "cell_type": "code",
   "execution_count": 13,
   "id": "e6d49bca-4d07-4bc3-95a9-ce4d24ce5121",
   "metadata": {},
   "outputs": [],
   "source": [
    "palabras = rdd.flatMap(lambda line: line.split(\" \"))"
   ]
  },
  {
   "cell_type": "code",
   "execution_count": 14,
   "id": "728686d5-70e7-4a67-8df4-580ee7e964db",
   "metadata": {},
   "outputs": [
    {
     "data": {
      "text/plain": [
       "14764"
      ]
     },
     "execution_count": 14,
     "metadata": {},
     "output_type": "execute_result"
    }
   ],
   "source": [
    "palabras.count()"
   ]
  },
  {
   "cell_type": "code",
   "execution_count": 15,
   "id": "052f2242-e7cd-4a98-901e-05448b25442c",
   "metadata": {
    "scrolled": true
   },
   "outputs": [
    {
     "data": {
      "text/plain": [
       "['EVANGELIO',\n",
       " 'SEGUN',\n",
       " 'MARCOS',\n",
       " 'Jorge',\n",
       " 'Luis',\n",
       " 'Borges',\n",
       " '',\n",
       " 'El',\n",
       " 'hecho',\n",
       " 'sucedió',\n",
       " 'en',\n",
       " 'la',\n",
       " 'estancia',\n",
       " 'Los',\n",
       " 'Álamos,',\n",
       " 'en',\n",
       " 'el',\n",
       " 'partido',\n",
       " 'de',\n",
       " 'Junín,',\n",
       " 'hacia',\n",
       " 'el',\n",
       " 'sur,',\n",
       " 'en',\n",
       " 'los',\n",
       " 'últimos',\n",
       " 'días',\n",
       " 'del',\n",
       " 'mes',\n",
       " 'de',\n",
       " 'marzo',\n",
       " 'de',\n",
       " '1928.',\n",
       " 'Su',\n",
       " 'protagonista',\n",
       " 'fue',\n",
       " 'un',\n",
       " 'estudiante',\n",
       " 'de',\n",
       " 'medicina,',\n",
       " 'Baltasar',\n",
       " 'Espinosa.',\n",
       " 'Podemos',\n",
       " 'definirlo',\n",
       " 'por',\n",
       " 'ahora',\n",
       " 'como',\n",
       " 'uno',\n",
       " 'de',\n",
       " 'tantos',\n",
       " 'muchachos',\n",
       " 'porteños,',\n",
       " 'sin',\n",
       " 'otros',\n",
       " 'rasgos',\n",
       " 'dignos',\n",
       " 'de',\n",
       " 'nota',\n",
       " 'que',\n",
       " 'esa',\n",
       " 'facultad',\n",
       " 'oratoria',\n",
       " 'que',\n",
       " 'le',\n",
       " 'había',\n",
       " 'hecho',\n",
       " 'merecer',\n",
       " 'más',\n",
       " 'de',\n",
       " 'un',\n",
       " 'premio',\n",
       " 'en',\n",
       " 'el',\n",
       " 'colegio',\n",
       " 'inglés',\n",
       " 'de',\n",
       " 'Ramos',\n",
       " 'Mejía',\n",
       " 'y',\n",
       " 'que',\n",
       " 'una',\n",
       " 'casi',\n",
       " 'ilimitada',\n",
       " 'bondad.',\n",
       " 'No',\n",
       " 'le',\n",
       " 'gustaba',\n",
       " 'discutir;',\n",
       " 'prefería',\n",
       " 'que',\n",
       " 'el',\n",
       " 'interlocutor',\n",
       " 'tuviera',\n",
       " 'razón',\n",
       " 'y',\n",
       " 'no',\n",
       " 'él.',\n",
       " 'Aunque',\n",
       " 'los',\n",
       " 'azares',\n",
       " 'del',\n",
       " 'juego',\n",
       " 'le',\n",
       " 'interesaban,',\n",
       " 'era',\n",
       " 'un',\n",
       " 'mal',\n",
       " 'jugador,',\n",
       " 'porque',\n",
       " 'le',\n",
       " 'desagradaba',\n",
       " 'ganar.',\n",
       " 'Su',\n",
       " 'abierta',\n",
       " 'inteligencia',\n",
       " 'era',\n",
       " 'perezosa;',\n",
       " 'a',\n",
       " 'los',\n",
       " 'treinta',\n",
       " 'y',\n",
       " 'tres',\n",
       " 'años',\n",
       " 'le',\n",
       " 'faltaba',\n",
       " 'rendir',\n",
       " 'una',\n",
       " 'materia',\n",
       " 'para',\n",
       " 'graduarse,',\n",
       " 'la',\n",
       " 'que',\n",
       " 'más',\n",
       " 'lo',\n",
       " 'atraía.',\n",
       " 'Su',\n",
       " 'padre,',\n",
       " 'que',\n",
       " 'era',\n",
       " 'librepensador,',\n",
       " 'como',\n",
       " 'todos',\n",
       " 'los',\n",
       " 'señores',\n",
       " 'de',\n",
       " 'su',\n",
       " 'época,',\n",
       " 'lo',\n",
       " 'había',\n",
       " 'instruido',\n",
       " 'en',\n",
       " 'la',\n",
       " 'doctrina',\n",
       " 'de',\n",
       " 'Herbert',\n",
       " 'Spencer,',\n",
       " 'pero',\n",
       " 'su',\n",
       " 'madre,',\n",
       " 'antes',\n",
       " 'de',\n",
       " 'un',\n",
       " 'viaje',\n",
       " 'a',\n",
       " 'Montevideo,',\n",
       " 'le',\n",
       " 'pidió',\n",
       " 'que',\n",
       " 'todas',\n",
       " 'las',\n",
       " 'noches',\n",
       " 'rezara',\n",
       " 'el',\n",
       " 'Padrenuestro',\n",
       " 'e',\n",
       " 'hiciera',\n",
       " 'la',\n",
       " 'señal',\n",
       " 'de',\n",
       " 'la',\n",
       " 'cruz.',\n",
       " 'A',\n",
       " 'lo',\n",
       " 'largo',\n",
       " 'de',\n",
       " 'los',\n",
       " 'años',\n",
       " 'no',\n",
       " 'había',\n",
       " 'quebrado',\n",
       " 'nunca',\n",
       " 'esa',\n",
       " 'promesa.',\n",
       " 'No',\n",
       " 'carecía',\n",
       " 'de',\n",
       " 'coraje;',\n",
       " 'una',\n",
       " 'mañana',\n",
       " 'había']"
      ]
     },
     "execution_count": 15,
     "metadata": {},
     "output_type": "execute_result"
    }
   ],
   "source": [
    "palabras.take(200)"
   ]
  },
  {
   "cell_type": "code",
   "execution_count": null,
   "id": "08dd2c67-08e1-414c-b029-a3ee7488795b",
   "metadata": {},
   "outputs": [],
   "source": [
    "palabras_limpias = palabras.map(lambda x: limpiar_palabra(x)).filter(lambda x: x not in palabras_vacias)"
   ]
  }
 ],
 "metadata": {
  "kernelspec": {
   "display_name": "Python 3 (ipykernel)",
   "language": "python",
   "name": "python3"
  },
  "language_info": {
   "codemirror_mode": {
    "name": "ipython",
    "version": 3
   },
   "file_extension": ".py",
   "mimetype": "text/x-python",
   "name": "python",
   "nbconvert_exporter": "python",
   "pygments_lexer": "ipython3",
   "version": "3.11.6"
  }
 },
 "nbformat": 4,
 "nbformat_minor": 5
}
