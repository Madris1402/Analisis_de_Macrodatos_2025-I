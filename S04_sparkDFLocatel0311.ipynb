{
 "cells": [
  {
   "cell_type": "code",
   "execution_count": 2,
   "id": "f8ed9c10-ebb4-4d69-b590-faf56f6b083e",
   "metadata": {},
   "outputs": [],
   "source": [
    "from pyspark.sql.functions import col, sum, to_date, to_timestamp, regexp_replace, date_format \n",
    "from pyspark.sql.types import IntegerType, DoubleType, FloatType"
   ]
  },
  {
   "cell_type": "code",
   "execution_count": 3,
   "id": "6a8dd3a9-249e-46e5-9a9c-9e2b1785194c",
   "metadata": {},
   "outputs": [],
   "source": [
    "dir_hdfs = \"hdfs://namenode:9000/tmp/amd/locatel0311\""
   ]
  },
  {
   "cell_type": "code",
   "execution_count": 4,
   "id": "a5840c56-493c-4dac-9c35-154042f71625",
   "metadata": {},
   "outputs": [],
   "source": [
    "df = spark.read.csv(dir_hdfs)"
   ]
  },
  {
   "cell_type": "code",
   "execution_count": 5,
   "id": "9abce97d-25ce-433b-b2f7-4eb7a40ea260",
   "metadata": {},
   "outputs": [],
   "source": [
    "df = spark.read.csv(dir_hdfs, header=True, inferSchema=True)"
   ]
  },
  {
   "cell_type": "code",
   "execution_count": 6,
   "id": "d3cd00c5-d330-4e9b-a874-5940970b6e24",
   "metadata": {},
   "outputs": [
    {
     "name": "stdout",
     "output_type": "stream",
     "text": [
      "root\n",
      " |-- id_folio: string (nullable = true)\n",
      " |-- fecha_solicitud: string (nullable = true)\n",
      " |-- hora_solicitud: string (nullable = true)\n",
      " |-- tipo_de_entrada: string (nullable = true)\n",
      " |-- tema_solicitud: string (nullable = true)\n",
      " |-- sexo: string (nullable = true)\n",
      " |-- edad: string (nullable = true)\n",
      " |-- estatus: string (nullable = true)\n",
      " |-- fecha_concluido: string (nullable = true)\n",
      " |-- alcaldia: string (nullable = true)\n",
      " |-- colonia_datos: string (nullable = true)\n",
      " |-- 0311_colonia_registro: string (nullable = true)\n",
      " |-- codigo_postal_solicitud: string (nullable = true)\n",
      " |-- latitud: string (nullable = true)\n",
      " |-- longitud: string (nullable = true)\n",
      "\n"
     ]
    }
   ],
   "source": [
    "df.printSchema()"
   ]
  },
  {
   "cell_type": "code",
   "execution_count": 9,
   "id": "23f40eac-6fa7-498b-9eea-a4b053eb168f",
   "metadata": {},
   "outputs": [
    {
     "name": "stdout",
     "output_type": "stream",
     "text": [
      "Numero de Renglones: 2323089\n",
      "Numero de Columnas: 15\n",
      "Columnas ['id_folio', 'fecha_solicitud', 'hora_solicitud', 'tipo_de_entrada', 'tema_solicitud', 'sexo', 'edad', 'estatus', 'fecha_concluido', 'alcaldia', 'colonia_datos', '0311_colonia_registro', 'codigo_postal_solicitud', 'latitud', 'longitud']\n"
     ]
    }
   ],
   "source": [
    "print(f\"Numero de Renglones: {df.count()}\")\n",
    "print(f\"Numero de Columnas: {len(df.columns)}\")\n",
    "print(f\"Columnas {df.columns}\")"
   ]
  },
  {
   "cell_type": "code",
   "execution_count": 12,
   "id": "6131f1e0-d701-4d9c-a97e-261708509815",
   "metadata": {},
   "outputs": [
    {
     "name": "stdout",
     "output_type": "stream",
     "text": [
      "+--------+---------------+--------------+---------------------+---------------------------------------+---------------+----+--------+---------------+--------+-------------+---------------------+-----------------------+-------+--------+\n",
      "|id_folio|fecha_solicitud|hora_solicitud|tipo_de_entrada      |tema_solicitud                         |sexo           |edad|estatus |fecha_concluido|alcaldia|colonia_datos|0311_colonia_registro|codigo_postal_solicitud|latitud|longitud|\n",
      "+--------+---------------+--------------+---------------------+---------------------------------------+---------------+----+--------+---------------+--------+-------------+---------------------+-----------------------+-------+--------+\n",
      "|- 244841|2020-01-11     |08:17:58      |VICTORIA             |FUGA DE AGUA                           |NO ESPECIFICADO|NA  |ATENDIDO|2020-07-03     |NA      |NA           |NA                   |NA                     |0      |0       |\n",
      "|- 265596|2020-01-28     |12:10:42      |VICTORIA             |VENTA DE ALCOHOL / DROGA               |NO ESPECIFICADO|NA  |ATENDIDO|2020-12-11     |NA      |NA           |NA                   |NA                     |0      |0       |\n",
      "|- 244037|2020-01-10     |12:39:20      |VICTORIA             |TRAMITES / INFO VEHICULAR              |NO ESPECIFICADO|NA  |ATENDIDO|2020-02-21     |NA      |NA           |NA                   |NA                     |0      |0       |\n",
      "|- 261435|2020-01-24     |10:17:36      |VICTORIA             |MANTENIMIENTO DRENAJE                  |NO ESPECIFICADO|NA  |ATENDIDO|2022-06-08     |NA      |NA           |NA                   |NA                     |0      |0       |\n",
      "|- 238133|2020-01-04     |18:09:01      |VICTORIA             |SOLICITUD DE VIGILANCIA                |NO ESPECIFICADO|NA  |ATENDIDO|2020-02-15     |NA      |NA           |NA                   |NA                     |0      |0       |\n",
      "|- 254238|2020-01-20     |11:19:17      |VICTORIA             |ALERTA SISMICA                         |NO ESPECIFICADO|NA  |ATENDIDO|2020-01-31     |NA      |NA           |NA                   |NA                     |0      |0       |\n",
      "|- 256338|2020-01-21     |06:15:23      |VICTORIA             |VENTA DE ALCOHOL / DROGA               |NO ESPECIFICADO|NA  |ATENDIDO|2022-06-10     |NA      |NA           |NA                   |NA                     |0      |0       |\n",
      "|- 246368|2020-01-13     |13:21:42      |PORTAL CIUDADANO SUAC|RETIRO CASCAJO, ESCOMBRO, AZOLVE, RAMAS|FEMENINO       |NA  |ATENDIDO|2020-01-27     |NA      |NA           |NA                   |NA                     |0      |0       |\n",
      "|- 342555|2020-03-26     |04:25:27      |VICTORIA             |SOLICITUD/SEGURO DE DESEMPLEO          |NO ESPECIFICADO|NA  |ATENDIDO|2020-04-07     |NA      |NA           |NA                   |NA                     |0      |0       |\n",
      "|- 273239|2020-02-04     |17:07:56      |VICTORIA             |FALTA DE AGUA                          |NO ESPECIFICADO|NA  |ATENDIDO|2020-02-18     |NA      |NA           |NA                   |NA                     |0      |0       |\n",
      "|- 292190|2020-02-19     |08:57:01      |VICTORIA             |TRAMITES / INFO VEHICULAR              |NO ESPECIFICADO|NA  |ATENDIDO|2020-07-16     |NA      |NA           |NA                   |NA                     |0      |0       |\n",
      "|- 304805|2020-02-26     |16:46:32      |VICTORIA             |SOLICITUD DE VIGILANCIA                |NO ESPECIFICADO|NA  |ATENDIDO|2020-02-26     |NA      |NA           |NA                   |NA                     |0      |0       |\n",
      "|- 329431|2020-03-16     |10:25:07      |VICTORIA             |COVID                                  |NO ESPECIFICADO|NA  |ATENDIDO|2020-11-18     |NA      |NA           |NA                   |NA                     |0      |0       |\n",
      "|- 278809|2020-02-09     |19:30:37      |VICTORIA             |ALUMBRADO                              |NO ESPECIFICADO|NA  |ATENDIDO|2020-04-01     |NA      |NA           |NA                   |NA                     |0      |0       |\n",
      "|- 309706|2020-03-01     |10:11:06      |VICTORIA             |RETIRO CASCAJO, ESCOMBRO, AZOLVE, RAMAS|NO ESPECIFICADO|NA  |ATENDIDO|2021-11-16     |NA      |NA           |NA                   |NA                     |0      |0       |\n",
      "|- 320184|2020-03-09     |12:35:18      |VICTORIA             |MANTENIMIENTO VÍA PÚBLICA              |NO ESPECIFICADO|NA  |TURNADO |NA             |NA      |NA           |NA                   |NA                     |0      |0       |\n",
      "|- 254113|2020-01-20     |11:13:31      |PORTAL CIUDADANO SUAC|ALERTA SISMICA                         |FEMENINO       |NA  |ATENDIDO|2020-01-21     |NA      |NA           |NA                   |NA                     |0      |0       |\n",
      "|- 277832|2020-02-07     |17:34:09      |VICTORIA             |VEHÍCULO ABANDONADO / CHATARRIZACIÓN   |NO ESPECIFICADO|NA  |ATENDIDO|2020-03-21     |NA      |NA           |NA                   |NA                     |0      |0       |\n",
      "|- 328500|2020-03-13     |18:11:00      |VICTORIA             |FUGA DE AGUA                           |NO ESPECIFICADO|NA  |ATENDIDO|2020-06-01     |NA      |NA           |NA                   |NA                     |0      |0       |\n",
      "|- 341480|2020-03-25     |11:04:18      |VICTORIA             |COVID                                  |NO ESPECIFICADO|NA  |ATENDIDO|2020-03-27     |NA      |NA           |NA                   |NA                     |0      |0       |\n",
      "+--------+---------------+--------------+---------------------+---------------------------------------+---------------+----+--------+---------------+--------+-------------+---------------------+-----------------------+-------+--------+\n",
      "only showing top 20 rows\n",
      "\n"
     ]
    }
   ],
   "source": [
    "df.show(truncate=False)"
   ]
  },
  {
   "cell_type": "code",
   "execution_count": 34,
   "id": "898c9676-bc37-48c9-a9ac-2b6a46363022",
   "metadata": {},
   "outputs": [],
   "source": [
    "datos = df.select(['fecha_solicitud' , 'hora_solicitud' , 'tema_solicitud' , 'sexo' , 'edad' , 'estatus' ,\n",
    "'alcaldia', 'colonia_datos' , 'codigo_postal_solicitud' , 'latitud' , 'longitud'])"
   ]
  },
  {
   "cell_type": "code",
   "execution_count": 35,
   "id": "a8e6ac58-0c67-4903-a5e2-262be39577d9",
   "metadata": {},
   "outputs": [
    {
     "name": "stdout",
     "output_type": "stream",
     "text": [
      "root\n",
      " |-- fecha_solicitud: string (nullable = true)\n",
      " |-- hora_solicitud: string (nullable = true)\n",
      " |-- tema_solicitud: string (nullable = true)\n",
      " |-- sexo: string (nullable = true)\n",
      " |-- edad: string (nullable = true)\n",
      " |-- estatus: string (nullable = true)\n",
      " |-- alcaldia: string (nullable = true)\n",
      " |-- colonia_datos: string (nullable = true)\n",
      " |-- codigo_postal_solicitud: string (nullable = true)\n",
      " |-- latitud: string (nullable = true)\n",
      " |-- longitud: string (nullable = true)\n",
      "\n"
     ]
    }
   ],
   "source": [
    "datos.printSchema()"
   ]
  },
  {
   "cell_type": "code",
   "execution_count": 36,
   "id": "5506a55a-2f91-4b76-af25-b3709c5f64ee",
   "metadata": {},
   "outputs": [
    {
     "data": {
      "text/plain": [
       "2323089"
      ]
     },
     "execution_count": 36,
     "metadata": {},
     "output_type": "execute_result"
    }
   ],
   "source": [
    "datos.count()"
   ]
  },
  {
   "cell_type": "code",
   "execution_count": 37,
   "id": "ebecfba6-0c37-4c28-908e-b2826baee845",
   "metadata": {},
   "outputs": [
    {
     "data": {
      "text/plain": [
       "829463"
      ]
     },
     "execution_count": 37,
     "metadata": {},
     "output_type": "execute_result"
    }
   ],
   "source": [
    "datos.filter('sexo =\"FEMENINO\"').count()"
   ]
  },
  {
   "cell_type": "code",
   "execution_count": 38,
   "id": "cda48fe4-242a-4664-9b0d-09fe7a85af35",
   "metadata": {},
   "outputs": [
    {
     "name": "stdout",
     "output_type": "stream",
     "text": [
      "+---------------+--------------+--------------------+----+--------+-----------------+--------------------+\n",
      "|fecha_solicitud|hora_solicitud|      tema_solicitud|edad| estatus|         alcaldia|       colonia_datos|\n",
      "+---------------+--------------+--------------------+----+--------+-----------------+--------------------+\n",
      "|     2019-06-02|      16:50:47|           ALUMBRADO|  29|ATENDIDO|       CUAUHTEMOC|      ROMA NORTE III|\n",
      "|     2019-06-02|      23:30:08|       FALTA DE AGUA|  50|ATENDIDO|               NA|                  NA|\n",
      "|     2019-06-02|      17:28:06|      MEDIO AMBIENTE|  19|ATENDIDO|               NA|                  NA|\n",
      "|     2019-06-02|      14:40:34|        FUGA DE AGUA|  38|ATENDIDO|          TLALPAN|FLORESTA-PRADO-VE...|\n",
      "|     2019-06-02|      17:33:25|MANTENIMIENTO VÍA...|  71|ATENDIDO|       IZTAPALAPA|          MODELO (U)|\n",
      "|     2019-06-02|      15:17:44|              BACHEO|  66|ATENDIDO|         COYOACAN|  AJUSCO HUAYAMILPAS|\n",
      "|     2019-06-02|      17:40:36|         WIFI GRATIS|  19|ATENDIDO|               NA|                  NA|\n",
      "|     2019-06-02|      15:25:26|           DESAZOLVE|  67|ATENDIDO|         COYOACAN|PEDREGAL DE SANTA...|\n",
      "|     2019-06-02|      17:45:06|      MEDIO AMBIENTE|   0|ATENDIDO|               NA|                  NA|\n",
      "|     2019-06-02|      15:36:18|           ASESORIAS|  70|ATENDIDO|               NA|                  NA|\n",
      "|     2019-06-02|      17:50:28|QUEJA DE TRANSPOR...|  29|ATENDIDO|GUSTAVO A. MADERO|SAN JUAN Y GUADAL...|\n",
      "|     2019-06-02|      15:49:21|VEHÍCULO ABANDONA...|  56|ATENDIDO|               NA|                  NA|\n",
      "|     2019-06-02|      18:04:28|QUEJAS Y DEMANDAS...|  39|ATENDIDO|               NA|                  NA|\n",
      "|     2019-06-02|      15:58:50|VEHÍCULO ABANDONA...|  32|ATENDIDO|   ALVARO OBREGON|   VILLA PROGRESISTA|\n",
      "|     2019-06-02|      19:50:17|       FALTA DE AGUA|  54|ATENDIDO|               NA|                  NA|\n",
      "|     2019-06-02|      16:06:32|SEGURIDAD PÚBLICA...|  64|ATENDIDO|               NA|                  NA|\n",
      "|     2019-06-02|      19:59:01|MANTENIMIENTO DE ...|  54| TURNADO|               NA|                  NA|\n",
      "|     2019-06-02|      16:26:48|       FALTA DE AGUA|  38|ATENDIDO|          TLALPAN|AMPLIACION MIGUEL...|\n",
      "|     2019-06-02|      20:14:07|QUEJA DE TRANSPOR...|  28|ATENDIDO|               NA|                  NA|\n",
      "|     2019-06-02|      20:27:10|         INFORMACIÓN|  23|ATENDIDO|               NA|                  NA|\n",
      "+---------------+--------------+--------------------+----+--------+-----------------+--------------------+\n",
      "only showing top 20 rows\n",
      "\n"
     ]
    }
   ],
   "source": [
    "datos.select(['fecha_solicitud' , 'hora_solicitud' , 'tema_solicitud' , 'edad' , 'estatus' ,\n",
    "'alcaldia', 'colonia_datos']).filter('sexo =\"FEMENINO\"').orderBy('fecha_solicitud').show()"
   ]
  },
  {
   "cell_type": "code",
   "execution_count": 39,
   "id": "222f695e-6de0-4664-b953-270e3a9d3242",
   "metadata": {},
   "outputs": [
    {
     "data": {
      "text/plain": [
       "pyspark.sql.dataframe.DataFrame"
      ]
     },
     "execution_count": 39,
     "metadata": {},
     "output_type": "execute_result"
    }
   ],
   "source": [
    "type(datos)"
   ]
  },
  {
   "cell_type": "code",
   "execution_count": 40,
   "id": "59690c68-16a9-464a-a690-85b8a8a29eb3",
   "metadata": {},
   "outputs": [
    {
     "name": "stdout",
     "output_type": "stream",
     "text": [
      "root\n",
      " |-- fecha_solicitud: date (nullable = true)\n",
      " |-- hora_solicitud: string (nullable = true)\n",
      " |-- tema_solicitud: string (nullable = true)\n",
      " |-- sexo: string (nullable = true)\n",
      " |-- edad: float (nullable = true)\n",
      " |-- estatus: string (nullable = true)\n",
      " |-- alcaldia: string (nullable = true)\n",
      " |-- colonia_datos: string (nullable = true)\n",
      " |-- codigo_postal_solicitud: string (nullable = true)\n",
      " |-- latitud: double (nullable = true)\n",
      " |-- longitud: double (nullable = true)\n",
      "\n",
      "+---------------+--------------+--------------------+---------------+----+--------+--------+-------------+-----------------------+-------+--------+\n",
      "|fecha_solicitud|hora_solicitud|      tema_solicitud|           sexo|edad| estatus|alcaldia|colonia_datos|codigo_postal_solicitud|latitud|longitud|\n",
      "+---------------+--------------+--------------------+---------------+----+--------+--------+-------------+-----------------------+-------+--------+\n",
      "|     2020-01-11|      08:17:58|        FUGA DE AGUA|NO ESPECIFICADO|NULL|ATENDIDO|      NA|           NA|                     NA|    0.0|     0.0|\n",
      "|     2020-01-28|      12:10:42|VENTA DE ALCOHOL ...|NO ESPECIFICADO|NULL|ATENDIDO|      NA|           NA|                     NA|    0.0|     0.0|\n",
      "|     2020-01-10|      12:39:20|TRAMITES / INFO V...|NO ESPECIFICADO|NULL|ATENDIDO|      NA|           NA|                     NA|    0.0|     0.0|\n",
      "|     2020-01-24|      10:17:36|MANTENIMIENTO DRE...|NO ESPECIFICADO|NULL|ATENDIDO|      NA|           NA|                     NA|    0.0|     0.0|\n",
      "|     2020-01-04|      18:09:01|SOLICITUD DE VIGI...|NO ESPECIFICADO|NULL|ATENDIDO|      NA|           NA|                     NA|    0.0|     0.0|\n",
      "|     2020-01-20|      11:19:17|      ALERTA SISMICA|NO ESPECIFICADO|NULL|ATENDIDO|      NA|           NA|                     NA|    0.0|     0.0|\n",
      "|     2020-01-21|      06:15:23|VENTA DE ALCOHOL ...|NO ESPECIFICADO|NULL|ATENDIDO|      NA|           NA|                     NA|    0.0|     0.0|\n",
      "|     2020-01-13|      13:21:42|RETIRO CASCAJO, E...|       FEMENINO|NULL|ATENDIDO|      NA|           NA|                     NA|    0.0|     0.0|\n",
      "|     2020-03-26|      04:25:27|SOLICITUD/SEGURO ...|NO ESPECIFICADO|NULL|ATENDIDO|      NA|           NA|                     NA|    0.0|     0.0|\n",
      "|     2020-02-04|      17:07:56|       FALTA DE AGUA|NO ESPECIFICADO|NULL|ATENDIDO|      NA|           NA|                     NA|    0.0|     0.0|\n",
      "|     2020-02-19|      08:57:01|TRAMITES / INFO V...|NO ESPECIFICADO|NULL|ATENDIDO|      NA|           NA|                     NA|    0.0|     0.0|\n",
      "|     2020-02-26|      16:46:32|SOLICITUD DE VIGI...|NO ESPECIFICADO|NULL|ATENDIDO|      NA|           NA|                     NA|    0.0|     0.0|\n",
      "|     2020-03-16|      10:25:07|               COVID|NO ESPECIFICADO|NULL|ATENDIDO|      NA|           NA|                     NA|    0.0|     0.0|\n",
      "|     2020-02-09|      19:30:37|           ALUMBRADO|NO ESPECIFICADO|NULL|ATENDIDO|      NA|           NA|                     NA|    0.0|     0.0|\n",
      "|     2020-03-01|      10:11:06|RETIRO CASCAJO, E...|NO ESPECIFICADO|NULL|ATENDIDO|      NA|           NA|                     NA|    0.0|     0.0|\n",
      "|     2020-03-09|      12:35:18|MANTENIMIENTO VÍA...|NO ESPECIFICADO|NULL| TURNADO|      NA|           NA|                     NA|    0.0|     0.0|\n",
      "|     2020-01-20|      11:13:31|      ALERTA SISMICA|       FEMENINO|NULL|ATENDIDO|      NA|           NA|                     NA|    0.0|     0.0|\n",
      "|     2020-02-07|      17:34:09|VEHÍCULO ABANDONA...|NO ESPECIFICADO|NULL|ATENDIDO|      NA|           NA|                     NA|    0.0|     0.0|\n",
      "|     2020-03-13|      18:11:00|        FUGA DE AGUA|NO ESPECIFICADO|NULL|ATENDIDO|      NA|           NA|                     NA|    0.0|     0.0|\n",
      "|     2020-03-25|      11:04:18|               COVID|NO ESPECIFICADO|NULL|ATENDIDO|      NA|           NA|                     NA|    0.0|     0.0|\n",
      "+---------------+--------------+--------------------+---------------+----+--------+--------+-------------+-----------------------+-------+--------+\n",
      "only showing top 20 rows\n",
      "\n"
     ]
    }
   ],
   "source": [
    "#Transformar Columnas Cast\n",
    "datos = datos.withColumn(\"fecha_solicitud\", to_date(col(\"fecha_solicitud\"), \"yyy-MM-dd\"))\\\n",
    "        .withColumn(\"hora_solicitud\", date_format(col(\"hora_solicitud\"), \"HH:mm:ss\"))\\\n",
    "        .withColumn(\"edad\", col(\"edad\").cast(FloatType()))\\\n",
    "        .withColumn(\"latitud\", col(\"latitud\").cast(DoubleType()))\\\n",
    "        .withColumn(\"longitud\", col(\"longitud\").cast(DoubleType()))\\\n",
    "\n",
    "datos.printSchema()\n",
    "datos.show()"
   ]
  },
  {
   "cell_type": "code",
   "execution_count": null,
   "id": "0c2276eb-8781-45bc-990f-6d1494156ac0",
   "metadata": {},
   "outputs": [],
   "source": []
  }
 ],
 "metadata": {
  "kernelspec": {
   "display_name": "Python 3 (ipykernel)",
   "language": "python",
   "name": "python3"
  },
  "language_info": {
   "codemirror_mode": {
    "name": "ipython",
    "version": 3
   },
   "file_extension": ".py",
   "mimetype": "text/x-python",
   "name": "python",
   "nbconvert_exporter": "python",
   "pygments_lexer": "ipython3",
   "version": "3.11.6"
  }
 },
 "nbformat": 4,
 "nbformat_minor": 5
}
