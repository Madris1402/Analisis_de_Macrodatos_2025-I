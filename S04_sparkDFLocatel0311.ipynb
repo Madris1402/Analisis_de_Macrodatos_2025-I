{
 "cells": [
  {
   "cell_type": "code",
   "execution_count": 1,
   "id": "f8ed9c10-ebb4-4d69-b590-faf56f6b083e",
   "metadata": {},
   "outputs": [],
   "source": [
    "from pyspark.sql.functions import col, sum, to_date, to_timestamp, regexp_replace, date_format \n",
    "from pyspark.sql.types import IntegerType, DoubleType, FloatType"
   ]
  },
  {
   "cell_type": "code",
   "execution_count": 2,
   "id": "6a8dd3a9-249e-46e5-9a9c-9e2b1785194c",
   "metadata": {},
   "outputs": [],
   "source": [
    "dir_hdfs = \"hdfs://namenode:9000/tmp/amd/locatel0311\""
   ]
  },
  {
   "cell_type": "code",
   "execution_count": 3,
   "id": "a5840c56-493c-4dac-9c35-154042f71625",
   "metadata": {},
   "outputs": [],
   "source": [
    "df = spark.read.csv(dir_hdfs)"
   ]
  },
  {
   "cell_type": "code",
   "execution_count": 4,
   "id": "9abce97d-25ce-433b-b2f7-4eb7a40ea260",
   "metadata": {},
   "outputs": [],
   "source": [
    "df = spark.read.csv(dir_hdfs, header=True, inferSchema=True)"
   ]
  },
  {
   "cell_type": "code",
   "execution_count": 5,
   "id": "d3cd00c5-d330-4e9b-a874-5940970b6e24",
   "metadata": {},
   "outputs": [
    {
     "name": "stdout",
     "output_type": "stream",
     "text": [
      "root\n",
      " |-- id_folio: string (nullable = true)\n",
      " |-- fecha_solicitud: string (nullable = true)\n",
      " |-- hora_solicitud: string (nullable = true)\n",
      " |-- tipo_de_entrada: string (nullable = true)\n",
      " |-- tema_solicitud: string (nullable = true)\n",
      " |-- sexo: string (nullable = true)\n",
      " |-- edad: string (nullable = true)\n",
      " |-- estatus: string (nullable = true)\n",
      " |-- fecha_concluido: string (nullable = true)\n",
      " |-- alcaldia: string (nullable = true)\n",
      " |-- colonia_datos: string (nullable = true)\n",
      " |-- 0311_colonia_registro: string (nullable = true)\n",
      " |-- codigo_postal_solicitud: string (nullable = true)\n",
      " |-- latitud: string (nullable = true)\n",
      " |-- longitud: string (nullable = true)\n",
      "\n"
     ]
    }
   ],
   "source": [
    "df.printSchema()"
   ]
  },
  {
   "cell_type": "code",
   "execution_count": 6,
   "id": "23f40eac-6fa7-498b-9eea-a4b053eb168f",
   "metadata": {},
   "outputs": [
    {
     "name": "stdout",
     "output_type": "stream",
     "text": [
      "Numero de Renglones: 2323089\n",
      "Numero de Columnas: 15\n",
      "Columnas ['id_folio', 'fecha_solicitud', 'hora_solicitud', 'tipo_de_entrada', 'tema_solicitud', 'sexo', 'edad', 'estatus', 'fecha_concluido', 'alcaldia', 'colonia_datos', '0311_colonia_registro', 'codigo_postal_solicitud', 'latitud', 'longitud']\n"
     ]
    }
   ],
   "source": [
    "print(f\"Numero de Renglones: {df.count()}\")\n",
    "print(f\"Numero de Columnas: {len(df.columns)}\")\n",
    "print(f\"Columnas {df.columns}\")"
   ]
  },
  {
   "cell_type": "code",
   "execution_count": 7,
   "id": "6131f1e0-d701-4d9c-a97e-261708509815",
   "metadata": {},
   "outputs": [
    {
     "name": "stdout",
     "output_type": "stream",
     "text": [
      "+--------+---------------+--------------+---------------------+---------------------------------------+---------------+----+--------+---------------+--------+-------------+---------------------+-----------------------+-------+--------+\n",
      "|id_folio|fecha_solicitud|hora_solicitud|tipo_de_entrada      |tema_solicitud                         |sexo           |edad|estatus |fecha_concluido|alcaldia|colonia_datos|0311_colonia_registro|codigo_postal_solicitud|latitud|longitud|\n",
      "+--------+---------------+--------------+---------------------+---------------------------------------+---------------+----+--------+---------------+--------+-------------+---------------------+-----------------------+-------+--------+\n",
      "|- 244841|2020-01-11     |08:17:58      |VICTORIA             |FUGA DE AGUA                           |NO ESPECIFICADO|NA  |ATENDIDO|2020-07-03     |NA      |NA           |NA                   |NA                     |0      |0       |\n",
      "|- 265596|2020-01-28     |12:10:42      |VICTORIA             |VENTA DE ALCOHOL / DROGA               |NO ESPECIFICADO|NA  |ATENDIDO|2020-12-11     |NA      |NA           |NA                   |NA                     |0      |0       |\n",
      "|- 244037|2020-01-10     |12:39:20      |VICTORIA             |TRAMITES / INFO VEHICULAR              |NO ESPECIFICADO|NA  |ATENDIDO|2020-02-21     |NA      |NA           |NA                   |NA                     |0      |0       |\n",
      "|- 261435|2020-01-24     |10:17:36      |VICTORIA             |MANTENIMIENTO DRENAJE                  |NO ESPECIFICADO|NA  |ATENDIDO|2022-06-08     |NA      |NA           |NA                   |NA                     |0      |0       |\n",
      "|- 238133|2020-01-04     |18:09:01      |VICTORIA             |SOLICITUD DE VIGILANCIA                |NO ESPECIFICADO|NA  |ATENDIDO|2020-02-15     |NA      |NA           |NA                   |NA                     |0      |0       |\n",
      "|- 254238|2020-01-20     |11:19:17      |VICTORIA             |ALERTA SISMICA                         |NO ESPECIFICADO|NA  |ATENDIDO|2020-01-31     |NA      |NA           |NA                   |NA                     |0      |0       |\n",
      "|- 256338|2020-01-21     |06:15:23      |VICTORIA             |VENTA DE ALCOHOL / DROGA               |NO ESPECIFICADO|NA  |ATENDIDO|2022-06-10     |NA      |NA           |NA                   |NA                     |0      |0       |\n",
      "|- 246368|2020-01-13     |13:21:42      |PORTAL CIUDADANO SUAC|RETIRO CASCAJO, ESCOMBRO, AZOLVE, RAMAS|FEMENINO       |NA  |ATENDIDO|2020-01-27     |NA      |NA           |NA                   |NA                     |0      |0       |\n",
      "|- 342555|2020-03-26     |04:25:27      |VICTORIA             |SOLICITUD/SEGURO DE DESEMPLEO          |NO ESPECIFICADO|NA  |ATENDIDO|2020-04-07     |NA      |NA           |NA                   |NA                     |0      |0       |\n",
      "|- 273239|2020-02-04     |17:07:56      |VICTORIA             |FALTA DE AGUA                          |NO ESPECIFICADO|NA  |ATENDIDO|2020-02-18     |NA      |NA           |NA                   |NA                     |0      |0       |\n",
      "|- 292190|2020-02-19     |08:57:01      |VICTORIA             |TRAMITES / INFO VEHICULAR              |NO ESPECIFICADO|NA  |ATENDIDO|2020-07-16     |NA      |NA           |NA                   |NA                     |0      |0       |\n",
      "|- 304805|2020-02-26     |16:46:32      |VICTORIA             |SOLICITUD DE VIGILANCIA                |NO ESPECIFICADO|NA  |ATENDIDO|2020-02-26     |NA      |NA           |NA                   |NA                     |0      |0       |\n",
      "|- 329431|2020-03-16     |10:25:07      |VICTORIA             |COVID                                  |NO ESPECIFICADO|NA  |ATENDIDO|2020-11-18     |NA      |NA           |NA                   |NA                     |0      |0       |\n",
      "|- 278809|2020-02-09     |19:30:37      |VICTORIA             |ALUMBRADO                              |NO ESPECIFICADO|NA  |ATENDIDO|2020-04-01     |NA      |NA           |NA                   |NA                     |0      |0       |\n",
      "|- 309706|2020-03-01     |10:11:06      |VICTORIA             |RETIRO CASCAJO, ESCOMBRO, AZOLVE, RAMAS|NO ESPECIFICADO|NA  |ATENDIDO|2021-11-16     |NA      |NA           |NA                   |NA                     |0      |0       |\n",
      "|- 320184|2020-03-09     |12:35:18      |VICTORIA             |MANTENIMIENTO VÍA PÚBLICA              |NO ESPECIFICADO|NA  |TURNADO |NA             |NA      |NA           |NA                   |NA                     |0      |0       |\n",
      "|- 254113|2020-01-20     |11:13:31      |PORTAL CIUDADANO SUAC|ALERTA SISMICA                         |FEMENINO       |NA  |ATENDIDO|2020-01-21     |NA      |NA           |NA                   |NA                     |0      |0       |\n",
      "|- 277832|2020-02-07     |17:34:09      |VICTORIA             |VEHÍCULO ABANDONADO / CHATARRIZACIÓN   |NO ESPECIFICADO|NA  |ATENDIDO|2020-03-21     |NA      |NA           |NA                   |NA                     |0      |0       |\n",
      "|- 328500|2020-03-13     |18:11:00      |VICTORIA             |FUGA DE AGUA                           |NO ESPECIFICADO|NA  |ATENDIDO|2020-06-01     |NA      |NA           |NA                   |NA                     |0      |0       |\n",
      "|- 341480|2020-03-25     |11:04:18      |VICTORIA             |COVID                                  |NO ESPECIFICADO|NA  |ATENDIDO|2020-03-27     |NA      |NA           |NA                   |NA                     |0      |0       |\n",
      "+--------+---------------+--------------+---------------------+---------------------------------------+---------------+----+--------+---------------+--------+-------------+---------------------+-----------------------+-------+--------+\n",
      "only showing top 20 rows\n",
      "\n"
     ]
    }
   ],
   "source": [
    "df.show(truncate=False)"
   ]
  },
  {
   "cell_type": "code",
   "execution_count": 8,
   "id": "898c9676-bc37-48c9-a9ac-2b6a46363022",
   "metadata": {},
   "outputs": [],
   "source": [
    "datos = df.select(['fecha_solicitud' , 'hora_solicitud' , 'tema_solicitud' , 'sexo' , 'edad' , 'estatus' ,\n",
    "'alcaldia', 'colonia_datos' , 'codigo_postal_solicitud' , 'latitud' , 'longitud'])"
   ]
  },
  {
   "cell_type": "code",
   "execution_count": 9,
   "id": "a8e6ac58-0c67-4903-a5e2-262be39577d9",
   "metadata": {},
   "outputs": [
    {
     "name": "stdout",
     "output_type": "stream",
     "text": [
      "root\n",
      " |-- fecha_solicitud: string (nullable = true)\n",
      " |-- hora_solicitud: string (nullable = true)\n",
      " |-- tema_solicitud: string (nullable = true)\n",
      " |-- sexo: string (nullable = true)\n",
      " |-- edad: string (nullable = true)\n",
      " |-- estatus: string (nullable = true)\n",
      " |-- alcaldia: string (nullable = true)\n",
      " |-- colonia_datos: string (nullable = true)\n",
      " |-- codigo_postal_solicitud: string (nullable = true)\n",
      " |-- latitud: string (nullable = true)\n",
      " |-- longitud: string (nullable = true)\n",
      "\n"
     ]
    }
   ],
   "source": [
    "datos.printSchema()"
   ]
  },
  {
   "cell_type": "code",
   "execution_count": 10,
   "id": "5506a55a-2f91-4b76-af25-b3709c5f64ee",
   "metadata": {},
   "outputs": [
    {
     "data": {
      "text/plain": [
       "2323089"
      ]
     },
     "execution_count": 10,
     "metadata": {},
     "output_type": "execute_result"
    }
   ],
   "source": [
    "datos.count()"
   ]
  },
  {
   "cell_type": "code",
   "execution_count": 11,
   "id": "ebecfba6-0c37-4c28-908e-b2826baee845",
   "metadata": {},
   "outputs": [
    {
     "data": {
      "text/plain": [
       "829463"
      ]
     },
     "execution_count": 11,
     "metadata": {},
     "output_type": "execute_result"
    }
   ],
   "source": [
    "datos.filter('sexo =\"FEMENINO\"').count()"
   ]
  },
  {
   "cell_type": "code",
   "execution_count": 12,
   "id": "cda48fe4-242a-4664-9b0d-09fe7a85af35",
   "metadata": {},
   "outputs": [
    {
     "name": "stdout",
     "output_type": "stream",
     "text": [
      "+---------------+--------------+--------------------+----+--------+-----------------+--------------------+\n",
      "|fecha_solicitud|hora_solicitud|      tema_solicitud|edad| estatus|         alcaldia|       colonia_datos|\n",
      "+---------------+--------------+--------------------+----+--------+-----------------+--------------------+\n",
      "|     2019-06-02|      16:50:47|           ALUMBRADO|  29|ATENDIDO|       CUAUHTEMOC|      ROMA NORTE III|\n",
      "|     2019-06-02|      23:30:08|       FALTA DE AGUA|  50|ATENDIDO|               NA|                  NA|\n",
      "|     2019-06-02|      17:28:06|      MEDIO AMBIENTE|  19|ATENDIDO|               NA|                  NA|\n",
      "|     2019-06-02|      14:40:34|        FUGA DE AGUA|  38|ATENDIDO|          TLALPAN|FLORESTA-PRADO-VE...|\n",
      "|     2019-06-02|      17:33:25|MANTENIMIENTO VÍA...|  71|ATENDIDO|       IZTAPALAPA|          MODELO (U)|\n",
      "|     2019-06-02|      15:17:44|              BACHEO|  66|ATENDIDO|         COYOACAN|  AJUSCO HUAYAMILPAS|\n",
      "|     2019-06-02|      17:40:36|         WIFI GRATIS|  19|ATENDIDO|               NA|                  NA|\n",
      "|     2019-06-02|      15:25:26|           DESAZOLVE|  67|ATENDIDO|         COYOACAN|PEDREGAL DE SANTA...|\n",
      "|     2019-06-02|      17:45:06|      MEDIO AMBIENTE|   0|ATENDIDO|               NA|                  NA|\n",
      "|     2019-06-02|      15:36:18|           ASESORIAS|  70|ATENDIDO|               NA|                  NA|\n",
      "|     2019-06-02|      17:50:28|QUEJA DE TRANSPOR...|  29|ATENDIDO|GUSTAVO A. MADERO|SAN JUAN Y GUADAL...|\n",
      "|     2019-06-02|      15:49:21|VEHÍCULO ABANDONA...|  56|ATENDIDO|               NA|                  NA|\n",
      "|     2019-06-02|      18:04:28|QUEJAS Y DEMANDAS...|  39|ATENDIDO|               NA|                  NA|\n",
      "|     2019-06-02|      15:58:50|VEHÍCULO ABANDONA...|  32|ATENDIDO|   ALVARO OBREGON|   VILLA PROGRESISTA|\n",
      "|     2019-06-02|      19:50:17|       FALTA DE AGUA|  54|ATENDIDO|               NA|                  NA|\n",
      "|     2019-06-02|      16:06:32|SEGURIDAD PÚBLICA...|  64|ATENDIDO|               NA|                  NA|\n",
      "|     2019-06-02|      19:59:01|MANTENIMIENTO DE ...|  54| TURNADO|               NA|                  NA|\n",
      "|     2019-06-02|      16:26:48|       FALTA DE AGUA|  38|ATENDIDO|          TLALPAN|AMPLIACION MIGUEL...|\n",
      "|     2019-06-02|      20:14:07|QUEJA DE TRANSPOR...|  28|ATENDIDO|               NA|                  NA|\n",
      "|     2019-06-02|      20:27:10|         INFORMACIÓN|  23|ATENDIDO|               NA|                  NA|\n",
      "+---------------+--------------+--------------------+----+--------+-----------------+--------------------+\n",
      "only showing top 20 rows\n",
      "\n"
     ]
    }
   ],
   "source": [
    "datos.select(['fecha_solicitud' , 'hora_solicitud' , 'tema_solicitud' , 'edad' , 'estatus' ,\n",
    "'alcaldia', 'colonia_datos']).filter('sexo =\"FEMENINO\"').orderBy('fecha_solicitud').show()"
   ]
  },
  {
   "cell_type": "code",
   "execution_count": 13,
   "id": "222f695e-6de0-4664-b953-270e3a9d3242",
   "metadata": {},
   "outputs": [
    {
     "data": {
      "text/plain": [
       "pyspark.sql.dataframe.DataFrame"
      ]
     },
     "execution_count": 13,
     "metadata": {},
     "output_type": "execute_result"
    }
   ],
   "source": [
    "type(datos)"
   ]
  },
  {
   "cell_type": "code",
   "execution_count": 14,
   "id": "59690c68-16a9-464a-a690-85b8a8a29eb3",
   "metadata": {},
   "outputs": [
    {
     "name": "stdout",
     "output_type": "stream",
     "text": [
      "root\n",
      " |-- fecha_solicitud: date (nullable = true)\n",
      " |-- hora_solicitud: string (nullable = true)\n",
      " |-- tema_solicitud: string (nullable = true)\n",
      " |-- sexo: string (nullable = true)\n",
      " |-- edad: float (nullable = true)\n",
      " |-- estatus: string (nullable = true)\n",
      " |-- alcaldia: string (nullable = true)\n",
      " |-- colonia_datos: string (nullable = true)\n",
      " |-- codigo_postal_solicitud: string (nullable = true)\n",
      " |-- latitud: double (nullable = true)\n",
      " |-- longitud: double (nullable = true)\n",
      "\n",
      "+---------------+--------------+--------------------+---------------+----+--------+--------+-------------+-----------------------+-------+--------+\n",
      "|fecha_solicitud|hora_solicitud|      tema_solicitud|           sexo|edad| estatus|alcaldia|colonia_datos|codigo_postal_solicitud|latitud|longitud|\n",
      "+---------------+--------------+--------------------+---------------+----+--------+--------+-------------+-----------------------+-------+--------+\n",
      "|     2020-01-11|      08:17:58|        FUGA DE AGUA|NO ESPECIFICADO|NULL|ATENDIDO|      NA|           NA|                     NA|    0.0|     0.0|\n",
      "|     2020-01-28|      12:10:42|VENTA DE ALCOHOL ...|NO ESPECIFICADO|NULL|ATENDIDO|      NA|           NA|                     NA|    0.0|     0.0|\n",
      "|     2020-01-10|      12:39:20|TRAMITES / INFO V...|NO ESPECIFICADO|NULL|ATENDIDO|      NA|           NA|                     NA|    0.0|     0.0|\n",
      "|     2020-01-24|      10:17:36|MANTENIMIENTO DRE...|NO ESPECIFICADO|NULL|ATENDIDO|      NA|           NA|                     NA|    0.0|     0.0|\n",
      "|     2020-01-04|      18:09:01|SOLICITUD DE VIGI...|NO ESPECIFICADO|NULL|ATENDIDO|      NA|           NA|                     NA|    0.0|     0.0|\n",
      "|     2020-01-20|      11:19:17|      ALERTA SISMICA|NO ESPECIFICADO|NULL|ATENDIDO|      NA|           NA|                     NA|    0.0|     0.0|\n",
      "|     2020-01-21|      06:15:23|VENTA DE ALCOHOL ...|NO ESPECIFICADO|NULL|ATENDIDO|      NA|           NA|                     NA|    0.0|     0.0|\n",
      "|     2020-01-13|      13:21:42|RETIRO CASCAJO, E...|       FEMENINO|NULL|ATENDIDO|      NA|           NA|                     NA|    0.0|     0.0|\n",
      "|     2020-03-26|      04:25:27|SOLICITUD/SEGURO ...|NO ESPECIFICADO|NULL|ATENDIDO|      NA|           NA|                     NA|    0.0|     0.0|\n",
      "|     2020-02-04|      17:07:56|       FALTA DE AGUA|NO ESPECIFICADO|NULL|ATENDIDO|      NA|           NA|                     NA|    0.0|     0.0|\n",
      "|     2020-02-19|      08:57:01|TRAMITES / INFO V...|NO ESPECIFICADO|NULL|ATENDIDO|      NA|           NA|                     NA|    0.0|     0.0|\n",
      "|     2020-02-26|      16:46:32|SOLICITUD DE VIGI...|NO ESPECIFICADO|NULL|ATENDIDO|      NA|           NA|                     NA|    0.0|     0.0|\n",
      "|     2020-03-16|      10:25:07|               COVID|NO ESPECIFICADO|NULL|ATENDIDO|      NA|           NA|                     NA|    0.0|     0.0|\n",
      "|     2020-02-09|      19:30:37|           ALUMBRADO|NO ESPECIFICADO|NULL|ATENDIDO|      NA|           NA|                     NA|    0.0|     0.0|\n",
      "|     2020-03-01|      10:11:06|RETIRO CASCAJO, E...|NO ESPECIFICADO|NULL|ATENDIDO|      NA|           NA|                     NA|    0.0|     0.0|\n",
      "|     2020-03-09|      12:35:18|MANTENIMIENTO VÍA...|NO ESPECIFICADO|NULL| TURNADO|      NA|           NA|                     NA|    0.0|     0.0|\n",
      "|     2020-01-20|      11:13:31|      ALERTA SISMICA|       FEMENINO|NULL|ATENDIDO|      NA|           NA|                     NA|    0.0|     0.0|\n",
      "|     2020-02-07|      17:34:09|VEHÍCULO ABANDONA...|NO ESPECIFICADO|NULL|ATENDIDO|      NA|           NA|                     NA|    0.0|     0.0|\n",
      "|     2020-03-13|      18:11:00|        FUGA DE AGUA|NO ESPECIFICADO|NULL|ATENDIDO|      NA|           NA|                     NA|    0.0|     0.0|\n",
      "|     2020-03-25|      11:04:18|               COVID|NO ESPECIFICADO|NULL|ATENDIDO|      NA|           NA|                     NA|    0.0|     0.0|\n",
      "+---------------+--------------+--------------------+---------------+----+--------+--------+-------------+-----------------------+-------+--------+\n",
      "only showing top 20 rows\n",
      "\n"
     ]
    }
   ],
   "source": [
    "#Transformar Columnas Cast\n",
    "datos = datos.withColumn(\"fecha_solicitud\", to_date(col(\"fecha_solicitud\"), \"yyy-MM-dd\"))\\\n",
    "        .withColumn(\"hora_solicitud\", date_format(col(\"hora_solicitud\"), \"HH:mm:ss\"))\\\n",
    "        .withColumn(\"edad\", col(\"edad\").cast(FloatType()))\\\n",
    "        .withColumn(\"latitud\", col(\"latitud\").cast(DoubleType()))\\\n",
    "        .withColumn(\"longitud\", col(\"longitud\").cast(DoubleType()))\\\n",
    "\n",
    "datos.printSchema()\n",
    "datos.show()"
   ]
  },
  {
   "cell_type": "code",
   "execution_count": 16,
   "id": "0c2276eb-8781-45bc-990f-6d1494156ac0",
   "metadata": {},
   "outputs": [
    {
     "name": "stdout",
     "output_type": "stream",
     "text": [
      "+---------------+--------------+--------------+----+-------+-------+--------+-------------+-----------------------+-------+--------+\n",
      "|fecha_solicitud|hora_solicitud|tema_solicitud|sexo|   edad|estatus|alcaldia|colonia_datos|codigo_postal_solicitud|latitud|longitud|\n",
      "+---------------+--------------+--------------+----+-------+-------+--------+-------------+-----------------------+-------+--------+\n",
      "|              0|             0|             0|   0|1402897|      0|       0|            0|                      0| 682509|  431500|\n",
      "+---------------+--------------+--------------+----+-------+-------+--------+-------------+-----------------------+-------+--------+\n",
      "\n"
     ]
    }
   ],
   "source": [
    "# Contar Nulos por Columna\n",
    "datos.select([sum(col(c).isNull().cast(\"int\")).alias(c) for c in datos.columns]).show()"
   ]
  },
  {
   "cell_type": "code",
   "execution_count": 44,
   "id": "b7f71f5f-b06e-4a61-bb00-afca078d2b78",
   "metadata": {},
   "outputs": [
    {
     "name": "stdout",
     "output_type": "stream",
     "text": [
      "root\n",
      " |-- edad: float (nullable = true)\n",
      " |-- estatus: string (nullable = true)\n",
      " |-- tema_solicitud: string (nullable = true)\n",
      " |-- anio: integer (nullable = true)\n",
      " |-- mes: integer (nullable = true)\n",
      " |-- dia: integer (nullable = true)\n",
      " |-- semana: integer (nullable = true)\n",
      " |-- nombre_mes: string (nullable = true)\n",
      " |-- nombre_dia: string (nullable = true)\n",
      " |-- hora: integer (nullable = true)\n",
      " |-- minuto: integer (nullable = true)\n",
      " |-- segundo: integer (nullable = true)\n",
      "\n"
     ]
    }
   ],
   "source": [
    "from pyspark.sql.functions import hour, minute, second, year, month, dayofmonth, weekofyear\n",
    "colfs=\"fecha_solicitud\"\n",
    "colhs = \"hora_solicitud\"\n",
    "\n",
    "datos_tiempo = datos.select(\n",
    "col(\"edad\"), col(\"estatus\"), col(\"tema_solicitud\"),\n",
    "year(col(colfs)).alias(\"anio\"),\n",
    "month(col(colfs)).alias(\"mes\"),\n",
    "dayofmonth(col(colfs)).alias(\"dia\"),\n",
    "weekofyear(col(colfs)).alias(\"semana\"),\n",
    "date_format(col(colfs),\"MMMM\").alias(\"nombre_mes\"),\n",
    "date_format(col(colfs),\"EEEE\").alias(\"nombre_dia\"),\n",
    "hour(col(colfs)).alias(\"hora\"),\n",
    "minute(col(colfs)).alias(\"minuto\"),\n",
    "second(col(colfs)).alias(\"segundo\")\n",
    ")\n",
    "\n",
    "datos_tiempo.printSchema()"
   ]
  },
  {
   "cell_type": "code",
   "execution_count": 42,
   "id": "95ba8365-25db-4f31-b7d4-73d4ac76da6f",
   "metadata": {},
   "outputs": [
    {
     "name": "stdout",
     "output_type": "stream",
     "text": [
      "+----+--------+---------------------------------------+----+---+---+------+----------+----------+----+------+-------+\n",
      "|edad|estatus |tema_solicitud                         |anio|mes|dia|semana|nombre_mes|nombre_dia|hora|minuto|segundo|\n",
      "+----+--------+---------------------------------------+----+---+---+------+----------+----------+----+------+-------+\n",
      "|NULL|ATENDIDO|FUGA DE AGUA                           |2020|1  |11 |2     |January   |Saturday  |0   |0     |0      |\n",
      "|NULL|ATENDIDO|VENTA DE ALCOHOL / DROGA               |2020|1  |28 |5     |January   |Tuesday   |0   |0     |0      |\n",
      "|NULL|ATENDIDO|TRAMITES / INFO VEHICULAR              |2020|1  |10 |2     |January   |Friday    |0   |0     |0      |\n",
      "|NULL|ATENDIDO|MANTENIMIENTO DRENAJE                  |2020|1  |24 |4     |January   |Friday    |0   |0     |0      |\n",
      "|NULL|ATENDIDO|SOLICITUD DE VIGILANCIA                |2020|1  |4  |1     |January   |Saturday  |0   |0     |0      |\n",
      "|NULL|ATENDIDO|ALERTA SISMICA                         |2020|1  |20 |4     |January   |Monday    |0   |0     |0      |\n",
      "|NULL|ATENDIDO|VENTA DE ALCOHOL / DROGA               |2020|1  |21 |4     |January   |Tuesday   |0   |0     |0      |\n",
      "|NULL|ATENDIDO|RETIRO CASCAJO, ESCOMBRO, AZOLVE, RAMAS|2020|1  |13 |3     |January   |Monday    |0   |0     |0      |\n",
      "|NULL|ATENDIDO|SOLICITUD/SEGURO DE DESEMPLEO          |2020|3  |26 |13    |March     |Thursday  |0   |0     |0      |\n",
      "|NULL|ATENDIDO|FALTA DE AGUA                          |2020|2  |4  |6     |February  |Tuesday   |0   |0     |0      |\n",
      "|NULL|ATENDIDO|TRAMITES / INFO VEHICULAR              |2020|2  |19 |8     |February  |Wednesday |0   |0     |0      |\n",
      "|NULL|ATENDIDO|SOLICITUD DE VIGILANCIA                |2020|2  |26 |9     |February  |Wednesday |0   |0     |0      |\n",
      "|NULL|ATENDIDO|COVID                                  |2020|3  |16 |12    |March     |Monday    |0   |0     |0      |\n",
      "|NULL|ATENDIDO|ALUMBRADO                              |2020|2  |9  |6     |February  |Sunday    |0   |0     |0      |\n",
      "|NULL|ATENDIDO|RETIRO CASCAJO, ESCOMBRO, AZOLVE, RAMAS|2020|3  |1  |9     |March     |Sunday    |0   |0     |0      |\n",
      "|NULL|TURNADO |MANTENIMIENTO VÍA PÚBLICA              |2020|3  |9  |11    |March     |Monday    |0   |0     |0      |\n",
      "|NULL|ATENDIDO|ALERTA SISMICA                         |2020|1  |20 |4     |January   |Monday    |0   |0     |0      |\n",
      "|NULL|ATENDIDO|VEHÍCULO ABANDONADO / CHATARRIZACIÓN   |2020|2  |7  |6     |February  |Friday    |0   |0     |0      |\n",
      "|NULL|ATENDIDO|FUGA DE AGUA                           |2020|3  |13 |11    |March     |Friday    |0   |0     |0      |\n",
      "|NULL|ATENDIDO|COVID                                  |2020|3  |25 |13    |March     |Wednesday |0   |0     |0      |\n",
      "+----+--------+---------------------------------------+----+---+---+------+----------+----------+----+------+-------+\n",
      "only showing top 20 rows\n",
      "\n"
     ]
    }
   ],
   "source": [
    "datos_tiempo.show(truncate = False)"
   ]
  },
  {
   "cell_type": "code",
   "execution_count": 43,
   "id": "15b3f9d3-4450-48fc-bf59-ad3fbc2f699e",
   "metadata": {},
   "outputs": [
    {
     "data": {
      "text/plain": [
       "2323089"
      ]
     },
     "execution_count": 43,
     "metadata": {},
     "output_type": "execute_result"
    }
   ],
   "source": [
    "datos_tiempo.count()"
   ]
  },
  {
   "cell_type": "code",
   "execution_count": 45,
   "id": "5ce3074f-74c1-4eb5-8bff-594a34c8aaeb",
   "metadata": {},
   "outputs": [
    {
     "name": "stdout",
     "output_type": "stream",
     "text": [
      "+-------+------------------+--------------------+--------------------+------------------+------------------+-----------------+-----------------+----------+----------+-------+-------+-------+\n",
      "|summary|              edad|             estatus|      tema_solicitud|              anio|               mes|              dia|           semana|nombre_mes|nombre_dia|   hora| minuto|segundo|\n",
      "+-------+------------------+--------------------+--------------------+------------------+------------------+-----------------+-----------------+----------+----------+-------+-------+-------+\n",
      "|  count|            920192|             2323089|             2323089|           2323089|           2323089|          2323089|          2323089|   2323089|   2323089|2323089|2323089|2323089|\n",
      "|   mean| 39.27146399881764|                18.0|                NULL|2021.5103188039718|6.4875654785503265|15.85532538787795|26.43079107171529|      NULL|      NULL|    0.0|    0.0|    0.0|\n",
      "| stddev|27.238747481977125|                 0.0|                NULL|  1.37871177376573|3.4064677225068465| 8.65088685805828|14.82067661213932|      NULL|      NULL|    0.0|    0.0|    0.0|\n",
      "|    min|               0.0|           1 DE MAYO|AGUA POTABLE Y SE...|              2019|                 1|                1|                1|     April|    Friday|      0|      0|      0|\n",
      "|    max|           16090.0|ZU STA MARTHA ACA...|         WIFI GRATIS|              2024|                12|               31|               53| September| Wednesday|      0|      0|      0|\n",
      "+-------+------------------+--------------------+--------------------+------------------+------------------+-----------------+-----------------+----------+----------+-------+-------+-------+\n",
      "\n"
     ]
    }
   ],
   "source": [
    "#Estadísticos Descriptivos del Dataframe\n",
    "\n",
    "datos_tiempo.describe().show()"
   ]
  },
  {
   "cell_type": "code",
   "execution_count": 46,
   "id": "305c2d6e-1ec6-4cd7-9be2-d938a30de0b4",
   "metadata": {},
   "outputs": [
    {
     "name": "stdout",
     "output_type": "stream",
     "text": [
      "+-------+------------------+------------------+------------------+-----------------+-------+-------+-------+-----------------+\n",
      "|summary|              edad|              anio|               mes|              dia|   hora| minuto|segundo|           semana|\n",
      "+-------+------------------+------------------+------------------+-----------------+-------+-------+-------+-----------------+\n",
      "|  count|            920192|           2323089|           2323089|          2323089|2323089|2323089|2323089|          2323089|\n",
      "|   mean| 39.27146399881764|2021.5103188039718|6.4875654785503265|15.85532538787795|    0.0|    0.0|    0.0|26.43079107171529|\n",
      "| stddev|27.238747481977125|  1.37871177376573|3.4064677225068465| 8.65088685805828|    0.0|    0.0|    0.0|14.82067661213932|\n",
      "|    min|               0.0|              2019|                 1|                1|      0|      0|      0|                1|\n",
      "|    max|           16090.0|              2024|                12|               31|      0|      0|      0|               53|\n",
      "+-------+------------------+------------------+------------------+-----------------+-------+-------+-------+-----------------+\n",
      "\n"
     ]
    }
   ],
   "source": [
    "#Estadísticos Descriptivos de algunas columnas del dataframe\n",
    "\n",
    "columnas = ['edad', 'anio', 'mes', 'dia', 'hora', 'minuto', 'segundo', 'semana']\n",
    "\n",
    "datos_tiempo.select(columnas).describe().show()"
   ]
  },
  {
   "cell_type": "code",
   "execution_count": 47,
   "id": "c19c5bb7-7edb-4f75-b411-48db61ba3539",
   "metadata": {},
   "outputs": [
    {
     "data": {
      "text/html": [
       "<div>\n",
       "<style scoped>\n",
       "    .dataframe tbody tr th:only-of-type {\n",
       "        vertical-align: middle;\n",
       "    }\n",
       "\n",
       "    .dataframe tbody tr th {\n",
       "        vertical-align: top;\n",
       "    }\n",
       "\n",
       "    .dataframe thead th {\n",
       "        text-align: right;\n",
       "    }\n",
       "</style>\n",
       "<table border=\"1\" class=\"dataframe\">\n",
       "  <thead>\n",
       "    <tr style=\"text-align: right;\">\n",
       "      <th></th>\n",
       "      <th>0</th>\n",
       "      <th>1</th>\n",
       "      <th>2</th>\n",
       "      <th>3</th>\n",
       "      <th>4</th>\n",
       "    </tr>\n",
       "  </thead>\n",
       "  <tbody>\n",
       "    <tr>\n",
       "      <th>summary</th>\n",
       "      <td>count</td>\n",
       "      <td>mean</td>\n",
       "      <td>stddev</td>\n",
       "      <td>min</td>\n",
       "      <td>max</td>\n",
       "    </tr>\n",
       "    <tr>\n",
       "      <th>edad</th>\n",
       "      <td>920192</td>\n",
       "      <td>39.27146399881764</td>\n",
       "      <td>27.238747481977125</td>\n",
       "      <td>0.0</td>\n",
       "      <td>16090.0</td>\n",
       "    </tr>\n",
       "    <tr>\n",
       "      <th>anio</th>\n",
       "      <td>2323089</td>\n",
       "      <td>2021.5103188039718</td>\n",
       "      <td>1.37871177376573</td>\n",
       "      <td>2019</td>\n",
       "      <td>2024</td>\n",
       "    </tr>\n",
       "    <tr>\n",
       "      <th>mes</th>\n",
       "      <td>2323089</td>\n",
       "      <td>6.4875654785503265</td>\n",
       "      <td>3.4064677225068465</td>\n",
       "      <td>1</td>\n",
       "      <td>12</td>\n",
       "    </tr>\n",
       "    <tr>\n",
       "      <th>dia</th>\n",
       "      <td>2323089</td>\n",
       "      <td>15.85532538787795</td>\n",
       "      <td>8.65088685805828</td>\n",
       "      <td>1</td>\n",
       "      <td>31</td>\n",
       "    </tr>\n",
       "    <tr>\n",
       "      <th>hora</th>\n",
       "      <td>2323089</td>\n",
       "      <td>0.0</td>\n",
       "      <td>0.0</td>\n",
       "      <td>0</td>\n",
       "      <td>0</td>\n",
       "    </tr>\n",
       "    <tr>\n",
       "      <th>minuto</th>\n",
       "      <td>2323089</td>\n",
       "      <td>0.0</td>\n",
       "      <td>0.0</td>\n",
       "      <td>0</td>\n",
       "      <td>0</td>\n",
       "    </tr>\n",
       "    <tr>\n",
       "      <th>segundo</th>\n",
       "      <td>2323089</td>\n",
       "      <td>0.0</td>\n",
       "      <td>0.0</td>\n",
       "      <td>0</td>\n",
       "      <td>0</td>\n",
       "    </tr>\n",
       "    <tr>\n",
       "      <th>semana</th>\n",
       "      <td>2323089</td>\n",
       "      <td>26.43079107171529</td>\n",
       "      <td>14.82067661213932</td>\n",
       "      <td>1</td>\n",
       "      <td>53</td>\n",
       "    </tr>\n",
       "  </tbody>\n",
       "</table>\n",
       "</div>"
      ],
      "text/plain": [
       "               0                   1                   2     3        4\n",
       "summary    count                mean              stddev   min      max\n",
       "edad      920192   39.27146399881764  27.238747481977125   0.0  16090.0\n",
       "anio     2323089  2021.5103188039718    1.37871177376573  2019     2024\n",
       "mes      2323089  6.4875654785503265  3.4064677225068465     1       12\n",
       "dia      2323089   15.85532538787795    8.65088685805828     1       31\n",
       "hora     2323089                 0.0                 0.0     0        0\n",
       "minuto   2323089                 0.0                 0.0     0        0\n",
       "segundo  2323089                 0.0                 0.0     0        0\n",
       "semana   2323089   26.43079107171529   14.82067661213932     1       53"
      ]
     },
     "execution_count": 47,
     "metadata": {},
     "output_type": "execute_result"
    }
   ],
   "source": [
    "datos_tiempo.select(columnas).describe().toPandas().T"
   ]
  },
  {
   "cell_type": "code",
   "execution_count": 50,
   "id": "c61dbb74-a2ce-4348-b2b9-302ceeb92150",
   "metadata": {},
   "outputs": [
    {
     "name": "stdout",
     "output_type": "stream",
     "text": [
      "80\n",
      "+--------------------------------+\n",
      "|tema_solicitud                  |\n",
      "+--------------------------------+\n",
      "|VERIFICACIÓN ADMINISTRATIVA     |\n",
      "|BACHEO                          |\n",
      "|REPARACION DE EMPEDRADO         |\n",
      "|BECAS                           |\n",
      "|FALTA DE AGUA                   |\n",
      "|MERCADOS PÚBLICOS, TIANGUIS     |\n",
      "|REINSCRIPCION AL CENDI          |\n",
      "|LLAVE CDMX                      |\n",
      "|ASESORÍA DE TERCEROS ACREDITADOS|\n",
      "|QUEJAS Y DENUNCIAS              |\n",
      "|WIFI GRATIS                     |\n",
      "|REGISTRO CIVIL                  |\n",
      "|CONSTRUCCIONES Y OBRAS          |\n",
      "|ALARMAS VECINALES               |\n",
      "|SOLICITUD/SEGURO DE DESEMPLEO   |\n",
      "|AVISO PREVIO DE MANIFESTACIONES |\n",
      "|SOLICITUD DE VIGILANCIA         |\n",
      "|FOMENTO ECONÓMICO Y EMPLEO      |\n",
      "|PODA / RETIRO ARBOL             |\n",
      "|INFORMACIÓN SOBRE TRÁMITES      |\n",
      "+--------------------------------+\n",
      "only showing top 20 rows\n",
      "\n"
     ]
    }
   ],
   "source": [
    "# Ver valores únicos\n",
    "\n",
    "print(datos_tiempo.select(\"tema_solicitud\").distinct().count())\n",
    "datos_tiempo.select(\"tema_solicitud\").distinct().show(truncate = False)"
   ]
  },
  {
   "cell_type": "code",
   "execution_count": 52,
   "id": "87f28566-728a-4eb4-8a45-b18a1a03b298",
   "metadata": {},
   "outputs": [
    {
     "name": "stdout",
     "output_type": "stream",
     "text": [
      "+----------------------------------------+\n",
      "|tema_solicitud                          |\n",
      "+----------------------------------------+\n",
      "|AGUA POTABLE Y SERVICIOS HIDRÁULICOS    |\n",
      "|ALARMAS VECINALES                       |\n",
      "|ALERTA SISMICA                          |\n",
      "|ALUMBRADO                               |\n",
      "|ANUNCIOS                                |\n",
      "|APOYO SERVICIOS FUNERARIOS              |\n",
      "|ASESORIAS                               |\n",
      "|ASESORÍA DE TERCEROS ACREDITADOS        |\n",
      "|ASESORÍA JURÍDICA                       |\n",
      "|ASISTENCIA SOCIAL                       |\n",
      "|ASISTENCIA VETERINARIA                  |\n",
      "|AVISO PREVIO DE MANIFESTACIONES         |\n",
      "|BACHEO                                  |\n",
      "|BALIZAMIENTO                            |\n",
      "|BARBECHO / CHAPONEO                     |\n",
      "|BECAS                                   |\n",
      "|CHATARRIZACIÓN                          |\n",
      "|CONSTRUCCIONES Y OBRAS                  |\n",
      "|COVID                                   |\n",
      "|CRÉDITO DE VIVIENDA                     |\n",
      "|CULTURA Y RECREACIÓN                    |\n",
      "|DEPORTE                                 |\n",
      "|DESAZOLVE                               |\n",
      "|ESPECTÁCULOS PÚBLICOS                   |\n",
      "|FALLA DE ALTAVOZ, ALERTA SÍSMICA        |\n",
      "|FALTA DE AGUA                           |\n",
      "|FOMENTO ECONÓMICO Y EMPLEO              |\n",
      "|FUGA DE AGUA                            |\n",
      "|INDUSTRIA                               |\n",
      "|INFORMACIÓN                             |\n",
      "|INFORMACIÓN SOBRE TRÁMITES              |\n",
      "|LIMPIEZA VIA PUBLICA                    |\n",
      "|LLAVE CDMX                              |\n",
      "|MALTRATO INFANTIL                       |\n",
      "|MANTENIMIENTO DE COLADERA / ALCANTARILLA|\n",
      "|MANTENIMIENTO DRENAJE                   |\n",
      "|MANTENIMIENTO PARQUE / AREA VERDE       |\n",
      "|MANTENIMIENTO SEMÁFOROS                 |\n",
      "|MANTENIMIENTO VÍA PÚBLICA               |\n",
      "|MEDIO AMBIENTE                          |\n",
      "|MERCADOS PÚBLICOS, TIANGUIS             |\n",
      "|OTRO                                    |\n",
      "|PAVIMENTACION                           |\n",
      "|PODA / RETIRO ARBOL                     |\n",
      "|POSTES C5                               |\n",
      "|PROGRAMA APOYO A CUIDADORES             |\n",
      "|PROTECCION CIVIL                        |\n",
      "|PRUEBA BARRIO ADENTRO                   |\n",
      "|QUEJA DE TRANSPORTE PUBLICO             |\n",
      "|QUEJA FUNCIONARIO                       |\n",
      "|QUEJAS Y DEMANDAS VECINALES             |\n",
      "|QUEJAS Y DENUNCIAS                      |\n",
      "|RECOLECCIÓN BASURA                      |\n",
      "|RECONSTRUCCIÓN                          |\n",
      "|REGISTRO CIVIL                          |\n",
      "|REGISTRO FERIAS INDIGENAS               |\n",
      "|REGISTRO PÚBLICO DE LA PROPIEDAD        |\n",
      "|REINSCRIPCION AL CENDI                  |\n",
      "|REPARACION DE EMPEDRADO                 |\n",
      "|RETIRO AMBULANTE                        |\n",
      "|RETIRO CASCAJO, ESCOMBRO, AZOLVE, RAMAS |\n",
      "|SEGURIDAD PÚBLICA Y VIALIDAD            |\n",
      "|SERVICIOS LEGALES Y NOTARÍAS            |\n",
      "|SERVICIOS URBANOS, LIMPIA               |\n",
      "|SOLICITUD DE AUDIENCIA                  |\n",
      "|SOLICITUD DE CONCERTACIÓN VECINAL       |\n",
      "|SOLICITUD DE VIGILANCIA                 |\n",
      "|SOLICITUD DE VOLANTEO                   |\n",
      "|SOLICITUD ESTUDIO SOCIOECONOMICO        |\n",
      "|SOLICITUD EVALUACIÓN DE RIESGO          |\n",
      "|SOLICITUD/SEGURO DE DESEMPLEO           |\n",
      "|TIERRA, PREDIOS Y USO DE SUELO          |\n",
      "|TRAMITES / INFO VEHICULAR               |\n",
      "|USO DE SUELO                            |\n",
      "|VEHÍCULO ABANDONADO / CHATARRIZACIÓN    |\n",
      "|VEHÍCULOS AUTOMOTORES Y TAXIS           |\n",
      "|VENTA DE ALCOHOL / DROGA                |\n",
      "|VERIFICACIONES                          |\n",
      "|VERIFICACIÓN ADMINISTRATIVA             |\n",
      "|WIFI GRATIS                             |\n",
      "+----------------------------------------+\n",
      "\n"
     ]
    }
   ],
   "source": [
    "datos_tiempo.select(\"tema_solicitud\").distinct().orderBy(\"tema_solicitud\").show(100, truncate = False)"
   ]
  },
  {
   "cell_type": "code",
   "execution_count": 54,
   "id": "2afde211-fbfa-4ac9-aa80-953ce9eafe01",
   "metadata": {},
   "outputs": [
    {
     "name": "stdout",
     "output_type": "stream",
     "text": [
      "+----------------------------------------+------+\n",
      "|tema_solicitud                          |count |\n",
      "+----------------------------------------+------+\n",
      "|OTRO                                    |303078|\n",
      "|ALUMBRADO                               |259590|\n",
      "|PODA / RETIRO ARBOL                     |214579|\n",
      "|FALTA DE AGUA                           |205785|\n",
      "|FUGA DE AGUA                            |109632|\n",
      "|BACHEO                                  |96571 |\n",
      "|MANTENIMIENTO VÍA PÚBLICA               |95159 |\n",
      "|DESAZOLVE                               |93337 |\n",
      "|RETIRO CASCAJO, ESCOMBRO, AZOLVE, RAMAS |75400 |\n",
      "|MANTENIMIENTO DE COLADERA / ALCANTARILLA|54717 |\n",
      "|TRAMITES / INFO VEHICULAR               |46176 |\n",
      "|ALERTA SISMICA                          |44182 |\n",
      "|QUEJA DE TRANSPORTE PUBLICO             |42056 |\n",
      "|VERIFICACIÓN ADMINISTRATIVA             |40880 |\n",
      "|COVID                                   |37983 |\n",
      "|RECOLECCIÓN BASURA                      |37071 |\n",
      "|VEHÍCULO ABANDONADO / CHATARRIZACIÓN    |36450 |\n",
      "|SOLICITUD DE VIGILANCIA                 |31986 |\n",
      "|QUEJAS Y DEMANDAS VECINALES             |31342 |\n",
      "|SERVICIOS URBANOS, LIMPIA               |26670 |\n",
      "|MANTENIMIENTO DRENAJE                   |25352 |\n",
      "|SOLICITUD/SEGURO DE DESEMPLEO           |23179 |\n",
      "|QUEJAS Y DENUNCIAS                      |23063 |\n",
      "|PAVIMENTACION                           |23025 |\n",
      "|BARBECHO / CHAPONEO                     |22350 |\n",
      "|MANTENIMIENTO PARQUE / AREA VERDE       |21192 |\n",
      "|PROTECCION CIVIL                        |19733 |\n",
      "|AGUA POTABLE Y SERVICIOS HIDRÁULICOS    |17573 |\n",
      "|ASISTENCIA SOCIAL                       |17254 |\n",
      "|LIMPIEZA VIA PUBLICA                    |16706 |\n",
      "|INFORMACIÓN SOBRE TRÁMITES              |16533 |\n",
      "|VEHÍCULOS AUTOMOTORES Y TAXIS           |16172 |\n",
      "|SEGURIDAD PÚBLICA Y VIALIDAD            |15055 |\n",
      "|CONSTRUCCIONES Y OBRAS                  |14131 |\n",
      "|VENTA DE ALCOHOL / DROGA                |12068 |\n",
      "|BALIZAMIENTO                            |11881 |\n",
      "|RETIRO AMBULANTE                        |9503  |\n",
      "|USO DE SUELO                            |9168  |\n",
      "|MANTENIMIENTO SEMÁFOROS                 |8618  |\n",
      "|QUEJA FUNCIONARIO                       |8162  |\n",
      "|INFORMACIÓN                             |7650  |\n",
      "|ASESORIAS                               |7489  |\n",
      "|MEDIO AMBIENTE                          |6921  |\n",
      "|SOLICITUD EVALUACIÓN DE RIESGO          |5838  |\n",
      "|REGISTRO CIVIL                          |5654  |\n",
      "|LLAVE CDMX                              |5473  |\n",
      "|PRUEBA BARRIO ADENTRO                   |5000  |\n",
      "|MERCADOS PÚBLICOS, TIANGUIS             |4813  |\n",
      "|REINSCRIPCION AL CENDI                  |4273  |\n",
      "|TIERRA, PREDIOS Y USO DE SUELO          |4077  |\n",
      "|VERIFICACIONES                          |3660  |\n",
      "|CRÉDITO DE VIVIENDA                     |3647  |\n",
      "|ASESORÍA JURÍDICA                       |3522  |\n",
      "|CULTURA Y RECREACIÓN                    |3515  |\n",
      "|BECAS                                   |3195  |\n",
      "|CHATARRIZACIÓN                          |2843  |\n",
      "|DEPORTE                                 |2713  |\n",
      "|POSTES C5                               |2707  |\n",
      "|REGISTRO PÚBLICO DE LA PROPIEDAD        |2510  |\n",
      "|SOLICITUD DE VOLANTEO                   |2391  |\n",
      "|FOMENTO ECONÓMICO Y EMPLEO              |2349  |\n",
      "|REGISTRO FERIAS INDIGENAS               |2117  |\n",
      "|SERVICIOS LEGALES Y NOTARÍAS            |1820  |\n",
      "|ASISTENCIA VETERINARIA                  |1747  |\n",
      "|SOLICITUD ESTUDIO SOCIOECONOMICO        |1693  |\n",
      "|SOLICITUD DE AUDIENCIA                  |1623  |\n",
      "|FALLA DE ALTAVOZ, ALERTA SÍSMICA        |1568  |\n",
      "|SOLICITUD DE CONCERTACIÓN VECINAL       |1460  |\n",
      "|ALARMAS VECINALES                       |1410  |\n",
      "|RECONSTRUCCIÓN                          |1064  |\n",
      "|WIFI GRATIS                             |882   |\n",
      "|REPARACION DE EMPEDRADO                 |873   |\n",
      "|ANUNCIOS                                |848   |\n",
      "|MALTRATO INFANTIL                       |722   |\n",
      "|ESPECTÁCULOS PÚBLICOS                   |711   |\n",
      "|ASESORÍA DE TERCEROS ACREDITADOS        |407   |\n",
      "|APOYO SERVICIOS FUNERARIOS              |164   |\n",
      "|AVISO PREVIO DE MANIFESTACIONES         |149   |\n",
      "|PROGRAMA APOYO A CUIDADORES             |138   |\n",
      "|INDUSTRIA                               |91    |\n",
      "+----------------------------------------+------+\n",
      "\n"
     ]
    }
   ],
   "source": [
    "datos_tiempo.groupBy([\"tema_solicitud\"]).count().orderBy(\"count\", ascending = False).show(100, truncate = False)"
   ]
  },
  {
   "cell_type": "code",
   "execution_count": 58,
   "id": "a8b9afe0-4a8f-4d11-89ce-661a1ba3dcf7",
   "metadata": {},
   "outputs": [
    {
     "name": "stdout",
     "output_type": "stream",
     "text": [
      "+-------------------------+------+\n",
      "|tema_solicitud           |count |\n",
      "+-------------------------+------+\n",
      "|OTRO                     |303078|\n",
      "|ALUMBRADO                |259590|\n",
      "|PODA / RETIRO ARBOL      |214579|\n",
      "|FALTA DE AGUA            |205785|\n",
      "|FUGA DE AGUA             |109632|\n",
      "|BACHEO                   |96571 |\n",
      "|MANTENIMIENTO VÍA PÚBLICA|95159 |\n",
      "|DESAZOLVE                |93337 |\n",
      "+-------------------------+------+\n",
      "\n"
     ]
    }
   ],
   "source": [
    "datos_tiempo.groupBy([\"tema_solicitud\"]).count().orderBy(\"count\", ascending = False)\\\n",
    ".filter(\"count >=90000\")\\\n",
    ".show(100, truncate = False)"
   ]
  },
  {
   "cell_type": "code",
   "execution_count": 60,
   "id": "831b51fa-99fe-4864-88ab-da8a3cd9c8eb",
   "metadata": {},
   "outputs": [
    {
     "name": "stdout",
     "output_type": "stream",
     "text": [
      "+----+------------------------------------+-----+\n",
      "|anio|tema_solicitud                      |count|\n",
      "+----+------------------------------------+-----+\n",
      "|2020|AGUA POTABLE Y SERVICIOS HIDRÁULICOS|4487 |\n",
      "|2021|AGUA POTABLE Y SERVICIOS HIDRÁULICOS|11114|\n",
      "|2019|AGUA POTABLE Y SERVICIOS HIDRÁULICOS|1972 |\n",
      "|2020|ALARMAS VECINALES                   |205  |\n",
      "|2021|ALARMAS VECINALES                   |110  |\n",
      "|2022|ALARMAS VECINALES                   |549  |\n",
      "|2023|ALARMAS VECINALES                   |301  |\n",
      "|2019|ALARMAS VECINALES                   |233  |\n",
      "|2024|ALARMAS VECINALES                   |12   |\n",
      "|2020|ALERTA SISMICA                      |5379 |\n",
      "|2021|ALERTA SISMICA                      |25801|\n",
      "|2022|ALERTA SISMICA                      |7849 |\n",
      "|2023|ALERTA SISMICA                      |3008 |\n",
      "|2019|ALERTA SISMICA                      |1900 |\n",
      "|2024|ALERTA SISMICA                      |245  |\n",
      "|2020|ALUMBRADO                           |42359|\n",
      "|2021|ALUMBRADO                           |56755|\n",
      "|2022|ALUMBRADO                           |60743|\n",
      "|2023|ALUMBRADO                           |55623|\n",
      "|2019|ALUMBRADO                           |37009|\n",
      "|2024|ALUMBRADO                           |7101 |\n",
      "|2020|ANUNCIOS                            |229  |\n",
      "|2021|ANUNCIOS                            |398  |\n",
      "|2022|ANUNCIOS                            |4    |\n",
      "|2019|ANUNCIOS                            |217  |\n",
      "|2020|APOYO SERVICIOS FUNERARIOS          |53   |\n",
      "|2021|APOYO SERVICIOS FUNERARIOS          |55   |\n",
      "|2022|APOYO SERVICIOS FUNERARIOS          |18   |\n",
      "|2023|APOYO SERVICIOS FUNERARIOS          |8    |\n",
      "|2019|APOYO SERVICIOS FUNERARIOS          |30   |\n",
      "|2020|ASESORIAS                           |2226 |\n",
      "|2021|ASESORIAS                           |4623 |\n",
      "|2019|ASESORIAS                           |640  |\n",
      "|2020|ASESORÍA DE TERCEROS ACREDITADOS    |108  |\n",
      "|2021|ASESORÍA DE TERCEROS ACREDITADOS    |4    |\n",
      "|2023|ASESORÍA DE TERCEROS ACREDITADOS    |2    |\n",
      "|2019|ASESORÍA DE TERCEROS ACREDITADOS    |292  |\n",
      "|2022|ASESORÍA DE TERCEROS ACREDITADOS    |1    |\n",
      "|2020|ASESORÍA JURÍDICA                   |321  |\n",
      "|2021|ASESORÍA JURÍDICA                   |375  |\n",
      "|2022|ASESORÍA JURÍDICA                   |1198 |\n",
      "|2023|ASESORÍA JURÍDICA                   |921  |\n",
      "|2019|ASESORÍA JURÍDICA                   |450  |\n",
      "|2024|ASESORÍA JURÍDICA                   |257  |\n",
      "|2020|ASISTENCIA SOCIAL                   |3192 |\n",
      "|2021|ASISTENCIA SOCIAL                   |4047 |\n",
      "|2022|ASISTENCIA SOCIAL                   |3379 |\n",
      "|2023|ASISTENCIA SOCIAL                   |3431 |\n",
      "|2019|ASISTENCIA SOCIAL                   |2380 |\n",
      "|2024|ASISTENCIA SOCIAL                   |825  |\n",
      "|2020|ASISTENCIA VETERINARIA              |208  |\n",
      "|2021|ASISTENCIA VETERINARIA              |167  |\n",
      "|2022|ASISTENCIA VETERINARIA              |450  |\n",
      "|2023|ASISTENCIA VETERINARIA              |568  |\n",
      "|2019|ASISTENCIA VETERINARIA              |281  |\n",
      "|2024|ASISTENCIA VETERINARIA              |73   |\n",
      "|2020|AVISO PREVIO DE MANIFESTACIONES     |67   |\n",
      "|2021|AVISO PREVIO DE MANIFESTACIONES     |76   |\n",
      "|2019|AVISO PREVIO DE MANIFESTACIONES     |6    |\n",
      "|2020|BACHEO                              |10164|\n",
      "|2021|BACHEO                              |19324|\n",
      "|2022|BACHEO                              |26800|\n",
      "|2023|BACHEO                              |26120|\n",
      "|2019|BACHEO                              |11097|\n",
      "|2024|BACHEO                              |3066 |\n",
      "|2020|BALIZAMIENTO                        |1663 |\n",
      "|2021|BALIZAMIENTO                        |1652 |\n",
      "|2022|BALIZAMIENTO                        |3608 |\n",
      "|2023|BALIZAMIENTO                        |3447 |\n",
      "|2019|BALIZAMIENTO                        |1090 |\n",
      "|2024|BALIZAMIENTO                        |421  |\n",
      "|2020|BARBECHO / CHAPONEO                 |2909 |\n",
      "|2021|BARBECHO / CHAPONEO                 |2881 |\n",
      "|2022|BARBECHO / CHAPONEO                 |5599 |\n",
      "|2023|BARBECHO / CHAPONEO                 |7365 |\n",
      "|2019|BARBECHO / CHAPONEO                 |944  |\n",
      "|2024|BARBECHO / CHAPONEO                 |2652 |\n",
      "|2020|BECAS                               |926  |\n",
      "|2021|BECAS                               |928  |\n",
      "|2022|BECAS                               |389  |\n",
      "|2023|BECAS                               |367  |\n",
      "|2019|BECAS                               |559  |\n",
      "|2024|BECAS                               |26   |\n",
      "|2020|CHATARRIZACIÓN                      |925  |\n",
      "|2021|CHATARRIZACIÓN                      |1098 |\n",
      "|2019|CHATARRIZACIÓN                      |820  |\n",
      "|2020|CONSTRUCCIONES Y OBRAS              |4673 |\n",
      "|2021|CONSTRUCCIONES Y OBRAS              |6870 |\n",
      "|2019|CONSTRUCCIONES Y OBRAS              |2588 |\n",
      "|2021|COVID                               |9279 |\n",
      "|2020|COVID                               |27064|\n",
      "|2022|COVID                               |1172 |\n",
      "|2023|COVID                               |249  |\n",
      "|2019|COVID                               |151  |\n",
      "|2024|COVID                               |68   |\n",
      "|2020|CRÉDITO DE VIVIENDA                 |1207 |\n",
      "|2021|CRÉDITO DE VIVIENDA                 |31   |\n",
      "|2022|CRÉDITO DE VIVIENDA                 |124  |\n",
      "|2023|CRÉDITO DE VIVIENDA                 |105  |\n",
      "|2019|CRÉDITO DE VIVIENDA                 |2178 |\n",
      "+----+------------------------------------+-----+\n",
      "only showing top 100 rows\n",
      "\n"
     ]
    }
   ],
   "source": [
    "datos_tiempo.groupBy([\"anio\",\"tema_solicitud\"]).count().orderBy(\"tema_solicitud\", ascending = True)\\\n",
    ".show(100, truncate = False)"
   ]
  },
  {
   "cell_type": "code",
   "execution_count": 63,
   "id": "65095439-5f75-4c53-bce4-c4c0b4789f1d",
   "metadata": {},
   "outputs": [
    {
     "name": "stdout",
     "output_type": "stream",
     "text": [
      "+----+------------------------------------+-----+\n",
      "|anio|tema_solicitud                      |count|\n",
      "+----+------------------------------------+-----+\n",
      "|2019|AGUA POTABLE Y SERVICIOS HIDRÁULICOS|1972 |\n",
      "|2020|AGUA POTABLE Y SERVICIOS HIDRÁULICOS|4487 |\n",
      "|2021|AGUA POTABLE Y SERVICIOS HIDRÁULICOS|11114|\n",
      "|2019|ALARMAS VECINALES                   |233  |\n",
      "|2020|ALARMAS VECINALES                   |205  |\n",
      "|2021|ALARMAS VECINALES                   |110  |\n",
      "|2022|ALARMAS VECINALES                   |549  |\n",
      "|2023|ALARMAS VECINALES                   |301  |\n",
      "|2024|ALARMAS VECINALES                   |12   |\n",
      "|2019|ALERTA SISMICA                      |1900 |\n",
      "|2020|ALERTA SISMICA                      |5379 |\n",
      "|2021|ALERTA SISMICA                      |25801|\n",
      "|2022|ALERTA SISMICA                      |7849 |\n",
      "|2023|ALERTA SISMICA                      |3008 |\n",
      "|2024|ALERTA SISMICA                      |245  |\n",
      "|2019|ALUMBRADO                           |37009|\n",
      "|2020|ALUMBRADO                           |42359|\n",
      "|2021|ALUMBRADO                           |56755|\n",
      "|2022|ALUMBRADO                           |60743|\n",
      "|2023|ALUMBRADO                           |55623|\n",
      "|2024|ALUMBRADO                           |7101 |\n",
      "|2019|ANUNCIOS                            |217  |\n",
      "|2020|ANUNCIOS                            |229  |\n",
      "|2021|ANUNCIOS                            |398  |\n",
      "|2022|ANUNCIOS                            |4    |\n",
      "|2019|APOYO SERVICIOS FUNERARIOS          |30   |\n",
      "|2020|APOYO SERVICIOS FUNERARIOS          |53   |\n",
      "|2021|APOYO SERVICIOS FUNERARIOS          |55   |\n",
      "|2022|APOYO SERVICIOS FUNERARIOS          |18   |\n",
      "|2023|APOYO SERVICIOS FUNERARIOS          |8    |\n",
      "|2019|ASESORIAS                           |640  |\n",
      "|2020|ASESORIAS                           |2226 |\n",
      "|2021|ASESORIAS                           |4623 |\n",
      "|2019|ASESORÍA DE TERCEROS ACREDITADOS    |292  |\n",
      "|2020|ASESORÍA DE TERCEROS ACREDITADOS    |108  |\n",
      "|2021|ASESORÍA DE TERCEROS ACREDITADOS    |4    |\n",
      "|2022|ASESORÍA DE TERCEROS ACREDITADOS    |1    |\n",
      "|2023|ASESORÍA DE TERCEROS ACREDITADOS    |2    |\n",
      "|2019|ASESORÍA JURÍDICA                   |450  |\n",
      "|2020|ASESORÍA JURÍDICA                   |321  |\n",
      "|2021|ASESORÍA JURÍDICA                   |375  |\n",
      "|2022|ASESORÍA JURÍDICA                   |1198 |\n",
      "|2023|ASESORÍA JURÍDICA                   |921  |\n",
      "|2024|ASESORÍA JURÍDICA                   |257  |\n",
      "|2019|ASISTENCIA SOCIAL                   |2380 |\n",
      "|2020|ASISTENCIA SOCIAL                   |3192 |\n",
      "|2021|ASISTENCIA SOCIAL                   |4047 |\n",
      "|2022|ASISTENCIA SOCIAL                   |3379 |\n",
      "|2023|ASISTENCIA SOCIAL                   |3431 |\n",
      "|2024|ASISTENCIA SOCIAL                   |825  |\n",
      "|2019|ASISTENCIA VETERINARIA              |281  |\n",
      "|2020|ASISTENCIA VETERINARIA              |208  |\n",
      "|2021|ASISTENCIA VETERINARIA              |167  |\n",
      "|2022|ASISTENCIA VETERINARIA              |450  |\n",
      "|2023|ASISTENCIA VETERINARIA              |568  |\n",
      "|2024|ASISTENCIA VETERINARIA              |73   |\n",
      "|2019|AVISO PREVIO DE MANIFESTACIONES     |6    |\n",
      "|2020|AVISO PREVIO DE MANIFESTACIONES     |67   |\n",
      "|2021|AVISO PREVIO DE MANIFESTACIONES     |76   |\n",
      "|2019|BACHEO                              |11097|\n",
      "|2020|BACHEO                              |10164|\n",
      "|2021|BACHEO                              |19324|\n",
      "|2022|BACHEO                              |26800|\n",
      "|2023|BACHEO                              |26120|\n",
      "|2024|BACHEO                              |3066 |\n",
      "|2019|BALIZAMIENTO                        |1090 |\n",
      "|2020|BALIZAMIENTO                        |1663 |\n",
      "|2021|BALIZAMIENTO                        |1652 |\n",
      "|2022|BALIZAMIENTO                        |3608 |\n",
      "|2023|BALIZAMIENTO                        |3447 |\n",
      "|2024|BALIZAMIENTO                        |421  |\n",
      "|2019|BARBECHO / CHAPONEO                 |944  |\n",
      "|2020|BARBECHO / CHAPONEO                 |2909 |\n",
      "|2021|BARBECHO / CHAPONEO                 |2881 |\n",
      "|2022|BARBECHO / CHAPONEO                 |5599 |\n",
      "|2023|BARBECHO / CHAPONEO                 |7365 |\n",
      "|2024|BARBECHO / CHAPONEO                 |2652 |\n",
      "|2019|BECAS                               |559  |\n",
      "|2020|BECAS                               |926  |\n",
      "|2021|BECAS                               |928  |\n",
      "|2022|BECAS                               |389  |\n",
      "|2023|BECAS                               |367  |\n",
      "|2024|BECAS                               |26   |\n",
      "|2019|CHATARRIZACIÓN                      |820  |\n",
      "|2020|CHATARRIZACIÓN                      |925  |\n",
      "|2021|CHATARRIZACIÓN                      |1098 |\n",
      "|2019|CONSTRUCCIONES Y OBRAS              |2588 |\n",
      "|2020|CONSTRUCCIONES Y OBRAS              |4673 |\n",
      "|2021|CONSTRUCCIONES Y OBRAS              |6870 |\n",
      "|2019|COVID                               |151  |\n",
      "|2020|COVID                               |27064|\n",
      "|2021|COVID                               |9279 |\n",
      "|2022|COVID                               |1172 |\n",
      "|2023|COVID                               |249  |\n",
      "|2024|COVID                               |68   |\n",
      "|2019|CRÉDITO DE VIVIENDA                 |2178 |\n",
      "|2020|CRÉDITO DE VIVIENDA                 |1207 |\n",
      "|2021|CRÉDITO DE VIVIENDA                 |31   |\n",
      "|2022|CRÉDITO DE VIVIENDA                 |124  |\n",
      "|2023|CRÉDITO DE VIVIENDA                 |105  |\n",
      "+----+------------------------------------+-----+\n",
      "only showing top 100 rows\n",
      "\n"
     ]
    }
   ],
   "source": [
    "datos_tiempo.groupBy([\"anio\",\"tema_solicitud\"]).count().orderBy([\"tema_solicitud\", \"anio\"], ascending = [True, True])\\\n",
    ".show(100, truncate = False)"
   ]
  },
  {
   "cell_type": "code",
   "execution_count": null,
   "id": "20836e9e-ebc3-47f4-97a5-326b48e0c613",
   "metadata": {},
   "outputs": [],
   "source": []
  }
 ],
 "metadata": {
  "kernelspec": {
   "display_name": "Python 3 (ipykernel)",
   "language": "python",
   "name": "python3"
  },
  "language_info": {
   "codemirror_mode": {
    "name": "ipython",
    "version": 3
   },
   "file_extension": ".py",
   "mimetype": "text/x-python",
   "name": "python",
   "nbconvert_exporter": "python",
   "pygments_lexer": "ipython3",
   "version": "3.11.6"
  }
 },
 "nbformat": 4,
 "nbformat_minor": 5
}
