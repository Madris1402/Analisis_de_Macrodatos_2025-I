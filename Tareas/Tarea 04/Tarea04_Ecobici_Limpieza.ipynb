{
 "cells": [
  {
   "cell_type": "code",
   "execution_count": 1,
   "id": "1f87c478-023e-4879-b11e-a232a88c6192",
   "metadata": {},
   "outputs": [
    {
     "name": "stdout",
     "output_type": "stream",
     "text": [
      "\n",
      " Ricardo Madrigal Urencio \n",
      "\n"
     ]
    }
   ],
   "source": [
    "nombre = \"\\n Ricardo Madrigal Urencio \\n\"\n",
    "print(nombre)"
   ]
  },
  {
   "cell_type": "code",
   "execution_count": 2,
   "id": "5aa47ae7-1f6b-4401-ac86-f5b904acc0d2",
   "metadata": {},
   "outputs": [],
   "source": [
    "#Todas las librerias a Importar\n",
    "from pyspark.sql.functions import col, sum, to_date, to_timestamp, regexp_replace\n",
    "from pyspark.sql.functions import date_format\n",
    "from pyspark.sql.types import IntegerType, DoubleType, FloatType\n",
    "from pyspark.sql.functions import hour, minute, second, year, month, dayofmonth, weekofyear"
   ]
  },
  {
   "cell_type": "code",
   "execution_count": 3,
   "id": "c206dc7b-d1b6-4e45-a97c-4cd7e7d4d023",
   "metadata": {},
   "outputs": [
    {
     "name": "stdout",
     "output_type": "stream",
     "text": [
      "root\n",
      " |-- Genero_Usuario: string (nullable = true)\n",
      " |-- Edad_Usuario: string (nullable = true)\n",
      " |-- Bici: string (nullable = true)\n",
      " |-- Ciclo_Estacion_Retiro: string (nullable = true)\n",
      " |-- Fecha_Retiro: string (nullable = true)\n",
      " |-- Hora_Retiro: string (nullable = true)\n",
      " |-- Ciclo_Estacion_Arribo: string (nullable = true)\n",
      " |-- Fecha_Arribo: string (nullable = true)\n",
      " |-- Hora_Arribo: string (nullable = true)\n",
      " |-- _c9: timestamp (nullable = true)\n",
      "\n",
      "\n",
      " Ricardo Madrigal Urencio \n",
      "\n"
     ]
    }
   ],
   "source": [
    "#Crear un solo Dataframe con todos los meses\n",
    "dir_hdfs = \"hdfs://namenode:9000/tmp/amd/ecobici/2019\"\n",
    "\n",
    "df = spark.read.csv(dir_hdfs, header=True, inferSchema=True)\n",
    "df.printSchema()\n",
    "\n",
    "print(nombre)"
   ]
  },
  {
   "cell_type": "code",
   "execution_count": 4,
   "id": "0df51bff-e5b1-4740-976d-f4b48e41001c",
   "metadata": {},
   "outputs": [
    {
     "name": "stdout",
     "output_type": "stream",
     "text": [
      "7718156\n",
      "\n",
      " Ricardo Madrigal Urencio \n",
      "\n"
     ]
    }
   ],
   "source": [
    "print(df.count())\n",
    "print(nombre)"
   ]
  },
  {
   "cell_type": "code",
   "execution_count": 5,
   "id": "d84eef01-3bd0-4caf-8a28-e1ae8c335330",
   "metadata": {},
   "outputs": [
    {
     "name": "stdout",
     "output_type": "stream",
     "text": [
      "+--------------+------------+----+---------------------+------------+-----------+---------------------+------------+-----------+-------+\n",
      "|Genero_Usuario|Edad_Usuario|Bici|Ciclo_Estacion_Retiro|Fecha_Retiro|Hora_Retiro|Ciclo_Estacion_Arribo|Fecha_Arribo|Hora_Arribo|    _c9|\n",
      "+--------------+------------+----+---------------------+------------+-----------+---------------------+------------+-----------+-------+\n",
      "|             0|           0|   0|                    0|           0|          0|                    0|           0|          0|7718155|\n",
      "+--------------+------------+----+---------------------+------------+-----------+---------------------+------------+-----------+-------+\n",
      "\n",
      "\n",
      " Ricardo Madrigal Urencio \n",
      "\n"
     ]
    }
   ],
   "source": [
    "df.select([sum(col(c).isNull().cast(\"int\")).alias(c) for c in df.columns]).show()\n",
    "print(nombre)"
   ]
  },
  {
   "cell_type": "code",
   "execution_count": 6,
   "id": "de12df28-1ac0-428c-aa83-ebe1c326d5e4",
   "metadata": {},
   "outputs": [
    {
     "name": "stdout",
     "output_type": "stream",
     "text": [
      "+--------------+------------+-----+---------------------+------------+-----------+---------------------+------------+-----------+----+\n",
      "|Genero_Usuario|Edad_Usuario|Bici |Ciclo_Estacion_Retiro|Fecha_Retiro|Hora_Retiro|Ciclo_Estacion_Arribo|Fecha_Arribo|Hora_Arribo|_c9 |\n",
      "+--------------+------------+-----+---------------------+------------+-----------+---------------------+------------+-----------+----+\n",
      "|M             |34          |8861 |143                  |01/03/2019  |00:00:54   |68                   |01/03/2019  |00:13:55   |NULL|\n",
      "|F             |33          |2601 |51                   |01/03/2019  |00:01:01   |53                   |01/03/2019  |00:07:16   |NULL|\n",
      "|M             |25          |8257 |340                  |01/03/2019  |00:01:26   |324                  |01/03/2019  |00:09:26   |NULL|\n",
      "|M             |32          |15007|139                  |01/03/2019  |00:01:42   |155                  |01/03/2019  |00:06:20   |NULL|\n",
      "|F             |22          |7601 |81                   |01/03/2019  |00:01:50   |75                   |01/03/2019  |00:06:22   |NULL|\n",
      "|M             |53          |9258 |359                  |01/03/2019  |00:02:20   |355                  |01/03/2019  |00:10:11   |NULL|\n",
      "|M             |25          |10034|177                  |01/03/2019  |00:03:28   |365                  |01/03/2019  |00:38:29   |NULL|\n",
      "|M             |27          |11362|390                  |01/03/2019  |00:03:31   |377                  |01/03/2019  |00:13:29   |NULL|\n",
      "|F             |26          |4035 |134                  |01/03/2019  |00:03:34   |480                  |01/03/2019  |00:21:40   |NULL|\n",
      "|M             |26          |7528 |35                   |01/03/2019  |00:03:43   |1                    |01/03/2019  |00:09:17   |NULL|\n",
      "+--------------+------------+-----+---------------------+------------+-----------+---------------------+------------+-----------+----+\n",
      "only showing top 10 rows\n",
      "\n",
      "\n",
      " Ricardo Madrigal Urencio \n",
      "\n"
     ]
    }
   ],
   "source": [
    "df.show(10, truncate = False)\n",
    "\n",
    "print(nombre)"
   ]
  },
  {
   "cell_type": "code",
   "execution_count": 7,
   "id": "19d86a8b-f6b8-4d2c-9c7d-19313be734ab",
   "metadata": {},
   "outputs": [
    {
     "name": "stdout",
     "output_type": "stream",
     "text": [
      "+--------------+------------+----+---------------------+------------+-----------+---------------------+------------+-----------+-------------------+\n",
      "|Genero_Usuario|Edad_Usuario|Bici|Ciclo_Estacion_Retiro|Fecha_Retiro|Hora_Retiro|Ciclo_Estacion_Arribo|Fecha_Arribo|Hora_Arribo|_c9                |\n",
      "+--------------+------------+----+---------------------+------------+-----------+---------------------+------------+-----------+-------------------+\n",
      "|M             |44          |9944|267                  |06/03/2019  |08:06:23   |32:11.8              |10          |00:00:00   |2024-10-20 08:41:11|\n",
      "+--------------+------------+----+---------------------+------------+-----------+---------------------+------------+-----------+-------------------+\n",
      "\n",
      "\n",
      " Ricardo Madrigal Urencio \n",
      "\n"
     ]
    }
   ],
   "source": [
    "df.filter(\"_c9 is not null\").show(truncate = False)\n",
    "\n",
    "print(nombre)"
   ]
  },
  {
   "cell_type": "code",
   "execution_count": 8,
   "id": "bcbd543c-c995-455d-8005-ebb927805f42",
   "metadata": {},
   "outputs": [
    {
     "name": "stdout",
     "output_type": "stream",
     "text": [
      "root\n",
      " |-- Genero_Usuario: string (nullable = true)\n",
      " |-- Edad_Usuario: float (nullable = true)\n",
      " |-- Bici: integer (nullable = true)\n",
      " |-- Ciclo_Estacion_Retiro: integer (nullable = true)\n",
      " |-- Fecha_Retiro: date (nullable = true)\n",
      " |-- Hora_Retiro: string (nullable = true)\n",
      " |-- Ciclo_Estacion_Arribo: integer (nullable = true)\n",
      " |-- Fecha_Arribo: date (nullable = true)\n",
      " |-- Hora_Arribo: string (nullable = true)\n",
      " |-- _c9: timestamp (nullable = true)\n",
      "\n",
      "\n",
      " Ricardo Madrigal Urencio \n",
      "\n"
     ]
    }
   ],
   "source": [
    "#Limpieza del esquema\n",
    "datos = df\\\n",
    ".withColumn(\"Edad_Usuario\", col(\"Edad_Usuario\").cast(FloatType())) \\\n",
    ".withColumn(\"Bici\", col(\"Bici\").cast(IntegerType())) \\\n",
    ".withColumn(\"Ciclo_Estacion_Retiro\", col(\"Ciclo_Estacion_Retiro\").cast(IntegerType())) \\\n",
    ".withColumn(\"Fecha_Retiro\", to_date(col(\"Fecha_Retiro\"), \"dd/MM/yyyy\")) \\\n",
    ".withColumn(\"Hora_Retiro\", date_format(col(\"Hora_Retiro\"), \"HH:mm:ss\")) \\\n",
    ".withColumn(\"Ciclo_Estacion_Arribo\", col(\"Ciclo_Estacion_Arribo\").cast(IntegerType())) \\\n",
    ".withColumn(\"Fecha_Arribo\", to_date(col(\"Fecha_Arribo\"), \"dd/MM/yyyy\")) \\\n",
    ".withColumn(\"Hora_Arribo\", date_format(col(\"Hora_Arribo\"), \"HH:mm:ss\"))\n",
    "datos.printSchema()\n",
    "\n",
    "print(nombre)"
   ]
  },
  {
   "cell_type": "code",
   "execution_count": 9,
   "id": "7993aabd-6d69-4290-a0eb-ad5d0b0bf6c1",
   "metadata": {},
   "outputs": [
    {
     "name": "stdout",
     "output_type": "stream",
     "text": [
      "root\n",
      " |-- Genero_Usuario: string (nullable = true)\n",
      " |-- Edad_Usuario: float (nullable = true)\n",
      " |-- Bici: integer (nullable = true)\n",
      " |-- Ciclo_Estacion_Retiro: integer (nullable = true)\n",
      " |-- dia_sem_retiro: string (nullable = true)\n",
      " |-- num_dia_retiro: integer (nullable = true)\n",
      " |-- num_mes_retiro: integer (nullable = true)\n",
      " |-- mes_retiro: string (nullable = true)\n",
      " |-- anio_retiro: integer (nullable = true)\n",
      " |-- hora_retiro: integer (nullable = true)\n",
      " |-- minuto_retiro: integer (nullable = true)\n",
      " |-- segundo_retiro: integer (nullable = true)\n",
      " |-- Ciclo_Estacion_Arribo: integer (nullable = true)\n",
      " |-- dia_sem_arribo: string (nullable = true)\n",
      " |-- num_dia_arribo: integer (nullable = true)\n",
      " |-- num_mes_arribo: integer (nullable = true)\n",
      " |-- mes_arribo: string (nullable = true)\n",
      " |-- anio_arribo: integer (nullable = true)\n",
      " |-- hora_arribo: integer (nullable = true)\n",
      " |-- minuto_arribo: integer (nullable = true)\n",
      " |-- segundo_arribo: integer (nullable = true)\n",
      "\n",
      "\n",
      " Ricardo Madrigal Urencio \n",
      "\n",
      "+--------------+------------+-----+---------------------+--------------+--------------+--------------+----------+-----------+-----------+-------------+--------------+---------------------+--------------+--------------+--------------+----------+-----------+-----------+-------------+--------------+\n",
      "|Genero_Usuario|Edad_Usuario| Bici|Ciclo_Estacion_Retiro|dia_sem_retiro|num_dia_retiro|num_mes_retiro|mes_retiro|anio_retiro|hora_retiro|minuto_retiro|segundo_retiro|Ciclo_Estacion_Arribo|dia_sem_arribo|num_dia_arribo|num_mes_arribo|mes_arribo|anio_arribo|hora_arribo|minuto_arribo|segundo_arribo|\n",
      "+--------------+------------+-----+---------------------+--------------+--------------+--------------+----------+-----------+-----------+-------------+--------------+---------------------+--------------+--------------+--------------+----------+-----------+-----------+-------------+--------------+\n",
      "|             M|        47.0| 7872|                   27|       Tuesday|            15|             1|   January|       2019|         18|           56|            49|                 1002|        Friday|            12|             4|     April|       2019|         17|            5|            33|\n",
      "|             M|        29.0|12171|                   85|     Wednesday|            30|             1|   January|       2019|         15|           12|            29|                   85|        Friday|             1|             2|  February|       2019|          9|           31|            54|\n",
      "|             M|        22.0|12356|                   14|      Thursday|            31|             1|   January|       2019|         18|           59|            32|                  274|        Friday|             1|             2|  February|       2019|          0|           18|            55|\n",
      "|             F|        24.0|12281|                   15|      Thursday|            31|             1|   January|       2019|         13|           50|             4|                   13|        Friday|             1|             2|  February|       2019|          7|           37|            20|\n",
      "|             F|        32.0| 7329|                  281|      Thursday|            31|             1|   January|       2019|         15|            3|            33|                  282|        Friday|             1|             2|  February|       2019|          4|           37|            24|\n",
      "+--------------+------------+-----+---------------------+--------------+--------------+--------------+----------+-----------+-----------+-------------+--------------+---------------------+--------------+--------------+--------------+----------+-----------+-----------+-------------+--------------+\n",
      "only showing top 5 rows\n",
      "\n",
      "\n",
      " Ricardo Madrigal Urencio \n",
      "\n"
     ]
    }
   ],
   "source": [
    "#Agregar campos año, mes, día, hora, minuto, segundo, día de la semana\n",
    "##Separar Fechas y Horas de Retiro y Arribo en Campos Individuales\n",
    "colfs = \"Fecha_Retiro\"\n",
    "colhs = \"Hora_Retiro\"\n",
    "colfa = \"Fecha_Arribo\"\n",
    "colha = \"Hora_Arribo\"\n",
    "\n",
    "ecobici = datos.select(\n",
    "    col(\"Genero_Usuario\"), col(\"Edad_Usuario\"), col(\"Bici\"), col(\"Ciclo_Estacion_Retiro\"),\n",
    "    date_format(col(colfs), \"EEEE\").alias(\"dia_sem_retiro\"),\n",
    "    dayofmonth(col(colfs)).alias(\"num_dia_retiro\"),\n",
    "    month(col(colfs)).alias(\"num_mes_retiro\"),\n",
    "    date_format(col(colfs), \"MMMM\").alias(\"mes_retiro\"),\n",
    "    year(col(colfs)).alias(\"anio_retiro\"),\n",
    "    hour(col(colhs)).alias(\"hora_retiro\"),\n",
    "    minute(col(colhs)).alias(\"minuto_retiro\"),    \n",
    "    second(col(colhs)).alias(\"segundo_retiro\"),\n",
    "    col(\"Ciclo_Estacion_Arribo\"),\n",
    "    date_format(col(colfa), \"EEEE\").alias(\"dia_sem_arribo\"),\n",
    "    dayofmonth(col(colfa)).alias(\"num_dia_arribo\"),\n",
    "    month(col(colfa)).alias(\"num_mes_arribo\"),\n",
    "    date_format(col(colfa), \"MMMM\").alias(\"mes_arribo\"),\n",
    "    year(col(colfa)).alias(\"anio_arribo\"),\n",
    "    hour(col(colha)).alias(\"hora_arribo\"),\n",
    "    minute(col(colha)).alias(\"minuto_arribo\"),    \n",
    "    second(col(colha)).alias(\"segundo_arribo\")\n",
    "    \n",
    ")\n",
    "\n",
    "ecobici.printSchema()\n",
    "\n",
    "print(nombre)\n",
    "\n",
    "ecobici.orderBy('num_mes_retiro', ascending = True).show(5)\n",
    "\n",
    "print(nombre)"
   ]
  },
  {
   "cell_type": "code",
   "execution_count": 10,
   "id": "8afddf7d-b560-4aed-bc5d-8439fbaa114e",
   "metadata": {},
   "outputs": [
    {
     "name": "stdout",
     "output_type": "stream",
     "text": [
      "\n",
      " Ricardo Madrigal Urencio \n",
      "\n",
      "+-------+--------------+------------------+------------------+---------------------+--------------+-----------------+------------------+----------+--------------------+------------------+------------------+------------------+---------------------+--------------+------------------+------------------+----------+-----------+------------------+------------------+------------------+\n",
      "|summary|Genero_Usuario|      Edad_Usuario|              Bici|Ciclo_Estacion_Retiro|dia_sem_retiro|   num_dia_retiro|    num_mes_retiro|mes_retiro|         anio_retiro|       hora_retiro|     minuto_retiro|    segundo_retiro|Ciclo_Estacion_Arribo|dia_sem_arribo|    num_dia_arribo|    num_mes_arribo|mes_arribo|anio_arribo|       hora_arribo|     minuto_arribo|    segundo_arribo|\n",
      "+-------+--------------+------------------+------------------+---------------------+--------------+-----------------+------------------+----------+--------------------+------------------+------------------+------------------+---------------------+--------------+------------------+------------------+----------+-----------+------------------+------------------+------------------+\n",
      "|  count|       7718156|           7718156|           7718075|              7718156|       7718156|          7718156|           7718156|   7718156|             7718156|           7718155|           7718155|           7718155|              7718155|       7718155|           7718155|           7718155|   7718155|    7718155|           7718156|           7718156|           7718156|\n",
      "|   mean|          NULL| 35.15434748921893| 9071.506474736252|   185.18174911209363|          NULL| 15.4860068907651|6.9117716718863935|      NULL|  2018.9999976678366|13.793920956498024|29.187970181992977| 29.45319444867329|    182.4927059640549|          NULL|15.485661534395202| 6.911874146088023|      NULL|     2019.0|13.981444661134084|29.492745806122603|29.496120187257162|\n",
      "| stddev|          NULL|10.355505009818907|2872.8982650072044|    133.2503124507141|          NULL|8.767926661756931| 3.113381695483699|      NULL|0.001835395131472...| 4.673613514356655|17.414208856579673|17.324400950003337|   133.32504014137737|          NULL| 8.767863113345646|3.1133667176767283|      NULL|        0.0| 4.698946682469523|17.464846210320022| 17.32249504062433|\n",
      "|    min|             F|              16.0|                78|                    1|        Friday|                1|                 1|     April|                2017|                 0|                 0|                 0|                    1|        Friday|                 1|                 2|     April|       2019|                 0|                 0|                 0|\n",
      "|    max|             M|             119.0|             15339|                 3002|     Wednesday|               31|                12| September|                2019|                23|                59|                59|                 3002|     Wednesday|                31|                12| September|       2019|                23|                59|                59|\n",
      "+-------+--------------+------------------+------------------+---------------------+--------------+-----------------+------------------+----------+--------------------+------------------+------------------+------------------+---------------------+--------------+------------------+------------------+----------+-----------+------------------+------------------+------------------+\n",
      "\n"
     ]
    }
   ],
   "source": [
    "#Estadisticos Descriptivos\n",
    "print(nombre)\n",
    "\n",
    "ecobici.describe().show()"
   ]
  },
  {
   "cell_type": "code",
   "execution_count": 11,
   "id": "7e6a4dea-0618-46f0-a467-383c4c643816",
   "metadata": {},
   "outputs": [
    {
     "name": "stdout",
     "output_type": "stream",
     "text": [
      "+-------+------------------+------------------+--------------+----------+--------------+----------+\n",
      "|summary|      Edad_Usuario|              Bici|dia_sem_retiro|mes_retiro|dia_sem_arribo|mes_arribo|\n",
      "+-------+------------------+------------------+--------------+----------+--------------+----------+\n",
      "|  count|           7718156|           7718075|       7718156|   7718156|       7718155|   7718155|\n",
      "|   mean| 35.15434748921893| 9071.506474736252|          NULL|      NULL|          NULL|      NULL|\n",
      "| stddev|10.355505009818907|2872.8982650072044|          NULL|      NULL|          NULL|      NULL|\n",
      "|    min|              16.0|                78|        Friday|     April|        Friday|     April|\n",
      "|    max|             119.0|             15339|     Wednesday| September|     Wednesday| September|\n",
      "+-------+------------------+------------------+--------------+----------+--------------+----------+\n",
      "\n",
      "\n",
      " Ricardo Madrigal Urencio \n",
      "\n"
     ]
    }
   ],
   "source": [
    "#Estadisticos Descriptivos de algunas columnas del DataFrame\n",
    "columnas = ['Edad_Usuario', 'Bici', 'dia_sem_retiro', 'mes_retiro', 'dia_sem_arribo', 'mes_arribo']\n",
    "ecobici.select(columnas).describe().show()\n",
    "\n",
    "print(nombre)"
   ]
  },
  {
   "cell_type": "code",
   "execution_count": 12,
   "id": "754dc57e-1c0d-4054-b9cc-6e7b03e53e6a",
   "metadata": {},
   "outputs": [
    {
     "name": "stdout",
     "output_type": "stream",
     "text": [
      "Done\n",
      "\n",
      " Ricardo Madrigal Urencio \n",
      "\n"
     ]
    }
   ],
   "source": [
    "#Guardar el nuevo dataframe\n",
    "ecobici.write.mode(\"overwrite\").option(\"header\", \"true\").csv(\"hdfs://namenode:9000/tmp/amd/ecobicilimpio\")\n",
    "print(\"Done\")\n",
    "\n",
    "print(nombre)"
   ]
  }
 ],
 "metadata": {
  "kernelspec": {
   "display_name": "Python 3 (ipykernel)",
   "language": "python",
   "name": "python3"
  },
  "language_info": {
   "codemirror_mode": {
    "name": "ipython",
    "version": 3
   },
   "file_extension": ".py",
   "mimetype": "text/x-python",
   "name": "python",
   "nbconvert_exporter": "python",
   "pygments_lexer": "ipython3",
   "version": "3.11.6"
  }
 },
 "nbformat": 4,
 "nbformat_minor": 5
}
