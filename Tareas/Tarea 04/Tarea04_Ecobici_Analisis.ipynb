{
 "cells": [
  {
   "cell_type": "code",
   "execution_count": 1,
   "id": "22868ac1-e6a4-451c-b9a8-c96b99e48f53",
   "metadata": {},
   "outputs": [
    {
     "name": "stdout",
     "output_type": "stream",
     "text": [
      "\n",
      " Ricardo Madrigal Urencio \n",
      "\n"
     ]
    }
   ],
   "source": [
    "nombre = \"\\n Ricardo Madrigal Urencio \\n\"\n",
    "print(nombre)"
   ]
  },
  {
   "cell_type": "code",
   "execution_count": 2,
   "id": "43585ee8-ab1d-4e58-a24b-12f36211c407",
   "metadata": {},
   "outputs": [
    {
     "name": "stdout",
     "output_type": "stream",
     "text": [
      "\n",
      " Ricardo Madrigal Urencio \n",
      "\n",
      "root\n",
      " |-- Genero_Usuario: string (nullable = true)\n",
      " |-- Edad_Usuario: double (nullable = true)\n",
      " |-- Bici: integer (nullable = true)\n",
      " |-- Ciclo_Estacion_Retiro: integer (nullable = true)\n",
      " |-- dia_sem_retiro: string (nullable = true)\n",
      " |-- num_dia_retiro: integer (nullable = true)\n",
      " |-- num_mes_retiro: integer (nullable = true)\n",
      " |-- mes_retiro: string (nullable = true)\n",
      " |-- anio_retiro: integer (nullable = true)\n",
      " |-- hora_retiro: integer (nullable = true)\n",
      " |-- minuto_retiro: integer (nullable = true)\n",
      " |-- segundo_retiro: integer (nullable = true)\n",
      " |-- Ciclo_Estacion_Arribo: integer (nullable = true)\n",
      " |-- dia_sem_arribo: string (nullable = true)\n",
      " |-- num_dia_arribo: integer (nullable = true)\n",
      " |-- num_mes_arribo: integer (nullable = true)\n",
      " |-- mes_arribo: string (nullable = true)\n",
      " |-- anio_arribo: integer (nullable = true)\n",
      " |-- hora_arribo: integer (nullable = true)\n",
      " |-- minuto_arribo: integer (nullable = true)\n",
      " |-- segundo_arribo: integer (nullable = true)\n",
      "\n"
     ]
    }
   ],
   "source": [
    "dir_hdfs = \"hdfs://namenode:9000/tmp/amd/ecobicilimpio\"\n",
    "\n",
    "df = spark.read.csv(dir_hdfs, header = True, inferSchema = True)\n",
    "\n",
    "print(nombre)\n",
    "df.printSchema()"
   ]
  },
  {
   "cell_type": "code",
   "execution_count": 3,
   "id": "a019cfb8-fe9a-4d82-8b8f-4111170c46e3",
   "metadata": {},
   "outputs": [
    {
     "name": "stdout",
     "output_type": "stream",
     "text": [
      "+---------+---------+-----------+\n",
      "|namespace|tableName|isTemporary|\n",
      "+---------+---------+-----------+\n",
      "+---------+---------+-----------+\n",
      "\n",
      "+---------+---------+-----------+\n",
      "|namespace|tableName|isTemporary|\n",
      "+---------+---------+-----------+\n",
      "|         |  ecobici|       true|\n",
      "+---------+---------+-----------+\n",
      "\n"
     ]
    }
   ],
   "source": [
    "spark.sql(\"show tables\").show()\n",
    "\n",
    "df.createOrReplaceTempView(\"ecobici\")\n",
    "spark.sql(\"show tables\").show()"
   ]
  },
  {
   "cell_type": "code",
   "execution_count": 4,
   "id": "a5f46532-fabc-4f5c-88d9-8acdd7ec0171",
   "metadata": {},
   "outputs": [
    {
     "name": "stdout",
     "output_type": "stream",
     "text": [
      "\n",
      " Ricardo Madrigal Urencio \n",
      "\n",
      "+--------------------+---------+-------+\n",
      "|            col_name|data_type|comment|\n",
      "+--------------------+---------+-------+\n",
      "|      Genero_Usuario|   string|   NULL|\n",
      "|        Edad_Usuario|   double|   NULL|\n",
      "|                Bici|      int|   NULL|\n",
      "|Ciclo_Estacion_Re...|      int|   NULL|\n",
      "|      dia_sem_retiro|   string|   NULL|\n",
      "|      num_dia_retiro|      int|   NULL|\n",
      "|      num_mes_retiro|      int|   NULL|\n",
      "|          mes_retiro|   string|   NULL|\n",
      "|         anio_retiro|      int|   NULL|\n",
      "|         hora_retiro|      int|   NULL|\n",
      "|       minuto_retiro|      int|   NULL|\n",
      "|      segundo_retiro|      int|   NULL|\n",
      "|Ciclo_Estacion_Ar...|      int|   NULL|\n",
      "|      dia_sem_arribo|   string|   NULL|\n",
      "|      num_dia_arribo|      int|   NULL|\n",
      "|      num_mes_arribo|      int|   NULL|\n",
      "|          mes_arribo|   string|   NULL|\n",
      "|         anio_arribo|      int|   NULL|\n",
      "|         hora_arribo|      int|   NULL|\n",
      "|       minuto_arribo|      int|   NULL|\n",
      "+--------------------+---------+-------+\n",
      "only showing top 20 rows\n",
      "\n"
     ]
    }
   ],
   "source": [
    "print(nombre)\n",
    "spark.sql(\"describe ecobici\").show()"
   ]
  },
  {
   "cell_type": "code",
   "execution_count": 26,
   "id": "47e7abf9-e3a3-42eb-9cce-63ebebcb1d3f",
   "metadata": {},
   "outputs": [
    {
     "name": "stdout",
     "output_type": "stream",
     "text": [
      "\n",
      " Ricardo Madrigal Urencio \n",
      "\n",
      "+---------------+-----------------+\n",
      "|estacion_inicio|viajes_realizados|\n",
      "+---------------+-----------------+\n",
      "|271            |80802            |\n",
      "|27             |70205            |\n",
      "|1              |66958            |\n",
      "|64             |51541            |\n",
      "|182            |51433            |\n",
      "|266            |49836            |\n",
      "|18             |49528            |\n",
      "|36             |49433            |\n",
      "|41             |47492            |\n",
      "|43             |45540            |\n",
      "+---------------+-----------------+\n",
      "only showing top 10 rows\n",
      "\n"
     ]
    }
   ],
   "source": [
    "#Mostar las 10 estaciones con mayores viajes de inicio\n",
    "\n",
    "campo = \"Ciclo_Estacion_Retiro\"\n",
    "\n",
    "print(nombre)\n",
    "\n",
    "sqlstr = f\"\"\"select {campo} estacion_inicio, count(*) viajes_realizados\n",
    "from ecobici\n",
    "group by {campo} \n",
    "order by viajes_realizados desc\n",
    "\"\"\"\n",
    "spark.sql(sqlstr).show(10, truncate=False)"
   ]
  },
  {
   "cell_type": "code",
   "execution_count": 27,
   "id": "963f2627-84c1-4da7-998d-7a56d76af987",
   "metadata": {},
   "outputs": [
    {
     "name": "stdout",
     "output_type": "stream",
     "text": [
      "\n",
      " Ricardo Madrigal Urencio \n",
      "\n",
      "Mayor Demanda de Retiros\n",
      "+-----------+-----------------+\n",
      "|hora_retiro|viajes_realizados|\n",
      "+-----------+-----------------+\n",
      "|8          |777781           |\n",
      "|18         |764745           |\n",
      "|19         |589075           |\n",
      "|9          |580670           |\n",
      "|17         |556563           |\n",
      "+-----------+-----------------+\n",
      "only showing top 5 rows\n",
      "\n",
      "Mayor Demanda de Arribos\n",
      "+-----------+-----------------+\n",
      "|hora_arribo|viajes_realizados|\n",
      "+-----------+-----------------+\n",
      "|18         |732208           |\n",
      "|8          |712740           |\n",
      "|9          |666475           |\n",
      "|19         |649037           |\n",
      "|14         |522642           |\n",
      "+-----------+-----------------+\n",
      "only showing top 5 rows\n",
      "\n"
     ]
    }
   ],
   "source": [
    "#Mostrar las 5 horas con mayor demanda\n",
    "\n",
    "campo = \"hora_retiro\"\n",
    "campo2 = \"hora_arribo\"\n",
    "\n",
    "print(nombre)\n",
    "\n",
    "print(\"Mayor Demanda de Retiros\")\n",
    "sqlstr = f\"\"\"select {campo}, count(*) viajes_realizados\n",
    "from ecobici\n",
    "group by {campo}\n",
    "order by viajes_realizados desc\n",
    "\"\"\"\n",
    "spark.sql(sqlstr).show(5, truncate=False)\n",
    "\n",
    "print(\"Mayor Demanda de Arribos\")\n",
    "sqlstr = f\"\"\"select {campo2}, count(*) viajes_realizados\n",
    "from ecobici\n",
    "group by {campo2}\n",
    "order by viajes_realizados desc\n",
    "\"\"\"\n",
    "spark.sql(sqlstr).show(5, truncate=False)"
   ]
  },
  {
   "cell_type": "code",
   "execution_count": 28,
   "id": "fa9bd64b-70ef-47a4-a4cb-3479d8e688d0",
   "metadata": {},
   "outputs": [
    {
     "name": "stdout",
     "output_type": "stream",
     "text": [
      "\n",
      " Ricardo Madrigal Urencio \n",
      "\n",
      "Dia con Menor Demanda de Retiros\n",
      "+--------------+-----------------+\n",
      "|dia_sem_retiro|viajes_realizados|\n",
      "+--------------+-----------------+\n",
      "|Sunday        |500866           |\n",
      "+--------------+-----------------+\n",
      "only showing top 1 row\n",
      "\n",
      "Dia con Menor Demanda de Arribos\n",
      "+--------------+-----------------+\n",
      "|dia_sem_arribo|viajes_realizados|\n",
      "+--------------+-----------------+\n",
      "|Sunday        |501723           |\n",
      "+--------------+-----------------+\n",
      "only showing top 1 row\n",
      "\n"
     ]
    }
   ],
   "source": [
    "#Mostrar el día de la semana con menor demanda\n",
    "campo = \"dia_sem_retiro\"\n",
    "campo2 = \"dia_sem_arribo\"\n",
    "\n",
    "\n",
    "print(nombre)\n",
    "\n",
    "\n",
    "print(\"Dia con Menor Demanda de Retiros\")\n",
    "sqlstr = f\"\"\"select {campo}, count(*) viajes_realizados\n",
    "from ecobici\n",
    "group by {campo}\n",
    "order by viajes_realizados asc\n",
    "\"\"\"\n",
    "spark.sql(sqlstr).show(1, truncate=False)\n",
    "\n",
    "print(\"Dia con Menor Demanda de Arribos\")\n",
    "sqlstr = f\"\"\"select {campo2}, count(*) viajes_realizados\n",
    "from ecobici where {campo2} is not null\n",
    "group by {campo2}\n",
    "order by viajes_realizados asc\n",
    "\"\"\"\n",
    "spark.sql(sqlstr).show(1, truncate=False)"
   ]
  }
 ],
 "metadata": {
  "kernelspec": {
   "display_name": "Python 3 (ipykernel)",
   "language": "python",
   "name": "python3"
  },
  "language_info": {
   "codemirror_mode": {
    "name": "ipython",
    "version": 3
   },
   "file_extension": ".py",
   "mimetype": "text/x-python",
   "name": "python",
   "nbconvert_exporter": "python",
   "pygments_lexer": "ipython3",
   "version": "3.11.6"
  }
 },
 "nbformat": 4,
 "nbformat_minor": 5
}
