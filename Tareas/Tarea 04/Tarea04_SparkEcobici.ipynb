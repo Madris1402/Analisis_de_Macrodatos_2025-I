{
 "cells": [
  {
   "cell_type": "code",
   "execution_count": 1,
   "id": "268f44eb-ebd3-41ab-b545-41448aa3915b",
   "metadata": {},
   "outputs": [
    {
     "name": "stdout",
     "output_type": "stream",
     "text": [
      "\n",
      " Ricardo Madrigal Urencio \n",
      "\n"
     ]
    }
   ],
   "source": [
    "nombre = \"\\n Ricardo Madrigal Urencio \\n\"\n",
    "print(nombre)"
   ]
  },
  {
   "cell_type": "code",
   "execution_count": 2,
   "id": "fb3ac524-ab95-4bb8-8027-1ec37707055c",
   "metadata": {},
   "outputs": [],
   "source": [
    "#Todas las librerias a Importar\n",
    "from pyspark.sql.functions import col, sum, to_date, to_timestamp, regexp_replace\n",
    "from pyspark.sql.functions import date_format\n",
    "from pyspark.sql.types import IntegerType, DoubleType, FloatType\n",
    "from pyspark.sql.functions import hour, minute, second, year, month, dayofmonth, weekofyear\n",
    "from pyspark.sql.functions import monotonically_increasing_id\n",
    "import matplotlib.pyplot as plt"
   ]
  },
  {
   "cell_type": "code",
   "execution_count": 3,
   "id": "3e5c61ab-1797-470f-b001-2ea1e86ea620",
   "metadata": {},
   "outputs": [],
   "source": [
    "#Crear un solo Dataframe con todos los meses"
   ]
  },
  {
   "cell_type": "code",
   "execution_count": 4,
   "id": "984df369-4a1b-44ff-817f-7ab57c653312",
   "metadata": {},
   "outputs": [
    {
     "name": "stdout",
     "output_type": "stream",
     "text": [
      "\n",
      " Ricardo Madrigal Urencio \n",
      "\n",
      "root\n",
      " |-- Genero_Usuario: string (nullable = true)\n",
      " |-- Edad_Usuario: string (nullable = true)\n",
      " |-- Bici: string (nullable = true)\n",
      " |-- Ciclo_Estacion_Retiro: string (nullable = true)\n",
      " |-- Fecha_Retiro: string (nullable = true)\n",
      " |-- Hora_Retiro: string (nullable = true)\n",
      " |-- Ciclo_Estacion_Arribo: string (nullable = true)\n",
      " |-- Fecha_Arribo: string (nullable = true)\n",
      " |-- Hora_Arribo: string (nullable = true)\n",
      " |-- _c9: timestamp (nullable = true)\n",
      "\n"
     ]
    }
   ],
   "source": [
    "dir_hdfs = \"hdfs://namenode:9000/tmp/amd/ecobici/2019\"\n",
    "\n",
    "print(nombre)\n",
    "\n",
    "df = spark.read.csv(dir_hdfs, header=True, inferSchema=True)\n",
    "df.printSchema()"
   ]
  },
  {
   "cell_type": "code",
   "execution_count": 5,
   "id": "55e8ac99-7055-4e89-80ae-9064a0a2948f",
   "metadata": {},
   "outputs": [
    {
     "name": "stdout",
     "output_type": "stream",
     "text": [
      "\n",
      " Ricardo Madrigal Urencio \n",
      "\n",
      "8415445\n"
     ]
    }
   ],
   "source": [
    "print(nombre)\n",
    "\n",
    "print(df.count())"
   ]
  },
  {
   "cell_type": "code",
   "execution_count": 6,
   "id": "a0824dc2-f4db-4a07-91b4-3cefb41b513b",
   "metadata": {},
   "outputs": [
    {
     "name": "stdout",
     "output_type": "stream",
     "text": [
      "\n",
      " Ricardo Madrigal Urencio \n",
      "\n",
      "+--------------+------------+----+---------------------+------------+-----------+---------------------+------------+-----------+-------+\n",
      "|Genero_Usuario|Edad_Usuario|Bici|Ciclo_Estacion_Retiro|Fecha_Retiro|Hora_Retiro|Ciclo_Estacion_Arribo|Fecha_Arribo|Hora_Arribo|    _c9|\n",
      "+--------------+------------+----+---------------------+------------+-----------+---------------------+------------+-----------+-------+\n",
      "|             0|           0|   0|                    0|           0|          0|                    0|           0|          0|8415444|\n",
      "+--------------+------------+----+---------------------+------------+-----------+---------------------+------------+-----------+-------+\n",
      "\n"
     ]
    }
   ],
   "source": [
    "print(nombre)\n",
    "\n",
    "df.select([sum(col(c).isNull().cast(\"int\")).alias(c) for c in df.columns]).show()"
   ]
  },
  {
   "cell_type": "code",
   "execution_count": 7,
   "id": "07dcc04a-80d8-4c53-9c36-f0864b77354c",
   "metadata": {},
   "outputs": [
    {
     "name": "stdout",
     "output_type": "stream",
     "text": [
      "\n",
      " Ricardo Madrigal Urencio \n",
      "\n",
      "+--------------+------------+----+---------------------+------------+-----------+---------------------+------------+-----------+-------------------+\n",
      "|Genero_Usuario|Edad_Usuario|Bici|Ciclo_Estacion_Retiro|Fecha_Retiro|Hora_Retiro|Ciclo_Estacion_Arribo|Fecha_Arribo|Hora_Arribo|_c9                |\n",
      "+--------------+------------+----+---------------------+------------+-----------+---------------------+------------+-----------+-------------------+\n",
      "|M             |44          |9944|267                  |06/03/2019  |08:06:23   |32:11.8              |10          |00:00:00   |2024-10-21 08:41:11|\n",
      "+--------------+------------+----+---------------------+------------+-----------+---------------------+------------+-----------+-------------------+\n",
      "\n"
     ]
    }
   ],
   "source": [
    "print(nombre)\n",
    "\n",
    "df.filter(\"_c9 is not null\").show(truncate = False)"
   ]
  },
  {
   "cell_type": "code",
   "execution_count": 8,
   "id": "d155bafb-9c53-4c50-b124-86d98dd7a598",
   "metadata": {},
   "outputs": [
    {
     "name": "stdout",
     "output_type": "stream",
     "text": [
      "\n",
      " Ricardo Madrigal Urencio \n",
      "\n",
      "8415445\n",
      "8415401\n"
     ]
    }
   ],
   "source": [
    "#Eliminar Registros Inválidos\n",
    "\n",
    "print (nombre)\n",
    "print(df.count())\n",
    "\n",
    "\n",
    "df = df.filter(\"_c9 is null\")\n",
    "df = df.filter(col(\"Fecha_Retiro\").like('%2019'))\n",
    "\n",
    "print(df.count())"
   ]
  },
  {
   "cell_type": "code",
   "execution_count": 9,
   "id": "e61a2650-9c64-4515-9856-5090403e1252",
   "metadata": {},
   "outputs": [
    {
     "name": "stdout",
     "output_type": "stream",
     "text": [
      "\n",
      " Ricardo Madrigal Urencio \n",
      "\n",
      "+--------------+------------+-----+---------------------+------------+-----------+---------------------+------------+-----------+----+\n",
      "|Genero_Usuario|Edad_Usuario|Bici |Ciclo_Estacion_Retiro|Fecha_Retiro|Hora_Retiro|Ciclo_Estacion_Arribo|Fecha_Arribo|Hora_Arribo|_c9 |\n",
      "+--------------+------------+-----+---------------------+------------+-----------+---------------------+------------+-----------+----+\n",
      "|M             |36          |11444|67                   |01/01/2019  |0:08:44    |36                   |01/01/2019  |0:14:03    |NULL|\n",
      "|M             |36          |9196 |55                   |01/01/2019  |0:12:05    |136                  |01/01/2019  |0:42:11    |NULL|\n",
      "|M             |38          |2612 |29                   |01/01/2019  |0:13:15    |115                  |01/01/2019  |0:37:47    |NULL|\n",
      "|M             |43          |7463 |29                   |01/01/2019  |0:13:36    |115                  |01/01/2019  |0:38:04    |NULL|\n",
      "|M             |37          |3987 |136                  |01/01/2019  |0:15:30    |35                   |01/01/2019  |0:22:47    |NULL|\n",
      "|M             |44          |11655|2                    |01/01/2019  |0:16:02    |98                   |01/01/2019  |0:50:29    |NULL|\n",
      "|F             |23          |7009 |2                    |01/01/2019  |0:16:13    |98                   |01/01/2019  |0:50:38    |NULL|\n",
      "|M             |31          |3961 |49                   |01/01/2019  |0:16:16    |45                   |01/01/2019  |0:18:47    |NULL|\n",
      "|M             |27          |2758 |80                   |01/01/2019  |0:17:44    |39                   |01/01/2019  |0:40:34    |NULL|\n",
      "|M             |21          |9991 |69                   |01/01/2019  |0:17:58    |30                   |01/01/2019  |0:34:18    |NULL|\n",
      "+--------------+------------+-----+---------------------+------------+-----------+---------------------+------------+-----------+----+\n",
      "only showing top 10 rows\n",
      "\n"
     ]
    }
   ],
   "source": [
    "print(nombre)\n",
    "\n",
    "df.orderBy(\"Fecha_Arribo\", ascending = True).show(10, truncate = False)"
   ]
  },
  {
   "cell_type": "code",
   "execution_count": 10,
   "id": "8441acc1-a8e8-4a92-9644-e32593a22a60",
   "metadata": {},
   "outputs": [
    {
     "name": "stdout",
     "output_type": "stream",
     "text": [
      "\n",
      " Ricardo Madrigal Urencio \n",
      "\n",
      "root\n",
      " |-- Genero_Usuario: string (nullable = true)\n",
      " |-- Edad_Usuario: float (nullable = true)\n",
      " |-- Bici: integer (nullable = true)\n",
      " |-- Ciclo_Estacion_Retiro: integer (nullable = true)\n",
      " |-- Fecha_Retiro: date (nullable = true)\n",
      " |-- Hora_Retiro: string (nullable = true)\n",
      " |-- Ciclo_Estacion_Arribo: integer (nullable = true)\n",
      " |-- Fecha_Arribo: date (nullable = true)\n",
      " |-- Hora_Arribo: string (nullable = true)\n",
      " |-- _c9: timestamp (nullable = true)\n",
      " |-- id: integer (nullable = false)\n",
      "\n",
      "+--------------+------------+-----+---------------------+------------+-----------+---------------------+------------+-----------+----+---+\n",
      "|Genero_Usuario|Edad_Usuario|Bici |Ciclo_Estacion_Retiro|Fecha_Retiro|Hora_Retiro|Ciclo_Estacion_Arribo|Fecha_Arribo|Hora_Arribo|_c9 |id |\n",
      "+--------------+------------+-----+---------------------+------------+-----------+---------------------+------------+-----------+----+---+\n",
      "|M             |36.0        |11444|67                   |2019-01-01  |00:08:44   |36                   |2019-01-01  |00:14:03   |NULL|0  |\n",
      "|M             |36.0        |9196 |55                   |2019-01-01  |00:12:05   |136                  |2019-01-01  |00:42:11   |NULL|1  |\n",
      "|M             |38.0        |2612 |29                   |2019-01-01  |00:13:15   |115                  |2019-01-01  |00:37:47   |NULL|2  |\n",
      "|M             |43.0        |7463 |29                   |2019-01-01  |00:13:36   |115                  |2019-01-01  |00:38:04   |NULL|3  |\n",
      "|M             |37.0        |3987 |136                  |2019-01-01  |00:15:30   |35                   |2019-01-01  |00:22:47   |NULL|4  |\n",
      "|M             |44.0        |11655|2                    |2019-01-01  |00:16:02   |98                   |2019-01-01  |00:50:29   |NULL|5  |\n",
      "|F             |23.0        |7009 |2                    |2019-01-01  |00:16:13   |98                   |2019-01-01  |00:50:38   |NULL|6  |\n",
      "|M             |31.0        |3961 |49                   |2019-01-01  |00:16:16   |45                   |2019-01-01  |00:18:47   |NULL|7  |\n",
      "|M             |27.0        |2758 |80                   |2019-01-01  |00:17:44   |39                   |2019-01-01  |00:40:34   |NULL|8  |\n",
      "|M             |21.0        |9991 |69                   |2019-01-01  |00:17:58   |30                   |2019-01-01  |00:34:18   |NULL|9  |\n",
      "+--------------+------------+-----+---------------------+------------+-----------+---------------------+------------+-----------+----+---+\n",
      "only showing top 10 rows\n",
      "\n"
     ]
    }
   ],
   "source": [
    "#Limpieza del esquema\n",
    "print(nombre)\n",
    "\n",
    "datos = df\\\n",
    ".withColumn(\"Edad_Usuario\", col(\"Edad_Usuario\").cast(FloatType())) \\\n",
    ".withColumn(\"Bici\", col(\"Bici\").cast(IntegerType())) \\\n",
    ".withColumn(\"Ciclo_Estacion_Retiro\", col(\"Ciclo_Estacion_Retiro\").cast(IntegerType())) \\\n",
    ".withColumn(\"Fecha_Retiro\", to_date(col(\"Fecha_Retiro\"), \"dd/MM/yyyy\")) \\\n",
    ".withColumn(\"Hora_Retiro\", date_format(col(\"Hora_Retiro\"), \"HH:mm:ss\")) \\\n",
    ".withColumn(\"Ciclo_Estacion_Arribo\", col(\"Ciclo_Estacion_Arribo\").cast(IntegerType())) \\\n",
    ".withColumn(\"Fecha_Arribo\", to_date(col(\"Fecha_Arribo\"), \"dd/MM/yyyy\")) \\\n",
    ".withColumn(\"Hora_Arribo\", date_format(col(\"Hora_Arribo\"), \"HH:mm:ss\"))\\\n",
    ".withColumn( \"id\", monotonically_increasing_id().cast(IntegerType()))\n",
    "datos.printSchema()\n",
    "datos.orderBy(\"Fecha_Arribo\", ascending = True).show(10, truncate = False)"
   ]
  },
  {
   "cell_type": "code",
   "execution_count": 11,
   "id": "7fa05a14-884f-4fa7-8cca-e1866a668f8c",
   "metadata": {},
   "outputs": [],
   "source": [
    "#Agregar campos año, mes, día, hora, minuto, segundo, día de la semana"
   ]
  },
  {
   "cell_type": "code",
   "execution_count": 12,
   "id": "b39868e3-ba11-4ebe-a266-c16221cbe345",
   "metadata": {},
   "outputs": [
    {
     "name": "stdout",
     "output_type": "stream",
     "text": [
      "\n",
      " Ricardo Madrigal Urencio \n",
      "\n",
      "root\n",
      " |-- id: integer (nullable = false)\n",
      " |-- Genero_Usuario: string (nullable = true)\n",
      " |-- Edad_Usuario: float (nullable = true)\n",
      " |-- Bici: integer (nullable = true)\n",
      " |-- Ciclo_Estacion_Retiro: integer (nullable = true)\n",
      " |-- Fecha_Retiro: date (nullable = true)\n",
      " |-- dia_sem_retiro: string (nullable = true)\n",
      " |-- num_dia_retiro: integer (nullable = true)\n",
      " |-- num_mes_retiro: integer (nullable = true)\n",
      " |-- mes_retiro: string (nullable = true)\n",
      " |-- anio_retiro: integer (nullable = true)\n",
      " |-- Hora_Retiro: string (nullable = true)\n",
      " |-- num_hora_retiro: integer (nullable = true)\n",
      " |-- minuto_retiro: integer (nullable = true)\n",
      " |-- segundo_retiro: integer (nullable = true)\n",
      "\n",
      "+---+--------------+------------+-----+---------------------+------------+--------------+--------------+--------------+----------+-----------+-----------+---------------+-------------+--------------+\n",
      "| id|Genero_Usuario|Edad_Usuario| Bici|Ciclo_Estacion_Retiro|Fecha_Retiro|dia_sem_retiro|num_dia_retiro|num_mes_retiro|mes_retiro|anio_retiro|Hora_Retiro|num_hora_retiro|minuto_retiro|segundo_retiro|\n",
      "+---+--------------+------------+-----+---------------------+------------+--------------+--------------+--------------+----------+-----------+-----------+---------------+-------------+--------------+\n",
      "|  0|             M|        28.0| 2388|                  378|  2019-04-01|        Monday|             1|             4|     April|       2019|   00:00:06|              0|            0|             6|\n",
      "|  0|             M|        29.0| 3911|                   27|  2019-11-01|        Friday|             1|            11|  November|       2019|   00:00:56|              0|            0|            56|\n",
      "|  0|             M|        30.0| 7685|                  136|  2019-09-01|        Sunday|             1|             9| September|       2019|   00:00:54|              0|            0|            54|\n",
      "|  1|             M|        33.0|11914|                  329|  2019-11-01|        Friday|             1|            11|  November|       2019|   00:01:20|              0|            1|            20|\n",
      "|  0|             M|        35.0| 1745|                   64|  2019-02-01|        Friday|             1|             2|  February|       2019|   00:00:14|              0|            0|            14|\n",
      "+---+--------------+------------+-----+---------------------+------------+--------------+--------------+--------------+----------+-----------+-----------+---------------+-------------+--------------+\n",
      "only showing top 5 rows\n",
      "\n"
     ]
    }
   ],
   "source": [
    "#Separar Fechas y Horas de Retiro en Campos Individuales\n",
    "\n",
    "from pyspark.sql.functions import hour, minute, second, year, month, dayofmonth, weekofyear\n",
    "colfs = \"Fecha_Retiro\"\n",
    "colhs = \"Hora_Retiro\"\n",
    "\n",
    "datos_tiempo_retiro = datos.select(\n",
    "    col(\"id\"), col(\"Genero_Usuario\"), col(\"Edad_Usuario\"), col(\"Bici\"), col(\"Ciclo_Estacion_Retiro\"),col(\"Fecha_Retiro\"),\n",
    "    date_format(col(colfs), \"EEEE\").alias(\"dia_sem_retiro\"),\n",
    "    dayofmonth(col(colfs)).alias(\"num_dia_retiro\"),\n",
    "    month(col(colfs)).alias(\"num_mes_retiro\"),\n",
    "    date_format(col(colfs), \"MMMM\").alias(\"mes_retiro\"),\n",
    "    year(col(colfs)).alias(\"anio_retiro\"),\n",
    "    col(\"Hora_Retiro\"),\n",
    "    hour(col(colhs)).alias(\"num_hora_retiro\"),\n",
    "    minute(col(colhs)).alias(\"minuto_retiro\"),    \n",
    "    second(col(colhs)).alias(\"segundo_retiro\")\n",
    "    \n",
    ")\n",
    "\n",
    "print(nombre)\n",
    "\n",
    "datos_tiempo_retiro.printSchema()\n",
    "\n",
    "datos_tiempo_retiro.orderBy('anio_retiro', ascending = True).show(5)"
   ]
  },
  {
   "cell_type": "code",
   "execution_count": 13,
   "id": "f5c0f1e7-59cd-4d64-aa0b-2b7961b89a13",
   "metadata": {},
   "outputs": [
    {
     "name": "stdout",
     "output_type": "stream",
     "text": [
      "\n",
      " Ricardo Madrigal Urencio \n",
      "\n",
      "root\n",
      " |-- id: integer (nullable = false)\n",
      " |-- Genero_Usuario: string (nullable = true)\n",
      " |-- Edad_Usuario: float (nullable = true)\n",
      " |-- Bici: integer (nullable = true)\n",
      " |-- Ciclo_Estacion_Arribo: integer (nullable = true)\n",
      " |-- Fecha_Arribo: date (nullable = true)\n",
      " |-- dia_sem_arribo: string (nullable = true)\n",
      " |-- num_dia_arribo: integer (nullable = true)\n",
      " |-- num_mes_arribo: integer (nullable = true)\n",
      " |-- mes_arribo: string (nullable = true)\n",
      " |-- anio_arribo: integer (nullable = true)\n",
      " |-- Hora_Arribo: string (nullable = true)\n",
      " |-- num_hora_arribo: integer (nullable = true)\n",
      " |-- minuto_arribo: integer (nullable = true)\n",
      " |-- segundo_arribo: integer (nullable = true)\n",
      "\n",
      "+---+--------------+------------+-----+---------------------+------------+--------------+--------------+--------------+----------+-----------+-----------+---------------+-------------+--------------+\n",
      "| id|Genero_Usuario|Edad_Usuario| Bici|Ciclo_Estacion_Arribo|Fecha_Arribo|dia_sem_arribo|num_dia_arribo|num_mes_arribo|mes_arribo|anio_arribo|Hora_Arribo|num_hora_arribo|minuto_arribo|segundo_arribo|\n",
      "+---+--------------+------------+-----+---------------------+------------+--------------+--------------+--------------+----------+-----------+-----------+---------------+-------------+--------------+\n",
      "|  0|             M|        36.0|11444|                   36|  2019-01-01|       Tuesday|             1|             1|   January|       2019|   00:14:03|              0|           14|             3|\n",
      "|  1|             M|        36.0| 9196|                  136|  2019-01-01|       Tuesday|             1|             1|   January|       2019|   00:42:11|              0|           42|            11|\n",
      "|  2|             M|        38.0| 2612|                  115|  2019-01-01|       Tuesday|             1|             1|   January|       2019|   00:37:47|              0|           37|            47|\n",
      "|  3|             M|        43.0| 7463|                  115|  2019-01-01|       Tuesday|             1|             1|   January|       2019|   00:38:04|              0|           38|             4|\n",
      "|  4|             M|        37.0| 3987|                   35|  2019-01-01|       Tuesday|             1|             1|   January|       2019|   00:22:47|              0|           22|            47|\n",
      "+---+--------------+------------+-----+---------------------+------------+--------------+--------------+--------------+----------+-----------+-----------+---------------+-------------+--------------+\n",
      "only showing top 5 rows\n",
      "\n"
     ]
    }
   ],
   "source": [
    "#Separar Fechas y Horas de Arribo en Campos Individuales\n",
    "\n",
    "from pyspark.sql.functions import hour, minute, second, year, month, dayofmonth, weekofyear\n",
    "colfs = \"Fecha_Arribo\"\n",
    "colhs = \"Hora_Arribo\"\n",
    "\n",
    "datos_tiempo_arribo = datos.select(\n",
    "   col(\"id\"), col(\"Genero_Usuario\"), col(\"Edad_Usuario\"), col(\"Bici\"), col(\"Ciclo_Estacion_Arribo\"), col(\"Fecha_Arribo\"),\n",
    "    date_format(col(colfs), \"EEEE\").alias(\"dia_sem_arribo\"),\n",
    "    dayofmonth(col(colfs)).alias(\"num_dia_arribo\"),\n",
    "    month(col(colfs)).alias(\"num_mes_arribo\"),\n",
    "    date_format(col(colfs), \"MMMM\").alias(\"mes_arribo\"),\n",
    "    year(col(colfs)).alias(\"anio_arribo\"),\n",
    "    col(\"Hora_Arribo\"),\n",
    "    hour(col(colhs)).alias(\"num_hora_arribo\"),\n",
    "    minute(col(colhs)).alias(\"minuto_arribo\"),    \n",
    "    second(col(colhs)).alias(\"segundo_arribo\")\n",
    ")\n",
    "\n",
    "print(nombre)\n",
    "\n",
    "datos_tiempo_arribo.printSchema()\n",
    "\n",
    "datos_tiempo_arribo.orderBy('Fecha_Arribo', ascending = True).show(5)"
   ]
  },
  {
   "cell_type": "code",
   "execution_count": 14,
   "id": "3c6c16b5-3daa-493b-aa02-8e4125c52bb0",
   "metadata": {},
   "outputs": [],
   "source": [
    "#Mostrar las estadísticas descriptivas"
   ]
  },
  {
   "cell_type": "code",
   "execution_count": 15,
   "id": "f4fb9fd5-8aab-4f83-83a1-1f3772596f5a",
   "metadata": {},
   "outputs": [
    {
     "name": "stdout",
     "output_type": "stream",
     "text": [
      "\n",
      " Ricardo Madrigal Urencio \n",
      "\n",
      "Estadisticas Descriptivas de Retiros\n",
      "+-------+--------------+------------------+-----------------+---------------------+------------------+------------------+-----------+-----------------+\n",
      "|summary|Genero_Usuario|      Edad_Usuario|             Bici|Ciclo_Estacion_Retiro|    num_mes_retiro|   num_hora_retiro|anio_retiro|               id|\n",
      "+-------+--------------+------------------+-----------------+---------------------+------------------+------------------+-----------+-----------------+\n",
      "|  count|       8415401|           8415401|          8415139|              8415401|           8415401|           8415400|    8415401|          8415401|\n",
      "|   mean|          NULL| 35.15934760565777|9051.881213132665|   185.12785795947215| 6.421949589805643|13.810443948000096|     2019.0| 352060.152648935|\n",
      "| stddev|          NULL|10.355814621552764|2891.710178603115|     133.226348084314|3.3979114278095155| 4.668522623491424|        0.0|204764.1972095205|\n",
      "|    min|             F|              16.0|               78|                    1|                 1|                 0|       2019|                0|\n",
      "|    max|             M|             119.0|            15339|                 3002|                12|                23|       2019|           752293|\n",
      "+-------+--------------+------------------+-----------------+---------------------+------------------+------------------+-----------+-----------------+\n",
      "\n",
      "Estadisticas Descriptivas de Arribos\n",
      "+-------+--------------+------------------+-----------------+---------------------+------------------+------------------+-----------+-----------------+\n",
      "|summary|Genero_Usuario|      Edad_Usuario|             Bici|Ciclo_Estacion_Arribo|    num_mes_arribo|   num_hora_arribo|anio_arribo|               id|\n",
      "+-------+--------------+------------------+-----------------+---------------------+------------------+------------------+-----------+-----------------+\n",
      "|  count|       8415401|           8415401|          8415139|              8415401|           8415401|           8415401|    8415401|          8415401|\n",
      "|   mean|          NULL| 35.15934760565777|9051.881213132665|   182.47857374829792| 6.422047386690188|13.998083632615963|     2019.0| 352060.152648935|\n",
      "| stddev|          NULL|10.355814621552764|2891.710178603115|   133.27905911401186|3.3979130782934703| 4.693600783117367|        0.0|204764.1972095205|\n",
      "|    min|             F|              16.0|               78|                    1|                 1|                 0|       2019|                0|\n",
      "|    max|             M|             119.0|            15339|                 3002|                12|                23|       2019|           752293|\n",
      "+-------+--------------+------------------+-----------------+---------------------+------------------+------------------+-----------+-----------------+\n",
      "\n"
     ]
    }
   ],
   "source": [
    "#Estadisticos Descriptivos de algunas columnas de cada DataFrame\n",
    "print(nombre)\n",
    "\n",
    "print(\"Estadisticas Descriptivas de Retiros\")\n",
    "columnas = [\"Genero_Usuario\", \"Edad_Usuario\", \"Bici\", \"Ciclo_Estacion_Retiro\", \"num_mes_retiro\", \"num_hora_retiro\", \"anio_retiro\", \"id\"]\n",
    "datos_tiempo_retiro.select(columnas).describe().show()\n",
    "\n",
    "print(\"Estadisticas Descriptivas de Arribos\")\n",
    "columnas = [\"Genero_Usuario\", \"Edad_Usuario\", \"Bici\", \"Ciclo_Estacion_Arribo\", \"num_mes_arribo\", \"num_hora_arribo\", \"anio_arribo\", \"id\"]\n",
    "datos_tiempo_arribo.select(columnas).describe().show()\n",
    "\n",
    "## Debido a Limitantes con mi equipo, tuve que reducir las columnas que hacen las estadísticas descriptivas ya que\n",
    "## se quedaba colgada con una carga de 100% de CPU y no entregaba ninguna salida. \n",
    "## (Lo dejé 10 minutos y no hizo nada, al reducirlas lo hizo en 2 mnutos)."
   ]
  },
  {
   "cell_type": "code",
   "execution_count": 16,
   "id": "f06dcdc9-1f41-4235-9d66-434db6e48819",
   "metadata": {},
   "outputs": [],
   "source": [
    "#Guardar el nuevo dataframe"
   ]
  },
  {
   "cell_type": "code",
   "execution_count": 17,
   "id": "fd32fe06-e51a-4492-bcaa-cf0dd6faf022",
   "metadata": {},
   "outputs": [
    {
     "name": "stdout",
     "output_type": "stream",
     "text": [
      "\n",
      " Ricardo Madrigal Urencio \n",
      "\n",
      "Done\n",
      "Done\n"
     ]
    }
   ],
   "source": [
    "#Guardar el Dataframe en dos partes para hacer uniones posteriormente\n",
    "\n",
    "print(nombre)\n",
    "\n",
    "datos_tiempo_retiro.write.mode(\"overwrite\").option(\"header\", \"true\").csv(\"hdfs://namenode:9000/tmp/amd/ecobiciretiros\")\n",
    "print(\"Done\")\n",
    "\n",
    "datos_tiempo_arribo.write.mode(\"overwrite\").option(\"header\", \"true\").csv(\"hdfs://namenode:9000/tmp/amd/ecobiciarribos\")\n",
    "print(\"Done\")"
   ]
  },
  {
   "cell_type": "code",
   "execution_count": 18,
   "id": "d3153831-9dc0-4898-9425-5d16b5dc7670",
   "metadata": {},
   "outputs": [],
   "source": [
    "#Crear Vista Temporal de los dataframes guardados"
   ]
  },
  {
   "cell_type": "code",
   "execution_count": 19,
   "id": "4a54c540-6158-47b6-aa5b-a134efdef1a7",
   "metadata": {},
   "outputs": [
    {
     "name": "stdout",
     "output_type": "stream",
     "text": [
      "\n",
      " Ricardo Madrigal Urencio \n",
      "\n",
      "root\n",
      " |-- id: integer (nullable = true)\n",
      " |-- Genero_Usuario: string (nullable = true)\n",
      " |-- Edad_Usuario: double (nullable = true)\n",
      " |-- Bici: integer (nullable = true)\n",
      " |-- Ciclo_Estacion_Retiro: integer (nullable = true)\n",
      " |-- Fecha_Retiro: date (nullable = true)\n",
      " |-- dia_sem_retiro: string (nullable = true)\n",
      " |-- num_dia_retiro: integer (nullable = true)\n",
      " |-- num_mes_retiro: integer (nullable = true)\n",
      " |-- mes_retiro: string (nullable = true)\n",
      " |-- anio_retiro: integer (nullable = true)\n",
      " |-- Hora_Retiro: timestamp (nullable = true)\n",
      " |-- num_hora_retiro: integer (nullable = true)\n",
      " |-- minuto_retiro: integer (nullable = true)\n",
      " |-- segundo_retiro: integer (nullable = true)\n",
      "\n"
     ]
    }
   ],
   "source": [
    "#Datos de Retiros\n",
    "\n",
    "dir_hdfs = \"hdfs://namenode:9000/tmp/amd/ecobiciretiros\"\n",
    "\n",
    "dfret = spark.read.csv(dir_hdfs, header = True, inferSchema = True)\n",
    "\n",
    "print(nombre)\n",
    "dfret.printSchema()"
   ]
  },
  {
   "cell_type": "code",
   "execution_count": 20,
   "id": "2300e3b2-ec7d-411b-b17c-b9fcb1c09aad",
   "metadata": {},
   "outputs": [
    {
     "name": "stdout",
     "output_type": "stream",
     "text": [
      "\n",
      " Ricardo Madrigal Urencio \n",
      "\n",
      "root\n",
      " |-- id: integer (nullable = true)\n",
      " |-- Genero_Usuario: string (nullable = true)\n",
      " |-- Edad_Usuario: double (nullable = true)\n",
      " |-- Bici: integer (nullable = true)\n",
      " |-- Ciclo_Estacion_Arribo: integer (nullable = true)\n",
      " |-- Fecha_Arribo: date (nullable = true)\n",
      " |-- dia_sem_arribo: string (nullable = true)\n",
      " |-- num_dia_arribo: integer (nullable = true)\n",
      " |-- num_mes_arribo: integer (nullable = true)\n",
      " |-- mes_arribo: string (nullable = true)\n",
      " |-- anio_arribo: integer (nullable = true)\n",
      " |-- Hora_Arribo: timestamp (nullable = true)\n",
      " |-- num_hora_arribo: integer (nullable = true)\n",
      " |-- minuto_arribo: integer (nullable = true)\n",
      " |-- segundo_arribo: integer (nullable = true)\n",
      "\n"
     ]
    }
   ],
   "source": [
    "#Datos de Arribos\n",
    "\n",
    "dir_hdfs = \"hdfs://namenode:9000/tmp/amd/ecobiciarribos\"\n",
    "\n",
    "dfarr = spark.read.csv(dir_hdfs, header = True, inferSchema = True)\n",
    "\n",
    "print(nombre)\n",
    "dfarr.printSchema()"
   ]
  },
  {
   "cell_type": "code",
   "execution_count": 21,
   "id": "d065da03-1ff3-4395-b494-d4d0146e5582",
   "metadata": {},
   "outputs": [
    {
     "name": "stdout",
     "output_type": "stream",
     "text": [
      "+---------+---------+-----------+\n",
      "|namespace|tableName|isTemporary|\n",
      "+---------+---------+-----------+\n",
      "+---------+---------+-----------+\n",
      "\n",
      "+---------+--------------+-----------+\n",
      "|namespace|     tableName|isTemporary|\n",
      "+---------+--------------+-----------+\n",
      "|         |ecobiciarribos|       true|\n",
      "|         |ecobiciretiros|       true|\n",
      "+---------+--------------+-----------+\n",
      "\n"
     ]
    }
   ],
   "source": [
    "#Vistas Temporales\n",
    "\n",
    "spark.sql(\"show tables\").show()\n",
    "\n",
    "dfret.createOrReplaceTempView(\"ecobiciretiros\")\n",
    "dfarr.createOrReplaceTempView(\"ecobiciarribos\")\n",
    "spark.sql(\"show tables\").show()"
   ]
  },
  {
   "cell_type": "code",
   "execution_count": 22,
   "id": "65e8d156-f6da-4dc0-aebe-f9e74fcafc5b",
   "metadata": {},
   "outputs": [
    {
     "name": "stdout",
     "output_type": "stream",
     "text": [
      "\n",
      " Ricardo Madrigal Urencio \n",
      "\n",
      "Ecobici Retiros\n",
      "+--------------------+---------+-------+\n",
      "|            col_name|data_type|comment|\n",
      "+--------------------+---------+-------+\n",
      "|                  id|      int|   NULL|\n",
      "|      Genero_Usuario|   string|   NULL|\n",
      "|        Edad_Usuario|   double|   NULL|\n",
      "|                Bici|      int|   NULL|\n",
      "|Ciclo_Estacion_Re...|      int|   NULL|\n",
      "|        Fecha_Retiro|     date|   NULL|\n",
      "|      dia_sem_retiro|   string|   NULL|\n",
      "|      num_dia_retiro|      int|   NULL|\n",
      "|      num_mes_retiro|      int|   NULL|\n",
      "|          mes_retiro|   string|   NULL|\n",
      "|         anio_retiro|      int|   NULL|\n",
      "|         Hora_Retiro|timestamp|   NULL|\n",
      "|     num_hora_retiro|      int|   NULL|\n",
      "|       minuto_retiro|      int|   NULL|\n",
      "|      segundo_retiro|      int|   NULL|\n",
      "+--------------------+---------+-------+\n",
      "\n",
      "Ecobici Arribos\n",
      "+--------------------+---------+-------+\n",
      "|            col_name|data_type|comment|\n",
      "+--------------------+---------+-------+\n",
      "|                  id|      int|   NULL|\n",
      "|      Genero_Usuario|   string|   NULL|\n",
      "|        Edad_Usuario|   double|   NULL|\n",
      "|                Bici|      int|   NULL|\n",
      "|Ciclo_Estacion_Ar...|      int|   NULL|\n",
      "|        Fecha_Arribo|     date|   NULL|\n",
      "|      dia_sem_arribo|   string|   NULL|\n",
      "|      num_dia_arribo|      int|   NULL|\n",
      "|      num_mes_arribo|      int|   NULL|\n",
      "|          mes_arribo|   string|   NULL|\n",
      "|         anio_arribo|      int|   NULL|\n",
      "|         Hora_Arribo|timestamp|   NULL|\n",
      "|     num_hora_arribo|      int|   NULL|\n",
      "|       minuto_arribo|      int|   NULL|\n",
      "|      segundo_arribo|      int|   NULL|\n",
      "+--------------------+---------+-------+\n",
      "\n"
     ]
    }
   ],
   "source": [
    "#Describir Tablas de las Vistas Temporales\n",
    "\n",
    "print(nombre)\n",
    "\n",
    "print(\"Ecobici Retiros\")\n",
    "spark.sql(\"describe ecobiciretiros\").show()\n",
    "\n",
    "print(\"Ecobici Arribos\")\n",
    "spark.sql(\"describe ecobiciarribos\").show()"
   ]
  },
  {
   "cell_type": "code",
   "execution_count": 23,
   "id": "01add547-355a-4109-920e-5cfc5ff3b110",
   "metadata": {},
   "outputs": [
    {
     "name": "stdout",
     "output_type": "stream",
     "text": [
      "\n",
      " Ricardo Madrigal Urencio \n",
      "\n",
      "+---------------+-----------------+\n",
      "|estacion_inicio|viajes_realizados|\n",
      "+---------------+-----------------+\n",
      "|271            |88244            |\n",
      "|27             |76738            |\n",
      "|1              |73328            |\n",
      "|182            |56477            |\n",
      "|64             |55994            |\n",
      "|266            |54057            |\n",
      "|36             |53926            |\n",
      "|18             |53891            |\n",
      "|41             |51605            |\n",
      "|43             |49942            |\n",
      "+---------------+-----------------+\n",
      "only showing top 10 rows\n",
      "\n"
     ]
    }
   ],
   "source": [
    "#Mostar las 10 estaciones con mayores viajes de inicio\n",
    "\n",
    "campo = \"Ciclo_Estacion_Retiro\"\n",
    "\n",
    "print(nombre)\n",
    "\n",
    "sqlstr = f\"\"\"select {campo} estacion_inicio, count(*) viajes_realizados\n",
    "from ecobiciretiros\n",
    "group by {campo} \n",
    "order by viajes_realizados desc\n",
    "\"\"\"\n",
    "spark.sql(sqlstr).show(10, truncate=False)"
   ]
  },
  {
   "cell_type": "code",
   "execution_count": 24,
   "id": "ce4eb910-ac2d-40ad-86c8-d96cb0cc0810",
   "metadata": {},
   "outputs": [
    {
     "name": "stdout",
     "output_type": "stream",
     "text": [
      "\n",
      " Ricardo Madrigal Urencio \n",
      "\n",
      "Mayor Demanda de Retiros\n",
      "+---------------+-----------------+\n",
      "|num_hora_retiro|viajes_realizados|\n",
      "+---------------+-----------------+\n",
      "|8              |844562           |\n",
      "|18             |839403           |\n",
      "|19             |646418           |\n",
      "|9              |630415           |\n",
      "|17             |609472           |\n",
      "+---------------+-----------------+\n",
      "only showing top 5 rows\n",
      "\n",
      "Mayor Demanda de Arribos\n",
      "+---------------+-----------------+\n",
      "|num_hora_arribo|viajes_realizados|\n",
      "+---------------+-----------------+\n",
      "|18             |803437           |\n",
      "|8              |773917           |\n",
      "|9              |723906           |\n",
      "|19             |712463           |\n",
      "|14             |570422           |\n",
      "+---------------+-----------------+\n",
      "only showing top 5 rows\n",
      "\n"
     ]
    }
   ],
   "source": [
    "#Mostrar las 5 horas con mayor demanda\n",
    "\n",
    "campo = \"num_hora_retiro\"\n",
    "campo2 = \"num_hora_arribo\"\n",
    "\n",
    "print(nombre)\n",
    "\n",
    "print(\"Mayor Demanda de Retiros\")\n",
    "sqlstr = f\"\"\"select {campo}, count(*) viajes_realizados\n",
    "from ecobiciretiros\n",
    "group by {campo}\n",
    "order by viajes_realizados desc\n",
    "\"\"\"\n",
    "spark.sql(sqlstr).show(5, truncate=False)\n",
    "\n",
    "print(\"Mayor Demanda de Arribos\")\n",
    "sqlstr = f\"\"\"select {campo2}, count(*) viajes_realizados\n",
    "from ecobiciarribos\n",
    "group by {campo2}\n",
    "order by viajes_realizados desc\n",
    "\"\"\"\n",
    "spark.sql(sqlstr).show(5, truncate=False)"
   ]
  },
  {
   "cell_type": "code",
   "execution_count": 25,
   "id": "e99f974e-573c-4a9e-aaae-88e3a06dcdf3",
   "metadata": {},
   "outputs": [
    {
     "name": "stdout",
     "output_type": "stream",
     "text": [
      "\n",
      " Ricardo Madrigal Urencio \n",
      "\n",
      "Dia con Menor Demanda de Retiros\n",
      "+--------------+-----------------+\n",
      "|dia_sem_retiro|viajes_realizados|\n",
      "+--------------+-----------------+\n",
      "|Sunday        |542492           |\n",
      "+--------------+-----------------+\n",
      "only showing top 1 row\n",
      "\n",
      "Dia con Menor Demanda de Arribos\n",
      "+--------------+-----------------+\n",
      "|dia_sem_arribo|viajes_realizados|\n",
      "+--------------+-----------------+\n",
      "|Sunday        |543412           |\n",
      "+--------------+-----------------+\n",
      "only showing top 1 row\n",
      "\n"
     ]
    }
   ],
   "source": [
    "#Mostrar el día de la semana con menor demanda\n",
    "campo = \"dia_sem_retiro\"\n",
    "campo2 = \"dia_sem_arribo\"\n",
    "\n",
    "\n",
    "print(nombre)\n",
    "\n",
    "print(\"Dia con Menor Demanda de Retiros\")\n",
    "sqlstr = f\"\"\"select {campo}, count(*) viajes_realizados\n",
    "from ecobiciretiros\n",
    "group by {campo}\n",
    "order by viajes_realizados asc\n",
    "\"\"\"\n",
    "spark.sql(sqlstr).show(1, truncate=False)\n",
    "\n",
    "print(\"Dia con Menor Demanda de Arribos\")\n",
    "sqlstr = f\"\"\"select {campo2}, count(*) viajes_realizados\n",
    "from ecobiciarribos\n",
    "group by {campo2}\n",
    "order by viajes_realizados asc\n",
    "\"\"\"\n",
    "spark.sql(sqlstr).show(1, truncate=False)"
   ]
  },
  {
   "cell_type": "code",
   "execution_count": 26,
   "id": "1e658d91-01be-4495-b9db-fe690e5c7b53",
   "metadata": {},
   "outputs": [],
   "source": [
    "#Genearar 5 Gráficas"
   ]
  },
  {
   "cell_type": "code",
   "execution_count": 27,
   "id": "11d0fe3f-981b-4503-8940-3f41f9a9d20b",
   "metadata": {},
   "outputs": [
    {
     "name": "stdout",
     "output_type": "stream",
     "text": [
      "\n",
      " Ricardo Madrigal Urencio \n",
      "\n",
      "En esta gráfica podemos ver la demanda por mes ordenada del mes con mayor demanda al mes con menor demanda.\n",
      "\n"
     ]
    },
    {
     "data": {
      "image/png": "[encoded data removed]",
      "text/plain": [
       "<Figure size 1500x600 with 1 Axes>"
      ]
     },
     "metadata": {},
     "output_type": "display_data"
    }
   ],
   "source": [
    "#Gráfica de demanda por mes\n",
    "campo = \"mes_retiro\"\n",
    "\n",
    "sqlstr = f\"\"\"select {campo}, count(*) viajes_realizados\n",
    "from ecobiciretiros\n",
    "group by {campo}\n",
    "order by viajes_realizados desc\n",
    "\"\"\"\n",
    "\n",
    "print(nombre)\n",
    "dfh = spark.sql(sqlstr).toPandas()\n",
    "\n",
    "plt.figure(figsize=(15,6))\n",
    "plt.bar(dfh['mes_retiro'], dfh['viajes_realizados'])\n",
    "\n",
    "plt.xlabel('Mes')\n",
    "plt.ylabel('Número de Registros')\n",
    "plt.title('Demanda por Mes')\n",
    "\n",
    "print(\"En esta gráfica podemos ver la demanda por mes ordenada del mes con mayor demanda al mes con menor demanda.\\n\")"
   ]
  },
  {
   "cell_type": "code",
   "execution_count": 28,
   "id": "3d723fe5-286e-40b7-9fa1-0b6e37e9d969",
   "metadata": {},
   "outputs": [
    {
     "name": "stdout",
     "output_type": "stream",
     "text": [
      "\n",
      " Ricardo Madrigal Urencio \n",
      "\n",
      "En esta gráfica podemos observar que la hora con mayor demanda a lo largo del año fue entre las 8:00 am y las 9:00 am.\n",
      "\n",
      "Mientras que las horas sin demnada ocurrieron entre la 1:00 am y las 4:00 am.\n",
      "\n"
     ]
    },
    {
     "data": {
      "image/png": "[encoded data removed]",
      "text/plain": [
       "<Figure size 1500x600 with 1 Axes>"
      ]
     },
     "metadata": {},
     "output_type": "display_data"
    }
   ],
   "source": [
    "#Gráfica de demanda por hora\n",
    "campo = \"num_hora_retiro\"\n",
    "\n",
    "sqlstr = f\"\"\"select {campo} hora, count(*) viajes_realizados\n",
    "from ecobiciretiros\n",
    "group by  hora\n",
    "order by 1\n",
    "\"\"\"\n",
    "\n",
    "print(nombre)\n",
    "dfh = spark.sql(sqlstr).toPandas()\n",
    "\n",
    "plt.figure(figsize=(15,6))\n",
    "plt.plot(dfh['hora'], dfh['viajes_realizados'], marker='o', linestyle='-', color='g')\n",
    "\n",
    "plt.xlabel('Hora')\n",
    "plt.ylabel('Número de Registros')\n",
    "plt.title('Demanda por Hora')\n",
    "\n",
    "print(\"En esta gráfica podemos observar que la hora con mayor demanda a lo largo del año fue entre las 8:00 am y las 9:00 am.\\n\")\n",
    "print(\"Mientras que las horas sin demnada ocurrieron entre la 1:00 am y las 4:00 am.\\n\")"
   ]
  },
  {
   "cell_type": "code",
   "execution_count": 29,
   "id": "2de30bb1-7dd7-4672-a6f7-75385944e58b",
   "metadata": {},
   "outputs": [
    {
     "name": "stdout",
     "output_type": "stream",
     "text": [
      "\n",
      " Ricardo Madrigal Urencio \n",
      "\n",
      "+--------+-----------------+\n",
      "|estacion|viajes_realizados|\n",
      "+--------+-----------------+\n",
      "|     266|            91120|\n",
      "|      27|            77773|\n",
      "|       1|            76642|\n",
      "|     271|            65080|\n",
      "|     182|            60782|\n",
      "+--------+-----------------+\n",
      "only showing top 5 rows\n",
      "\n",
      "En esta grafica se observa que las estaciones 266, 27, 1, 271 y 64 son las que recibieron la mayor cantidad de bicicletas a lo largo del año.\n",
      "\n"
     ]
    },
    {
     "data": {
      "image/png": "[encoded data removed]",
      "text/plain": [
       "<Figure size 1500x400 with 1 Axes>"
      ]
     },
     "metadata": {},
     "output_type": "display_data"
    }
   ],
   "source": [
    "#Estaciones que Reciben mayor cantidad de Bicicletas\n",
    "campo = \"Ciclo_Estacion_Arribo\"\n",
    "\n",
    "sqlstr = f\"\"\"select {campo} estacion, count(*) viajes_realizados\n",
    "from ecobiciarribos\n",
    "group by  estacion\n",
    "order by 2 desc\n",
    "\"\"\"\n",
    "\n",
    "print(nombre)\n",
    "spark.sql(sqlstr).show(5)\n",
    "dfh = spark.sql(sqlstr).toPandas()\n",
    "\n",
    "plt.figure(figsize=(15,4))\n",
    "plt.bar(dfh['estacion'], dfh['viajes_realizados'], color='r')\n",
    "plt.xlim(0, 500)\n",
    "\n",
    "plt.xlabel('Estación')\n",
    "plt.ylabel('Número de Viajes Finalizados')\n",
    "plt.title('Estaciones con Mayor Recepción de Bicicletas al finalizar un viaje')\n",
    "\n",
    "print(\"En esta grafica se observa que las estaciones 266, 27, 1, 271 y 64 son las que recibieron la mayor cantidad de bicicletas a lo largo del año.\\n\")"
   ]
  },
  {
   "cell_type": "code",
   "execution_count": 30,
   "id": "680b4636-4cfa-4aca-b061-16c5034f717c",
   "metadata": {},
   "outputs": [
    {
     "name": "stdout",
     "output_type": "stream",
     "text": [
      "\n",
      " Ricardo Madrigal Urencio \n",
      "\n"
     ]
    },
    {
     "data": {
      "image/png": "[encoded data removed]",
      "text/plain": [
       "<Figure size 1000x600 with 1 Axes>"
      ]
     },
     "metadata": {},
     "output_type": "display_data"
    },
    {
     "name": "stdout",
     "output_type": "stream",
     "text": [
      "En esta grafica se puede observar como los hombres utilizan casi el triple las bicicletas que las mujeres.\n",
      "\n"
     ]
    }
   ],
   "source": [
    "#Genero de Usuarios a lo largo del año\n",
    "\n",
    "sqlstr = f\"\"\"\n",
    "select anio_retiro,\n",
    "       sum(case when Genero_Usuario = 'F' then nr else 0 end) as Femenino,\n",
    "       sum(case when Genero_Usuario = 'M' then nr else 0 end) as Masculino\n",
    "from (\n",
    "    select Genero_Usuario, anio_retiro, count(*) as nr\n",
    "    from ecobiciretiros\n",
    "    group by Genero_Usuario, anio_retiro\n",
    ") as d\n",
    "group by anio_retiro\n",
    "order by 1;\n",
    "\"\"\"\n",
    "print(nombre)\n",
    "dfh = spark.sql(sqlstr).toPandas()\\\n",
    "    .set_index('anio_retiro')[['Femenino', 'Masculino']]\\\n",
    "    .plot(kind='bar', stacked=False, figsize=(10,6))\n",
    "\n",
    "plt.xlabel('Año')\n",
    "plt.ylabel('Numero de Registros')\n",
    "plt.title('Viajes Iniciados a lo largo del año por el Genero de Usuarios') \n",
    "plt.xticks(rotation=45)\n",
    "\n",
    "plt.show()\n",
    "\n",
    "print(\"En esta grafica se puede observar como los hombres utilizan casi el triple las bicicletas que las mujeres.\\n\")"
   ]
  },
  {
   "cell_type": "code",
   "execution_count": 31,
   "id": "e905df49-70d1-4523-ae0a-fa223ea02a4e",
   "metadata": {},
   "outputs": [
    {
     "data": {
      "image/png": "[encoded data removed]",
      "text/plain": [
       "<Figure size 1500x600 with 1 Axes>"
      ]
     },
     "metadata": {},
     "output_type": "display_data"
    },
    {
     "name": "stdout",
     "output_type": "stream",
     "text": [
      "En esta gráfica podemos observar como la mayoría de los usuarios tienen entre 21 y 40 años y son hombres.\n",
      "\n",
      "Mientras que las mujeres que más usan el servicio tienen entre 21 y 30 años.\n",
      "\n",
      "También se puede observar que hay usuarios de la tercera edad, principalmente hombres.\n",
      "\n"
     ]
    }
   ],
   "source": [
    "#Edad de los Usuarios a lo Largo del Año\n",
    "sqlstr = f\"\"\"\n",
    "select\n",
    "  anio_retiro,\n",
    "  rango_edad,\n",
    "  sum(CASE WHEN Genero_Usuario = 'F' then num_usuarios ELSE 0 END) as Femenino,\n",
    "  sum(CASE WHEN Genero_Usuario = 'M' then num_usuarios ELSE 0 END) as Masculino\n",
    "from\n",
    "  (\n",
    "    select\n",
    "      anio_retiro,\n",
    "      Genero_Usuario,\n",
    "      case\n",
    "        when Edad_Usuario between 11 and 20 then '11-20'\n",
    "        when Edad_Usuario between 21 and 30 then '21-30'\n",
    "        when Edad_Usuario between 31 and 40 then '31-40'\n",
    "        when Edad_Usuario between 41 and 50 then '41-50'\n",
    "        when Edad_Usuario between 51 and 60 then '51-60'\n",
    "        when Edad_Usuario between 61 and 70 then '61-70'\n",
    "        when Edad_Usuario between 71 and 80 then '71-80'\n",
    "        else '80+'\n",
    "      end as rango_edad,\n",
    "      count(*) as num_usuarios\n",
    "    from\n",
    "      ecobiciretiros\n",
    "    where Genero_Usuario IS NOT NULL\n",
    "    group by\n",
    "      anio_retiro,\n",
    "      Genero_Usuario,\n",
    "      rango_edad\n",
    "    order by rango_edad\n",
    "  ) as b\n",
    "group by\n",
    "  anio_retiro,\n",
    "  rango_edad\n",
    "order by rango_edad asc\n",
    "\"\"\"\n",
    "\n",
    "\n",
    "dfh = spark.sql(sqlstr).toPandas() \\\n",
    "      .set_index('rango_edad')[['Femenino', 'Masculino']] \\\n",
    "      .plot(kind='bar', stacked=False, figsize=(15,6))\n",
    "\n",
    "plt.xlabel('Edad')\n",
    "plt.ylabel('Numero de Registros')\n",
    "plt.title('Edad de los Usuarios durante el Año')\n",
    "plt.xticks(rotation=45)\n",
    "\n",
    "plt.show()\n",
    "\n",
    "print(\"En esta gráfica podemos observar como la mayoría de los usuarios tienen entre 21 y 40 años y son hombres.\\n\")\n",
    "print(\"Mientras que las mujeres que más usan el servicio tienen entre 21 y 30 años.\\n\")\n",
    "print(\"También se puede observar que hay usuarios de la tercera edad, principalmente hombres.\\n\")"
   ]
  },
  {
   "cell_type": "code",
   "execution_count": 32,
   "id": "9bfb6aae-fb90-4379-9a9c-c72492e18073",
   "metadata": {},
   "outputs": [],
   "source": [
    "#Generar 5 Agrupamientos"
   ]
  },
  {
   "cell_type": "code",
   "execution_count": 38,
   "id": "03783e98-1296-48da-bf4a-ae8a27cf377a",
   "metadata": {},
   "outputs": [
    {
     "name": "stdout",
     "output_type": "stream",
     "text": [
      "\n",
      " Ricardo Madrigal Urencio \n",
      "\n",
      "+-----+------------+-------------+------------+-----------+\n",
      "|Bici |Fecha_Retiro|Hora_Registro|Fecha_Arribo|Hora_Arribo|\n",
      "+-----+------------+-------------+------------+-----------+\n",
      "|15339|2019-10-01  |08:20:17     |2019-01-02  |06:17:00   |\n",
      "|15339|2019-10-02  |07:46:32     |2019-09-02  |17:14:02   |\n",
      "|15339|2019-10-01  |08:46:41     |2019-08-01  |09:14:44   |\n",
      "|15339|2019-06-03  |09:24:09     |2019-09-02  |17:14:02   |\n",
      "|15339|2019-10-01  |08:50:21     |2019-02-01  |09:45:12   |\n",
      "|15339|2019-08-02  |06:43:45     |2019-09-02  |17:14:02   |\n",
      "|15339|2019-01-02  |08:19:59     |2019-08-01  |09:14:44   |\n",
      "|15339|2019-03-02  |00:17:37     |2019-09-02  |17:14:02   |\n",
      "|15339|2019-10-01  |14:22:13     |2019-06-02  |12:04:59   |\n",
      "|15339|2019-11-02  |17:13:42     |2019-09-02  |17:14:02   |\n",
      "+-----+------------+-------------+------------+-----------+\n",
      "only showing top 10 rows\n",
      "\n"
     ]
    }
   ],
   "source": [
    "#Unión de Fechas de Retiro y Fechas de Arribo por Bicicleta\n",
    "from pyspark.sql.functions import coalesce\n",
    "\n",
    "sqlstr = \"\"\"\n",
    "select ea.Bici, Fecha_Retiro, substring(Hora_Retiro, 12, 18) as Hora_Registro, Fecha_Arribo, substring(Hora_Arribo, 12, 18) as Hora_Arribo\n",
    "from ecobiciretiros er\n",
    "left join ecobiciarribos ea\n",
    "on (er.id = ea.id)\n",
    "where ea.Bici is not null\n",
    "order by 1 desc\n",
    "\"\"\"\n",
    "\n",
    "print(nombre)\n",
    "spark.sql(sqlstr).show(10, truncate = False)"
   ]
  },
  {
   "cell_type": "code",
   "execution_count": null,
   "id": "ae5592bb-8fef-46bd-b90b-663a61129c08",
   "metadata": {},
   "outputs": [
    {
     "name": "stdout",
     "output_type": "stream",
     "text": [
      "\n",
      " Ricardo Madrigal Urencio \n",
      "\n"
     ]
    }
   ],
   "source": [
    "#Unión para Identificar Viajes Redondos\n",
    "\n",
    "sqlstr = \"\"\"\n",
    "select er.Bici, Fecha_Retiro, substring(Hora_Retiro, 12, 18) as Hora_Registro, substring(Hora_Arribo, 12, 18) as Hora_Arribo, Ciclo_Estacion_Arribo as Estacion\n",
    "from ecobiciretiros er\n",
    "join ecobiciarribos ea \n",
    "on (er.id = ea.id)\n",
    "where er.Ciclo_Estacion_Retiro = ea.Ciclo_Estacion_Arribo\n",
    "\"\"\"\n",
    "\n",
    "print(nombre)\n",
    "spark.sql(sqlstr).show(10, truncate = False)"
   ]
  },
  {
   "cell_type": "code",
   "execution_count": 35,
   "id": "5317bd23-1252-4b86-a28e-1d69fb053f6c",
   "metadata": {},
   "outputs": [
    {
     "name": "stdout",
     "output_type": "stream",
     "text": [
      "\n",
      " Ricardo Madrigal Urencio \n",
      "\n",
      "+-----------+----------+-------------+\n",
      "|anio_retiro|mes_retiro|numero_viajes|\n",
      "+-----------+----------+-------------+\n",
      "|2019       |September |7996156      |\n",
      "|2019       |October   |8387323      |\n",
      "|2019       |November  |8184802      |\n",
      "|2019       |May       |8413992      |\n",
      "|2019       |March     |8414707      |\n",
      "|2019       |June      |8195999      |\n",
      "|2019       |July      |8235811      |\n",
      "|2019       |January   |8206511      |\n",
      "|2019       |February  |8098958      |\n",
      "|2019       |December  |7009416      |\n",
      "|2019       |August    |8409322      |\n",
      "|2019       |April     |8152598      |\n",
      "+-----------+----------+-------------+\n",
      "\n"
     ]
    }
   ],
   "source": [
    "#Unión para el número de viajes por año y mes\n",
    "\n",
    "sqlstr = \"\"\"\n",
    "select er.anio_retiro, er.mes_retiro, COUNT(*) AS numero_viajes\n",
    "from ecobiciretiros er\n",
    "join ecobiciarribos ea \n",
    "on (er.id = ea.id)\n",
    "group by er.anio_retiro, er.mes_retiro\n",
    "order by er.anio_retiro, er.mes_retiro desc\n",
    "\"\"\"\n",
    "\n",
    "print(nombre)\n",
    "spark.sql(sqlstr).show(12, truncate = False)"
   ]
  },
  {
   "cell_type": "code",
   "execution_count": 36,
   "id": "f89c7c6f-15ee-4d5d-8290-cda4c72b5db2",
   "metadata": {},
   "outputs": [
    {
     "name": "stdout",
     "output_type": "stream",
     "text": [
      "\n",
      " Ricardo Madrigal Urencio \n",
      "\n",
      "+---------------------+---------------------+-------------+\n",
      "|Ciclo_Estacion_Retiro|Ciclo_Estacion_Arribo|numero_viajes|\n",
      "+---------------------+---------------------+-------------+\n",
      "|27                   |266                  |11346        |\n",
      "|271                  |27                   |10669        |\n",
      "|271                  |266                  |10229        |\n",
      "|1                    |266                  |9755         |\n",
      "|271                  |1                    |9736         |\n",
      "|27                   |1                    |9652         |\n",
      "|18                   |1                    |9637         |\n",
      "|27                   |27                   |9230         |\n",
      "|1                    |1                    |9207         |\n",
      "|1                    |27                   |8902         |\n",
      "+---------------------+---------------------+-------------+\n",
      "only showing top 10 rows\n",
      "\n"
     ]
    }
   ],
   "source": [
    "#Estaciones Populares\n",
    "\n",
    "sqlstr = \"\"\"\n",
    "select er.Ciclo_Estacion_Retiro, ea.Ciclo_Estacion_Arribo, count(*) as numero_viajes\n",
    "from ecobiciretiros er\n",
    "join ecobiciarribos ea \n",
    "on (er.id = ea.id)\n",
    "group by er.Ciclo_Estacion_Retiro, ea.Ciclo_Estacion_Arribo\n",
    "order by numero_viajes desc\n",
    "\"\"\"\n",
    "\n",
    "print(nombre)\n",
    "spark.sql(sqlstr).show(10, truncate = False)"
   ]
  },
  {
   "cell_type": "code",
   "execution_count": 37,
   "id": "3da600b8-4c80-482a-bbbc-03a9070e412d",
   "metadata": {},
   "outputs": [
    {
     "name": "stdout",
     "output_type": "stream",
     "text": [
      "\n",
      " Ricardo Madrigal Urencio \n",
      "\n",
      "+---------------------+-------------------------+\n",
      "|Ciclo_Estacion_Retiro|minutos_duracion_promedio|\n",
      "+---------------------+-------------------------+\n",
      "|156                  |171.76                   |\n",
      "|1000                 |166.5                    |\n",
      "|1001                 |123.28                   |\n",
      "|3002                 |105.25                   |\n",
      "|3001                 |73.15                    |\n",
      "|1002                 |72.45                    |\n",
      "|442                  |62.1                     |\n",
      "|17                   |50.77                    |\n",
      "|101                  |46.3                     |\n",
      "|4                    |39.72                    |\n",
      "+---------------------+-------------------------+\n",
      "only showing top 10 rows\n",
      "\n"
     ]
    }
   ],
   "source": [
    "#Unión para duración promedio de los viajes\n",
    "\n",
    "sqlstr = \"\"\"\n",
    "select er.Ciclo_Estacion_Retiro, round(abs(avg(datediff(ea.Fecha_Arribo, er.Fecha_Retiro))), 2) \n",
    "as minutos_duracion_promedio\n",
    "from ecobiciretiros er\n",
    "join ecobiciarribos ea \n",
    "on (er.id = ea.id)\n",
    "group by er.Ciclo_Estacion_Retiro\n",
    "order by 2 desc\n",
    "\"\"\"\n",
    "\n",
    "print(nombre)\n",
    "spark.sql(sqlstr).show(10, truncate = False)"
   ]
  }
 ],
 "metadata": {
  "kernelspec": {
   "display_name": "Python 3 (ipykernel)",
   "language": "python",
   "name": "python3"
  },
  "language_info": {
   "codemirror_mode": {
    "name": "ipython",
    "version": 3
   },
   "file_extension": ".py",
   "mimetype": "text/x-python",
   "name": "python",
   "nbconvert_exporter": "python",
   "pygments_lexer": "ipython3",
   "version": "3.11.6"
  }
 },
 "nbformat": 4,
 "nbformat_minor": 5
}
