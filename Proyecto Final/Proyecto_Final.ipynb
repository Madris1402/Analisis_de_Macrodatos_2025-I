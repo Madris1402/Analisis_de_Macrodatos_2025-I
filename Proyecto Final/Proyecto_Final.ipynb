{
 "cells": [
  {
   "cell_type": "code",
   "execution_count": 1,
   "id": "6964d239-f296-443f-8afb-027bcd7272ab",
   "metadata": {},
   "outputs": [],
   "source": [
    "nombre = \"Madrigal Urencio Ricardo \\n\""
   ]
  },
  {
   "cell_type": "code",
   "execution_count": 2,
   "id": "e45f4a87-065a-48cb-bf0f-68cf75538eb7",
   "metadata": {},
   "outputs": [],
   "source": [
    "#Librerias a Importar\n",
    "from pyspark.sql.functions import col, sum, to_date, to_timestamp, regexp_replace\n",
    "from pyspark.sql.functions import date_format\n",
    "from pyspark.sql.types import IntegerType, DoubleType, FloatType, StructType, StructField, StringType\n",
    "from pyspark.sql.functions import hour, minute, second, year, month, dayofmonth, weekofyear\n",
    "from pyspark.sql.functions import monotonically_increasing_id\n",
    "import matplotlib.pyplot as plt"
   ]
  },
  {
   "cell_type": "code",
   "execution_count": 3,
   "id": "1e12ce2d-e00d-47d3-9cff-42ad4e69de28",
   "metadata": {},
   "outputs": [],
   "source": [
    "#Cargar los datos en Spark"
   ]
  },
  {
   "cell_type": "code",
   "execution_count": 4,
   "id": "340bc882-88ed-416a-bad9-7c0bce20a243",
   "metadata": {},
   "outputs": [
    {
     "name": "stdout",
     "output_type": "stream",
     "text": [
      "Madrigal Urencio Ricardo \n",
      "\n",
      "root\n",
      " |-- COBERTURA: string (nullable = true)\n",
      " |-- ID_ENTIDAD: double (nullable = true)\n",
      " |-- ID_MUNICIPIO: double (nullable = true)\n",
      " |-- ANIO: double (nullable = true)\n",
      " |-- MES: double (nullable = true)\n",
      " |-- ID_HORA: double (nullable = true)\n",
      " |-- ID_MINUTO: double (nullable = true)\n",
      " |-- ID_DIA: double (nullable = true)\n",
      " |-- DIASEMANA: string (nullable = true)\n",
      " |-- URBANA: string (nullable = true)\n",
      " |-- SUBURBANA: string (nullable = true)\n",
      " |-- TIPACCID: string (nullable = true)\n",
      " |-- AUTOMOVIL: integer (nullable = true)\n",
      " |-- CAMPASAJ: integer (nullable = true)\n",
      " |-- MICROBUS: integer (nullable = true)\n",
      " |-- PASCAMION: integer (nullable = true)\n",
      " |-- OMNIBUS: integer (nullable = true)\n",
      " |-- TRANVIA: integer (nullable = true)\n",
      " |-- CAMIONETA: integer (nullable = true)\n",
      " |-- CAMION: integer (nullable = true)\n",
      " |-- TRACTOR: integer (nullable = true)\n",
      " |-- FERROCARRI: integer (nullable = true)\n",
      " |-- MOTOCICLET: integer (nullable = true)\n",
      " |-- BICICLETA: integer (nullable = true)\n",
      " |-- OTROVEHIC: integer (nullable = true)\n",
      " |-- CAUSAACCI: string (nullable = true)\n",
      " |-- CAPAROD: string (nullable = true)\n",
      " |-- SEXO: string (nullable = true)\n",
      " |-- ALIENTO: string (nullable = true)\n",
      " |-- CINTURON: string (nullable = true)\n",
      " |-- ID_EDAD: integer (nullable = true)\n",
      " |-- CONDMUERTO: integer (nullable = true)\n",
      " |-- CONDHERIDO: integer (nullable = true)\n",
      " |-- PASAMUERTO: integer (nullable = true)\n",
      " |-- PASAHERIDO: integer (nullable = true)\n",
      " |-- PEATMUERTO: integer (nullable = true)\n",
      " |-- PEATHERIDO: integer (nullable = true)\n",
      " |-- CICLMUERTO: integer (nullable = true)\n",
      " |-- CICLHERIDO: integer (nullable = true)\n",
      " |-- OTROMUERTO: integer (nullable = true)\n",
      " |-- OTROHERIDO: integer (nullable = true)\n",
      " |-- NEMUERTO: integer (nullable = true)\n",
      " |-- NEHERIDO: integer (nullable = true)\n",
      " |-- CLASACC: string (nullable = true)\n",
      " |-- ESTATUS: string (nullable = true)\n",
      "\n",
      "9543927\n"
     ]
    }
   ],
   "source": [
    "dir_hdfs = \"hdfs://namenode:9000/tmp/amd/proyecto/atus\"\n",
    "df = spark.read.csv(dir_hdfs, header = True, inferSchema = True)\n",
    "\n",
    "print(nombre)\n",
    "df.printSchema()\n",
    "print(df.count())"
   ]
  },
  {
   "cell_type": "code",
   "execution_count": 5,
   "id": "70ffa0ea-b2ba-4a35-a82d-f5331c029880",
   "metadata": {},
   "outputs": [
    {
     "name": "stdout",
     "output_type": "stream",
     "text": [
      "Madrigal Urencio Ricardo \n",
      "\n",
      "+---------+----------+------------+----+---+-------+---------+------+---------+------+---------+--------+---------+--------+--------+---------+-------+-------+---------+------+-------+----------+----------+---------+---------+---------+-------+----+-------+--------+-------+----------+----------+----------+----------+----------+----------+----------+----------+----------+----------+--------+--------+-------+-------+\n",
      "|COBERTURA|ID_ENTIDAD|ID_MUNICIPIO|ANIO|MES|ID_HORA|ID_MINUTO|ID_DIA|DIASEMANA|URBANA|SUBURBANA|TIPACCID|AUTOMOVIL|CAMPASAJ|MICROBUS|PASCAMION|OMNIBUS|TRANVIA|CAMIONETA|CAMION|TRACTOR|FERROCARRI|MOTOCICLET|BICICLETA|OTROVEHIC|CAUSAACCI|CAPAROD|SEXO|ALIENTO|CINTURON|ID_EDAD|CONDMUERTO|CONDHERIDO|PASAMUERTO|PASAHERIDO|PEATMUERTO|PEATHERIDO|CICLMUERTO|CICLHERIDO|OTROMUERTO|OTROHERIDO|NEMUERTO|NEHERIDO|CLASACC|ESTATUS|\n",
      "+---------+----------+------------+----+---+-------+---------+------+---------+------+---------+--------+---------+--------+--------+---------+-------+-------+---------+------+-------+----------+----------+---------+---------+---------+-------+----+-------+--------+-------+----------+----------+----------+----------+----------+----------+----------+----------+----------+----------+--------+--------+-------+-------+\n",
      "|        0|         0|           0|   0|  0|      0|        0|     0|        0|     0|        0|       0|        0|       0|       0|        0|      0|      0|        0|     0|      0|         0|         0|        0|        0|        0|      0|   0|      0|       0|      0|         0|         0|         0|         0|         0|         0|         0|         0|         0|         0|       0|       0|      0|      0|\n",
      "+---------+----------+------------+----+---+-------+---------+------+---------+------+---------+--------+---------+--------+--------+---------+-------+-------+---------+------+-------+----------+----------+---------+---------+---------+-------+----+-------+--------+-------+----------+----------+----------+----------+----------+----------+----------+----------+----------+----------+--------+--------+-------+-------+\n",
      "\n"
     ]
    }
   ],
   "source": [
    "#Verificar si existen Nulos\n",
    "print(nombre)\n",
    "\n",
    "df.select([sum(col(c).isNull().cast(\"int\")).alias(c) for c in df.columns]).show()"
   ]
  },
  {
   "cell_type": "code",
   "execution_count": 6,
   "id": "a354d975-f753-41e9-bf2d-4161986d34cc",
   "metadata": {},
   "outputs": [
    {
     "name": "stdout",
     "output_type": "stream",
     "text": [
      "+---------+----------+-------+---------+------+---+---------+------+\n",
      "|COBERTURA|ID_ENTIDAD|ID_HORA|ID_MINUTO|ID_DIA|MES|DIASEMANA|ANIO  |\n",
      "+---------+----------+-------+---------+------+---+---------+------+\n",
      "|Municipal|1.0       |0.0    |0.0      |1.0   |1.0|lunes    |2007.0|\n",
      "|Municipal|1.0       |2.0    |2.0      |1.0   |1.0|lunes    |2007.0|\n",
      "|Municipal|1.0       |4.0    |55.0     |1.0   |1.0|lunes    |2007.0|\n",
      "|Municipal|1.0       |5.0    |0.0      |1.0   |1.0|lunes    |2007.0|\n",
      "|Municipal|1.0       |5.0    |30.0     |1.0   |1.0|lunes    |2007.0|\n",
      "|Municipal|1.0       |5.0    |30.0     |1.0   |1.0|lunes    |2007.0|\n",
      "|Municipal|1.0       |7.0    |45.0     |1.0   |1.0|lunes    |2007.0|\n",
      "|Municipal|1.0       |13.0   |5.0      |1.0   |1.0|lunes    |2007.0|\n",
      "|Municipal|1.0       |16.0   |35.0     |1.0   |1.0|lunes    |2007.0|\n",
      "|Municipal|1.0       |17.0   |40.0     |1.0   |1.0|lunes    |2007.0|\n",
      "+---------+----------+-------+---------+------+---+---------+------+\n",
      "only showing top 10 rows\n",
      "\n"
     ]
    }
   ],
   "source": [
    "df.select(['COBERTURA', 'ID_ENTIDAD', 'ID_HORA', 'ID_MINUTO', 'ID_DIA', 'MES', 'DIASEMANA', 'ANIO']).show(10, truncate = False)"
   ]
  },
  {
   "cell_type": "code",
   "execution_count": 7,
   "id": "8b8ba94a-cce3-485d-8c89-8aff35b75eaa",
   "metadata": {},
   "outputs": [
    {
     "name": "stdout",
     "output_type": "stream",
     "text": [
      "Madrigal Urencio Ricardo \n",
      "\n",
      "+---------+----------+------------+----+---+-------+---------+------+---------+----------------------------+--------------------------+-------------------------------+---------+--------+--------+---------+-------+-------+---------+------+-------+----------+----------+---------+---------+------------------+-----------+------+-------+---------+-------+----------+----------+----------+----------+----------+----------+----------+----------+----------+----------+--------+--------+----------+----------------+--------+----------+\n",
      "|COBERTURA|ID_ENTIDAD|ID_MUNICIPIO|ANIO|MES|ID_HORA|ID_MINUTO|ID_DIA|DIASEMANA|URBANA                      |SUBURBANA                 |TIPACCID                       |AUTOMOVIL|CAMPASAJ|MICROBUS|PASCAMION|OMNIBUS|TRANVIA|CAMIONETA|CAMION|TRACTOR|FERROCARRI|MOTOCICLET|BICICLETA|OTROVEHIC|CAUSAACCI         |CAPAROD    |SEXO  |ALIENTO|CINTURON |ID_EDAD|CONDMUERTO|CONDHERIDO|PASAMUERTO|PASAHERIDO|PEATMUERTO|PEATHERIDO|CICLMUERTO|CICLHERIDO|OTROMUERTO|OTROHERIDO|NEMUERTO|NEHERIDO|CLASACC   |ESTATUS         |HORA    |FECHA     |\n",
      "+---------+----------+------------+----+---+-------+---------+------+---------+----------------------------+--------------------------+-------------------------------+---------+--------+--------+---------+-------+-------+---------+------+-------+----------+----------+---------+---------+------------------+-----------+------+-------+---------+-------+----------+----------+----------+----------+----------+----------+----------+----------+----------+----------+--------+--------+----------+----------------+--------+----------+\n",
      "|Municipal|1         |1           |2007|1  |0      |0        |1     |lunes    |Accidente en intersección   |Sin accidente en esta zona|Colisión con objeto fijo       |1        |0       |0       |0        |0      |0      |0        |0     |0      |0         |0         |0        |0        |Otra              |Pavimentada|Hombre|No     |Se ignora|25     |0         |0         |0         |0         |0         |0         |0         |0         |0         |0         |0       |0       |Sólo daños|Cifras Revisadas|00:00:00|2007-01-01|\n",
      "|Municipal|1         |1           |2007|1  |2      |2        |1     |lunes    |Accidente en intersección   |Sin accidente en esta zona|Colisión con vehículo automotor|2        |0       |0       |0        |0      |0      |0        |0     |0      |0         |0         |0        |0        |Otra              |Pavimentada|Hombre|No     |Se ignora|29     |0         |0         |0         |1         |0         |0         |0         |0         |0         |0         |0       |0       |No fatal  |Cifras Revisadas|02:02:00|2007-01-01|\n",
      "|Municipal|1         |1           |2007|1  |4      |55       |1     |lunes    |Accidente en no intersección|Sin accidente en esta zona|Colisión con motocicleta       |1        |0       |0       |0        |0      |0      |0        |0     |0      |0         |1         |0        |0        |Otra              |Pavimentada|Hombre|No     |Se ignora|36     |0         |2         |0         |0         |0         |0         |0         |0         |0         |0         |0       |0       |No fatal  |Cifras Revisadas|04:55:00|2007-01-01|\n",
      "|Municipal|1         |1           |2007|1  |5      |0        |1     |lunes    |Accidente en no intersección|Sin accidente en esta zona|Colisión con vehículo automotor|1        |0       |0       |0        |0      |0      |1        |0     |0      |0         |0         |0        |0        |Otra              |Pavimentada|Hombre|No     |Se ignora|22     |0         |0         |0         |0         |0         |0         |0         |0         |0         |0         |0       |0       |Sólo daños|Cifras Revisadas|05:00:00|2007-01-01|\n",
      "|Municipal|1         |1           |2007|1  |5      |30       |1     |lunes    |Accidente en no intersección|Sin accidente en esta zona|Colisión con objeto fijo       |1        |0       |0       |0        |0      |0      |0        |0     |0      |0         |0         |0        |0        |Falla del vehículo|Pavimentada|Hombre|No     |Se ignora|18     |0         |0         |0         |0         |0         |0         |0         |0         |0         |0         |0       |0       |Sólo daños|Cifras Revisadas|05:30:00|2007-01-01|\n",
      "|Municipal|1         |1           |2007|1  |5      |30       |1     |lunes    |Accidente en intersección   |Sin accidente en esta zona|Colisión con objeto fijo       |1        |0       |0       |0        |0      |0      |0        |0     |0      |0         |0         |0        |0        |Falla del vehículo|Pavimentada|Hombre|No     |Se ignora|18     |0         |0         |0         |0         |0         |0         |0         |0         |0         |0         |0       |0       |Sólo daños|Cifras Revisadas|05:30:00|2007-01-01|\n",
      "|Municipal|1         |1           |2007|1  |7      |45       |1     |lunes    |Accidente en no intersección|Sin accidente en esta zona|Colisión con objeto fijo       |1        |0       |0       |0        |0      |0      |0        |0     |0      |0         |0         |0        |0        |Otra              |Pavimentada|Hombre|Sí     |Se ignora|24     |0         |0         |0         |1         |0         |0         |0         |0         |0         |0         |0       |0       |No fatal  |Cifras Revisadas|07:45:00|2007-01-01|\n",
      "|Municipal|1         |1           |2007|1  |13     |5        |1     |lunes    |Accidente en no intersección|Sin accidente en esta zona|Colisión con vehículo automotor|2        |1       |0       |0        |0      |0      |0        |0     |0      |0         |0         |0        |0        |Otra              |Pavimentada|Hombre|No     |Se ignora|35     |0         |1         |0         |3         |0         |0         |0         |0         |0         |0         |0       |0       |No fatal  |Cifras Revisadas|13:05:00|2007-01-01|\n",
      "|Municipal|1         |1           |2007|1  |16     |35       |1     |lunes    |Accidente en intersección   |Sin accidente en esta zona|Colisión con vehículo automotor|1        |0       |0       |0        |0      |0      |0        |0     |0      |0         |1         |0        |0        |Otra              |Pavimentada|Hombre|No     |Se ignora|35     |0         |1         |0         |0         |0         |0         |0         |0         |0         |0         |0       |0       |No fatal  |Cifras Revisadas|16:35:00|2007-01-01|\n",
      "|Municipal|1         |1           |2007|1  |17     |40       |1     |lunes    |Accidente en no intersección|Sin accidente en esta zona|Colisión con vehículo automotor|1        |0       |0       |0        |0      |0      |1        |0     |0      |0         |0         |0        |0        |Otra              |Pavimentada|Hombre|No     |Se ignora|23     |0         |0         |0         |1         |0         |0         |0         |0         |0         |0         |0       |0       |No fatal  |Cifras Revisadas|17:40:00|2007-01-01|\n",
      "+---------+----------+------------+----+---+-------+---------+------+---------+----------------------------+--------------------------+-------------------------------+---------+--------+--------+---------+-------+-------+---------+------+-------+----------+----------+---------+---------+------------------+-----------+------+-------+---------+-------+----------+----------+----------+----------+----------+----------+----------+----------+----------+----------+--------+--------+----------+----------------+--------+----------+\n",
      "only showing top 10 rows\n",
      "\n"
     ]
    }
   ],
   "source": [
    "#Limpieza del esquema\n",
    "import pyspark.sql.functions as F\n",
    "print(nombre)\n",
    "\n",
    "datos = df\\\n",
    ".withColumn(\"ID_ENTIDAD\", col(\"ID_ENTIDAD\").cast(IntegerType())) \\\n",
    ".withColumn(\"ID_MUNICIPIO\", col(\"ID_MUNICIPIO\").cast(IntegerType())) \\\n",
    ".withColumn(\"ANIO\", col(\"ANIO\").cast(IntegerType())) \\\n",
    ".withColumn(\"MES\", col(\"MES\").cast(IntegerType())) \\\n",
    ".withColumn(\"ID_HORA\", col(\"ID_HORA\").cast(IntegerType())) \\\n",
    ".withColumn(\"ID_MINUTO\", col(\"ID_MINUTO\").cast(IntegerType())) \\\n",
    ".withColumn(\"ID_DIA\", col(\"ID_DIA\").cast(IntegerType())) \\\n",
    ".withColumn(\"HORA\", F.concat(F.lpad(F.col(\"ID_HORA\").cast(IntegerType()), 2, \"0\"), F.lit(\":\"), F.lpad(F.col(\"ID_MINUTO\").cast(IntegerType()), 2, \"0\"), F.lit(\":00\"))) \\\n",
    ".withColumn(\"HORA\", date_format(col(\"HORA\"), \"HH:mm:ss\")) \\\n",
    ".withColumn(\"FECHA\", F.concat(F.lpad(F.col(\"ID_DIA\").cast(IntegerType()), 2, \"0\"), F.lit(\"/\"), F.lpad(F.col(\"MES\").cast(IntegerType()), 2, \"0\"), F.lit(\"/\"), F.col(\"ANIO\").cast(IntegerType()))) \\\n",
    ".withColumn(\"FECHA\", to_date(col(\"FECHA\"), \"dd/MM/yyyy\"))\n",
    "datos.show(10, truncate = False)"
   ]
  },
  {
   "cell_type": "code",
   "execution_count": 8,
   "id": "0f3c9944-4672-4af2-a70a-49f0b2b05e12",
   "metadata": {},
   "outputs": [],
   "source": [
    "#Analisis de Datos"
   ]
  },
  {
   "cell_type": "code",
   "execution_count": 9,
   "id": "e96855eb-c17c-441e-bdc5-543c4017f0e0",
   "metadata": {},
   "outputs": [
    {
     "name": "stdout",
     "output_type": "stream",
     "text": [
      "Madrigal Urencio Ricardo \n",
      "\n",
      "+----------------+-------+\n",
      "|       DIASEMANA|  count|\n",
      "+----------------+-------+\n",
      "|         Viernes|1442605|\n",
      "|         Domingo|1363343|\n",
      "|          Jueves|1260046|\n",
      "|          Martes|1239828|\n",
      "|          Sábado|1129435|\n",
      "|           Lunes| 932448|\n",
      "|       Miércoles| 892599|\n",
      "|           lunes| 448241|\n",
      "|          Sabado| 435068|\n",
      "|       Miercoles| 351475|\n",
      "| No especificado|  33629|\n",
      "|Certificado cero|  15210|\n",
      "+----------------+-------+\n",
      "\n"
     ]
    }
   ],
   "source": [
    "#Identificar día de la semana con mayor Número de Accidentes\n",
    "print(nombre)\n",
    "\n",
    "datos2 = datos.groupBy(\"DIASEMANA\").count()\n",
    "datos2.orderBy(\"count\", ascending = False).show()"
   ]
  },
  {
   "cell_type": "code",
   "execution_count": 10,
   "id": "e2d5701b-796a-4733-93ba-2e3d86ddabbe",
   "metadata": {},
   "outputs": [
    {
     "name": "stdout",
     "output_type": "stream",
     "text": [
      "Madrigal Urencio Ricardo \n",
      "\n",
      "Done\n"
     ]
    }
   ],
   "source": [
    "#Guardar el nuevo DataFrame\n",
    "\n",
    "print(nombre)\n",
    "\n",
    "datos2.write.mode(\"overwrite\").option(\"header\", \"true\").csv(\"hdfs://namenode:9000/tmp/amd/atus_filtrado\")\n",
    "print(\"Done\")"
   ]
  },
  {
   "cell_type": "code",
   "execution_count": 11,
   "id": "88b83a3c-7ddb-4ce5-b097-7af7d1dc258b",
   "metadata": {},
   "outputs": [],
   "source": [
    "#Tablas Temporales"
   ]
  },
  {
   "cell_type": "code",
   "execution_count": 12,
   "id": "c8afb40a-11f6-4725-ab34-a17ae977a1a5",
   "metadata": {},
   "outputs": [
    {
     "name": "stdout",
     "output_type": "stream",
     "text": [
      "Madrigal Urencio Ricardo \n",
      "\n",
      "+---------+-------------+-----------+\n",
      "|namespace|    tableName|isTemporary|\n",
      "+---------+-------------+-----------+\n",
      "|         |         atus|       true|\n",
      "|         |atus_filtrado|       true|\n",
      "|         |      estados|       true|\n",
      "|         |   municipios|       true|\n",
      "+---------+-------------+-----------+\n",
      "\n",
      "atus \n",
      "\n",
      "+------------+---------+-------+\n",
      "|    col_name|data_type|comment|\n",
      "+------------+---------+-------+\n",
      "|   COBERTURA|   string|   NULL|\n",
      "|  ID_ENTIDAD|      int|   NULL|\n",
      "|ID_MUNICIPIO|      int|   NULL|\n",
      "|        ANIO|      int|   NULL|\n",
      "|         MES|      int|   NULL|\n",
      "|     ID_HORA|      int|   NULL|\n",
      "|   ID_MINUTO|      int|   NULL|\n",
      "|      ID_DIA|      int|   NULL|\n",
      "|   DIASEMANA|   string|   NULL|\n",
      "|      URBANA|   string|   NULL|\n",
      "|   SUBURBANA|   string|   NULL|\n",
      "|    TIPACCID|   string|   NULL|\n",
      "|   AUTOMOVIL|      int|   NULL|\n",
      "|    CAMPASAJ|      int|   NULL|\n",
      "|    MICROBUS|      int|   NULL|\n",
      "|   PASCAMION|      int|   NULL|\n",
      "|     OMNIBUS|      int|   NULL|\n",
      "|     TRANVIA|      int|   NULL|\n",
      "|   CAMIONETA|      int|   NULL|\n",
      "|      CAMION|      int|   NULL|\n",
      "|     TRACTOR|      int|   NULL|\n",
      "|  FERROCARRI|      int|   NULL|\n",
      "|  MOTOCICLET|      int|   NULL|\n",
      "|   BICICLETA|      int|   NULL|\n",
      "|   OTROVEHIC|      int|   NULL|\n",
      "|   CAUSAACCI|   string|   NULL|\n",
      "|     CAPAROD|   string|   NULL|\n",
      "|        SEXO|   string|   NULL|\n",
      "|     ALIENTO|   string|   NULL|\n",
      "|    CINTURON|   string|   NULL|\n",
      "|     ID_EDAD|      int|   NULL|\n",
      "|  CONDMUERTO|      int|   NULL|\n",
      "|  CONDHERIDO|      int|   NULL|\n",
      "|  PASAMUERTO|      int|   NULL|\n",
      "|  PASAHERIDO|      int|   NULL|\n",
      "|  PEATMUERTO|      int|   NULL|\n",
      "|  PEATHERIDO|      int|   NULL|\n",
      "|  CICLMUERTO|      int|   NULL|\n",
      "|  CICLHERIDO|      int|   NULL|\n",
      "|  OTROMUERTO|      int|   NULL|\n",
      "|  OTROHERIDO|      int|   NULL|\n",
      "|    NEMUERTO|      int|   NULL|\n",
      "|    NEHERIDO|      int|   NULL|\n",
      "|     CLASACC|   string|   NULL|\n",
      "|     ESTATUS|   string|   NULL|\n",
      "|        HORA|   string|   NULL|\n",
      "|       FECHA|     date|   NULL|\n",
      "+------------+---------+-------+\n",
      "\n",
      "estados \n",
      "\n",
      "+--------------------+---------+-------+\n",
      "|            col_name|data_type|comment|\n",
      "+--------------------+---------+-------+\n",
      "|              CVEGEO|      int|   NULL|\n",
      "|             CVE_ENT|      int|   NULL|\n",
      "|             NOM_ENT|   string|   NULL|\n",
      "|             NOM_ABR|   string|   NULL|\n",
      "|           POB_TOTAL|      int|   NULL|\n",
      "|       POB_MASCULINA|      int|   NULL|\n",
      "|        POB_FEMENINA|      int|   NULL|\n",
      "|TOTAL DE VIVIENDA...|      int|   NULL|\n",
      "+--------------------+---------+-------+\n",
      "\n",
      "municipios \n",
      "\n",
      "+--------------------+---------+-------+\n",
      "|            col_name|data_type|comment|\n",
      "+--------------------+---------+-------+\n",
      "|              CVEGEO|      int|   NULL|\n",
      "|             CVE_ENT|      int|   NULL|\n",
      "|             NOM_ENT|   string|   NULL|\n",
      "|             NOM_ABR|   string|   NULL|\n",
      "|             CVE_MUN|      int|   NULL|\n",
      "|             NOM_MUN|   string|   NULL|\n",
      "|             CVE_CAB|   string|   NULL|\n",
      "|             NOM_CAB|   string|   NULL|\n",
      "|           POB_TOTAL|   string|   NULL|\n",
      "|       POB_MASCULINA|   string|   NULL|\n",
      "|        POB_FEMENINA|   string|   NULL|\n",
      "|TOTAL DE VIVIENDA...|   string|   NULL|\n",
      "+--------------------+---------+-------+\n",
      "\n"
     ]
    }
   ],
   "source": [
    "#Generar Tablas SQl\n",
    "print(nombre)\n",
    "\n",
    "municipios = spark.read.csv(\"hdfs://namenode:9000/tmp/amd/proyecto/municipios\", header = True, inferSchema = True)\n",
    "estados = spark.read.csv(\"hdfs://namenode:9000/tmp/amd/proyecto/estados\", header = True, inferSchema = True)\n",
    "atus_filtrado = spark.read.csv(\"hdfs://namenode:9000/tmp/amd/atus_filtrado\", header = True, inferSchema = True)\n",
    "\n",
    "\n",
    "datos.createOrReplaceTempView(\"atus\")\n",
    "municipios.createOrReplaceTempView(\"municipios\")\n",
    "estados.createOrReplaceTempView(\"estados\")\n",
    "atus_filtrado.createOrReplaceTempView(\"atus_filtrado\")\n",
    "\n",
    "spark.sql(\"show tables\").show()\n",
    "\n",
    "print(\"atus \\n\")\n",
    "spark.sql(\"describe atus\").show(100)\n",
    "print(\"estados \\n\")\n",
    "spark.sql(\"describe estados\").show()\n",
    "print(\"municipios \\n\")\n",
    "spark.sql(\"describe municipios\").show()"
   ]
  },
  {
   "cell_type": "code",
   "execution_count": 13,
   "id": "22c7077a-9e65-4ba2-a474-987fd86411f2",
   "metadata": {},
   "outputs": [],
   "source": [
    "#Consultas y Análisis"
   ]
  },
  {
   "cell_type": "code",
   "execution_count": 14,
   "id": "0ee29939-a130-4cca-a903-56cfb40084fb",
   "metadata": {},
   "outputs": [
    {
     "name": "stdout",
     "output_type": "stream",
     "text": [
      "Madrigal Urencio Ricardo \n",
      "\n",
      "+--------------------+-------+\n",
      "|Estado              |nr     |\n",
      "+--------------------+-------+\n",
      "|Nuevo Le�n          |1774611|\n",
      "|Jalisco             |959558 |\n",
      "|Chihuahua           |829161 |\n",
      "|Guanajuato          |437666 |\n",
      "|Tamaulipas          |426304 |\n",
      "|Baja California     |407567 |\n",
      "|Sonora              |392389 |\n",
      "|Coahuila de Zaragoza|380871 |\n",
      "|M�xico              |379769 |\n",
      "|Ciudad de M�xico    |307958 |\n",
      "+--------------------+-------+\n",
      "only showing top 10 rows\n",
      "\n"
     ]
    }
   ],
   "source": [
    "#Entidades Federativas con mayor Numero de Accidentes\n",
    "print(nombre)\n",
    "\n",
    "sqlstr = \"\"\" \n",
    "select e.NOM_ENT Estado, count(*) nr\n",
    "from atus a\n",
    "left join estados e\n",
    "on(a.ID_ENTIDAD = e.CVE_ENT)\n",
    "group by e.NOM_ENT\n",
    "order by nr desc\n",
    "\"\"\"\n",
    "spark.sql(sqlstr).show(10, truncate=False)"
   ]
  },
  {
   "cell_type": "code",
   "execution_count": 15,
   "id": "d228a331-d0f1-440f-ac47-e67624cf4f36",
   "metadata": {},
   "outputs": [
    {
     "name": "stdout",
     "output_type": "stream",
     "text": [
      "Madrigal Urencio Ricardo \n",
      "\n",
      "+---------------+------------------------+------+\n",
      "|Estado         |Municipio               |nr    |\n",
      "+---------------+------------------------+------+\n",
      "|Nuevo Le�n     |Monterrey               |647237|\n",
      "|Jalisco        |Guadalajara             |426793|\n",
      "|Chihuahua      |Chihuahua               |325562|\n",
      "|Nuevo Le�n     |San Nicol�s de los Garza|249571|\n",
      "|Jalisco        |Zapopan                 |226680|\n",
      "|Nuevo Le�n     |Guadalupe               |217285|\n",
      "|Chihuahua      |Ju�rez                  |217130|\n",
      "|Baja California|Tijuana                 |201335|\n",
      "|Nuevo Le�n     |San Pedro Garza Garc�a  |196303|\n",
      "|Quer�taro      |Quer�taro               |178964|\n",
      "+---------------+------------------------+------+\n",
      "only showing top 10 rows\n",
      "\n"
     ]
    }
   ],
   "source": [
    "#Municipio con Mayor Numero de Accidentes\n",
    "print(nombre)\n",
    "\n",
    "sqlstr = \"\"\" \n",
    "select m.NOM_ENT Estado, m.NOM_MUN Municipio, count(*) nr\n",
    "from atus a\n",
    "join municipios m\n",
    "on (a.ID_MUNICIPIO = m.CVE_MUN and a.ID_ENTIDAD = m.CVE_ENT)\n",
    "group by m.NOM_ENT, m.NOM_MUN\n",
    "order by nr desc\n",
    "\"\"\"\n",
    "spark.sql(sqlstr).show(10, truncate=False)"
   ]
  },
  {
   "cell_type": "code",
   "execution_count": 16,
   "id": "4565beca-6d62-4b09-b8ee-4e8342bba105",
   "metadata": {},
   "outputs": [
    {
     "name": "stdout",
     "output_type": "stream",
     "text": [
      "Madrigal Urencio Ricardo \n",
      "\n",
      "+----------------+---------------------+------+\n",
      "|SEXO            |Tipo_Accidente       |nr    |\n",
      "+----------------+---------------------+------+\n",
      "|Mujer           |Caída de pasajero    |3982  |\n",
      "|Hombre          |Caída de pasajero    |47050 |\n",
      "|Se fugó         |Caída de pasajero    |5706  |\n",
      "|Certificado cero|Certificado cero     |95839 |\n",
      "|Se fugó         |Colisión con animal  |3655  |\n",
      "|Mujer           |Colisión con animal  |2633  |\n",
      "|Hombre          |Colisión con animal  |29526 |\n",
      "|Mujer           |Colisión con ciclista|10794 |\n",
      "|Se fugó         |Colisión con ciclista|15733 |\n",
      "|Hombre          |Colisión con ciclista|116461|\n",
      "+----------------+---------------------+------+\n",
      "only showing top 10 rows\n",
      "\n"
     ]
    }
   ],
   "source": [
    "#Tipo de Accidentes por Sexo\n",
    "print(nombre)\n",
    "\n",
    "sqlstr = \"\"\" \n",
    "select SEXO, TIPACCID Tipo_Accidente, count(*) nr\n",
    "from atus\n",
    "group by TIPACCID, SEXO\n",
    "order by TIPACCID asc\n",
    "\"\"\"\n",
    "spark.sql(sqlstr).show(10, truncate=False)"
   ]
  },
  {
   "cell_type": "code",
   "execution_count": 17,
   "id": "b6705757-5d4a-4135-8b56-69484dce4284",
   "metadata": {},
   "outputs": [
    {
     "name": "stdout",
     "output_type": "stream",
     "text": [
      "Madrigal Urencio Ricardo \n",
      "\n",
      "+----+-------------------------------+------+\n",
      "|Edad|Tipo_Accidente                 |nr    |\n",
      "+----+-------------------------------+------+\n",
      "|18  |Colisión con vehículo automotor|692339|\n",
      "|0   |Colisión con vehículo automotor|469146|\n",
      "|99  |Colisión con vehículo automotor|422644|\n",
      "|20  |Colisión con vehículo automotor|237995|\n",
      "|0   |Colisión con objeto fijo       |204984|\n",
      "|30  |Colisión con vehículo automotor|175713|\n",
      "|28  |Colisión con vehículo automotor|168797|\n",
      "|25  |Colisión con vehículo automotor|166522|\n",
      "|32  |Colisión con vehículo automotor|161564|\n",
      "|27  |Colisión con vehículo automotor|157563|\n",
      "+----+-------------------------------+------+\n",
      "only showing top 10 rows\n",
      "\n"
     ]
    }
   ],
   "source": [
    "#Tipo de Accidentes por Edad\n",
    "print(nombre)\n",
    "\n",
    "sqlstr = \"\"\" \n",
    "select ID_EDAD Edad, TIPACCID Tipo_Accidente, count(*) nr\n",
    "from atus\n",
    "group by TIPACCID, ID_EDAD\n",
    "order by nr desc\n",
    "\"\"\"\n",
    "spark.sql(sqlstr).show(10, truncate=False)"
   ]
  },
  {
   "cell_type": "code",
   "execution_count": 18,
   "id": "f83c45b2-a56e-426b-bc99-8b657d1ad797",
   "metadata": {},
   "outputs": [
    {
     "name": "stdout",
     "output_type": "stream",
     "text": [
      "Madrigal Urencio Ricardo \n",
      "\n",
      "+----+----+-----+\n",
      "|Anio|Mes |nr   |\n",
      "+----+----+-----+\n",
      "|NULL|NULL|48839|\n",
      "|2006|12  |42531|\n",
      "|2007|3   |41406|\n",
      "|2007|10  |41159|\n",
      "|2007|12  |40754|\n",
      "|2007|6   |40749|\n",
      "|2007|9   |40720|\n",
      "|2008|5   |40683|\n",
      "|2006|10  |40591|\n",
      "|2005|12  |40584|\n",
      "+----+----+-----+\n",
      "only showing top 10 rows\n",
      "\n"
     ]
    }
   ],
   "source": [
    "#Número de Accidentes por Anio y Mes\n",
    "print(nombre)\n",
    "\n",
    "sqlstr = \"\"\" \n",
    "select YEAR(FECHA) Anio, MONTH(FECHA) Mes, count(*) nr\n",
    "from atus\n",
    "group by YEAR(FECHA), MONTH(FECHA)\n",
    "order by nr desc\n",
    "\"\"\"\n",
    "spark.sql(sqlstr).show(10, truncate = False)"
   ]
  },
  {
   "cell_type": "code",
   "execution_count": 19,
   "id": "6c680bde-450e-4d59-ae7d-735ff1b0a268",
   "metadata": {},
   "outputs": [
    {
     "name": "stdout",
     "output_type": "stream",
     "text": [
      "Madrigal Urencio Ricardo \n",
      "\n",
      "+----+----+-----+\n",
      "|Mes |Dia |nr   |\n",
      "+----+----+-----+\n",
      "|NULL|NULL|48839|\n",
      "|12  |15  |37743|\n",
      "|10  |15  |33921|\n",
      "|11  |15  |33798|\n",
      "|2   |28  |33751|\n",
      "|9   |15  |33696|\n",
      "|12  |12  |33090|\n",
      "|10  |28  |32634|\n",
      "|3   |15  |32573|\n",
      "|11  |28  |32498|\n",
      "|6   |15  |32393|\n",
      "|5   |28  |32341|\n",
      "|2   |15  |32339|\n",
      "|8   |28  |32200|\n",
      "|1   |1   |32183|\n",
      "|9   |28  |31962|\n",
      "|3   |28  |31930|\n",
      "|4   |28  |31890|\n",
      "|7   |15  |31786|\n",
      "|8   |15  |31603|\n",
      "|6   |28  |31594|\n",
      "|5   |15  |31464|\n",
      "|1   |28  |31296|\n",
      "|11  |11  |30739|\n",
      "|3   |3   |30704|\n",
      "|1   |15  |30616|\n",
      "|7   |28  |30392|\n",
      "|12  |16  |29857|\n",
      "|6   |6   |29764|\n",
      "|10  |10  |29718|\n",
      "|12  |1   |29629|\n",
      "|3   |1   |29613|\n",
      "+----+----+-----+\n",
      "only showing top 32 rows\n",
      "\n"
     ]
    }
   ],
   "source": [
    "#Número de Accidentes por dia del Mes\n",
    "print(nombre)\n",
    "\n",
    "sqlstr = \"\"\" \n",
    "select month(FECHA) as Mes, day(FECHA) as Dia, count(*) nr\n",
    "from atus\n",
    "group by month(FECHA), day(FECHA)\n",
    "order by nr desc\n",
    "\"\"\"\n",
    "spark.sql(sqlstr).show(32, truncate = False)"
   ]
  },
  {
   "cell_type": "code",
   "execution_count": 20,
   "id": "813619cb-54da-4379-b327-957179add88b",
   "metadata": {},
   "outputs": [
    {
     "name": "stdout",
     "output_type": "stream",
     "text": [
      "Madrigal Urencio Ricardo \n",
      "\n",
      "+-----+----+---+---+----+\n",
      "|FECHA|Anio|Mes|Dia|nr  |\n",
      "+-----+----+---+---+----+\n",
      "|NULL |2010|8  |32 |1766|\n",
      "|NULL |2018|8  |0  |1297|\n",
      "|NULL |2018|10 |0  |1286|\n",
      "|NULL |2018|12 |0  |1283|\n",
      "|NULL |2018|11 |0  |1282|\n",
      "|NULL |2018|6  |0  |1267|\n",
      "|NULL |2018|2  |0  |1265|\n",
      "|NULL |2018|5  |0  |1261|\n",
      "|NULL |2018|9  |0  |1261|\n",
      "|NULL |2010|4  |32 |1258|\n",
      "+-----+----+---+---+----+\n",
      "only showing top 10 rows\n",
      "\n"
     ]
    }
   ],
   "source": [
    "#Validacion de Fechas Nulas (Anio Mes Dia)\n",
    "print(nombre)\n",
    "\n",
    "sqlstr = \"\"\" \n",
    "select FECHA, ANIO Anio, MES Mes, ID_DIA Dia, count(*) nr\n",
    "from atus\n",
    "where(FECHA is null)\n",
    "group by FECHA, ANIO, MES, ID_DIA\n",
    "order by nr desc\n",
    "\"\"\"\n",
    "spark.sql(sqlstr).show(10, truncate = False)"
   ]
  },
  {
   "cell_type": "code",
   "execution_count": 22,
   "id": "435c91e4-6c50-41a4-bc3b-495f0d6a8a67",
   "metadata": {},
   "outputs": [
    {
     "name": "stdout",
     "output_type": "stream",
     "text": [
      "Madrigal Urencio Ricardo \n",
      "\n",
      "+----+------+\n",
      "|Hora|nr    |\n",
      "+----+------+\n",
      "|14  |548223|\n",
      "|15  |548021|\n",
      "|18  |542682|\n",
      "|16  |531547|\n",
      "|19  |530777|\n",
      "|17  |521428|\n",
      "|13  |505200|\n",
      "|8   |495700|\n",
      "|12  |486823|\n",
      "|20  |481555|\n",
      "|9   |462445|\n",
      "|11  |445558|\n",
      "|10  |444936|\n",
      "|21  |409387|\n",
      "|23  |383193|\n",
      "|22  |363040|\n",
      "|7   |355111|\n",
      "|0   |352406|\n",
      "|1   |222876|\n",
      "|2   |204312|\n",
      "|6   |195593|\n",
      "|3   |180086|\n",
      "|4   |154473|\n",
      "|5   |143438|\n",
      "+----+------+\n",
      "only showing top 24 rows\n",
      "\n"
     ]
    }
   ],
   "source": [
    "#Número de Accidentes por Hora\n",
    "print(nombre)\n",
    "\n",
    "sqlstr = \"\"\" \n",
    "select HOUR(HORA) Hora, count(*) nr \n",
    "from atus\n",
    "group by HOUR(HORA)\n",
    "order by nr desc\n",
    "\"\"\"\n",
    "spark.sql(sqlstr).show(24, truncate = False)"
   ]
  },
  {
   "cell_type": "code",
   "execution_count": 27,
   "id": "8008c4f5-a651-4476-a70e-e098e134a83c",
   "metadata": {},
   "outputs": [
    {
     "name": "stdout",
     "output_type": "stream",
     "text": [
      "Madrigal Urencio Ricardo \n",
      "\n",
      "+----------------------------+-------+\n",
      "|URBANA                      |nr     |\n",
      "+----------------------------+-------+\n",
      "|Accidente en intersección   |7049115|\n",
      "|Accidente en no intersección|1766273|\n",
      "+----------------------------+-------+\n",
      "\n"
     ]
    }
   ],
   "source": [
    "#Número de Accidentes por Zona\n",
    "#Accidentes en Zonas Urbanas\n",
    "print(nombre)\n",
    "\n",
    "sqlstr = \"\"\" \n",
    "select URBANA, count(*) nr\n",
    "from atus\n",
    "where not (URBANA = \"Sin accidente en esta zona\")\n",
    "group by URBANA\n",
    "order by nr desc\n",
    "\"\"\"\n",
    "spark.sql(sqlstr).show(10, truncate = False)"
   ]
  },
  {
   "cell_type": "code",
   "execution_count": 28,
   "id": "6a07335a-8fbb-479f-b0f3-bd6e9ec27ceb",
   "metadata": {},
   "outputs": [
    {
     "name": "stdout",
     "output_type": "stream",
     "text": [
      "Madrigal Urencio Ricardo \n",
      "\n",
      "+------------------------------+------+\n",
      "|SUBURBANA                     |nr    |\n",
      "+------------------------------+------+\n",
      "|Accidente en carretera estatal|435523|\n",
      "|Accidente en camino rural     |115481|\n",
      "|Accidentes en otro camino     |81696 |\n",
      "+------------------------------+------+\n",
      "\n"
     ]
    }
   ],
   "source": [
    "#Accidentes en Zonas Suburbanas\n",
    "print(nombre)\n",
    "\n",
    "sqlstr = \"\"\" \n",
    "select SUBURBANA, count(*) nr\n",
    "from atus\n",
    "where not (SUBURBANA = \"Sin accidente en esta zona\")\n",
    "group by SUBURBANA\n",
    "order by nr desc\n",
    "\"\"\"\n",
    "spark.sql(sqlstr).show(10, truncate = False)"
   ]
  },
  {
   "cell_type": "code",
   "execution_count": 56,
   "id": "0aa72ace-1767-40bc-9090-d98e67ccb348",
   "metadata": {},
   "outputs": [
    {
     "name": "stdout",
     "output_type": "stream",
     "text": [
      "Madrigal Urencio Ricardo \n",
      "\n",
      "+---------+--------+--------+---------+-------+-------+---------+------+-------+----------+----------+---------+---------+-------+\n",
      "|AUTOMOVIL|CAMPASAJ|MICROBUS|PASCAMION|OMNIBUS|TRANVIA|CAMIONETA|CAMION|TRACTOR|FERROCARRI|MOTOCICLET|BICICLETA|OTROVEHIC|nr     |\n",
      "+---------+--------+--------+---------+-------+-------+---------+------+-------+----------+----------+---------+---------+-------+\n",
      "|2        |0       |0       |0        |0      |0      |0        |0     |0      |0         |0         |0        |0        |3061364|\n",
      "|1        |0       |0       |0        |0      |0      |0        |0     |0      |0         |0         |0        |0        |902660 |\n",
      "|1        |0       |0       |0        |0      |0      |1        |0     |0      |0         |0         |0        |0        |855302 |\n",
      "|1        |1       |0       |0        |0      |0      |0        |0     |0      |0         |0         |0        |0        |793065 |\n",
      "|1        |0       |0       |0        |0      |0      |0        |0     |0      |0         |1         |0        |0        |568361 |\n",
      "|1        |0       |0       |1        |0      |0      |0        |0     |0      |0         |0         |0        |0        |264415 |\n",
      "|1        |0       |0       |0        |0      |0      |0        |1     |0      |0         |0         |0        |0        |203736 |\n",
      "|0        |0       |0       |0        |0      |0      |1        |0     |0      |0         |0         |0        |0        |187711 |\n",
      "|0        |2       |0       |0        |0      |0      |0        |0     |0      |0         |0         |0        |0        |173072 |\n",
      "|0        |1       |0       |0        |0      |0      |0        |0     |0      |0         |0         |0        |0        |166908 |\n",
      "|1        |0       |0       |0        |0      |0      |0        |0     |0      |0         |0         |0        |1        |155708 |\n",
      "|0        |0       |0       |0        |0      |0      |2        |0     |0      |0         |0         |0        |0        |153300 |\n",
      "|3        |0       |0       |0        |0      |0      |0        |0     |0      |0         |0         |0        |0        |149132 |\n",
      "|1        |0       |1       |0        |0      |0      |0        |0     |0      |0         |0         |0        |0        |116166 |\n",
      "|0        |1       |0       |0        |0      |0      |1        |0     |0      |0         |0         |0        |0        |111316 |\n",
      "|1        |0       |0       |0        |0      |0      |0        |0     |1      |0         |0         |0        |0        |109903 |\n",
      "|0        |0       |0       |0        |0      |0      |0        |0     |0      |0         |0         |0        |0        |95871  |\n",
      "|0        |0       |0       |0        |0      |0      |1        |0     |0      |0         |1         |0        |0        |74289  |\n",
      "|0        |1       |0       |0        |0      |0      |0        |0     |0      |0         |1         |0        |0        |71475  |\n",
      "|1        |0       |0       |0        |0      |0      |0        |0     |0      |0         |0         |1        |0        |71390  |\n",
      "+---------+--------+--------+---------+-------+-------+---------+------+-------+----------+----------+---------+---------+-------+\n",
      "only showing top 20 rows\n",
      "\n"
     ]
    }
   ],
   "source": [
    "#Número de Accidentes por Tipo de Vehiculo y Cantidad de Vehiculos Involucrados\n",
    "print(nombre)\n",
    "\n",
    "sqlstr = \"\"\" \n",
    "select AUTOMOVIL, CAMPASAJ, MICROBUS, PASCAMION, OMNIBUS, TRANVIA, CAMIONETA, \n",
    "        CAMION, TRACTOR, FERROCARRI, MOTOCICLET, BICICLETA, OTROVEHIC, count(*) nr\n",
    "from atus\n",
    "group by AUTOMOVIL, CAMPASAJ, MICROBUS, PASCAMION, OMNIBUS, TRANVIA, CAMIONETA, \n",
    "        CAMION, TRACTOR, FERROCARRI, MOTOCICLET, BICICLETA, OTROVEHIC\n",
    "order by nr desc\n",
    "\"\"\"\n",
    "spark.sql(sqlstr).show(20, truncate = False)"
   ]
  },
  {
   "cell_type": "code",
   "execution_count": 61,
   "id": "c8c82f27-c804-42c3-92f9-8745ff588249",
   "metadata": {},
   "outputs": [
    {
     "name": "stdout",
     "output_type": "stream",
     "text": [
      "Madrigal Urencio Ricardo \n",
      "\n",
      "+-------------------------+----------+----------+----------+----------+--------+-----+\n",
      "|causa_accidente          |CONDMUERTO|PASAMUERTO|PEATMUERTO|OTROMUERTO|NEMUERTO|nr   |\n",
      "+-------------------------+----------+----------+----------+----------+--------+-----+\n",
      "|Conductor                |1         |0         |0         |0         |0       |39658|\n",
      "|Conductor                |1         |1         |0         |0         |0       |3774 |\n",
      "|Otra                     |1         |0         |0         |0         |0       |2203 |\n",
      "|Conductor                |2         |0         |0         |0         |0       |1209 |\n",
      "|Conductor                |1         |2         |0         |0         |0       |1100 |\n",
      "|Falla del vehículo       |1         |0         |0         |0         |0       |902  |\n",
      "|Mala condición del camino|1         |0         |0         |0         |0       |577  |\n",
      "|Conductor                |1         |3         |0         |0         |0       |365  |\n",
      "|Conductor                |1         |4         |0         |0         |0       |199  |\n",
      "|Otra                     |1         |1         |0         |0         |0       |198  |\n",
      "+-------------------------+----------+----------+----------+----------+--------+-----+\n",
      "only showing top 10 rows\n",
      "\n"
     ]
    }
   ],
   "source": [
    "#Número de Accidentes Fatales\n",
    "print(nombre)\n",
    "\n",
    "sqlstr = \"\"\" \n",
    "select CAUSAACCI causa_accidente, CONDMUERTO, PASAMUERTO, PEATMUERTO, OTROMUERTO, NEMUERTO, count(*) nr\n",
    "from atus\n",
    "where not (CONDMUERTO = 0)\n",
    "group by CAUSAACCI, CONDMUERTO, PASAMUERTO, PEATMUERTO, OTROMUERTO, NEMUERTO\n",
    "order by nr desc\n",
    "\"\"\"\n",
    "spark.sql(sqlstr).show(10, truncate = False)"
   ]
  },
  {
   "cell_type": "code",
   "execution_count": null,
   "id": "857dc2ec-11a3-4252-ac26-5b85ddbe712a",
   "metadata": {},
   "outputs": [],
   "source": [
    "#Consultas Avanzadas"
   ]
  },
  {
   "cell_type": "code",
   "execution_count": 74,
   "id": "aefecb8a-fdf3-4f9c-9739-72248f731f0d",
   "metadata": {},
   "outputs": [
    {
     "name": "stdout",
     "output_type": "stream",
     "text": [
      "Madrigal Urencio Ricardo \n",
      "\n",
      "+-------------------+-------------------------+------+\n",
      "|estado             |causa_accidente          |nr    |\n",
      "+-------------------+-------------------------+------+\n",
      "|Aguascalientes     |Certificado cero         |117   |\n",
      "|Aguascalientes     |Conductor                |88797 |\n",
      "|Aguascalientes     |Falla del vehículo       |9220  |\n",
      "|Aguascalientes     |Mala condición del camino|730   |\n",
      "|Aguascalientes     |Otra                     |11860 |\n",
      "|Aguascalientes     |Peatón o pasajero        |2081  |\n",
      "|Aguascalientes     |TOTAL_CA                 |112805|\n",
      "|Baja California    |Conductor                |363681|\n",
      "|Baja California    |Falla del vehículo       |4570  |\n",
      "|Baja California    |Mala condición del camino|5707  |\n",
      "|Baja California    |Otra                     |28151 |\n",
      "|Baja California    |Peatón o pasajero        |5458  |\n",
      "|Baja California    |TOTAL_CA                 |407567|\n",
      "|Baja California Sur|Certificado cero         |1     |\n",
      "|Baja California Sur|Conductor                |87428 |\n",
      "|Baja California Sur|Falla del vehículo       |1830  |\n",
      "|Baja California Sur|Mala condición del camino|340   |\n",
      "|Baja California Sur|Otra                     |9171  |\n",
      "|Baja California Sur|Peatón o pasajero        |1227  |\n",
      "|Baja California Sur|TOTAL_CA                 |99997 |\n",
      "+-------------------+-------------------------+------+\n",
      "only showing top 20 rows\n",
      "\n"
     ]
    }
   ],
   "source": [
    "#Accidentes por Estado y Causa\n",
    "print(nombre)\n",
    "\n",
    "sqlstr = \"\"\"\n",
    "select estado, causa_accidente, nr\n",
    "from (\n",
    "    select coalesce(e.NOM_ENT, 'TOTAL_ES') as estado,\n",
    "    coalesce(a.CAUSAACCI, 'TOTAL_CA') as causa_accidente,\n",
    "    count(*) as nr,\n",
    "    grouping_id(e.NOM_ENT, a.CAUSAACCI) as grupo_id\n",
    "    from atus a\n",
    "    join estados e on(a.ID_ENTIDAD = e.CVE_ENT)\n",
    "    group by cube(e.NOM_ENT, a.CAUSAACCI)\n",
    "    ) x\n",
    "where not(estado = 'TOTAL_ES' and causa_accidente != 'TOTAL_CA')\n",
    "order by estado, grupo_id, causa_accidente\n",
    "\"\"\"\n",
    "\n",
    "spark.sql(sqlstr).show(20, truncate = False)"
   ]
  },
  {
   "cell_type": "code",
   "execution_count": 75,
   "id": "af337e30-0e33-481a-84dc-646aecfb76c8",
   "metadata": {},
   "outputs": [
    {
     "name": "stdout",
     "output_type": "stream",
     "text": [
      "Madrigal Urencio Ricardo \n",
      "\n",
      "+---------+-------------------------+----------------+-------+\n",
      "|municipio|causa_accidente          |sexo            |nr     |\n",
      "+---------+-------------------------+----------------+-------+\n",
      "|Abal�    |Certificado cero         |Certificado cero|763    |\n",
      "|Abal�    |Conductor                |Hombre          |205957 |\n",
      "|Abal�    |Falla del vehículo       |Hombre          |8876   |\n",
      "|Abal�    |Mala condición del camino|Hombre          |1366   |\n",
      "|Abal�    |Otra                     |Hombre          |22981  |\n",
      "|Abal�    |Peatón o pasajero        |Hombre          |2754   |\n",
      "|Abal�    |Conductor                |Mujer           |31120  |\n",
      "|Abal�    |Falla del vehículo       |Mujer           |306    |\n",
      "|Abal�    |Mala condición del camino|Mujer           |263    |\n",
      "|Abal�    |Otra                     |Mujer           |4612   |\n",
      "|Abal�    |Peatón o pasajero        |Mujer           |524    |\n",
      "|Abal�    |Conductor                |Se fugó         |26018  |\n",
      "|Abal�    |Falla del vehículo       |Se fugó         |1575   |\n",
      "|Abal�    |Mala condición del camino|Se fugó         |264    |\n",
      "|Abal�    |Otra                     |Se fugó         |1610   |\n",
      "|Abal�    |Peatón o pasajero        |Se fugó         |414    |\n",
      "|Abal�    |Certificado cero         |TOTAL_SX        |763    |\n",
      "|Abal�    |Conductor                |TOTAL_SX        |263095 |\n",
      "|Abal�    |Falla del vehículo       |TOTAL_SX        |10757  |\n",
      "|Abal�    |Mala condición del camino|TOTAL_SX        |1893   |\n",
      "|Abal�    |Otra                     |TOTAL_SX        |29203  |\n",
      "|Abal�    |Peatón o pasajero        |TOTAL_SX        |3692   |\n",
      "|Abal�    |TOTAL_CA                 |Certificado cero|763    |\n",
      "|Abal�    |TOTAL_CA                 |Hombre          |241934 |\n",
      "|Abal�    |TOTAL_CA                 |Mujer           |36825  |\n",
      "|Abal�    |TOTAL_CA                 |Se fugó         |29881  |\n",
      "|Abal�    |TOTAL_CA                 |TOTAL_SX        |309403 |\n",
      "|Abasolo  |Certificado cero         |Certificado cero|3052   |\n",
      "|Abasolo  |Conductor                |Hombre          |823828 |\n",
      "|Abasolo  |Falla del vehículo       |Hombre          |35504  |\n",
      "|Abasolo  |Mala condición del camino|Hombre          |5464   |\n",
      "|Abasolo  |Otra                     |Hombre          |91924  |\n",
      "|Abasolo  |Peatón o pasajero        |Hombre          |11016  |\n",
      "|Abasolo  |Conductor                |Mujer           |124480 |\n",
      "|Abasolo  |Falla del vehículo       |Mujer           |1224   |\n",
      "|Abasolo  |Mala condición del camino|Mujer           |1052   |\n",
      "|Abasolo  |Otra                     |Mujer           |18448  |\n",
      "|Abasolo  |Peatón o pasajero        |Mujer           |2096   |\n",
      "|Abasolo  |Conductor                |Se fugó         |104072 |\n",
      "|Abasolo  |Falla del vehículo       |Se fugó         |6300   |\n",
      "|Abasolo  |Mala condición del camino|Se fugó         |1056   |\n",
      "|Abasolo  |Otra                     |Se fugó         |6440   |\n",
      "|Abasolo  |Peatón o pasajero        |Se fugó         |1656   |\n",
      "|Abasolo  |Certificado cero         |TOTAL_SX        |3052   |\n",
      "|Abasolo  |Conductor                |TOTAL_SX        |1052380|\n",
      "|Abasolo  |Falla del vehículo       |TOTAL_SX        |43028  |\n",
      "|Abasolo  |Mala condición del camino|TOTAL_SX        |7572   |\n",
      "|Abasolo  |Otra                     |TOTAL_SX        |116812 |\n",
      "|Abasolo  |Peatón o pasajero        |TOTAL_SX        |14768  |\n",
      "|Abasolo  |TOTAL_CA                 |Certificado cero|3052   |\n",
      "+---------+-------------------------+----------------+-------+\n",
      "only showing top 50 rows\n",
      "\n"
     ]
    }
   ],
   "source": [
    "#Accidentes por Municipio por Causa y por Sexo\n",
    "print(nombre)\n",
    "\n",
    "sqlstr = \"\"\"\n",
    "select municipio, causa_accidente, sexo, nr\n",
    "from (\n",
    "    select coalesce(m.NOM_MUN, 'TOTAL_MN') as municipio,\n",
    "    coalesce(a.CAUSAACCI, 'TOTAL_CA') as causa_accidente,\n",
    "    coalesce(a.SEXO, 'TOTAL_SX') as sexo,\n",
    "    count(*) as nr,\n",
    "    grouping_id(m.NOM_MUN, a.CAUSAACCI, a.SEXO) as grupo_id\n",
    "    from atus a\n",
    "    join municipios m on(a.ID_MUNICIPIO = m.CVE_MUN)\n",
    "    group by cube(m.NOM_MUN, a.CAUSAACCI, a.SEXO)\n",
    "    ) x\n",
    "where not(municipio = 'TOTAL_MN' and causa_accidente != 'TOTAL_CA')\n",
    "and not (municipio = 'TOTAL_MN' and sexo != 'TOTAL_SX')\n",
    "order by municipio, grupo_id, sexo, causa_accidente\n",
    "\"\"\"\n",
    "\n",
    "spark.sql(sqlstr).show(50, truncate = False)"
   ]
  },
  {
   "cell_type": "code",
   "execution_count": null,
   "id": "5fe2e6d9-385b-4ed8-b6e7-9f6212818a96",
   "metadata": {},
   "outputs": [],
   "source": [
    "#Accidentes por Estado por Sexo\n",
    "print(nombre)\n"
   ]
  },
  {
   "cell_type": "code",
   "execution_count": null,
   "id": "60b9d674-230f-476d-928d-1a4d75915b99",
   "metadata": {},
   "outputs": [],
   "source": [
    "#Visualizacion de Datos"
   ]
  },
  {
   "cell_type": "code",
   "execution_count": null,
   "id": "85c6dc51-b7c3-47dd-bdec-68807e28489a",
   "metadata": {},
   "outputs": [],
   "source": [
    "#1\n",
    "print(nombre)\n"
   ]
  },
  {
   "cell_type": "code",
   "execution_count": null,
   "id": "d395f921-c81d-40b5-85ea-9889850dc577",
   "metadata": {},
   "outputs": [],
   "source": [
    "#2\n",
    "print(nombre)\n"
   ]
  },
  {
   "cell_type": "code",
   "execution_count": null,
   "id": "d159885d-de90-4ace-83d8-5cd4b9c54fc6",
   "metadata": {},
   "outputs": [],
   "source": [
    "#3\n",
    "print(nombre)\n"
   ]
  },
  {
   "cell_type": "code",
   "execution_count": null,
   "id": "7648b82c-2da9-4189-b9ff-b3f11e243df7",
   "metadata": {},
   "outputs": [],
   "source": [
    "#4\n",
    "print(nombre)\n"
   ]
  },
  {
   "cell_type": "code",
   "execution_count": null,
   "id": "aef1b806-7f2c-4dfe-8c0a-81b056fb87b9",
   "metadata": {},
   "outputs": [],
   "source": [
    "#5\n",
    "print(nombre)\n"
   ]
  }
 ],
 "metadata": {
  "kernelspec": {
   "display_name": "Python 3 (ipykernel)",
   "language": "python",
   "name": "python3"
  },
  "language_info": {
   "codemirror_mode": {
    "name": "ipython",
    "version": 3
   },
   "file_extension": ".py",
   "mimetype": "text/x-python",
   "name": "python",
   "nbconvert_exporter": "python",
   "pygments_lexer": "ipython3",
   "version": "3.11.6"
  }
 },
 "nbformat": 4,
 "nbformat_minor": 5
}
